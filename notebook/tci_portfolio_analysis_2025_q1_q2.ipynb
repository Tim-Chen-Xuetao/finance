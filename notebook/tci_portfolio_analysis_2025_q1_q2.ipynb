{
 "cells": [
  {
   "cell_type": "markdown",
   "id": "7cf0cfd4-69e3-4b92-8fe5-6509d94a3c21",
   "metadata": {},
   "source": [
    "# Load Data and Explore"
   ]
  },
  {
   "cell_type": "code",
   "execution_count": 23,
   "id": "ba0dac1a-8aad-4a46-8620-4eb8aab6147b",
   "metadata": {
    "scrolled": true
   },
   "outputs": [],
   "source": [
    "import numpy as np\n",
    "import pandas as pd\n",
    "import matplotlib.pyplot as plt\n",
    "import plotly.express as px\n",
    "import yfinance as yf\n",
    "from sklearn.linear_model import LinearRegression\n",
    "from datetime import timedelta\n",
    "import scipy.stats as stats"
   ]
  },
  {
   "cell_type": "code",
   "execution_count": 2,
   "id": "55214ac4-6f44-42cc-bce2-833e01c5beb6",
   "metadata": {},
   "outputs": [],
   "source": [
    "portfolio_df = pd.read_excel('../data/TCI_2025_Q1_Q2.xlsx', sheet_name='Sheet1')"
   ]
  },
  {
   "cell_type": "code",
   "execution_count": 3,
   "id": "dbe56766-c47e-4cc8-98d4-02ee49dc03ee",
   "metadata": {},
   "outputs": [
    {
     "data": {
      "text/html": [
       "<div>\n",
       "<style scoped>\n",
       "    .dataframe tbody tr th:only-of-type {\n",
       "        vertical-align: middle;\n",
       "    }\n",
       "\n",
       "    .dataframe tbody tr th {\n",
       "        vertical-align: top;\n",
       "    }\n",
       "\n",
       "    .dataframe thead th {\n",
       "        text-align: right;\n",
       "    }\n",
       "</style>\n",
       "<table border=\"1\" class=\"dataframe\">\n",
       "  <thead>\n",
       "    <tr style=\"text-align: right;\">\n",
       "      <th></th>\n",
       "      <th>Year</th>\n",
       "      <th>Quarter End</th>\n",
       "      <th>Security Type</th>\n",
       "      <th>Mkt value</th>\n",
       "      <th>Qty</th>\n",
       "      <th>ISIN</th>\n",
       "      <th>SEDOL</th>\n",
       "      <th>Coupon</th>\n",
       "      <th>Maturity</th>\n",
       "      <th>Instrument Description</th>\n",
       "      <th>Issuer</th>\n",
       "      <th>Sector</th>\n",
       "      <th>% of NAV</th>\n",
       "    </tr>\n",
       "  </thead>\n",
       "  <tbody>\n",
       "    <tr>\n",
       "      <th>0</th>\n",
       "      <td>2024</td>\n",
       "      <td>4</td>\n",
       "      <td>Equity</td>\n",
       "      <td>5.719232e+09</td>\n",
       "      <td>13568759.0</td>\n",
       "      <td>US5949181045</td>\n",
       "      <td>2588173</td>\n",
       "      <td>NaN</td>\n",
       "      <td>NaN</td>\n",
       "      <td>MICROSOFT ORD (NMS)</td>\n",
       "      <td>Microsoft</td>\n",
       "      <td>Technology</td>\n",
       "      <td>0.099315</td>\n",
       "    </tr>\n",
       "    <tr>\n",
       "      <th>1</th>\n",
       "      <td>2024</td>\n",
       "      <td>4</td>\n",
       "      <td>Equity</td>\n",
       "      <td>2.448454e+09</td>\n",
       "      <td>23698762.0</td>\n",
       "      <td>FR0000125486</td>\n",
       "      <td>B1XH026</td>\n",
       "      <td>NaN</td>\n",
       "      <td>NaN</td>\n",
       "      <td>VINCI ORD (PAR)</td>\n",
       "      <td>Vinci</td>\n",
       "      <td>Infrastructure</td>\n",
       "      <td>0.042518</td>\n",
       "    </tr>\n",
       "    <tr>\n",
       "      <th>2</th>\n",
       "      <td>2024</td>\n",
       "      <td>4</td>\n",
       "      <td>Equity</td>\n",
       "      <td>1.700672e+09</td>\n",
       "      <td>16747485.0</td>\n",
       "      <td>CA1363751027</td>\n",
       "      <td>2180632</td>\n",
       "      <td>NaN</td>\n",
       "      <td>NaN</td>\n",
       "      <td>CANADIAN NATIONAL RAILWAY ORD (TOR)</td>\n",
       "      <td>Canadian National</td>\n",
       "      <td>Railroads</td>\n",
       "      <td>0.029532</td>\n",
       "    </tr>\n",
       "    <tr>\n",
       "      <th>3</th>\n",
       "      <td>2024</td>\n",
       "      <td>4</td>\n",
       "      <td>Equity</td>\n",
       "      <td>7.040704e+09</td>\n",
       "      <td>42212984.0</td>\n",
       "      <td>US3696043013</td>\n",
       "      <td>BL59CR9</td>\n",
       "      <td>NaN</td>\n",
       "      <td>NaN</td>\n",
       "      <td>GE AEROSPACE ORD (NYS)</td>\n",
       "      <td>GE Aerospace</td>\n",
       "      <td>Aerospace</td>\n",
       "      <td>0.122262</td>\n",
       "    </tr>\n",
       "    <tr>\n",
       "      <th>4</th>\n",
       "      <td>2024</td>\n",
       "      <td>4</td>\n",
       "      <td>Equity</td>\n",
       "      <td>2.665407e+09</td>\n",
       "      <td>36811965.0</td>\n",
       "      <td>CA13646K1084</td>\n",
       "      <td>BMBQR09</td>\n",
       "      <td>NaN</td>\n",
       "      <td>NaN</td>\n",
       "      <td>CANADIAN PACIFIC KANSAS CITY ORD (TOR)</td>\n",
       "      <td>Canadian Pacific Kansas City</td>\n",
       "      <td>Railroads</td>\n",
       "      <td>0.046285</td>\n",
       "    </tr>\n",
       "  </tbody>\n",
       "</table>\n",
       "</div>"
      ],
      "text/plain": [
       "   Year  Quarter End Security Type     Mkt value         Qty          ISIN  \\\n",
       "0  2024            4        Equity  5.719232e+09  13568759.0  US5949181045   \n",
       "1  2024            4        Equity  2.448454e+09  23698762.0  FR0000125486   \n",
       "2  2024            4        Equity  1.700672e+09  16747485.0  CA1363751027   \n",
       "3  2024            4        Equity  7.040704e+09  42212984.0  US3696043013   \n",
       "4  2024            4        Equity  2.665407e+09  36811965.0  CA13646K1084   \n",
       "\n",
       "     SEDOL  Coupon  Maturity                  Instrument Description  \\\n",
       "0  2588173     NaN       NaN                     MICROSOFT ORD (NMS)   \n",
       "1  B1XH026     NaN       NaN                         VINCI ORD (PAR)   \n",
       "2  2180632     NaN       NaN     CANADIAN NATIONAL RAILWAY ORD (TOR)   \n",
       "3  BL59CR9     NaN       NaN                  GE AEROSPACE ORD (NYS)   \n",
       "4  BMBQR09     NaN       NaN  CANADIAN PACIFIC KANSAS CITY ORD (TOR)   \n",
       "\n",
       "                         Issuer          Sector  % of NAV  \n",
       "0                     Microsoft      Technology  0.099315  \n",
       "1                         Vinci  Infrastructure  0.042518  \n",
       "2             Canadian National       Railroads  0.029532  \n",
       "3                  GE Aerospace       Aerospace  0.122262  \n",
       "4  Canadian Pacific Kansas City       Railroads  0.046285  "
      ]
     },
     "execution_count": 3,
     "metadata": {},
     "output_type": "execute_result"
    }
   ],
   "source": [
    "portfolio_df.head()"
   ]
  },
  {
   "cell_type": "code",
   "execution_count": 4,
   "id": "ff7f199f-ba35-4e40-8430-dedd0f6b4135",
   "metadata": {},
   "outputs": [
    {
     "name": "stdout",
     "output_type": "stream",
     "text": [
      "(59, 13)\n"
     ]
    }
   ],
   "source": [
    "print(portfolio_df.shape)"
   ]
  },
  {
   "cell_type": "code",
   "execution_count": 5,
   "id": "526f0fae-dac5-4bc5-b6ca-7104eabfd3a7",
   "metadata": {},
   "outputs": [
    {
     "name": "stderr",
     "output_type": "stream",
     "text": [
      "/tmp/ipykernel_1548116/4149915252.py:2: UserWarning: Could not infer format, so each element will be parsed individually, falling back to `dateutil`. To ensure parsing is consistent and as-expected, please specify a format.\n",
      "  portfolio_df['Year Quarter Date'] = pd.to_datetime(portfolio_df['Year Quarter Formatted']) + pd.offsets.QuarterEnd(0)\n"
     ]
    }
   ],
   "source": [
    "portfolio_df['Year Quarter Formatted'] = portfolio_df['Year'].astype(str) + '-Q' + portfolio_df['Quarter End'].astype(str)\n",
    "portfolio_df['Year Quarter Date'] = pd.to_datetime(portfolio_df['Year Quarter Formatted']) + pd.offsets.QuarterEnd(0)"
   ]
  },
  {
   "cell_type": "code",
   "execution_count": 32,
   "id": "f704e181-97c1-43bf-b76a-c3f8dac4a8ee",
   "metadata": {},
   "outputs": [
    {
     "data": {
      "text/html": [
       "<div>\n",
       "<style scoped>\n",
       "    .dataframe tbody tr th:only-of-type {\n",
       "        vertical-align: middle;\n",
       "    }\n",
       "\n",
       "    .dataframe tbody tr th {\n",
       "        vertical-align: top;\n",
       "    }\n",
       "\n",
       "    .dataframe thead th {\n",
       "        text-align: right;\n",
       "    }\n",
       "</style>\n",
       "<table border=\"1\" class=\"dataframe\">\n",
       "  <thead>\n",
       "    <tr style=\"text-align: right;\">\n",
       "      <th></th>\n",
       "      <th>Year</th>\n",
       "      <th>Quarter End</th>\n",
       "      <th>Security Type</th>\n",
       "      <th>Mkt value</th>\n",
       "      <th>Qty</th>\n",
       "      <th>ISIN</th>\n",
       "      <th>SEDOL</th>\n",
       "      <th>Coupon</th>\n",
       "      <th>Maturity</th>\n",
       "      <th>Instrument Description</th>\n",
       "      <th>Issuer</th>\n",
       "      <th>Sector</th>\n",
       "      <th>% of NAV</th>\n",
       "      <th>Year Quarter Formatted</th>\n",
       "      <th>Year Quarter Date</th>\n",
       "    </tr>\n",
       "  </thead>\n",
       "  <tbody>\n",
       "    <tr>\n",
       "      <th>51</th>\n",
       "      <td>2025</td>\n",
       "      <td>2</td>\n",
       "      <td>Equity</td>\n",
       "      <td>5.616047e+09</td>\n",
       "      <td>NaN</td>\n",
       "      <td>FR0000125486</td>\n",
       "      <td>B1XH026</td>\n",
       "      <td>NaN</td>\n",
       "      <td>NaN</td>\n",
       "      <td>VINCI ORD (PAR)</td>\n",
       "      <td>Vinci</td>\n",
       "      <td>Infrastructure</td>\n",
       "      <td>0.087389</td>\n",
       "      <td>2025-Q2</td>\n",
       "      <td>2025-06-30</td>\n",
       "    </tr>\n",
       "    <tr>\n",
       "      <th>52</th>\n",
       "      <td>2025</td>\n",
       "      <td>2</td>\n",
       "      <td>Equity</td>\n",
       "      <td>5.085090e+09</td>\n",
       "      <td>NaN</td>\n",
       "      <td>US78409V1044</td>\n",
       "      <td>BYV2325</td>\n",
       "      <td>NaN</td>\n",
       "      <td>NaN</td>\n",
       "      <td>S&amp;P GLOBAL ORD (NYS)</td>\n",
       "      <td>S&amp;P Global</td>\n",
       "      <td>Financial Services</td>\n",
       "      <td>0.079127</td>\n",
       "      <td>2025-Q2</td>\n",
       "      <td>2025-06-30</td>\n",
       "    </tr>\n",
       "    <tr>\n",
       "      <th>53</th>\n",
       "      <td>2025</td>\n",
       "      <td>2</td>\n",
       "      <td>Equity</td>\n",
       "      <td>3.725052e+09</td>\n",
       "      <td>NaN</td>\n",
       "      <td>NL0015001FS8</td>\n",
       "      <td>BRS7CF0</td>\n",
       "      <td>NaN</td>\n",
       "      <td>NaN</td>\n",
       "      <td>FERROVIAL ORD (MCE) *FER.MC</td>\n",
       "      <td>Ferrovial</td>\n",
       "      <td>Infrastructure</td>\n",
       "      <td>0.057964</td>\n",
       "      <td>2025-Q2</td>\n",
       "      <td>2025-06-30</td>\n",
       "    </tr>\n",
       "    <tr>\n",
       "      <th>54</th>\n",
       "      <td>2025</td>\n",
       "      <td>2</td>\n",
       "      <td>Equity</td>\n",
       "      <td>3.174044e+09</td>\n",
       "      <td>NaN</td>\n",
       "      <td>CA13646K1084</td>\n",
       "      <td>BMBQR09</td>\n",
       "      <td>NaN</td>\n",
       "      <td>NaN</td>\n",
       "      <td>CANADIAN PACIFIC KANSAS CITY ORD (TOR)</td>\n",
       "      <td>Canadian Pacific Kansas City</td>\n",
       "      <td>Railroads</td>\n",
       "      <td>0.049390</td>\n",
       "      <td>2025-Q2</td>\n",
       "      <td>2025-06-30</td>\n",
       "    </tr>\n",
       "    <tr>\n",
       "      <th>55</th>\n",
       "      <td>2025</td>\n",
       "      <td>2</td>\n",
       "      <td>Equity</td>\n",
       "      <td>1.972997e+09</td>\n",
       "      <td>NaN</td>\n",
       "      <td>ES0105046017</td>\n",
       "      <td>BTMKJR0</td>\n",
       "      <td>NaN</td>\n",
       "      <td>NaN</td>\n",
       "      <td>AENA SME ORD (MCE)</td>\n",
       "      <td>Aena</td>\n",
       "      <td>Infrastructure</td>\n",
       "      <td>0.030701</td>\n",
       "      <td>2025-Q2</td>\n",
       "      <td>2025-06-30</td>\n",
       "    </tr>\n",
       "    <tr>\n",
       "      <th>56</th>\n",
       "      <td>2025</td>\n",
       "      <td>2</td>\n",
       "      <td>Equity</td>\n",
       "      <td>1.812271e+09</td>\n",
       "      <td>NaN</td>\n",
       "      <td>CA1363751027</td>\n",
       "      <td>2210959</td>\n",
       "      <td>NaN</td>\n",
       "      <td>NaN</td>\n",
       "      <td>CANADIAN NATIONAL RAILWAY ORD (NYS)</td>\n",
       "      <td>Canadian National</td>\n",
       "      <td>Railroads</td>\n",
       "      <td>0.028200</td>\n",
       "      <td>2025-Q2</td>\n",
       "      <td>2025-06-30</td>\n",
       "    </tr>\n",
       "    <tr>\n",
       "      <th>57</th>\n",
       "      <td>2025</td>\n",
       "      <td>2</td>\n",
       "      <td>Equity</td>\n",
       "      <td>1.791834e+09</td>\n",
       "      <td>NaN</td>\n",
       "      <td>ES0105066007</td>\n",
       "      <td>BX90C05</td>\n",
       "      <td>NaN</td>\n",
       "      <td>NaN</td>\n",
       "      <td>CELLNEX TELECOM SA (MCE)</td>\n",
       "      <td>Cellnex Telecom SA</td>\n",
       "      <td>Communication Services</td>\n",
       "      <td>0.027882</td>\n",
       "      <td>2025-Q2</td>\n",
       "      <td>2025-06-30</td>\n",
       "    </tr>\n",
       "    <tr>\n",
       "      <th>58</th>\n",
       "      <td>2025</td>\n",
       "      <td>2</td>\n",
       "      <td>Equity</td>\n",
       "      <td>1.303614e+09</td>\n",
       "      <td>NaN</td>\n",
       "      <td>US02079K1079</td>\n",
       "      <td>BYY88Y7</td>\n",
       "      <td>NaN</td>\n",
       "      <td>NaN</td>\n",
       "      <td>ALPHABET CL C ORD (NMS)</td>\n",
       "      <td>Alphabet</td>\n",
       "      <td>Information Technology</td>\n",
       "      <td>0.020285</td>\n",
       "      <td>2025-Q2</td>\n",
       "      <td>2025-06-30</td>\n",
       "    </tr>\n",
       "  </tbody>\n",
       "</table>\n",
       "</div>"
      ],
      "text/plain": [
       "    Year  Quarter End Security Type     Mkt value  Qty          ISIN    SEDOL  \\\n",
       "51  2025            2        Equity  5.616047e+09  NaN  FR0000125486  B1XH026   \n",
       "52  2025            2        Equity  5.085090e+09  NaN  US78409V1044  BYV2325   \n",
       "53  2025            2        Equity  3.725052e+09  NaN  NL0015001FS8  BRS7CF0   \n",
       "54  2025            2        Equity  3.174044e+09  NaN  CA13646K1084  BMBQR09   \n",
       "55  2025            2        Equity  1.972997e+09  NaN  ES0105046017  BTMKJR0   \n",
       "56  2025            2        Equity  1.812271e+09  NaN  CA1363751027  2210959   \n",
       "57  2025            2        Equity  1.791834e+09  NaN  ES0105066007  BX90C05   \n",
       "58  2025            2        Equity  1.303614e+09  NaN  US02079K1079  BYY88Y7   \n",
       "\n",
       "    Coupon  Maturity                  Instrument Description  \\\n",
       "51     NaN       NaN                         VINCI ORD (PAR)   \n",
       "52     NaN       NaN                    S&P GLOBAL ORD (NYS)   \n",
       "53     NaN       NaN             FERROVIAL ORD (MCE) *FER.MC   \n",
       "54     NaN       NaN  CANADIAN PACIFIC KANSAS CITY ORD (TOR)   \n",
       "55     NaN       NaN                      AENA SME ORD (MCE)   \n",
       "56     NaN       NaN     CANADIAN NATIONAL RAILWAY ORD (NYS)   \n",
       "57     NaN       NaN                CELLNEX TELECOM SA (MCE)   \n",
       "58     NaN       NaN                 ALPHABET CL C ORD (NMS)   \n",
       "\n",
       "                          Issuer                  Sector  % of NAV  \\\n",
       "51                         Vinci          Infrastructure  0.087389   \n",
       "52                    S&P Global      Financial Services  0.079127   \n",
       "53                     Ferrovial          Infrastructure  0.057964   \n",
       "54  Canadian Pacific Kansas City               Railroads  0.049390   \n",
       "55                          Aena          Infrastructure  0.030701   \n",
       "56             Canadian National               Railroads  0.028200   \n",
       "57            Cellnex Telecom SA  Communication Services  0.027882   \n",
       "58                      Alphabet  Information Technology  0.020285   \n",
       "\n",
       "   Year Quarter Formatted Year Quarter Date  \n",
       "51                2025-Q2        2025-06-30  \n",
       "52                2025-Q2        2025-06-30  \n",
       "53                2025-Q2        2025-06-30  \n",
       "54                2025-Q2        2025-06-30  \n",
       "55                2025-Q2        2025-06-30  \n",
       "56                2025-Q2        2025-06-30  \n",
       "57                2025-Q2        2025-06-30  \n",
       "58                2025-Q2        2025-06-30  "
      ]
     },
     "execution_count": 32,
     "metadata": {},
     "output_type": "execute_result"
    }
   ],
   "source": [
    "portfolio_df.iloc[50:70]"
   ]
  },
  {
   "cell_type": "code",
   "execution_count": 7,
   "id": "241bd58b-0d18-4f4d-a39e-555de159d0e1",
   "metadata": {},
   "outputs": [],
   "source": [
    "portfolio_df.to_csv('your_file_name.csv', index=False)\n",
    "### Remove Short Position\n",
    "portfolio_df = portfolio_df[portfolio_df['Mkt value'] > 0]\n",
    "\n",
    "### replace ISIN number for AENA\n",
    "portfolio_df.loc[portfolio_df['ISIN'] == 'ES0105046009', 'ISIN'] = 'ES0105046017'"
   ]
  },
  {
   "cell_type": "code",
   "execution_count": 8,
   "id": "3d1bfc83-c391-47bc-85a2-52caf702031b",
   "metadata": {},
   "outputs": [
    {
     "name": "stdout",
     "output_type": "stream",
     "text": [
      "Security Type\n",
      "Equity         16\n",
      "Equity Swap     4\n",
      "Name: ISIN, dtype: int64\n"
     ]
    }
   ],
   "source": [
    "security_type_count = portfolio_df.groupby('Security Type')['ISIN'].nunique()\n",
    "print(security_type_count)"
   ]
  },
  {
   "cell_type": "markdown",
   "id": "5d42ad45-2199-483e-95c6-f1a5b44dfa16",
   "metadata": {},
   "source": [
    "# Portfolio Summary"
   ]
  },
  {
   "cell_type": "code",
   "execution_count": 9,
   "id": "342b34bd-2c59-4c2f-b65c-27300df42d27",
   "metadata": {},
   "outputs": [],
   "source": [
    "def create_stacked_bar_chart(df: pd.DataFrame, stacked_column: str):\n",
    "    \"\"\"\n",
    "    Generates a stacked bar chart showing the stacked_column for each ISIN per quarter.\n",
    "\n",
    "    Args:\n",
    "        df: A pandas DataFrame with the specified columns.\n",
    "        stacked_column: variable header whose value to be stacked\n",
    "    \"\"\"\n",
    "    # --- 1. Data Cleaning and Preparation ---\n",
    "    # Ensure the specified column is a numeric type\n",
    "    df[stacked_column] = pd.to_numeric(df[stacked_column], errors='coerce')\n",
    "\n",
    "    # Drop any rows where the stacked_column value is missing or could not be converted\n",
    "    df.dropna(subset=[stacked_column], inplace=True)\n",
    "    print(df.shape)\n",
    "\n",
    "    # --- 2. Create the stacked bar chart using Plotly Express ---\n",
    "    # The x-axis is the 'Year Quarter Formatted' column\n",
    "    # The y-axis is the value from the 'stacked_column'\n",
    "    # The 'color' parameter stacks the bars by 'ISIN'\n",
    "\n",
    "    fig = px.bar(\n",
    "        df,\n",
    "        x='Year Quarter Formatted',\n",
    "        y=stacked_column,\n",
    "        color='ISIN',\n",
    "        title=f'Holding Weight ({stacked_column}) of Each ISIN per Quarter',\n",
    "        labels={\n",
    "            stacked_column: f'Value of {stacked_column}',\n",
    "            'Year Quarter Formatted': 'Quarter'\n",
    "        },\n",
    "        hover_data={'ISIN': True, 'Issuer': True, stacked_column: ':,.2f'} # Format hover tooltip\n",
    "    )\n",
    "\n",
    "    # Customize the layout for better readability\n",
    "    fig.update_layout(\n",
    "        xaxis_title='Quarter',\n",
    "        yaxis_title=f'Stack of ({stacked_column})',\n",
    "        legend_title='ISIN',\n",
    "        barmode='relative', # This ensures the bars are stacked\n",
    "        yaxis=dict(\n",
    "            autorange=True\n",
    "        ),\n",
    "        uniformtext_minsize=8, # Ensure labels are readable\n",
    "        uniformtext_mode='hide', # Hide text if it doesn't fit\n",
    "    )\n",
    "\n",
    "    fig.show()\n"
   ]
  },
  {
   "cell_type": "markdown",
   "id": "13ca9b3b-f3b9-49aa-a5ad-741688b4136c",
   "metadata": {},
   "source": [
    "### Market Value"
   ]
  },
  {
   "cell_type": "code",
   "execution_count": 10,
   "id": "d0de6702-db01-4c60-94df-d3939aae4346",
   "metadata": {},
   "outputs": [],
   "source": [
    "portfolio_pivot_mkt_value = pd.pivot_table(\n",
    "    portfolio_df,\n",
    "    values='Mkt value',\n",
    "    index=['ISIN', 'Issuer'],\n",
    "    columns='Year Quarter Formatted',\n",
    "    aggfunc='sum'\n",
    ")"
   ]
  },
  {
   "cell_type": "code",
   "execution_count": 11,
   "id": "7fef3002-81e2-4db4-aed2-ede321efa90a",
   "metadata": {},
   "outputs": [
    {
     "data": {
      "text/html": [
       "<div>\n",
       "<style scoped>\n",
       "    .dataframe tbody tr th:only-of-type {\n",
       "        vertical-align: middle;\n",
       "    }\n",
       "\n",
       "    .dataframe tbody tr th {\n",
       "        vertical-align: top;\n",
       "    }\n",
       "\n",
       "    .dataframe thead th {\n",
       "        text-align: right;\n",
       "    }\n",
       "</style>\n",
       "<table border=\"1\" class=\"dataframe\">\n",
       "  <thead>\n",
       "    <tr style=\"text-align: right;\">\n",
       "      <th></th>\n",
       "      <th>Year Quarter Formatted</th>\n",
       "      <th>2024-Q4</th>\n",
       "      <th>2025-Q1</th>\n",
       "      <th>2025-Q2</th>\n",
       "    </tr>\n",
       "    <tr>\n",
       "      <th>ISIN</th>\n",
       "      <th>Issuer</th>\n",
       "      <th></th>\n",
       "      <th></th>\n",
       "      <th></th>\n",
       "    </tr>\n",
       "  </thead>\n",
       "  <tbody>\n",
       "    <tr>\n",
       "      <th>CA1363751027</th>\n",
       "      <th>Canadian National</th>\n",
       "      <td>2.905244e+09</td>\n",
       "      <td>2.541729e+09</td>\n",
       "      <td>1.812271e+09</td>\n",
       "    </tr>\n",
       "    <tr>\n",
       "      <th>CA13646K1084</th>\n",
       "      <th>Canadian Pacific Kansas City</th>\n",
       "      <td>3.656980e+09</td>\n",
       "      <td>3.545736e+09</td>\n",
       "      <td>3.174044e+09</td>\n",
       "    </tr>\n",
       "    <tr>\n",
       "      <th>DE0007236101</th>\n",
       "      <th>Siemens AG</th>\n",
       "      <td>6.266768e+08</td>\n",
       "      <td>NaN</td>\n",
       "      <td>NaN</td>\n",
       "    </tr>\n",
       "    <tr>\n",
       "      <th>ES0105046017</th>\n",
       "      <th>Aena</th>\n",
       "      <td>1.683196e+09</td>\n",
       "      <td>1.928662e+09</td>\n",
       "      <td>1.972997e+09</td>\n",
       "    </tr>\n",
       "    <tr>\n",
       "      <th>ES0105066007</th>\n",
       "      <th>Cellnex Telecom SA</th>\n",
       "      <td>1.798247e+09</td>\n",
       "      <td>2.020635e+09</td>\n",
       "      <td>1.791834e+09</td>\n",
       "    </tr>\n",
       "    <tr>\n",
       "      <th>FR0000073272</th>\n",
       "      <th>Safran</th>\n",
       "      <td>6.486485e+09</td>\n",
       "      <td>7.874975e+09</td>\n",
       "      <td>8.947476e+09</td>\n",
       "    </tr>\n",
       "    <tr>\n",
       "      <th>FR0000125486</th>\n",
       "      <th>Vinci</th>\n",
       "      <td>4.697191e+09</td>\n",
       "      <td>5.719506e+09</td>\n",
       "      <td>5.616047e+09</td>\n",
       "    </tr>\n",
       "    <tr>\n",
       "      <th>NL0000235190</th>\n",
       "      <th>Airbus</th>\n",
       "      <td>5.837015e+09</td>\n",
       "      <td>6.410428e+09</td>\n",
       "      <td>6.510550e+09</td>\n",
       "    </tr>\n",
       "    <tr>\n",
       "      <th>NL0015001FS8</th>\n",
       "      <th>Ferrovial</th>\n",
       "      <td>3.410462e+09</td>\n",
       "      <td>3.612298e+09</td>\n",
       "      <td>3.725052e+09</td>\n",
       "    </tr>\n",
       "    <tr>\n",
       "      <th>US02079K1079</th>\n",
       "      <th>Alphabet</th>\n",
       "      <td>3.143604e+09</td>\n",
       "      <td>2.164681e+09</td>\n",
       "      <td>1.303614e+09</td>\n",
       "    </tr>\n",
       "    <tr>\n",
       "      <th>US02079K3059</th>\n",
       "      <th>Alphabet</th>\n",
       "      <td>1.140989e+09</td>\n",
       "      <td>6.317214e+08</td>\n",
       "      <td>NaN</td>\n",
       "    </tr>\n",
       "    <tr>\n",
       "      <th>US3696043013</th>\n",
       "      <th>GE Aerospace</th>\n",
       "      <td>7.040704e+09</td>\n",
       "      <td>8.763379e+09</td>\n",
       "      <td>1.054754e+10</td>\n",
       "    </tr>\n",
       "    <tr>\n",
       "      <th>US5949181045</th>\n",
       "      <th>Microsoft</th>\n",
       "      <td>5.719232e+09</td>\n",
       "      <td>6.298802e+09</td>\n",
       "      <td>7.670018e+09</td>\n",
       "    </tr>\n",
       "    <tr>\n",
       "      <th>US6153691059</th>\n",
       "      <th>Moody's</th>\n",
       "      <td>5.885279e+09</td>\n",
       "      <td>5.789796e+09</td>\n",
       "      <td>5.733459e+09</td>\n",
       "    </tr>\n",
       "    <tr>\n",
       "      <th>US78409V1044</th>\n",
       "      <th>S&amp;P Global</th>\n",
       "      <td>4.843228e+09</td>\n",
       "      <td>4.941157e+09</td>\n",
       "      <td>5.085090e+09</td>\n",
       "    </tr>\n",
       "    <tr>\n",
       "      <th>US92826C8394</th>\n",
       "      <th>Visa</th>\n",
       "      <td>5.006788e+09</td>\n",
       "      <td>5.552079e+09</td>\n",
       "      <td>7.383075e+09</td>\n",
       "    </tr>\n",
       "  </tbody>\n",
       "</table>\n",
       "</div>"
      ],
      "text/plain": [
       "Year Quarter Formatted                          2024-Q4       2025-Q1  \\\n",
       "ISIN         Issuer                                                     \n",
       "CA1363751027 Canadian National             2.905244e+09  2.541729e+09   \n",
       "CA13646K1084 Canadian Pacific Kansas City  3.656980e+09  3.545736e+09   \n",
       "DE0007236101 Siemens AG                    6.266768e+08           NaN   \n",
       "ES0105046017 Aena                          1.683196e+09  1.928662e+09   \n",
       "ES0105066007 Cellnex Telecom SA            1.798247e+09  2.020635e+09   \n",
       "FR0000073272 Safran                        6.486485e+09  7.874975e+09   \n",
       "FR0000125486 Vinci                         4.697191e+09  5.719506e+09   \n",
       "NL0000235190 Airbus                        5.837015e+09  6.410428e+09   \n",
       "NL0015001FS8 Ferrovial                     3.410462e+09  3.612298e+09   \n",
       "US02079K1079 Alphabet                      3.143604e+09  2.164681e+09   \n",
       "US02079K3059 Alphabet                      1.140989e+09  6.317214e+08   \n",
       "US3696043013 GE Aerospace                  7.040704e+09  8.763379e+09   \n",
       "US5949181045 Microsoft                     5.719232e+09  6.298802e+09   \n",
       "US6153691059 Moody's                       5.885279e+09  5.789796e+09   \n",
       "US78409V1044 S&P Global                    4.843228e+09  4.941157e+09   \n",
       "US92826C8394 Visa                          5.006788e+09  5.552079e+09   \n",
       "\n",
       "Year Quarter Formatted                          2025-Q2  \n",
       "ISIN         Issuer                                      \n",
       "CA1363751027 Canadian National             1.812271e+09  \n",
       "CA13646K1084 Canadian Pacific Kansas City  3.174044e+09  \n",
       "DE0007236101 Siemens AG                             NaN  \n",
       "ES0105046017 Aena                          1.972997e+09  \n",
       "ES0105066007 Cellnex Telecom SA            1.791834e+09  \n",
       "FR0000073272 Safran                        8.947476e+09  \n",
       "FR0000125486 Vinci                         5.616047e+09  \n",
       "NL0000235190 Airbus                        6.510550e+09  \n",
       "NL0015001FS8 Ferrovial                     3.725052e+09  \n",
       "US02079K1079 Alphabet                      1.303614e+09  \n",
       "US02079K3059 Alphabet                               NaN  \n",
       "US3696043013 GE Aerospace                  1.054754e+10  \n",
       "US5949181045 Microsoft                     7.670018e+09  \n",
       "US6153691059 Moody's                       5.733459e+09  \n",
       "US78409V1044 S&P Global                    5.085090e+09  \n",
       "US92826C8394 Visa                          7.383075e+09  "
      ]
     },
     "execution_count": 11,
     "metadata": {},
     "output_type": "execute_result"
    }
   ],
   "source": [
    "portfolio_pivot_mkt_value"
   ]
  },
  {
   "cell_type": "code",
   "execution_count": 12,
   "id": "e33c8c4a-b613-4055-bc61-cc8bb9dd7f78",
   "metadata": {},
   "outputs": [
    {
     "name": "stdout",
     "output_type": "stream",
     "text": [
      "(58, 15)\n"
     ]
    },
    {
     "data": {
      "application/vnd.plotly.v1+json": {
       "config": {
        "plotlyServerURL": "https://plot.ly"
       },
       "data": [
        {
         "customdata": [
          [
           "US5949181045",
           "Microsoft"
          ],
          [
           "US5949181045",
           "Microsoft"
          ],
          [
           "US5949181045",
           "Microsoft"
          ]
         ],
         "hovertemplate": "ISIN=%{customdata[0]}<br>Quarter=%{x}<br>Value of Mkt value=%{y:,.2f}<br>Issuer=%{customdata[1]}<extra></extra>",
         "legendgroup": "US5949181045",
         "marker": {
          "color": "#636efa",
          "pattern": {
           "shape": ""
          }
         },
         "name": "US5949181045",
         "orientation": "v",
         "showlegend": true,
         "textposition": "auto",
         "type": "bar",
         "x": [
          "2024-Q4",
          "2025-Q1",
          "2025-Q2"
         ],
         "xaxis": "x",
         "y": {
          "bdata": "AADo2khO9UEzM5d5AXf3QdejuOGykvxB",
          "dtype": "f8"
         },
         "yaxis": "y"
        },
        {
         "customdata": [
          [
           "FR0000125486",
           "Vinci"
          ],
          [
           "FR0000125486",
           "Vinci"
          ],
          [
           "FR0000125486",
           "Vinci"
          ],
          [
           "FR0000125486",
           "Vinci"
          ],
          [
           "FR0000125486",
           "Vinci"
          ]
         ],
         "hovertemplate": "ISIN=%{customdata[0]}<br>Quarter=%{x}<br>Value of Mkt value=%{y:,.2f}<br>Issuer=%{customdata[1]}<extra></extra>",
         "legendgroup": "FR0000125486",
         "marker": {
          "color": "#EF553B",
          "pattern": {
           "shape": ""
          }
         },
         "name": "FR0000125486",
         "orientation": "v",
         "showlegend": true,
         "textposition": "auto",
         "type": "bar",
         "x": [
          "2024-Q4",
          "2024-Q4",
          "2025-Q1",
          "2025-Q1",
          "2025-Q2"
         ],
         "xaxis": "x",
         "y": {
          "bdata": "KqnvBg4+4kG0Aj4VIMHgQeZ0D8J2NuZB7+bwn6Bm5EFxPSYi4ev0QQ==",
          "dtype": "f8"
         },
         "yaxis": "y"
        },
        {
         "customdata": [
          [
           "CA1363751027",
           "Canadian National"
          ],
          [
           "CA1363751027",
           "Canadian National"
          ],
          [
           "CA1363751027",
           "Canadian National"
          ],
          [
           "CA1363751027",
           "Canadian National"
          ],
          [
           "CA1363751027",
           "Canadian National"
          ]
         ],
         "hovertemplate": "ISIN=%{customdata[0]}<br>Quarter=%{x}<br>Value of Mkt value=%{y:,.2f}<br>Issuer=%{customdata[1]}<extra></extra>",
         "legendgroup": "CA1363751027",
         "marker": {
          "color": "#00cc96",
          "pattern": {
           "shape": ""
          }
         },
         "name": "CA1363751027",
         "orientation": "v",
         "showlegend": true,
         "textposition": "auto",
         "type": "bar",
         "x": [
          "2024-Q4",
          "2024-Q4",
          "2025-Q1",
          "2025-Q1",
          "2025-Q2"
         ],
         "xaxis": "x",
         "y": {
          "bdata": "VTD2GoxX2UHsURgcFPPRQS/6BtrC+NRBUrjeiCrn0EHD9UiAQwHbQQ==",
          "dtype": "f8"
         },
         "yaxis": "y"
        },
        {
         "customdata": [
          [
           "US3696043013",
           "GE Aerospace"
          ],
          [
           "US3696043013",
           "GE Aerospace"
          ],
          [
           "US3696043013",
           "GE Aerospace"
          ]
         ],
         "hovertemplate": "ISIN=%{customdata[0]}<br>Quarter=%{x}<br>Value of Mkt value=%{y:,.2f}<br>Issuer=%{customdata[1]}<extra></extra>",
         "legendgroup": "US3696043013",
         "marker": {
          "color": "#ab63fa",
          "pattern": {
           "shape": ""
          }
         },
         "name": "US3696043013",
         "orientation": "v",
         "showlegend": true,
         "textposition": "auto",
         "type": "bar",
         "x": [
          "2024-Q4",
          "2025-Q1",
          "2025-Q2"
         ],
         "xaxis": "x",
         "y": {
          "bdata": "j8IVx4k6+kEAAIJdtFIAQqRwr+p1pQNC",
          "dtype": "f8"
         },
         "yaxis": "y"
        },
        {
         "customdata": [
          [
           "CA13646K1084",
           "Canadian Pacific Kansas City"
          ],
          [
           "CA13646K1084",
           "Canadian Pacific Kansas City"
          ],
          [
           "CA13646K1084",
           "Canadian Pacific Kansas City"
          ],
          [
           "CA13646K1084",
           "Canadian Pacific Kansas City"
          ],
          [
           "CA13646K1084",
           "Canadian Pacific Kansas City"
          ]
         ],
         "hovertemplate": "ISIN=%{customdata[0]}<br>Quarter=%{x}<br>Value of Mkt value=%{y:,.2f}<br>Issuer=%{customdata[1]}<extra></extra>",
         "legendgroup": "CA13646K1084",
         "marker": {
          "color": "#FFA15A",
          "pattern": {
           "shape": ""
          }
         },
         "name": "CA13646K1084",
         "orientation": "v",
         "showlegend": true,
         "textposition": "auto",
         "type": "bar",
         "x": [
          "2024-Q4",
          "2024-Q4",
          "2025-Q1",
          "2025-Q1",
          "2025-Q2"
         ],
         "xaxis": "x",
         "y": {
          "bdata": "+KUtRdzb40GamXm5GY3NQc3MrMtOq8xB0VfGoiBA40FI4dI8AqbnQQ==",
          "dtype": "f8"
         },
         "yaxis": "y"
        },
        {
         "customdata": [
          [
           "US6153691059",
           "Moody's"
          ],
          [
           "US6153691059",
           "Moody's"
          ],
          [
           "US6153691059",
           "Moody's"
          ]
         ],
         "hovertemplate": "ISIN=%{customdata[0]}<br>Quarter=%{x}<br>Value of Mkt value=%{y:,.2f}<br>Issuer=%{customdata[1]}<extra></extra>",
         "legendgroup": "US6153691059",
         "marker": {
          "color": "#19d3f3",
          "pattern": {
           "shape": ""
          }
         },
         "name": "US6153691059",
         "orientation": "v",
         "showlegend": true,
         "textposition": "auto",
         "type": "bar",
         "x": [
          "2024-Q4",
          "2025-Q1",
          "2025-Q2"
         ],
         "xaxis": "x",
         "y": {
          "bdata": "AACUs6Ps9UEAAJRXlJH1QSlcFyzaW/VB",
          "dtype": "f8"
         },
         "yaxis": "y"
        },
        {
         "customdata": [
          [
           "DE0007236101",
           "Siemens AG"
          ]
         ],
         "hovertemplate": "ISIN=%{customdata[0]}<br>Quarter=%{x}<br>Value of Mkt value=%{y:,.2f}<br>Issuer=%{customdata[1]}<extra></extra>",
         "legendgroup": "DE0007236101",
         "marker": {
          "color": "#FF6692",
          "pattern": {
           "shape": ""
          }
         },
         "name": "DE0007236101",
         "orientation": "v",
         "showlegend": true,
         "textposition": "auto",
         "type": "bar",
         "x": [
          "2024-Q4"
         ],
         "xaxis": "x",
         "y": {
          "bdata": "C7NQGyqtwkE=",
          "dtype": "f8"
         },
         "yaxis": "y"
        },
        {
         "customdata": [
          [
           "US02079K3059",
           "Alphabet"
          ],
          [
           "US02079K3059",
           "Alphabet"
          ]
         ],
         "hovertemplate": "ISIN=%{customdata[0]}<br>Quarter=%{x}<br>Value of Mkt value=%{y:,.2f}<br>Issuer=%{customdata[1]}<extra></extra>",
         "legendgroup": "US02079K3059",
         "marker": {
          "color": "#B6E880",
          "pattern": {
           "shape": ""
          }
         },
         "name": "US02079K3059",
         "orientation": "v",
         "showlegend": true,
         "textposition": "auto",
         "type": "bar",
         "x": [
          "2024-Q4",
          "2025-Q1"
         ],
         "xaxis": "x",
         "y": {
          "bdata": "AABAyoYA0UEzMzPhptPCQQ==",
          "dtype": "f8"
         },
         "yaxis": "y"
        },
        {
         "customdata": [
          [
           "ES0105046017",
           "Aena"
          ],
          [
           "ES0105046017",
           "Aena"
          ],
          [
           "ES0105046017",
           "Aena"
          ],
          [
           "ES0105046017",
           "Aena"
          ],
          [
           "ES0105046017",
           "Aena"
          ]
         ],
         "hovertemplate": "ISIN=%{customdata[0]}<br>Quarter=%{x}<br>Value of Mkt value=%{y:,.2f}<br>Issuer=%{customdata[1]}<extra></extra>",
         "legendgroup": "ES0105046017",
         "marker": {
          "color": "#FF97FF",
          "pattern": {
           "shape": ""
          }
         },
         "name": "ES0105046017",
         "orientation": "v",
         "showlegend": true,
         "textposition": "auto",
         "type": "bar",
         "x": [
          "2024-Q4",
          "2024-Q4",
          "2025-Q1",
          "2025-Q1",
          "2025-Q2"
         ],
         "xaxis": "x",
         "y": {
          "bdata": "ICSLD/3uwkH1oQ+0xzrPQdUhN67WscVBE5ujPFfk0UH2KCwGY2bdQQ==",
          "dtype": "f8"
         },
         "yaxis": "y"
        },
        {
         "customdata": [
          [
           "US78409V1044",
           "S&P Global"
          ],
          [
           "US78409V1044",
           "S&P Global"
          ],
          [
           "US78409V1044",
           "S&P Global"
          ]
         ],
         "hovertemplate": "ISIN=%{customdata[0]}<br>Quarter=%{x}<br>Value of Mkt value=%{y:,.2f}<br>Issuer=%{customdata[1]}<extra></extra>",
         "legendgroup": "US78409V1044",
         "marker": {
          "color": "#FECB52",
          "pattern": {
           "shape": ""
          }
         },
         "name": "US78409V1044",
         "orientation": "v",
         "showlegend": true,
         "textposition": "auto",
         "type": "bar",
         "x": [
          "2024-Q4",
          "2025-Q1",
          "2025-Q2"
         ],
         "xaxis": "x",
         "y": {
          "bdata": "XI9ywtwK8kEzM9MSQWjyQc3M2AaF8fJB",
          "dtype": "f8"
         },
         "yaxis": "y"
        },
        {
         "customdata": [
          [
           "ES0105066007",
           "Cellnex Telecom SA"
          ],
          [
           "ES0105066007",
           "Cellnex Telecom SA"
          ],
          [
           "ES0105066007",
           "Cellnex Telecom SA"
          ]
         ],
         "hovertemplate": "ISIN=%{customdata[0]}<br>Quarter=%{x}<br>Value of Mkt value=%{y:,.2f}<br>Issuer=%{customdata[1]}<extra></extra>",
         "legendgroup": "ES0105066007",
         "marker": {
          "color": "#636efa",
          "pattern": {
           "shape": ""
          }
         },
         "name": "ES0105066007",
         "orientation": "v",
         "showlegend": true,
         "textposition": "auto",
         "type": "bar",
         "x": [
          "2024-Q4",
          "2025-Q1",
          "2025-Q2"
         ],
         "xaxis": "x",
         "y": {
          "bdata": "VrdWjsTL2kGMEIzSHBzeQVyPkjtOs9pB",
          "dtype": "f8"
         },
         "yaxis": "y"
        },
        {
         "customdata": [
          [
           "US02079K1079",
           "Alphabet"
          ],
          [
           "US02079K1079",
           "Alphabet"
          ],
          [
           "US02079K1079",
           "Alphabet"
          ]
         ],
         "hovertemplate": "ISIN=%{customdata[0]}<br>Quarter=%{x}<br>Value of Mkt value=%{y:,.2f}<br>Issuer=%{customdata[1]}<extra></extra>",
         "legendgroup": "US02079K1079",
         "marker": {
          "color": "#EF553B",
          "pattern": {
           "shape": ""
          }
         },
         "name": "US02079K1079",
         "orientation": "v",
         "showlegend": true,
         "textposition": "auto",
         "type": "bar",
         "x": [
          "2024-Q4",
          "2025-Q1",
          "2025-Q2"
         ],
         "xaxis": "x",
         "y": {
          "bdata": "4XoUxPJr50GameFgzSDgQfYobFjkbNNB",
          "dtype": "f8"
         },
         "yaxis": "y"
        },
        {
         "customdata": [
          [
           "US92826C8394",
           "Visa"
          ],
          [
           "US92826C8394",
           "Visa"
          ],
          [
           "US92826C8394",
           "Visa"
          ]
         ],
         "hovertemplate": "ISIN=%{customdata[0]}<br>Quarter=%{x}<br>Value of Mkt value=%{y:,.2f}<br>Issuer=%{customdata[1]}<extra></extra>",
         "legendgroup": "US92826C8394",
         "marker": {
          "color": "#00cc96",
          "pattern": {
           "shape": ""
          }
         },
         "name": "US92826C8394",
         "orientation": "v",
         "showlegend": true,
         "textposition": "auto",
         "type": "bar",
         "x": [
          "2024-Q4",
          "2025-Q1",
          "2025-Q2"
         ],
         "xaxis": "x",
         "y": {
          "bdata": "FK4neNim8kHsUUgS4K70QYXr+XkMgftB",
          "dtype": "f8"
         },
         "yaxis": "y"
        },
        {
         "customdata": [
          [
           "NL0015001FS8",
           "Ferrovial"
          ],
          [
           "NL0015001FS8",
           "Ferrovial"
          ],
          [
           "NL0015001FS8",
           "Ferrovial"
          ],
          [
           "NL0015001FS8",
           "Ferrovial"
          ],
          [
           "NL0015001FS8",
           "Ferrovial"
          ],
          [
           "NL0015001FS8",
           "Ferrovial"
          ]
         ],
         "hovertemplate": "ISIN=%{customdata[0]}<br>Quarter=%{x}<br>Value of Mkt value=%{y:,.2f}<br>Issuer=%{customdata[1]}<extra></extra>",
         "legendgroup": "NL0015001FS8",
         "marker": {
          "color": "#ab63fa",
          "pattern": {
           "shape": ""
          }
         },
         "name": "NL0015001FS8",
         "orientation": "v",
         "showlegend": true,
         "textposition": "auto",
         "type": "bar",
         "x": [
          "2024-Q4",
          "2024-Q4",
          "2024-Q4",
          "2025-Q1",
          "2025-Q1",
          "2025-Q2"
         ],
         "xaxis": "x",
         "y": {
          "bdata": "by9RRxvEtkEvqDNDdvXCQVx338gP0+FBle6WXQUduEFehV95SObnQZqZGc/4wOtB",
          "dtype": "f8"
         },
         "yaxis": "y"
        },
        {
         "customdata": [
          [
           "NL0000235190",
           "Airbus"
          ],
          [
           "NL0000235190",
           "Airbus"
          ],
          [
           "NL0000235190",
           "Airbus"
          ],
          [
           "NL0000235190",
           "Airbus"
          ],
          [
           "NL0000235190",
           "Airbus"
          ]
         ],
         "hovertemplate": "ISIN=%{customdata[0]}<br>Quarter=%{x}<br>Value of Mkt value=%{y:,.2f}<br>Issuer=%{customdata[1]}<extra></extra>",
         "legendgroup": "NL0000235190",
         "marker": {
          "color": "#FFA15A",
          "pattern": {
           "shape": ""
          }
         },
         "name": "NL0000235190",
         "orientation": "v",
         "showlegend": true,
         "textposition": "auto",
         "type": "bar",
         "x": [
          "2024-Q4",
          "2024-Q4",
          "2025-Q1",
          "2025-Q1",
          "2025-Q2"
         ],
         "xaxis": "x",
         "y": {
          "bdata": "gwY38sp59UEoZIfCZzSRQdGuB3ThlfdBuvME9hTlkkFcj1a98UD4QQ==",
          "dtype": "f8"
         },
         "yaxis": "y"
        },
        {
         "customdata": [
          [
           "FR0000073272",
           "Safran"
          ],
          [
           "FR0000073272",
           "Safran"
          ],
          [
           "FR0000073272",
           "Safran"
          ]
         ],
         "hovertemplate": "ISIN=%{customdata[0]}<br>Quarter=%{x}<br>Value of Mkt value=%{y:,.2f}<br>Issuer=%{customdata[1]}<extra></extra>",
         "legendgroup": "FR0000073272",
         "marker": {
          "color": "#19d3f3",
          "pattern": {
           "shape": ""
          }
         },
         "name": "FR0000073272",
         "orientation": "v",
         "showlegend": true,
         "textposition": "auto",
         "type": "bar",
         "x": [
          "2024-Q4",
          "2025-Q1",
          "2025-Q2"
         ],
         "xaxis": "x",
         "y": {
          "bdata": "ro30ef4p+EHsL4EzKVb9QRSuhyJ9qgBC",
          "dtype": "f8"
         },
         "yaxis": "y"
        }
       ],
       "layout": {
        "barmode": "relative",
        "legend": {
         "title": {
          "text": "ISIN"
         },
         "tracegroupgap": 0
        },
        "template": {
         "data": {
          "bar": [
           {
            "error_x": {
             "color": "#2a3f5f"
            },
            "error_y": {
             "color": "#2a3f5f"
            },
            "marker": {
             "line": {
              "color": "#E5ECF6",
              "width": 0.5
             },
             "pattern": {
              "fillmode": "overlay",
              "size": 10,
              "solidity": 0.2
             }
            },
            "type": "bar"
           }
          ],
          "barpolar": [
           {
            "marker": {
             "line": {
              "color": "#E5ECF6",
              "width": 0.5
             },
             "pattern": {
              "fillmode": "overlay",
              "size": 10,
              "solidity": 0.2
             }
            },
            "type": "barpolar"
           }
          ],
          "carpet": [
           {
            "aaxis": {
             "endlinecolor": "#2a3f5f",
             "gridcolor": "white",
             "linecolor": "white",
             "minorgridcolor": "white",
             "startlinecolor": "#2a3f5f"
            },
            "baxis": {
             "endlinecolor": "#2a3f5f",
             "gridcolor": "white",
             "linecolor": "white",
             "minorgridcolor": "white",
             "startlinecolor": "#2a3f5f"
            },
            "type": "carpet"
           }
          ],
          "choropleth": [
           {
            "colorbar": {
             "outlinewidth": 0,
             "ticks": ""
            },
            "type": "choropleth"
           }
          ],
          "contour": [
           {
            "colorbar": {
             "outlinewidth": 0,
             "ticks": ""
            },
            "colorscale": [
             [
              0,
              "#0d0887"
             ],
             [
              0.1111111111111111,
              "#46039f"
             ],
             [
              0.2222222222222222,
              "#7201a8"
             ],
             [
              0.3333333333333333,
              "#9c179e"
             ],
             [
              0.4444444444444444,
              "#bd3786"
             ],
             [
              0.5555555555555556,
              "#d8576b"
             ],
             [
              0.6666666666666666,
              "#ed7953"
             ],
             [
              0.7777777777777778,
              "#fb9f3a"
             ],
             [
              0.8888888888888888,
              "#fdca26"
             ],
             [
              1,
              "#f0f921"
             ]
            ],
            "type": "contour"
           }
          ],
          "contourcarpet": [
           {
            "colorbar": {
             "outlinewidth": 0,
             "ticks": ""
            },
            "type": "contourcarpet"
           }
          ],
          "heatmap": [
           {
            "colorbar": {
             "outlinewidth": 0,
             "ticks": ""
            },
            "colorscale": [
             [
              0,
              "#0d0887"
             ],
             [
              0.1111111111111111,
              "#46039f"
             ],
             [
              0.2222222222222222,
              "#7201a8"
             ],
             [
              0.3333333333333333,
              "#9c179e"
             ],
             [
              0.4444444444444444,
              "#bd3786"
             ],
             [
              0.5555555555555556,
              "#d8576b"
             ],
             [
              0.6666666666666666,
              "#ed7953"
             ],
             [
              0.7777777777777778,
              "#fb9f3a"
             ],
             [
              0.8888888888888888,
              "#fdca26"
             ],
             [
              1,
              "#f0f921"
             ]
            ],
            "type": "heatmap"
           }
          ],
          "histogram": [
           {
            "marker": {
             "pattern": {
              "fillmode": "overlay",
              "size": 10,
              "solidity": 0.2
             }
            },
            "type": "histogram"
           }
          ],
          "histogram2d": [
           {
            "colorbar": {
             "outlinewidth": 0,
             "ticks": ""
            },
            "colorscale": [
             [
              0,
              "#0d0887"
             ],
             [
              0.1111111111111111,
              "#46039f"
             ],
             [
              0.2222222222222222,
              "#7201a8"
             ],
             [
              0.3333333333333333,
              "#9c179e"
             ],
             [
              0.4444444444444444,
              "#bd3786"
             ],
             [
              0.5555555555555556,
              "#d8576b"
             ],
             [
              0.6666666666666666,
              "#ed7953"
             ],
             [
              0.7777777777777778,
              "#fb9f3a"
             ],
             [
              0.8888888888888888,
              "#fdca26"
             ],
             [
              1,
              "#f0f921"
             ]
            ],
            "type": "histogram2d"
           }
          ],
          "histogram2dcontour": [
           {
            "colorbar": {
             "outlinewidth": 0,
             "ticks": ""
            },
            "colorscale": [
             [
              0,
              "#0d0887"
             ],
             [
              0.1111111111111111,
              "#46039f"
             ],
             [
              0.2222222222222222,
              "#7201a8"
             ],
             [
              0.3333333333333333,
              "#9c179e"
             ],
             [
              0.4444444444444444,
              "#bd3786"
             ],
             [
              0.5555555555555556,
              "#d8576b"
             ],
             [
              0.6666666666666666,
              "#ed7953"
             ],
             [
              0.7777777777777778,
              "#fb9f3a"
             ],
             [
              0.8888888888888888,
              "#fdca26"
             ],
             [
              1,
              "#f0f921"
             ]
            ],
            "type": "histogram2dcontour"
           }
          ],
          "mesh3d": [
           {
            "colorbar": {
             "outlinewidth": 0,
             "ticks": ""
            },
            "type": "mesh3d"
           }
          ],
          "parcoords": [
           {
            "line": {
             "colorbar": {
              "outlinewidth": 0,
              "ticks": ""
             }
            },
            "type": "parcoords"
           }
          ],
          "pie": [
           {
            "automargin": true,
            "type": "pie"
           }
          ],
          "scatter": [
           {
            "fillpattern": {
             "fillmode": "overlay",
             "size": 10,
             "solidity": 0.2
            },
            "type": "scatter"
           }
          ],
          "scatter3d": [
           {
            "line": {
             "colorbar": {
              "outlinewidth": 0,
              "ticks": ""
             }
            },
            "marker": {
             "colorbar": {
              "outlinewidth": 0,
              "ticks": ""
             }
            },
            "type": "scatter3d"
           }
          ],
          "scattercarpet": [
           {
            "marker": {
             "colorbar": {
              "outlinewidth": 0,
              "ticks": ""
             }
            },
            "type": "scattercarpet"
           }
          ],
          "scattergeo": [
           {
            "marker": {
             "colorbar": {
              "outlinewidth": 0,
              "ticks": ""
             }
            },
            "type": "scattergeo"
           }
          ],
          "scattergl": [
           {
            "marker": {
             "colorbar": {
              "outlinewidth": 0,
              "ticks": ""
             }
            },
            "type": "scattergl"
           }
          ],
          "scattermap": [
           {
            "marker": {
             "colorbar": {
              "outlinewidth": 0,
              "ticks": ""
             }
            },
            "type": "scattermap"
           }
          ],
          "scattermapbox": [
           {
            "marker": {
             "colorbar": {
              "outlinewidth": 0,
              "ticks": ""
             }
            },
            "type": "scattermapbox"
           }
          ],
          "scatterpolar": [
           {
            "marker": {
             "colorbar": {
              "outlinewidth": 0,
              "ticks": ""
             }
            },
            "type": "scatterpolar"
           }
          ],
          "scatterpolargl": [
           {
            "marker": {
             "colorbar": {
              "outlinewidth": 0,
              "ticks": ""
             }
            },
            "type": "scatterpolargl"
           }
          ],
          "scatterternary": [
           {
            "marker": {
             "colorbar": {
              "outlinewidth": 0,
              "ticks": ""
             }
            },
            "type": "scatterternary"
           }
          ],
          "surface": [
           {
            "colorbar": {
             "outlinewidth": 0,
             "ticks": ""
            },
            "colorscale": [
             [
              0,
              "#0d0887"
             ],
             [
              0.1111111111111111,
              "#46039f"
             ],
             [
              0.2222222222222222,
              "#7201a8"
             ],
             [
              0.3333333333333333,
              "#9c179e"
             ],
             [
              0.4444444444444444,
              "#bd3786"
             ],
             [
              0.5555555555555556,
              "#d8576b"
             ],
             [
              0.6666666666666666,
              "#ed7953"
             ],
             [
              0.7777777777777778,
              "#fb9f3a"
             ],
             [
              0.8888888888888888,
              "#fdca26"
             ],
             [
              1,
              "#f0f921"
             ]
            ],
            "type": "surface"
           }
          ],
          "table": [
           {
            "cells": {
             "fill": {
              "color": "#EBF0F8"
             },
             "line": {
              "color": "white"
             }
            },
            "header": {
             "fill": {
              "color": "#C8D4E3"
             },
             "line": {
              "color": "white"
             }
            },
            "type": "table"
           }
          ]
         },
         "layout": {
          "annotationdefaults": {
           "arrowcolor": "#2a3f5f",
           "arrowhead": 0,
           "arrowwidth": 1
          },
          "autotypenumbers": "strict",
          "coloraxis": {
           "colorbar": {
            "outlinewidth": 0,
            "ticks": ""
           }
          },
          "colorscale": {
           "diverging": [
            [
             0,
             "#8e0152"
            ],
            [
             0.1,
             "#c51b7d"
            ],
            [
             0.2,
             "#de77ae"
            ],
            [
             0.3,
             "#f1b6da"
            ],
            [
             0.4,
             "#fde0ef"
            ],
            [
             0.5,
             "#f7f7f7"
            ],
            [
             0.6,
             "#e6f5d0"
            ],
            [
             0.7,
             "#b8e186"
            ],
            [
             0.8,
             "#7fbc41"
            ],
            [
             0.9,
             "#4d9221"
            ],
            [
             1,
             "#276419"
            ]
           ],
           "sequential": [
            [
             0,
             "#0d0887"
            ],
            [
             0.1111111111111111,
             "#46039f"
            ],
            [
             0.2222222222222222,
             "#7201a8"
            ],
            [
             0.3333333333333333,
             "#9c179e"
            ],
            [
             0.4444444444444444,
             "#bd3786"
            ],
            [
             0.5555555555555556,
             "#d8576b"
            ],
            [
             0.6666666666666666,
             "#ed7953"
            ],
            [
             0.7777777777777778,
             "#fb9f3a"
            ],
            [
             0.8888888888888888,
             "#fdca26"
            ],
            [
             1,
             "#f0f921"
            ]
           ],
           "sequentialminus": [
            [
             0,
             "#0d0887"
            ],
            [
             0.1111111111111111,
             "#46039f"
            ],
            [
             0.2222222222222222,
             "#7201a8"
            ],
            [
             0.3333333333333333,
             "#9c179e"
            ],
            [
             0.4444444444444444,
             "#bd3786"
            ],
            [
             0.5555555555555556,
             "#d8576b"
            ],
            [
             0.6666666666666666,
             "#ed7953"
            ],
            [
             0.7777777777777778,
             "#fb9f3a"
            ],
            [
             0.8888888888888888,
             "#fdca26"
            ],
            [
             1,
             "#f0f921"
            ]
           ]
          },
          "colorway": [
           "#636efa",
           "#EF553B",
           "#00cc96",
           "#ab63fa",
           "#FFA15A",
           "#19d3f3",
           "#FF6692",
           "#B6E880",
           "#FF97FF",
           "#FECB52"
          ],
          "font": {
           "color": "#2a3f5f"
          },
          "geo": {
           "bgcolor": "white",
           "lakecolor": "white",
           "landcolor": "#E5ECF6",
           "showlakes": true,
           "showland": true,
           "subunitcolor": "white"
          },
          "hoverlabel": {
           "align": "left"
          },
          "hovermode": "closest",
          "mapbox": {
           "style": "light"
          },
          "paper_bgcolor": "white",
          "plot_bgcolor": "#E5ECF6",
          "polar": {
           "angularaxis": {
            "gridcolor": "white",
            "linecolor": "white",
            "ticks": ""
           },
           "bgcolor": "#E5ECF6",
           "radialaxis": {
            "gridcolor": "white",
            "linecolor": "white",
            "ticks": ""
           }
          },
          "scene": {
           "xaxis": {
            "backgroundcolor": "#E5ECF6",
            "gridcolor": "white",
            "gridwidth": 2,
            "linecolor": "white",
            "showbackground": true,
            "ticks": "",
            "zerolinecolor": "white"
           },
           "yaxis": {
            "backgroundcolor": "#E5ECF6",
            "gridcolor": "white",
            "gridwidth": 2,
            "linecolor": "white",
            "showbackground": true,
            "ticks": "",
            "zerolinecolor": "white"
           },
           "zaxis": {
            "backgroundcolor": "#E5ECF6",
            "gridcolor": "white",
            "gridwidth": 2,
            "linecolor": "white",
            "showbackground": true,
            "ticks": "",
            "zerolinecolor": "white"
           }
          },
          "shapedefaults": {
           "line": {
            "color": "#2a3f5f"
           }
          },
          "ternary": {
           "aaxis": {
            "gridcolor": "white",
            "linecolor": "white",
            "ticks": ""
           },
           "baxis": {
            "gridcolor": "white",
            "linecolor": "white",
            "ticks": ""
           },
           "bgcolor": "#E5ECF6",
           "caxis": {
            "gridcolor": "white",
            "linecolor": "white",
            "ticks": ""
           }
          },
          "title": {
           "x": 0.05
          },
          "xaxis": {
           "automargin": true,
           "gridcolor": "white",
           "linecolor": "white",
           "ticks": "",
           "title": {
            "standoff": 15
           },
           "zerolinecolor": "white",
           "zerolinewidth": 2
          },
          "yaxis": {
           "automargin": true,
           "gridcolor": "white",
           "linecolor": "white",
           "ticks": "",
           "title": {
            "standoff": 15
           },
           "zerolinecolor": "white",
           "zerolinewidth": 2
          }
         }
        },
        "title": {
         "text": "Holding Weight (Mkt value) of Each ISIN per Quarter"
        },
        "uniformtext": {
         "minsize": 8,
         "mode": "hide"
        },
        "xaxis": {
         "anchor": "y",
         "domain": [
          0,
          1
         ],
         "title": {
          "text": "Quarter"
         }
        },
        "yaxis": {
         "anchor": "x",
         "autorange": true,
         "domain": [
          0,
          1
         ],
         "title": {
          "text": "Stack of (Mkt value)"
         }
        }
       }
      },
      "image/png": "[encoded data removed]"
     },
     "metadata": {},
     "output_type": "display_data"
    }
   ],
   "source": [
    "create_stacked_bar_chart(portfolio_df, 'Mkt value')"
   ]
  },
  {
   "cell_type": "code",
   "execution_count": 13,
   "id": "b0e1ca74-9860-47b2-887d-313bd558bef5",
   "metadata": {},
   "outputs": [
    {
     "data": {
      "application/vnd.plotly.v1+json": {
       "config": {
        "plotlyServerURL": "https://plot.ly"
       },
       "data": [
        {
         "hovertemplate": "variable=Mkt value<br>Year Quarter Formatted=%{x}<br>value=%{y}<extra></extra>",
         "legendgroup": "Mkt value",
         "line": {
          "color": "#636efa",
          "dash": "solid"
         },
         "marker": {
          "symbol": "circle"
         },
         "mode": "lines",
         "name": "Mkt value",
         "orientation": "v",
         "showlegend": true,
         "type": "scatter",
         "x": [
          "2024-Q4",
          "2025-Q1",
          "2025-Q2"
         ],
         "xaxis": "x",
         "y": {
          "bdata": "kFnLMD+/LULbJz773JEvQlwPUrU0mDBC",
          "dtype": "f8"
         },
         "yaxis": "y"
        }
       ],
       "layout": {
        "legend": {
         "title": {
          "text": "variable"
         },
         "tracegroupgap": 0
        },
        "template": {
         "data": {
          "bar": [
           {
            "error_x": {
             "color": "#2a3f5f"
            },
            "error_y": {
             "color": "#2a3f5f"
            },
            "marker": {
             "line": {
              "color": "#E5ECF6",
              "width": 0.5
             },
             "pattern": {
              "fillmode": "overlay",
              "size": 10,
              "solidity": 0.2
             }
            },
            "type": "bar"
           }
          ],
          "barpolar": [
           {
            "marker": {
             "line": {
              "color": "#E5ECF6",
              "width": 0.5
             },
             "pattern": {
              "fillmode": "overlay",
              "size": 10,
              "solidity": 0.2
             }
            },
            "type": "barpolar"
           }
          ],
          "carpet": [
           {
            "aaxis": {
             "endlinecolor": "#2a3f5f",
             "gridcolor": "white",
             "linecolor": "white",
             "minorgridcolor": "white",
             "startlinecolor": "#2a3f5f"
            },
            "baxis": {
             "endlinecolor": "#2a3f5f",
             "gridcolor": "white",
             "linecolor": "white",
             "minorgridcolor": "white",
             "startlinecolor": "#2a3f5f"
            },
            "type": "carpet"
           }
          ],
          "choropleth": [
           {
            "colorbar": {
             "outlinewidth": 0,
             "ticks": ""
            },
            "type": "choropleth"
           }
          ],
          "contour": [
           {
            "colorbar": {
             "outlinewidth": 0,
             "ticks": ""
            },
            "colorscale": [
             [
              0,
              "#0d0887"
             ],
             [
              0.1111111111111111,
              "#46039f"
             ],
             [
              0.2222222222222222,
              "#7201a8"
             ],
             [
              0.3333333333333333,
              "#9c179e"
             ],
             [
              0.4444444444444444,
              "#bd3786"
             ],
             [
              0.5555555555555556,
              "#d8576b"
             ],
             [
              0.6666666666666666,
              "#ed7953"
             ],
             [
              0.7777777777777778,
              "#fb9f3a"
             ],
             [
              0.8888888888888888,
              "#fdca26"
             ],
             [
              1,
              "#f0f921"
             ]
            ],
            "type": "contour"
           }
          ],
          "contourcarpet": [
           {
            "colorbar": {
             "outlinewidth": 0,
             "ticks": ""
            },
            "type": "contourcarpet"
           }
          ],
          "heatmap": [
           {
            "colorbar": {
             "outlinewidth": 0,
             "ticks": ""
            },
            "colorscale": [
             [
              0,
              "#0d0887"
             ],
             [
              0.1111111111111111,
              "#46039f"
             ],
             [
              0.2222222222222222,
              "#7201a8"
             ],
             [
              0.3333333333333333,
              "#9c179e"
             ],
             [
              0.4444444444444444,
              "#bd3786"
             ],
             [
              0.5555555555555556,
              "#d8576b"
             ],
             [
              0.6666666666666666,
              "#ed7953"
             ],
             [
              0.7777777777777778,
              "#fb9f3a"
             ],
             [
              0.8888888888888888,
              "#fdca26"
             ],
             [
              1,
              "#f0f921"
             ]
            ],
            "type": "heatmap"
           }
          ],
          "histogram": [
           {
            "marker": {
             "pattern": {
              "fillmode": "overlay",
              "size": 10,
              "solidity": 0.2
             }
            },
            "type": "histogram"
           }
          ],
          "histogram2d": [
           {
            "colorbar": {
             "outlinewidth": 0,
             "ticks": ""
            },
            "colorscale": [
             [
              0,
              "#0d0887"
             ],
             [
              0.1111111111111111,
              "#46039f"
             ],
             [
              0.2222222222222222,
              "#7201a8"
             ],
             [
              0.3333333333333333,
              "#9c179e"
             ],
             [
              0.4444444444444444,
              "#bd3786"
             ],
             [
              0.5555555555555556,
              "#d8576b"
             ],
             [
              0.6666666666666666,
              "#ed7953"
             ],
             [
              0.7777777777777778,
              "#fb9f3a"
             ],
             [
              0.8888888888888888,
              "#fdca26"
             ],
             [
              1,
              "#f0f921"
             ]
            ],
            "type": "histogram2d"
           }
          ],
          "histogram2dcontour": [
           {
            "colorbar": {
             "outlinewidth": 0,
             "ticks": ""
            },
            "colorscale": [
             [
              0,
              "#0d0887"
             ],
             [
              0.1111111111111111,
              "#46039f"
             ],
             [
              0.2222222222222222,
              "#7201a8"
             ],
             [
              0.3333333333333333,
              "#9c179e"
             ],
             [
              0.4444444444444444,
              "#bd3786"
             ],
             [
              0.5555555555555556,
              "#d8576b"
             ],
             [
              0.6666666666666666,
              "#ed7953"
             ],
             [
              0.7777777777777778,
              "#fb9f3a"
             ],
             [
              0.8888888888888888,
              "#fdca26"
             ],
             [
              1,
              "#f0f921"
             ]
            ],
            "type": "histogram2dcontour"
           }
          ],
          "mesh3d": [
           {
            "colorbar": {
             "outlinewidth": 0,
             "ticks": ""
            },
            "type": "mesh3d"
           }
          ],
          "parcoords": [
           {
            "line": {
             "colorbar": {
              "outlinewidth": 0,
              "ticks": ""
             }
            },
            "type": "parcoords"
           }
          ],
          "pie": [
           {
            "automargin": true,
            "type": "pie"
           }
          ],
          "scatter": [
           {
            "fillpattern": {
             "fillmode": "overlay",
             "size": 10,
             "solidity": 0.2
            },
            "type": "scatter"
           }
          ],
          "scatter3d": [
           {
            "line": {
             "colorbar": {
              "outlinewidth": 0,
              "ticks": ""
             }
            },
            "marker": {
             "colorbar": {
              "outlinewidth": 0,
              "ticks": ""
             }
            },
            "type": "scatter3d"
           }
          ],
          "scattercarpet": [
           {
            "marker": {
             "colorbar": {
              "outlinewidth": 0,
              "ticks": ""
             }
            },
            "type": "scattercarpet"
           }
          ],
          "scattergeo": [
           {
            "marker": {
             "colorbar": {
              "outlinewidth": 0,
              "ticks": ""
             }
            },
            "type": "scattergeo"
           }
          ],
          "scattergl": [
           {
            "marker": {
             "colorbar": {
              "outlinewidth": 0,
              "ticks": ""
             }
            },
            "type": "scattergl"
           }
          ],
          "scattermap": [
           {
            "marker": {
             "colorbar": {
              "outlinewidth": 0,
              "ticks": ""
             }
            },
            "type": "scattermap"
           }
          ],
          "scattermapbox": [
           {
            "marker": {
             "colorbar": {
              "outlinewidth": 0,
              "ticks": ""
             }
            },
            "type": "scattermapbox"
           }
          ],
          "scatterpolar": [
           {
            "marker": {
             "colorbar": {
              "outlinewidth": 0,
              "ticks": ""
             }
            },
            "type": "scatterpolar"
           }
          ],
          "scatterpolargl": [
           {
            "marker": {
             "colorbar": {
              "outlinewidth": 0,
              "ticks": ""
             }
            },
            "type": "scatterpolargl"
           }
          ],
          "scatterternary": [
           {
            "marker": {
             "colorbar": {
              "outlinewidth": 0,
              "ticks": ""
             }
            },
            "type": "scatterternary"
           }
          ],
          "surface": [
           {
            "colorbar": {
             "outlinewidth": 0,
             "ticks": ""
            },
            "colorscale": [
             [
              0,
              "#0d0887"
             ],
             [
              0.1111111111111111,
              "#46039f"
             ],
             [
              0.2222222222222222,
              "#7201a8"
             ],
             [
              0.3333333333333333,
              "#9c179e"
             ],
             [
              0.4444444444444444,
              "#bd3786"
             ],
             [
              0.5555555555555556,
              "#d8576b"
             ],
             [
              0.6666666666666666,
              "#ed7953"
             ],
             [
              0.7777777777777778,
              "#fb9f3a"
             ],
             [
              0.8888888888888888,
              "#fdca26"
             ],
             [
              1,
              "#f0f921"
             ]
            ],
            "type": "surface"
           }
          ],
          "table": [
           {
            "cells": {
             "fill": {
              "color": "#EBF0F8"
             },
             "line": {
              "color": "white"
             }
            },
            "header": {
             "fill": {
              "color": "#C8D4E3"
             },
             "line": {
              "color": "white"
             }
            },
            "type": "table"
           }
          ]
         },
         "layout": {
          "annotationdefaults": {
           "arrowcolor": "#2a3f5f",
           "arrowhead": 0,
           "arrowwidth": 1
          },
          "autotypenumbers": "strict",
          "coloraxis": {
           "colorbar": {
            "outlinewidth": 0,
            "ticks": ""
           }
          },
          "colorscale": {
           "diverging": [
            [
             0,
             "#8e0152"
            ],
            [
             0.1,
             "#c51b7d"
            ],
            [
             0.2,
             "#de77ae"
            ],
            [
             0.3,
             "#f1b6da"
            ],
            [
             0.4,
             "#fde0ef"
            ],
            [
             0.5,
             "#f7f7f7"
            ],
            [
             0.6,
             "#e6f5d0"
            ],
            [
             0.7,
             "#b8e186"
            ],
            [
             0.8,
             "#7fbc41"
            ],
            [
             0.9,
             "#4d9221"
            ],
            [
             1,
             "#276419"
            ]
           ],
           "sequential": [
            [
             0,
             "#0d0887"
            ],
            [
             0.1111111111111111,
             "#46039f"
            ],
            [
             0.2222222222222222,
             "#7201a8"
            ],
            [
             0.3333333333333333,
             "#9c179e"
            ],
            [
             0.4444444444444444,
             "#bd3786"
            ],
            [
             0.5555555555555556,
             "#d8576b"
            ],
            [
             0.6666666666666666,
             "#ed7953"
            ],
            [
             0.7777777777777778,
             "#fb9f3a"
            ],
            [
             0.8888888888888888,
             "#fdca26"
            ],
            [
             1,
             "#f0f921"
            ]
           ],
           "sequentialminus": [
            [
             0,
             "#0d0887"
            ],
            [
             0.1111111111111111,
             "#46039f"
            ],
            [
             0.2222222222222222,
             "#7201a8"
            ],
            [
             0.3333333333333333,
             "#9c179e"
            ],
            [
             0.4444444444444444,
             "#bd3786"
            ],
            [
             0.5555555555555556,
             "#d8576b"
            ],
            [
             0.6666666666666666,
             "#ed7953"
            ],
            [
             0.7777777777777778,
             "#fb9f3a"
            ],
            [
             0.8888888888888888,
             "#fdca26"
            ],
            [
             1,
             "#f0f921"
            ]
           ]
          },
          "colorway": [
           "#636efa",
           "#EF553B",
           "#00cc96",
           "#ab63fa",
           "#FFA15A",
           "#19d3f3",
           "#FF6692",
           "#B6E880",
           "#FF97FF",
           "#FECB52"
          ],
          "font": {
           "color": "#2a3f5f"
          },
          "geo": {
           "bgcolor": "white",
           "lakecolor": "white",
           "landcolor": "#E5ECF6",
           "showlakes": true,
           "showland": true,
           "subunitcolor": "white"
          },
          "hoverlabel": {
           "align": "left"
          },
          "hovermode": "closest",
          "mapbox": {
           "style": "light"
          },
          "paper_bgcolor": "white",
          "plot_bgcolor": "#E5ECF6",
          "polar": {
           "angularaxis": {
            "gridcolor": "white",
            "linecolor": "white",
            "ticks": ""
           },
           "bgcolor": "#E5ECF6",
           "radialaxis": {
            "gridcolor": "white",
            "linecolor": "white",
            "ticks": ""
           }
          },
          "scene": {
           "xaxis": {
            "backgroundcolor": "#E5ECF6",
            "gridcolor": "white",
            "gridwidth": 2,
            "linecolor": "white",
            "showbackground": true,
            "ticks": "",
            "zerolinecolor": "white"
           },
           "yaxis": {
            "backgroundcolor": "#E5ECF6",
            "gridcolor": "white",
            "gridwidth": 2,
            "linecolor": "white",
            "showbackground": true,
            "ticks": "",
            "zerolinecolor": "white"
           },
           "zaxis": {
            "backgroundcolor": "#E5ECF6",
            "gridcolor": "white",
            "gridwidth": 2,
            "linecolor": "white",
            "showbackground": true,
            "ticks": "",
            "zerolinecolor": "white"
           }
          },
          "shapedefaults": {
           "line": {
            "color": "#2a3f5f"
           }
          },
          "ternary": {
           "aaxis": {
            "gridcolor": "white",
            "linecolor": "white",
            "ticks": ""
           },
           "baxis": {
            "gridcolor": "white",
            "linecolor": "white",
            "ticks": ""
           },
           "bgcolor": "#E5ECF6",
           "caxis": {
            "gridcolor": "white",
            "linecolor": "white",
            "ticks": ""
           }
          },
          "title": {
           "x": 0.05
          },
          "xaxis": {
           "automargin": true,
           "gridcolor": "white",
           "linecolor": "white",
           "ticks": "",
           "title": {
            "standoff": 15
           },
           "zerolinecolor": "white",
           "zerolinewidth": 2
          },
          "yaxis": {
           "automargin": true,
           "gridcolor": "white",
           "linecolor": "white",
           "ticks": "",
           "title": {
            "standoff": 15
           },
           "zerolinecolor": "white",
           "zerolinewidth": 2
          }
         }
        },
        "title": {
         "text": "Portfolio Market Value Trend"
        },
        "xaxis": {
         "anchor": "y",
         "domain": [
          0,
          1
         ],
         "title": {
          "text": "Year Quarter Formatted"
         }
        },
        "yaxis": {
         "anchor": "x",
         "domain": [
          0,
          1
         ],
         "title": {
          "text": "value"
         }
        }
       }
      },
      "image/png": "[encoded data removed]"
     },
     "metadata": {},
     "output_type": "display_data"
    }
   ],
   "source": [
    "portfolio_value_df = portfolio_df.groupby('Year Quarter Formatted')['Mkt value'].sum().to_frame()\n",
    "px.line(portfolio_value_df, title ='Portfolio Market Value Trend')\n"
   ]
  },
  {
   "cell_type": "markdown",
   "id": "81871a51-7894-4356-bde7-d37e096f5fdc",
   "metadata": {},
   "source": [
    "# Return, Correlation & Beta to Market "
   ]
  },
  {
   "cell_type": "markdown",
   "id": "7a5bf958-b3f0-451d-90e4-a5ecbdff94a9",
   "metadata": {},
   "source": [
    "### Unique ISIN Given Quater"
   ]
  },
  {
   "cell_type": "code",
   "execution_count": 14,
   "id": "da86e2b5-3f97-4bb7-9887-3d1f7c777400",
   "metadata": {},
   "outputs": [],
   "source": [
    "def get_unique_isin_by_quarter(data_frame, year_quarter_formatted):\n",
    "    \"\"\"\n",
    "    Filters the DataFrame to return a list of unique ISINs for a specified\n",
    "    'Year Quarter Formatted'.\n",
    "    \n",
    "    Args:\n",
    "        data_frame (pd.DataFrame): The input pandas DataFrame.\n",
    "        year_quarter_formatted (str): The string representing the year and quarter\n",
    "                                      (e.g., '2024-Q4').\n",
    "\n",
    "    Returns:\n",
    "        list: A list of unique ISINs.\n",
    "    \"\"\"\n",
    "    quarterly_data = data_frame[data_frame['Year Quarter Formatted'] == year_quarter_formatted]\n",
    "    \n",
    "    unique_isins = quarterly_data['ISIN'].unique()\n",
    "    \n",
    "    return unique_isins.tolist()"
   ]
  },
  {
   "cell_type": "markdown",
   "id": "fa9fdb82-8ee8-47b6-b458-8494920af153",
   "metadata": {},
   "source": [
    "### Daily Return Given ISIS and start_date, end_date"
   ]
  },
  {
   "cell_type": "code",
   "execution_count": 15,
   "id": "9bf3dd79-d92a-4151-be90-e8324b595318",
   "metadata": {},
   "outputs": [],
   "source": [
    "def get_daily_returns_data(isins, start_date, end_date):\n",
    "    \"\"\"\n",
    "    Downloads daily adjusted close price data for a list of ISINs and calculates\n",
    "    the daily returns.\n",
    "\n",
    "    Note: yfinance uses tickers (e.g., MSFT, GOOGL) not ISINs. This function\n",
    "    uses a simple hardcoded mapping for demonstration. In a real application,\n",
    "    you would need a robust ISIN-to-ticker mapping service.\n",
    "\n",
    "    Args:\n",
    "        isins (list): A list of ISINs.\n",
    "        start_date (str): The start date for the data download (YYYY-MM-DD).\n",
    "        end_date (str): The end date for the data download (YYYY-MM-DD).\n",
    "\n",
    "    Returns:\n",
    "        pd.DataFrame: A DataFrame of daily returns for the given ISINs.\n",
    "    \"\"\"\n",
    "    # Simple hardcoded mapping from ISIN to a yfinance-compatible ticker\n",
    "    isin_to_ticker_map = {\n",
    "        'US5949181045': 'MSFT',       # Microsoft\n",
    "        'FR0000125486': 'DG.PA',      # Vinci\n",
    "        'CA1363751027': 'CNI',        # Canadian National Railway\n",
    "        'US3696043013': 'GE',         # GE Aerospace\n",
    "        'CA13646K1084': 'CP',         # Canadian Pacific Kansas City\n",
    "        'US6153691059': 'MCO',        # Moody's\n",
    "        'DE0007236101': 'SIE.DE',     # Siemens AG\n",
    "        'US02079K3059': 'GOOGL',      # Alphabet Cl A\n",
    "        'ES0105046009': 'AENA.MC',    # Aena\n",
    "        'ES0105046017': 'AENA.MC',    # Aena\n",
    "        'US78409V1044': 'SPGI',       # S&P Global\n",
    "        'ES0105066007': 'CLNX.MC',    # Cellnex Telecom SA\n",
    "        'US02079K1079': 'GOOG',       # Alphabet Cl C\n",
    "        'US92826C8394': 'V',          # Visa\n",
    "        'NL0015001FS8': 'FER.MC',     # Ferrovial\n",
    "        'NL0000235190': 'AIR.PA',     # Airbus\n",
    "        'FR0000073272': 'SAF.PA'      # Safran\n",
    "    }\n",
    "    \n",
    "    # Convert the list of ISINs to a list of yfinance tickers\n",
    "    tickers = [isin_to_ticker_map.get(isin) for isin in isins if isin in isin_to_ticker_map]\n",
    "    \n",
    "    if not tickers:\n",
    "        print(\"No valid tickers found for the given ISINs.\")\n",
    "        return pd.DataFrame()\n",
    "\n",
    "    # Download adjusted close price data\n",
    "    data = yf.download(tickers, start=start_date, end=end_date)['Close']\n",
    "    \n",
    "    # Calculate daily returns\n",
    "    daily_returns = data.pct_change().dropna()\n",
    "    \n",
    "    # Rename columns to their original ISINs for clarity\n",
    "    daily_returns = daily_returns.rename(columns={ticker: isin for isin, ticker in isin_to_ticker_map.items()})\n",
    "\n",
    "    return daily_returns"
   ]
  },
  {
   "cell_type": "markdown",
   "id": "5ec81825-3c93-4b25-9bc5-98a613361a16",
   "metadata": {},
   "source": [
    "### Portfolio Daily Return Given targert Quarter, individual stock daily return, portfolio Dataframe"
   ]
  },
  {
   "cell_type": "code",
   "execution_count": 16,
   "id": "8692abd0-b54c-44b6-b49d-30c97b414348",
   "metadata": {},
   "outputs": [],
   "source": [
    "def calculate_portfolio_daily_returns(data_frame, daily_returns_df, target_quarter):\n",
    "    \"\"\"\n",
    "    Calculates the portfolio's daily returns based on the daily returns of\n",
    "    individual securities and their market-value weights for a specific quarter.\n",
    "\n",
    "    Args:\n",
    "        data_frame (pd.DataFrame): The main DataFrame with portfolio holdings.\n",
    "        daily_returns_df (pd.DataFrame): A DataFrame with individual security daily returns.\n",
    "        target_quarter (str): The quarter used to determine portfolio weights (e.g., '2024-Q4').\n",
    "\n",
    "    Returns:\n",
    "        pd.Series: A Series of the portfolio's daily returns.\n",
    "    \"\"\"\n",
    "    # Filter the main DataFrame for the specific quarter\n",
    "    quarterly_holdings = data_frame[data_frame['Year Quarter Formatted'] == target_quarter]\n",
    "    \n",
    "    # Calculate the total market value for the quarter\n",
    "    total_mkt_value = quarterly_holdings['Mkt value'].sum()\n",
    "    \n",
    "    # Calculate weights for each ISIN in the portfolio for that quarter\n",
    "    # We use a pivot table to ensure that each ISIN has a single weight\n",
    "    weights_df = quarterly_holdings.pivot_table(\n",
    "        index='ISIN',\n",
    "        values='Mkt value',\n",
    "        aggfunc='sum'\n",
    "    )\n",
    "    \n",
    "    # Normalize the weights to sum to 1\n",
    "    weights_df['weight'] = weights_df['Mkt value'] / total_mkt_value\n",
    "    \n",
    "    # Create a dictionary for easy mapping from ISIN to weight\n",
    "    weights = weights_df['weight'].to_dict()\n",
    "    \n",
    "    # Align the daily returns DataFrame with the weights\n",
    "    # Reindex columns to match the order of the weights dictionary and fill any NaNs with 0\n",
    "    aligned_returns = daily_returns_df[list(weights.keys())].fillna(0)\n",
    "    \n",
    "    # Multiply the returns by their corresponding weights and sum across columns\n",
    "    # to get the portfolio daily return\n",
    "    portfolio_daily_returns = aligned_returns.dot(pd.Series(weights))\n",
    "    \n",
    "    return portfolio_daily_returns"
   ]
  },
  {
   "cell_type": "markdown",
   "id": "8c5343bf-f50d-4c98-b923-89a613a053a8",
   "metadata": {},
   "source": [
    "### 2025 Q1"
   ]
  },
  {
   "cell_type": "code",
   "execution_count": 17,
   "id": "959482fe-6ace-4f06-9b7a-cce8269ee7a5",
   "metadata": {},
   "outputs": [
    {
     "data": {
      "text/plain": [
       "['US5949181045',\n",
       " 'FR0000125486',\n",
       " 'CA1363751027',\n",
       " 'US3696043013',\n",
       " 'CA13646K1084',\n",
       " 'US6153691059',\n",
       " 'DE0007236101',\n",
       " 'US02079K3059',\n",
       " 'ES0105046017',\n",
       " 'US78409V1044',\n",
       " 'ES0105066007',\n",
       " 'US02079K1079',\n",
       " 'US92826C8394',\n",
       " 'NL0015001FS8',\n",
       " 'NL0000235190',\n",
       " 'FR0000073272']"
      ]
     },
     "execution_count": 17,
     "metadata": {},
     "output_type": "execute_result"
    }
   ],
   "source": [
    "target_quarter = '2024-Q4'\n",
    "start_date_str = '2025-01-01'\n",
    "end_date_str = '2025-03-31'\n",
    "unique_isins_for_quarter = get_unique_isin_by_quarter(portfolio_df, target_quarter)\n",
    "unique_isins_for_quarter \n"
   ]
  },
  {
   "cell_type": "code",
   "execution_count": 19,
   "id": "2dcd6166-67cb-46c3-b9f2-4fc7b48f2f3e",
   "metadata": {},
   "outputs": [
    {
     "name": "stderr",
     "output_type": "stream",
     "text": [
      "/tmp/ipykernel_1548116/2675232800.py:47: FutureWarning:\n",
      "\n",
      "YF.download() has changed argument auto_adjust default to True\n",
      "\n",
      "[*********************100%***********************]  16 of 16 completed\n",
      "/tmp/ipykernel_1548116/2675232800.py:50: FutureWarning:\n",
      "\n",
      "The default fill_method='pad' in DataFrame.pct_change is deprecated and will be removed in a future version. Either fill in any non-leading NA values prior to calling pct_change or specify 'fill_method=None' to not fill NA values.\n",
      "\n"
     ]
    },
    {
     "data": {
      "text/plain": [
       "Date\n",
       "2025-01-03    0.002601\n",
       "2025-01-06    0.005381\n",
       "2025-01-07   -0.002779\n",
       "2025-01-08   -0.000464\n",
       "2025-01-09    0.002225\n",
       "                ...   \n",
       "2025-03-24    0.011873\n",
       "2025-03-25    0.010110\n",
       "2025-03-26   -0.009028\n",
       "2025-03-27   -0.003270\n",
       "2025-03-28   -0.018447\n",
       "Freq: B, Length: 61, dtype: float64"
      ]
     },
     "execution_count": 19,
     "metadata": {},
     "output_type": "execute_result"
    }
   ],
   "source": [
    "daily_returns_df = get_daily_returns_data(unique_isins_for_quarter, start_date_str, end_date_str)\n",
    "portfolio_returns = calculate_portfolio_daily_returns(portfolio_df, daily_returns_df, target_quarter)\n",
    "portfolio_returns"
   ]
  },
  {
   "cell_type": "markdown",
   "id": "466d4311-4d7d-4312-813b-1b40d93b44a6",
   "metadata": {},
   "source": [
    "### SP500 Daily Return for start_date, end_date"
   ]
  },
  {
   "cell_type": "code",
   "execution_count": 20,
   "id": "bc5976fd-7188-4988-bb82-a599c36e6f98",
   "metadata": {},
   "outputs": [],
   "source": [
    "def calculate_sp500_daily_returns(start_date, end_date):\n",
    "    \"\"\"\n",
    "    Downloads daily adjusted close price data for the S&P 500 (^GSPC) and\n",
    "    calculates its daily returns.\n",
    "\n",
    "    Args:\n",
    "        start_date (str): The start date for the data download (YYYY-MM-DD).\n",
    "        end_date (str): The end date for the data download (YYYY-MM-DD).\n",
    "\n",
    "    Returns:\n",
    "        pd.Series: A Series of the S&P 500's daily returns.\n",
    "    \"\"\"\n",
    "    try:\n",
    "        sp500_data = yf.download('^GSPC', start=start_date, end=end_date)['Close']\n",
    "        sp500_returns = sp500_data.pct_change().dropna()\n",
    "        return sp500_returns\n",
    "    except Exception as e:\n",
    "        print(f\"Error fetching S&P 500 data: {e}\")\n",
    "        return pd.Series()\n"
   ]
  },
  {
   "cell_type": "code",
   "execution_count": 24,
   "id": "51061523-9755-4fac-ab3e-2620f2ebcaf6",
   "metadata": {},
   "outputs": [],
   "source": [
    "def calculate_portfolio_beta(sp500_returns, portfolio_returns):\n",
    "    \"\"\"\n",
    "    Calculates the portfolio's beta (exposure to the S&P 500) using linear\n",
    "    regression. Beta is the slope of the regression line with the market\n",
    "    returns as the independent variable (x) and the portfolio returns as\n",
    "    the dependent variable (y).\n",
    "\n",
    "    Args:\n",
    "        sp500_returns (pd.Series): Daily returns of the S&P 500.\n",
    "        portfolio_returns (pd.Series): Daily returns of the portfolio.\n",
    "\n",
    "    Returns:\n",
    "        float: The calculated beta value.\n",
    "    \"\"\"\n",
    "    # Align the two Series on their common dates and drop any NaNs\n",
    "    aligned_data = pd.concat([portfolio_returns, sp500_returns], axis=1).dropna()\n",
    "\n",
    "    # Ensure there's enough data for regression\n",
    "    if len(aligned_data) < 2:\n",
    "        print(\"Not enough data to perform linear regression.\")\n",
    "        return None\n",
    "\n",
    "    # Perform linear regression. The slope of this line is the beta.\n",
    "    # The market returns (S&P 500) are the independent variable (x),\n",
    "    # and the portfolio returns are the dependent variable (y).\n",
    "    slope, intercept, r_value, p_value, std_err = stats.linregress(\n",
    "        aligned_data.iloc[:, 1], # x-axis: S&P 500 returns\n",
    "        aligned_data.iloc[:, 0]  # y-axis: Portfolio returns\n",
    "    )\n",
    "    \n",
    "    return slope"
   ]
  },
  {
   "cell_type": "markdown",
   "id": "53da3969-de5d-4c54-9bd0-dc084b02af03",
   "metadata": {},
   "source": [
    "### Correlation and Beta"
   ]
  },
  {
   "cell_type": "code",
   "execution_count": 22,
   "id": "5bf89618-124a-448e-83b0-7beb9edc3424",
   "metadata": {},
   "outputs": [
    {
     "name": "stderr",
     "output_type": "stream",
     "text": [
      "/tmp/ipykernel_1548116/3650545756.py:14: FutureWarning:\n",
      "\n",
      "YF.download() has changed argument auto_adjust default to True\n",
      "\n",
      "[*********************100%***********************]  1 of 1 completed\n"
     ]
    },
    {
     "data": {
      "text/plain": [
       "np.float64(0.8427269422591945)"
      ]
     },
     "execution_count": 22,
     "metadata": {},
     "output_type": "execute_result"
    }
   ],
   "source": [
    "sp500_returns = calculate_sp500_daily_returns(start_date_str, end_date_str)\n",
    "aligned_data = pd.concat([portfolio_returns, sp500_returns], axis=1).dropna()\n",
    "correlation = aligned_data.iloc[:, 0].corr(aligned_data.iloc[:, 1])\n",
    "correlation"
   ]
  },
  {
   "cell_type": "code",
   "execution_count": 25,
   "id": "5aae1796-dd69-4dfe-a60a-0930c2b1666e",
   "metadata": {},
   "outputs": [
    {
     "data": {
      "text/plain": [
       "np.float64(0.7752500658328212)"
      ]
     },
     "execution_count": 25,
     "metadata": {},
     "output_type": "execute_result"
    }
   ],
   "source": [
    "beta = calculate_portfolio_beta(sp500_returns, portfolio_returns)\n",
    "beta"
   ]
  },
  {
   "cell_type": "markdown",
   "id": "d75593f7-f4e3-4769-b273-df50780246ea",
   "metadata": {},
   "source": [
    "# Simulate adding SH into Portfolio"
   ]
  },
  {
   "cell_type": "code",
   "execution_count": 27,
   "id": "e67305d7-7469-4a6f-9168-151fe7e26cba",
   "metadata": {},
   "outputs": [],
   "source": [
    "def simulate_portfolio_with_sh_etf(beta_requirement, sp500_returns, portfolio_returns, start_date, end_date):\n",
    "    \"\"\"\n",
    "    Simulates adding a short S&P 500 ETF (SH) to a portfolio to achieve a target beta.\n",
    "\n",
    "    Args:\n",
    "        beta_requirement (float): The desired beta for the new portfolio.\n",
    "        sp500_returns (pd.Series): The daily returns of the S&P 500.\n",
    "        portfolio_returns (pd.Series): The daily returns of the original portfolio.\n",
    "        start_date (str): The start date for data fetching.\n",
    "        end_date (str): The end date for data fetching.\n",
    "\n",
    "    Returns:\n",
    "        dict: A dictionary with the simulation results, including weights,\n",
    "              returns, and correlations.\n",
    "    \"\"\"\n",
    "    # 1. Get the SH ETF daily returns\n",
    "    try:\n",
    "        sh_returns = yf.download('SH', start=start_date, end=end_date)['Close'].pct_change().dropna()\n",
    "    except Exception as e:\n",
    "        print(f\"Error fetching SH data: {e}\")\n",
    "        return {}\n",
    "\n",
    "    # 2. Align all returns data to the same dates\n",
    "    aligned_returns = pd.concat([portfolio_returns, sh_returns, sp500_returns], axis=1).dropna()\n",
    "    aligned_portfolio_returns = aligned_returns.iloc[:, 0]\n",
    "    aligned_sh_returns = aligned_returns.iloc[:, 1]\n",
    "    aligned_sp500_returns = aligned_returns.iloc[:, 2]\n",
    "\n",
    "    if len(aligned_returns) < 2:\n",
    "        print(\"Not enough aligned data to perform simulation.\")\n",
    "        return {}\n",
    "    \n",
    "    # 3. Calculate metrics for the original portfolio\n",
    "    beta_orig = calculate_portfolio_beta(aligned_sp500_returns, aligned_portfolio_returns)\n",
    "    corr_orig = aligned_portfolio_returns.corr(aligned_sp500_returns)\n",
    "    # The number of trading days in a year is approximately 252\n",
    "    annualized_return_orig = (1 + aligned_portfolio_returns.mean())**252 - 1\n",
    "\n",
    "    # 4. Calculate the beta of the SH ETF\n",
    "    beta_sh = calculate_portfolio_beta(aligned_sp500_returns, aligned_sh_returns)\n",
    "    if beta_sh is None:\n",
    "        return {}\n",
    "    \n",
    "    # 5. Calculate the weight of SH needed to meet the beta requirement\n",
    "    if beta_sh - beta_orig == 0:\n",
    "        print(\"Cannot calculate SH weight. Original portfolio beta is too close to SH beta.\")\n",
    "        return {}\n",
    "    \n",
    "    sh_weight = (beta_requirement - beta_orig) / (beta_sh - beta_orig)\n",
    "    \n",
    "    if not (0 <= sh_weight <= 1):\n",
    "        print(f\"Warning: Calculated SH weight ({sh_weight:.4f}) is outside the valid range (0-1). Beta requirement may be unachievable with a long-only position.\")\n",
    "        # We can still proceed with the calculation for demonstration purposes\n",
    "    \n",
    "    # 6. Calculate new portfolio returns, annualized return, and correlation\n",
    "    new_portfolio_returns = (aligned_portfolio_returns * (1 - sh_weight)) + (aligned_sh_returns * sh_weight)\n",
    "    \n",
    "    new_annualized_return = (1 + new_portfolio_returns.mean())**252 - 1\n",
    "    new_correlation = new_portfolio_returns.corr(aligned_sp500_returns)\n",
    "    \n",
    "    # 7. Return the results\n",
    "    return {\n",
    "        \"sh_weight\": sh_weight,\n",
    "        \"annualized_return_orig\": annualized_return_orig,\n",
    "        \"annualized_return_new\": new_annualized_return,\n",
    "        \"correlation_orig\": corr_orig,\n",
    "        \"correlation_new\": new_correlation\n",
    "    }"
   ]
  },
  {
   "cell_type": "code",
   "execution_count": 28,
   "id": "c4bcafb5-8123-4fba-b5cc-a103a5aec2ef",
   "metadata": {},
   "outputs": [
    {
     "name": "stderr",
     "output_type": "stream",
     "text": [
      "/tmp/ipykernel_1548116/1264555716.py:18: FutureWarning:\n",
      "\n",
      "YF.download() has changed argument auto_adjust default to True\n",
      "\n",
      "[*********************100%***********************]  1 of 1 completed"
     ]
    },
    {
     "name": "stdout",
     "output_type": "stream",
     "text": [
      "Target Beta: 0.5\n",
      "Weight of SH ETF in new portfolio: 0.1563\n",
      "Original Annualized Portfolio Return: 15.80%\n",
      "New Annualized Portfolio Return (with SH): 18.15%\n",
      "Original Correlation with S&P 500: 0.8427\n",
      "New Correlation with S&P 500: 0.7691\n"
     ]
    },
    {
     "name": "stderr",
     "output_type": "stream",
     "text": [
      "\n"
     ]
    }
   ],
   "source": [
    "beta_target = 0.5 \n",
    "simulation_results = simulate_portfolio_with_sh_etf(\n",
    "        beta_target, \n",
    "        sp500_returns, \n",
    "        portfolio_returns, \n",
    "        start_date_str, \n",
    "        end_date_str\n",
    "    )\n",
    "print(f\"Target Beta: {beta_target}\")\n",
    "print(f\"Weight of SH ETF in new portfolio: {simulation_results['sh_weight']:.4f}\")\n",
    "print(f\"Original Annualized Portfolio Return: {simulation_results['annualized_return_orig']:.2%}\")\n",
    "print(f\"New Annualized Portfolio Return (with SH): {simulation_results['annualized_return_new']:.2%}\")\n",
    "print(f\"Original Correlation with S&P 500: {simulation_results['correlation_orig']:.4f}\")\n",
    "print(f\"New Correlation with S&P 500: {simulation_results['correlation_new']:.4f}\")"
   ]
  },
  {
   "cell_type": "markdown",
   "id": "7f11d761-2b5c-40c3-a0fe-c6aa97999344",
   "metadata": {},
   "source": [
    "# Repeat on 2025 Q2"
   ]
  },
  {
   "cell_type": "code",
   "execution_count": 33,
   "id": "a67b3638-17d5-4536-8c93-ba1c85d34838",
   "metadata": {},
   "outputs": [
    {
     "data": {
      "text/plain": [
       "['US5949181045',\n",
       " 'CA1363751027',\n",
       " 'FR0000125486',\n",
       " 'CA13646K1084',\n",
       " 'US6153691059',\n",
       " 'US3696043013',\n",
       " 'ES0105046017',\n",
       " 'US02079K3059',\n",
       " 'ES0105066007',\n",
       " 'US78409V1044',\n",
       " 'US02079K1079',\n",
       " 'US92826C8394',\n",
       " 'NL0015001FS8',\n",
       " 'NL0000235190',\n",
       " 'FR0000073272']"
      ]
     },
     "execution_count": 33,
     "metadata": {},
     "output_type": "execute_result"
    }
   ],
   "source": [
    "target_quarter = '2025-Q1'\n",
    "start_date_str = '2025-04-01'\n",
    "end_date_str = '2025-06-30'\n",
    "unique_isins_for_quarter = get_unique_isin_by_quarter(portfolio_df, target_quarter)\n",
    "unique_isins_for_quarter \n"
   ]
  },
  {
   "cell_type": "code",
   "execution_count": 34,
   "id": "772d1d17-0444-4cd9-9b02-c61020354e6a",
   "metadata": {},
   "outputs": [
    {
     "name": "stderr",
     "output_type": "stream",
     "text": [
      "/tmp/ipykernel_1548116/2675232800.py:47: FutureWarning:\n",
      "\n",
      "YF.download() has changed argument auto_adjust default to True\n",
      "\n",
      "[*********************100%***********************]  15 of 15 completed\n",
      "/tmp/ipykernel_1548116/2675232800.py:50: FutureWarning:\n",
      "\n",
      "The default fill_method='pad' in DataFrame.pct_change is deprecated and will be removed in a future version. Either fill in any non-leading NA values prior to calling pct_change or specify 'fill_method=None' to not fill NA values.\n",
      "\n"
     ]
    },
    {
     "data": {
      "text/plain": [
       "Date\n",
       "2025-04-02   -0.001648\n",
       "2025-04-03   -0.031758\n",
       "2025-04-04   -0.062600\n",
       "2025-04-07   -0.030516\n",
       "2025-04-08    0.009405\n",
       "                ...   \n",
       "2025-06-23    0.009070\n",
       "2025-06-24    0.012919\n",
       "2025-06-25   -0.001626\n",
       "2025-06-26    0.007883\n",
       "2025-06-27    0.008539\n",
       "Length: 62, dtype: float64"
      ]
     },
     "execution_count": 34,
     "metadata": {},
     "output_type": "execute_result"
    }
   ],
   "source": [
    "daily_returns_df = get_daily_returns_data(unique_isins_for_quarter, start_date_str, end_date_str)\n",
    "portfolio_returns = calculate_portfolio_daily_returns(portfolio_df, daily_returns_df, target_quarter)\n",
    "portfolio_returns"
   ]
  },
  {
   "cell_type": "code",
   "execution_count": 35,
   "id": "c202e91e-2f14-4a0c-bc7e-2172f88949d5",
   "metadata": {},
   "outputs": [
    {
     "name": "stderr",
     "output_type": "stream",
     "text": [
      "/tmp/ipykernel_1548116/3650545756.py:14: FutureWarning:\n",
      "\n",
      "YF.download() has changed argument auto_adjust default to True\n",
      "\n",
      "[*********************100%***********************]  1 of 1 completed\n"
     ]
    },
    {
     "data": {
      "text/plain": [
       "np.float64(0.7498460365627455)"
      ]
     },
     "execution_count": 35,
     "metadata": {},
     "output_type": "execute_result"
    }
   ],
   "source": [
    "sp500_returns = calculate_sp500_daily_returns(start_date_str, end_date_str)\n",
    "aligned_data = pd.concat([portfolio_returns, sp500_returns], axis=1).dropna()\n",
    "correlation = aligned_data.iloc[:, 0].corr(aligned_data.iloc[:, 1])\n",
    "correlation"
   ]
  },
  {
   "cell_type": "code",
   "execution_count": 36,
   "id": "209278a2-1fbe-41c5-8892-6557dd42caa3",
   "metadata": {},
   "outputs": [
    {
     "data": {
      "text/plain": [
       "np.float64(0.5692928048936289)"
      ]
     },
     "execution_count": 36,
     "metadata": {},
     "output_type": "execute_result"
    }
   ],
   "source": [
    "beta = calculate_portfolio_beta(sp500_returns, portfolio_returns)\n",
    "beta"
   ]
  },
  {
   "cell_type": "code",
   "execution_count": 37,
   "id": "64ad5551-aaab-4e1e-a148-e1246daa4d99",
   "metadata": {},
   "outputs": [
    {
     "name": "stderr",
     "output_type": "stream",
     "text": [
      "/tmp/ipykernel_1548116/1264555716.py:18: FutureWarning:\n",
      "\n",
      "YF.download() has changed argument auto_adjust default to True\n",
      "\n",
      "[*********************100%***********************]  1 of 1 completed"
     ]
    },
    {
     "name": "stdout",
     "output_type": "stream",
     "text": [
      "Target Beta: 0.4\n",
      "Weight of SH ETF in new portfolio: 0.1085\n",
      "Original Annualized Portfolio Return: 47.65%\n",
      "New Annualized Portfolio Return (with SH): 36.07%\n",
      "Original Correlation with S&P 500: 0.7498\n",
      "New Correlation with S&P 500: 0.6665\n"
     ]
    },
    {
     "name": "stderr",
     "output_type": "stream",
     "text": [
      "\n"
     ]
    }
   ],
   "source": [
    "beta_target = 0.4\n",
    "simulation_results = simulate_portfolio_with_sh_etf(\n",
    "        beta_target, \n",
    "        sp500_returns, \n",
    "        portfolio_returns, \n",
    "        start_date_str, \n",
    "        end_date_str\n",
    "    )\n",
    "print(f\"Target Beta: {beta_target}\")\n",
    "print(f\"Weight of SH ETF in new portfolio: {simulation_results['sh_weight']:.4f}\")\n",
    "print(f\"Original Annualized Portfolio Return: {simulation_results['annualized_return_orig']:.2%}\")\n",
    "print(f\"New Annualized Portfolio Return (with SH): {simulation_results['annualized_return_new']:.2%}\")\n",
    "print(f\"Original Correlation with S&P 500: {simulation_results['correlation_orig']:.4f}\")\n",
    "print(f\"New Correlation with S&P 500: {simulation_results['correlation_new']:.4f}\")"
   ]
  }
 ],
 "metadata": {
  "kernelspec": {
   "display_name": "Finance Virtual Environment 3.10",
   "language": "python",
   "name": "finance_venv_3.10"
  },
  "language_info": {
   "codemirror_mode": {
    "name": "ipython",
    "version": 3
   },
   "file_extension": ".py",
   "mimetype": "text/x-python",
   "name": "python",
   "nbconvert_exporter": "python",
   "pygments_lexer": "ipython3",
   "version": "3.10.18"
  }
 },
 "nbformat": 4,
 "nbformat_minor": 5
}
