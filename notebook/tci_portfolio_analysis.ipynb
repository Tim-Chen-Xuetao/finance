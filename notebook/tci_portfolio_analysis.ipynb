{
 "cells": [
  {
   "cell_type": "markdown",
   "id": "7cf0cfd4-69e3-4b92-8fe5-6509d94a3c21",
   "metadata": {},
   "source": [
    "# Load Data and Explore"
   ]
  },
  {
   "cell_type": "code",
   "execution_count": 1,
   "id": "ba0dac1a-8aad-4a46-8620-4eb8aab6147b",
   "metadata": {
    "scrolled": true
   },
   "outputs": [],
   "source": [
    "import numpy as np\n",
    "import pandas as pd\n",
    "import matplotlib.pyplot as plt\n",
    "import plotly.express as px\n",
    "import yfinance as yf\n",
    "import seaborn as sns"
   ]
  },
  {
   "cell_type": "code",
   "execution_count": 4,
   "id": "55214ac4-6f44-42cc-bce2-833e01c5beb6",
   "metadata": {},
   "outputs": [],
   "source": [
    "portfolio_df = pd.read_excel('../data/TCI.xlsx', sheet_name='Sheet1')"
   ]
  },
  {
   "cell_type": "code",
   "execution_count": 5,
   "id": "dbe56766-c47e-4cc8-98d4-02ee49dc03ee",
   "metadata": {},
   "outputs": [
    {
     "data": {
      "text/html": [
       "<div>\n",
       "<style scoped>\n",
       "    .dataframe tbody tr th:only-of-type {\n",
       "        vertical-align: middle;\n",
       "    }\n",
       "\n",
       "    .dataframe tbody tr th {\n",
       "        vertical-align: top;\n",
       "    }\n",
       "\n",
       "    .dataframe thead th {\n",
       "        text-align: right;\n",
       "    }\n",
       "</style>\n",
       "<table border=\"1\" class=\"dataframe\">\n",
       "  <thead>\n",
       "    <tr style=\"text-align: right;\">\n",
       "      <th></th>\n",
       "      <th>Year</th>\n",
       "      <th>Quarter End</th>\n",
       "      <th>Security Type</th>\n",
       "      <th>Mkt value</th>\n",
       "      <th>Qty</th>\n",
       "      <th>ISIN</th>\n",
       "      <th>SEDOL</th>\n",
       "      <th>Coupon</th>\n",
       "      <th>Maturity</th>\n",
       "      <th>Instrument Description</th>\n",
       "      <th>Issuer</th>\n",
       "      <th>Sector</th>\n",
       "      <th>% of NAV</th>\n",
       "    </tr>\n",
       "  </thead>\n",
       "  <tbody>\n",
       "    <tr>\n",
       "      <th>0</th>\n",
       "      <td>2018</td>\n",
       "      <td>1</td>\n",
       "      <td>Equity</td>\n",
       "      <td>2.269794e+09</td>\n",
       "      <td>61864102</td>\n",
       "      <td>US90130A1016</td>\n",
       "      <td>BBM4S68</td>\n",
       "      <td>NaN</td>\n",
       "      <td>NaN</td>\n",
       "      <td>TWENTY FIRST CENTURY FOX CL A ORD (NMS)</td>\n",
       "      <td>21st Century Fox</td>\n",
       "      <td>NaN</td>\n",
       "      <td>0.128385</td>\n",
       "    </tr>\n",
       "    <tr>\n",
       "      <th>1</th>\n",
       "      <td>2018</td>\n",
       "      <td>1</td>\n",
       "      <td>Equity</td>\n",
       "      <td>3.703355e+08</td>\n",
       "      <td>10182445</td>\n",
       "      <td>US90130A2006</td>\n",
       "      <td>BBM4S80</td>\n",
       "      <td>NaN</td>\n",
       "      <td>NaN</td>\n",
       "      <td>TWENTY FIRST CENTURY FOX CL B ORD (NMS)</td>\n",
       "      <td>21st Century Fox</td>\n",
       "      <td>NaN</td>\n",
       "      <td>0.020947</td>\n",
       "    </tr>\n",
       "    <tr>\n",
       "      <th>2</th>\n",
       "      <td>2018</td>\n",
       "      <td>1</td>\n",
       "      <td>Equity</td>\n",
       "      <td>1.330941e+09</td>\n",
       "      <td>6600000</td>\n",
       "      <td>ES0105046009</td>\n",
       "      <td>BVRZ8L1</td>\n",
       "      <td>NaN</td>\n",
       "      <td>NaN</td>\n",
       "      <td>AENA ORD (MCE) CFD</td>\n",
       "      <td>Aena</td>\n",
       "      <td>NaN</td>\n",
       "      <td>0.075281</td>\n",
       "    </tr>\n",
       "    <tr>\n",
       "      <th>3</th>\n",
       "      <td>2018</td>\n",
       "      <td>1</td>\n",
       "      <td>Equity</td>\n",
       "      <td>1.681670e+09</td>\n",
       "      <td>14549199</td>\n",
       "      <td>NL0000235190</td>\n",
       "      <td>4012250</td>\n",
       "      <td>NaN</td>\n",
       "      <td>NaN</td>\n",
       "      <td>AIRBUS ORD (PAR)</td>\n",
       "      <td>Airbus</td>\n",
       "      <td>NaN</td>\n",
       "      <td>0.095119</td>\n",
       "    </tr>\n",
       "    <tr>\n",
       "      <th>4</th>\n",
       "      <td>2018</td>\n",
       "      <td>1</td>\n",
       "      <td>Equity</td>\n",
       "      <td>-4.483429e+09</td>\n",
       "      <td>-24427531</td>\n",
       "      <td>US01609W1027</td>\n",
       "      <td>BP41ZD1</td>\n",
       "      <td>NaN</td>\n",
       "      <td>NaN</td>\n",
       "      <td>ALIBABA GROUP HOLDING ADR REP 1 ORD (NYS)</td>\n",
       "      <td>Alibaba</td>\n",
       "      <td>NaN</td>\n",
       "      <td>-0.253593</td>\n",
       "    </tr>\n",
       "  </tbody>\n",
       "</table>\n",
       "</div>"
      ],
      "text/plain": [
       "   Year  Quarter End Security Type     Mkt value       Qty          ISIN  \\\n",
       "0  2018            1        Equity  2.269794e+09  61864102  US90130A1016   \n",
       "1  2018            1        Equity  3.703355e+08  10182445  US90130A2006   \n",
       "2  2018            1        Equity  1.330941e+09   6600000  ES0105046009   \n",
       "3  2018            1        Equity  1.681670e+09  14549199  NL0000235190   \n",
       "4  2018            1        Equity -4.483429e+09 -24427531  US01609W1027   \n",
       "\n",
       "     SEDOL  Coupon  Maturity                     Instrument Description  \\\n",
       "0  BBM4S68     NaN       NaN    TWENTY FIRST CENTURY FOX CL A ORD (NMS)   \n",
       "1  BBM4S80     NaN       NaN    TWENTY FIRST CENTURY FOX CL B ORD (NMS)   \n",
       "2  BVRZ8L1     NaN       NaN                         AENA ORD (MCE) CFD   \n",
       "3  4012250     NaN       NaN                           AIRBUS ORD (PAR)   \n",
       "4  BP41ZD1     NaN       NaN  ALIBABA GROUP HOLDING ADR REP 1 ORD (NYS)   \n",
       "\n",
       "             Issuer Sector  % of NAV  \n",
       "0  21st Century Fox    NaN  0.128385  \n",
       "1  21st Century Fox    NaN  0.020947  \n",
       "2              Aena    NaN  0.075281  \n",
       "3            Airbus    NaN  0.095119  \n",
       "4           Alibaba    NaN -0.253593  "
      ]
     },
     "execution_count": 5,
     "metadata": {},
     "output_type": "execute_result"
    }
   ],
   "source": [
    "portfolio_df.head()"
   ]
  },
  {
   "cell_type": "code",
   "execution_count": 6,
   "id": "ff7f199f-ba35-4e40-8430-dedd0f6b4135",
   "metadata": {},
   "outputs": [
    {
     "name": "stdout",
     "output_type": "stream",
     "text": [
      "(1271, 13)\n"
     ]
    }
   ],
   "source": [
    "print(portfolio_df.shape)"
   ]
  },
  {
   "cell_type": "code",
   "execution_count": 7,
   "id": "526f0fae-dac5-4bc5-b6ca-7104eabfd3a7",
   "metadata": {},
   "outputs": [
    {
     "name": "stderr",
     "output_type": "stream",
     "text": [
      "/tmp/ipykernel_3403622/4149915252.py:2: UserWarning: Could not infer format, so each element will be parsed individually, falling back to `dateutil`. To ensure parsing is consistent and as-expected, please specify a format.\n",
      "  portfolio_df['Year Quarter Date'] = pd.to_datetime(portfolio_df['Year Quarter Formatted']) + pd.offsets.QuarterEnd(0)\n"
     ]
    }
   ],
   "source": [
    "portfolio_df['Year Quarter Formatted'] = portfolio_df['Year'].astype(str) + '-Q' + portfolio_df['Quarter End'].astype(str)\n",
    "portfolio_df['Year Quarter Date'] = pd.to_datetime(portfolio_df['Year Quarter Formatted']) + pd.offsets.QuarterEnd(0)"
   ]
  },
  {
   "cell_type": "code",
   "execution_count": 8,
   "id": "f704e181-97c1-43bf-b76a-c3f8dac4a8ee",
   "metadata": {},
   "outputs": [
    {
     "data": {
      "text/html": [
       "<div>\n",
       "<style scoped>\n",
       "    .dataframe tbody tr th:only-of-type {\n",
       "        vertical-align: middle;\n",
       "    }\n",
       "\n",
       "    .dataframe tbody tr th {\n",
       "        vertical-align: top;\n",
       "    }\n",
       "\n",
       "    .dataframe thead th {\n",
       "        text-align: right;\n",
       "    }\n",
       "</style>\n",
       "<table border=\"1\" class=\"dataframe\">\n",
       "  <thead>\n",
       "    <tr style=\"text-align: right;\">\n",
       "      <th></th>\n",
       "      <th>Year</th>\n",
       "      <th>Quarter End</th>\n",
       "      <th>Security Type</th>\n",
       "      <th>Mkt value</th>\n",
       "      <th>Qty</th>\n",
       "      <th>ISIN</th>\n",
       "      <th>SEDOL</th>\n",
       "      <th>Coupon</th>\n",
       "      <th>Maturity</th>\n",
       "      <th>Instrument Description</th>\n",
       "      <th>Issuer</th>\n",
       "      <th>Sector</th>\n",
       "      <th>% of NAV</th>\n",
       "      <th>Year Quarter Formatted</th>\n",
       "      <th>Year Quarter Date</th>\n",
       "    </tr>\n",
       "  </thead>\n",
       "  <tbody>\n",
       "    <tr>\n",
       "      <th>123</th>\n",
       "      <td>2018</td>\n",
       "      <td>3</td>\n",
       "      <td>Equity Swap</td>\n",
       "      <td>-3.318661e+08</td>\n",
       "      <td>-1885440</td>\n",
       "      <td>DE0007664039</td>\n",
       "      <td>5497168</td>\n",
       "      <td>NaN</td>\n",
       "      <td>NaN</td>\n",
       "      <td>VOLKSWAGEN PR (GER) CFD</td>\n",
       "      <td>Volkswagen (short)</td>\n",
       "      <td>NaN</td>\n",
       "      <td>-0.016244</td>\n",
       "      <td>2018-Q3</td>\n",
       "      <td>2018-09-30</td>\n",
       "    </tr>\n",
       "    <tr>\n",
       "      <th>124</th>\n",
       "      <td>2018</td>\n",
       "      <td>3</td>\n",
       "      <td>Equity Swap</td>\n",
       "      <td>-5.704467e+08</td>\n",
       "      <td>-28096331</td>\n",
       "      <td>AU000000WOW2</td>\n",
       "      <td>6981239</td>\n",
       "      <td>NaN</td>\n",
       "      <td>NaN</td>\n",
       "      <td>WOOLWORTHS ORD (ASX) CFD</td>\n",
       "      <td>Woolworths</td>\n",
       "      <td>NaN</td>\n",
       "      <td>-0.027922</td>\n",
       "      <td>2018-Q3</td>\n",
       "      <td>2018-09-30</td>\n",
       "    </tr>\n",
       "    <tr>\n",
       "      <th>125</th>\n",
       "      <td>2018</td>\n",
       "      <td>4</td>\n",
       "      <td>Equity</td>\n",
       "      <td>4.916598e+09</td>\n",
       "      <td>102173681</td>\n",
       "      <td>US90130A3095</td>\n",
       "      <td>BJ0M5P8</td>\n",
       "      <td>NaN</td>\n",
       "      <td>NaN</td>\n",
       "      <td>TWENTY FIRST CENTURY FOX CL A ORD (NMS) (DEAD ...</td>\n",
       "      <td>21st Century Fox</td>\n",
       "      <td>NaN</td>\n",
       "      <td>0.264040</td>\n",
       "      <td>2018-Q4</td>\n",
       "      <td>2018-12-31</td>\n",
       "    </tr>\n",
       "  </tbody>\n",
       "</table>\n",
       "</div>"
      ],
      "text/plain": [
       "     Year  Quarter End Security Type     Mkt value        Qty          ISIN  \\\n",
       "123  2018            3   Equity Swap -3.318661e+08   -1885440  DE0007664039   \n",
       "124  2018            3   Equity Swap -5.704467e+08  -28096331  AU000000WOW2   \n",
       "125  2018            4        Equity  4.916598e+09  102173681  US90130A3095   \n",
       "\n",
       "       SEDOL  Coupon  Maturity  \\\n",
       "123  5497168     NaN       NaN   \n",
       "124  6981239     NaN       NaN   \n",
       "125  BJ0M5P8     NaN       NaN   \n",
       "\n",
       "                                Instrument Description              Issuer  \\\n",
       "123                            VOLKSWAGEN PR (GER) CFD  Volkswagen (short)   \n",
       "124                           WOOLWORTHS ORD (ASX) CFD          Woolworths   \n",
       "125  TWENTY FIRST CENTURY FOX CL A ORD (NMS) (DEAD ...    21st Century Fox   \n",
       "\n",
       "    Sector  % of NAV Year Quarter Formatted Year Quarter Date  \n",
       "123    NaN -0.016244                2018-Q3        2018-09-30  \n",
       "124    NaN -0.027922                2018-Q3        2018-09-30  \n",
       "125    NaN  0.264040                2018-Q4        2018-12-31  "
      ]
     },
     "execution_count": 8,
     "metadata": {},
     "output_type": "execute_result"
    }
   ],
   "source": [
    "portfolio_df.iloc[123:126]"
   ]
  },
  {
   "cell_type": "code",
   "execution_count": 9,
   "id": "3d1bfc83-c391-47bc-85a2-52caf702031b",
   "metadata": {},
   "outputs": [
    {
     "name": "stdout",
     "output_type": "stream",
     "text": [
      "Security Type\n",
      "Equity           78\n",
      "Equity Option     2\n",
      "Equity Swap      31\n",
      "Name: ISIN, dtype: int64\n"
     ]
    }
   ],
   "source": [
    "security_type_count = portfolio_df.groupby('Security Type')['ISIN'].nunique()\n",
    "print(security_type_count)"
   ]
  },
  {
   "cell_type": "code",
   "execution_count": 10,
   "id": "3059dd01-52d4-4490-ab8f-3d9c2ed01326",
   "metadata": {},
   "outputs": [
    {
     "data": {
      "text/html": [
       "<div>\n",
       "<style scoped>\n",
       "    .dataframe tbody tr th:only-of-type {\n",
       "        vertical-align: middle;\n",
       "    }\n",
       "\n",
       "    .dataframe tbody tr th {\n",
       "        vertical-align: top;\n",
       "    }\n",
       "\n",
       "    .dataframe thead th {\n",
       "        text-align: right;\n",
       "    }\n",
       "</style>\n",
       "<table border=\"1\" class=\"dataframe\">\n",
       "  <thead>\n",
       "    <tr style=\"text-align: right;\">\n",
       "      <th></th>\n",
       "      <th>Year</th>\n",
       "      <th>Quarter End</th>\n",
       "      <th>Security Type</th>\n",
       "      <th>Mkt value</th>\n",
       "      <th>Qty</th>\n",
       "      <th>ISIN</th>\n",
       "      <th>SEDOL</th>\n",
       "      <th>Coupon</th>\n",
       "      <th>Maturity</th>\n",
       "      <th>Instrument Description</th>\n",
       "      <th>Issuer</th>\n",
       "      <th>Sector</th>\n",
       "      <th>% of NAV</th>\n",
       "      <th>Year Quarter Formatted</th>\n",
       "      <th>Year Quarter Date</th>\n",
       "    </tr>\n",
       "  </thead>\n",
       "  <tbody>\n",
       "    <tr>\n",
       "      <th>0</th>\n",
       "      <td>2018</td>\n",
       "      <td>1</td>\n",
       "      <td>Equity</td>\n",
       "      <td>2.269794e+09</td>\n",
       "      <td>61864102</td>\n",
       "      <td>US90130A1016</td>\n",
       "      <td>BBM4S68</td>\n",
       "      <td>NaN</td>\n",
       "      <td>NaN</td>\n",
       "      <td>TWENTY FIRST CENTURY FOX CL A ORD (NMS)</td>\n",
       "      <td>21st Century Fox</td>\n",
       "      <td>NaN</td>\n",
       "      <td>0.128385</td>\n",
       "      <td>2018-Q1</td>\n",
       "      <td>2018-03-31</td>\n",
       "    </tr>\n",
       "    <tr>\n",
       "      <th>1</th>\n",
       "      <td>2018</td>\n",
       "      <td>1</td>\n",
       "      <td>Equity</td>\n",
       "      <td>3.703355e+08</td>\n",
       "      <td>10182445</td>\n",
       "      <td>US90130A2006</td>\n",
       "      <td>BBM4S80</td>\n",
       "      <td>NaN</td>\n",
       "      <td>NaN</td>\n",
       "      <td>TWENTY FIRST CENTURY FOX CL B ORD (NMS)</td>\n",
       "      <td>21st Century Fox</td>\n",
       "      <td>NaN</td>\n",
       "      <td>0.020947</td>\n",
       "      <td>2018-Q1</td>\n",
       "      <td>2018-03-31</td>\n",
       "    </tr>\n",
       "    <tr>\n",
       "      <th>2</th>\n",
       "      <td>2018</td>\n",
       "      <td>1</td>\n",
       "      <td>Equity</td>\n",
       "      <td>1.330941e+09</td>\n",
       "      <td>6600000</td>\n",
       "      <td>ES0105046009</td>\n",
       "      <td>BVRZ8L1</td>\n",
       "      <td>NaN</td>\n",
       "      <td>NaN</td>\n",
       "      <td>AENA ORD (MCE) CFD</td>\n",
       "      <td>Aena</td>\n",
       "      <td>NaN</td>\n",
       "      <td>0.075281</td>\n",
       "      <td>2018-Q1</td>\n",
       "      <td>2018-03-31</td>\n",
       "    </tr>\n",
       "    <tr>\n",
       "      <th>3</th>\n",
       "      <td>2018</td>\n",
       "      <td>1</td>\n",
       "      <td>Equity</td>\n",
       "      <td>1.681670e+09</td>\n",
       "      <td>14549199</td>\n",
       "      <td>NL0000235190</td>\n",
       "      <td>4012250</td>\n",
       "      <td>NaN</td>\n",
       "      <td>NaN</td>\n",
       "      <td>AIRBUS ORD (PAR)</td>\n",
       "      <td>Airbus</td>\n",
       "      <td>NaN</td>\n",
       "      <td>0.095119</td>\n",
       "      <td>2018-Q1</td>\n",
       "      <td>2018-03-31</td>\n",
       "    </tr>\n",
       "    <tr>\n",
       "      <th>4</th>\n",
       "      <td>2018</td>\n",
       "      <td>1</td>\n",
       "      <td>Equity</td>\n",
       "      <td>-4.483429e+09</td>\n",
       "      <td>-24427531</td>\n",
       "      <td>US01609W1027</td>\n",
       "      <td>BP41ZD1</td>\n",
       "      <td>NaN</td>\n",
       "      <td>NaN</td>\n",
       "      <td>ALIBABA GROUP HOLDING ADR REP 1 ORD (NYS)</td>\n",
       "      <td>Alibaba</td>\n",
       "      <td>NaN</td>\n",
       "      <td>-0.253593</td>\n",
       "      <td>2018-Q1</td>\n",
       "      <td>2018-03-31</td>\n",
       "    </tr>\n",
       "  </tbody>\n",
       "</table>\n",
       "</div>"
      ],
      "text/plain": [
       "   Year  Quarter End Security Type     Mkt value       Qty          ISIN  \\\n",
       "0  2018            1        Equity  2.269794e+09  61864102  US90130A1016   \n",
       "1  2018            1        Equity  3.703355e+08  10182445  US90130A2006   \n",
       "2  2018            1        Equity  1.330941e+09   6600000  ES0105046009   \n",
       "3  2018            1        Equity  1.681670e+09  14549199  NL0000235190   \n",
       "4  2018            1        Equity -4.483429e+09 -24427531  US01609W1027   \n",
       "\n",
       "     SEDOL  Coupon  Maturity                     Instrument Description  \\\n",
       "0  BBM4S68     NaN       NaN    TWENTY FIRST CENTURY FOX CL A ORD (NMS)   \n",
       "1  BBM4S80     NaN       NaN    TWENTY FIRST CENTURY FOX CL B ORD (NMS)   \n",
       "2  BVRZ8L1     NaN       NaN                         AENA ORD (MCE) CFD   \n",
       "3  4012250     NaN       NaN                           AIRBUS ORD (PAR)   \n",
       "4  BP41ZD1     NaN       NaN  ALIBABA GROUP HOLDING ADR REP 1 ORD (NYS)   \n",
       "\n",
       "             Issuer Sector  % of NAV Year Quarter Formatted Year Quarter Date  \n",
       "0  21st Century Fox    NaN  0.128385                2018-Q1        2018-03-31  \n",
       "1  21st Century Fox    NaN  0.020947                2018-Q1        2018-03-31  \n",
       "2              Aena    NaN  0.075281                2018-Q1        2018-03-31  \n",
       "3            Airbus    NaN  0.095119                2018-Q1        2018-03-31  \n",
       "4           Alibaba    NaN -0.253593                2018-Q1        2018-03-31  "
      ]
     },
     "execution_count": 10,
     "metadata": {},
     "output_type": "execute_result"
    }
   ],
   "source": [
    "portfolio_equity_df = portfolio_df[portfolio_df['Security Type']=='Equity']\n",
    "portfolio_equity_df.head()"
   ]
  },
  {
   "cell_type": "code",
   "execution_count": 11,
   "id": "b1a5c904-1a1d-48dc-b61f-f5a92231798c",
   "metadata": {},
   "outputs": [
    {
     "name": "stdout",
     "output_type": "stream",
     "text": [
      "(835, 15)\n"
     ]
    }
   ],
   "source": [
    "print(portfolio_equity_df.shape)"
   ]
  },
  {
   "cell_type": "code",
   "execution_count": 12,
   "id": "3b417a05-b949-42fb-88d7-625a0fc5cf43",
   "metadata": {},
   "outputs": [
    {
     "data": {
      "text/html": [
       "<div>\n",
       "<style scoped>\n",
       "    .dataframe tbody tr th:only-of-type {\n",
       "        vertical-align: middle;\n",
       "    }\n",
       "\n",
       "    .dataframe tbody tr th {\n",
       "        vertical-align: top;\n",
       "    }\n",
       "\n",
       "    .dataframe thead th {\n",
       "        text-align: right;\n",
       "    }\n",
       "</style>\n",
       "<table border=\"1\" class=\"dataframe\">\n",
       "  <thead>\n",
       "    <tr style=\"text-align: right;\">\n",
       "      <th></th>\n",
       "      <th>Year</th>\n",
       "      <th>Quarter End</th>\n",
       "      <th>Security Type</th>\n",
       "      <th>Mkt value</th>\n",
       "      <th>Qty</th>\n",
       "      <th>ISIN</th>\n",
       "      <th>SEDOL</th>\n",
       "      <th>Coupon</th>\n",
       "      <th>Maturity</th>\n",
       "      <th>Instrument Description</th>\n",
       "      <th>Issuer</th>\n",
       "      <th>Sector</th>\n",
       "      <th>% of NAV</th>\n",
       "      <th>Year Quarter Formatted</th>\n",
       "      <th>Year Quarter Date</th>\n",
       "    </tr>\n",
       "  </thead>\n",
       "  <tbody>\n",
       "    <tr>\n",
       "      <th>33</th>\n",
       "      <td>2018</td>\n",
       "      <td>1</td>\n",
       "      <td>Equity Swap</td>\n",
       "      <td>1.091186e+09</td>\n",
       "      <td>5411079</td>\n",
       "      <td>ES0105046009</td>\n",
       "      <td>BVRZ8L1</td>\n",
       "      <td>NaN</td>\n",
       "      <td>NaN</td>\n",
       "      <td>AENA ORD (MCE) CFD</td>\n",
       "      <td>Aena</td>\n",
       "      <td>NaN</td>\n",
       "      <td>0.061720</td>\n",
       "      <td>2018-Q1</td>\n",
       "      <td>2018-03-31</td>\n",
       "    </tr>\n",
       "    <tr>\n",
       "      <th>34</th>\n",
       "      <td>2018</td>\n",
       "      <td>1</td>\n",
       "      <td>Equity Swap</td>\n",
       "      <td>1.262365e+09</td>\n",
       "      <td>40733147</td>\n",
       "      <td>IT0003506190</td>\n",
       "      <td>7667163</td>\n",
       "      <td>NaN</td>\n",
       "      <td>NaN</td>\n",
       "      <td>ATLANTIA ORD (MIL) CFD</td>\n",
       "      <td>Atlantia</td>\n",
       "      <td>NaN</td>\n",
       "      <td>0.071402</td>\n",
       "      <td>2018-Q1</td>\n",
       "      <td>2018-03-31</td>\n",
       "    </tr>\n",
       "    <tr>\n",
       "      <th>35</th>\n",
       "      <td>2018</td>\n",
       "      <td>1</td>\n",
       "      <td>Equity Swap</td>\n",
       "      <td>1.632502e+09</td>\n",
       "      <td>502453067</td>\n",
       "      <td>AU000000AZJ1</td>\n",
       "      <td>B87CVM3</td>\n",
       "      <td>NaN</td>\n",
       "      <td>NaN</td>\n",
       "      <td>AURIZON ORD (ASX) CFD</td>\n",
       "      <td>Aurizon</td>\n",
       "      <td>NaN</td>\n",
       "      <td>0.092338</td>\n",
       "      <td>2018-Q1</td>\n",
       "      <td>2018-03-31</td>\n",
       "    </tr>\n",
       "    <tr>\n",
       "      <th>36</th>\n",
       "      <td>2018</td>\n",
       "      <td>1</td>\n",
       "      <td>Equity Swap</td>\n",
       "      <td>2.395772e+08</td>\n",
       "      <td>50115599</td>\n",
       "      <td>BRCESPACNPB4</td>\n",
       "      <td>B17MHG0</td>\n",
       "      <td>NaN</td>\n",
       "      <td>NaN</td>\n",
       "      <td>CIA ENERGETICA DE SAO PAULO B PRF (SAO) CFD</td>\n",
       "      <td>CESP</td>\n",
       "      <td>NaN</td>\n",
       "      <td>0.013551</td>\n",
       "      <td>2018-Q1</td>\n",
       "      <td>2018-03-31</td>\n",
       "    </tr>\n",
       "    <tr>\n",
       "      <th>37</th>\n",
       "      <td>2018</td>\n",
       "      <td>1</td>\n",
       "      <td>Equity Swap</td>\n",
       "      <td>3.062096e+07</td>\n",
       "      <td>2142210</td>\n",
       "      <td>FR0010533075</td>\n",
       "      <td>B292JQ9</td>\n",
       "      <td>NaN</td>\n",
       "      <td>NaN</td>\n",
       "      <td>GETLINK ORD (PAR) CFD</td>\n",
       "      <td>Eurotunnel</td>\n",
       "      <td>NaN</td>\n",
       "      <td>0.001732</td>\n",
       "      <td>2018-Q1</td>\n",
       "      <td>2018-03-31</td>\n",
       "    </tr>\n",
       "  </tbody>\n",
       "</table>\n",
       "</div>"
      ],
      "text/plain": [
       "    Year  Quarter End Security Type     Mkt value        Qty          ISIN  \\\n",
       "33  2018            1   Equity Swap  1.091186e+09    5411079  ES0105046009   \n",
       "34  2018            1   Equity Swap  1.262365e+09   40733147  IT0003506190   \n",
       "35  2018            1   Equity Swap  1.632502e+09  502453067  AU000000AZJ1   \n",
       "36  2018            1   Equity Swap  2.395772e+08   50115599  BRCESPACNPB4   \n",
       "37  2018            1   Equity Swap  3.062096e+07    2142210  FR0010533075   \n",
       "\n",
       "      SEDOL  Coupon  Maturity                       Instrument Description  \\\n",
       "33  BVRZ8L1     NaN       NaN                           AENA ORD (MCE) CFD   \n",
       "34  7667163     NaN       NaN                       ATLANTIA ORD (MIL) CFD   \n",
       "35  B87CVM3     NaN       NaN                        AURIZON ORD (ASX) CFD   \n",
       "36  B17MHG0     NaN       NaN  CIA ENERGETICA DE SAO PAULO B PRF (SAO) CFD   \n",
       "37  B292JQ9     NaN       NaN                        GETLINK ORD (PAR) CFD   \n",
       "\n",
       "        Issuer Sector  % of NAV Year Quarter Formatted Year Quarter Date  \n",
       "33        Aena    NaN  0.061720                2018-Q1        2018-03-31  \n",
       "34    Atlantia    NaN  0.071402                2018-Q1        2018-03-31  \n",
       "35     Aurizon    NaN  0.092338                2018-Q1        2018-03-31  \n",
       "36        CESP    NaN  0.013551                2018-Q1        2018-03-31  \n",
       "37  Eurotunnel    NaN  0.001732                2018-Q1        2018-03-31  "
      ]
     },
     "execution_count": 12,
     "metadata": {},
     "output_type": "execute_result"
    }
   ],
   "source": [
    "portfolio_swap_df = portfolio_df[portfolio_df['Security Type']=='Equity Swap']\n",
    "portfolio_swap_df.head()"
   ]
  },
  {
   "cell_type": "code",
   "execution_count": 13,
   "id": "c3fedcac-c2e7-4714-9195-b748e43d3857",
   "metadata": {},
   "outputs": [
    {
     "name": "stdout",
     "output_type": "stream",
     "text": [
      "(434, 15)\n"
     ]
    }
   ],
   "source": [
    "print(portfolio_swap_df.shape)"
   ]
  },
  {
   "cell_type": "markdown",
   "id": "5d42ad45-2199-483e-95c6-f1a5b44dfa16",
   "metadata": {},
   "source": [
    "# Portfolio Summary"
   ]
  },
  {
   "cell_type": "code",
   "execution_count": 14,
   "id": "342b34bd-2c59-4c2f-b65c-27300df42d27",
   "metadata": {},
   "outputs": [],
   "source": [
    "def create_stacked_bar_chart(df: pd.DataFrame, stacked_column: str):\n",
    "    \"\"\"\n",
    "    Generates a stacked bar chart showing the stacked_column for each ISIN per quarter.\n",
    "\n",
    "    Args:\n",
    "        df: A pandas DataFrame with the specified columns.\n",
    "        stacked_column: variable header whose value to be stacked\n",
    "    \"\"\"\n",
    "    # --- 1. Data Cleaning and Preparation ---\n",
    "    # Ensure the specified column is a numeric type\n",
    "    df[stacked_column] = pd.to_numeric(df[stacked_column], errors='coerce')\n",
    "\n",
    "    # Drop any rows where the stacked_column value is missing or could not be converted\n",
    "    df.dropna(subset=[stacked_column], inplace=True)\n",
    "    print(df.shape)\n",
    "\n",
    "    # --- 2. Create the stacked bar chart using Plotly Express ---\n",
    "    # The x-axis is the 'Year Quarter Formatted' column\n",
    "    # The y-axis is the value from the 'stacked_column'\n",
    "    # The 'color' parameter stacks the bars by 'ISIN'\n",
    "    fig = px.bar(\n",
    "        df,\n",
    "        x='Year Quarter Formatted',\n",
    "        y=stacked_column,\n",
    "        color='ISIN',\n",
    "        title=f'Holding Weight ({stacked_column}) of Each ISIN per Quarter',\n",
    "        labels={\n",
    "            stacked_column: f'Value of {stacked_column}',\n",
    "            'Year Quarter Formatted': 'Quarter'\n",
    "        },\n",
    "        hover_data={'ISIN': True, stacked_column: ':.2'} # Format hover tooltip\n",
    "    )\n",
    "\n",
    "    # Customize the layout for better readability\n",
    "    fig.update_layout(\n",
    "        xaxis_title='Quarter',\n",
    "        yaxis_title=f'Percentage of NAV ({stacked_column})',\n",
    "        legend_title='ISIN',\n",
    "        barmode='stack', # This ensures the bars are stacked\n",
    "        uniformtext_minsize=8, # Ensure labels are readable\n",
    "        uniformtext_mode='hide', # Hide text if it doesn't fit\n",
    "    )\n",
    "\n",
    "    fig.show()\n"
   ]
  },
  {
   "cell_type": "markdown",
   "id": "13ca9b3b-f3b9-49aa-a5ad-741688b4136c",
   "metadata": {},
   "source": [
    "### Market Value"
   ]
  },
  {
   "cell_type": "code",
   "execution_count": 15,
   "id": "d0de6702-db01-4c60-94df-d3939aae4346",
   "metadata": {},
   "outputs": [],
   "source": [
    "portfolio_pivot_mkt_value = pd.pivot_table(\n",
    "    portfolio_df,\n",
    "    values='Mkt value',\n",
    "    index=['ISIN', 'Issuer'],\n",
    "    columns='Year Quarter Formatted',\n",
    "    aggfunc='sum'\n",
    ")"
   ]
  },
  {
   "cell_type": "code",
   "execution_count": 16,
   "id": "7fef3002-81e2-4db4-aed2-ede321efa90a",
   "metadata": {},
   "outputs": [
    {
     "data": {
      "text/html": [
       "<div>\n",
       "<style scoped>\n",
       "    .dataframe tbody tr th:only-of-type {\n",
       "        vertical-align: middle;\n",
       "    }\n",
       "\n",
       "    .dataframe tbody tr th {\n",
       "        vertical-align: top;\n",
       "    }\n",
       "\n",
       "    .dataframe thead th {\n",
       "        text-align: right;\n",
       "    }\n",
       "</style>\n",
       "<table border=\"1\" class=\"dataframe\">\n",
       "  <thead>\n",
       "    <tr style=\"text-align: right;\">\n",
       "      <th></th>\n",
       "      <th>Year Quarter Formatted</th>\n",
       "      <th>2018-Q1</th>\n",
       "      <th>2018-Q2</th>\n",
       "      <th>2018-Q3</th>\n",
       "      <th>2018-Q4</th>\n",
       "      <th>2019-Q1</th>\n",
       "      <th>2019-Q2</th>\n",
       "      <th>2019-Q3</th>\n",
       "      <th>2019-Q4</th>\n",
       "      <th>2020-Q1</th>\n",
       "      <th>2020-Q2</th>\n",
       "      <th>...</th>\n",
       "      <th>2022-Q4</th>\n",
       "      <th>2023-Q1</th>\n",
       "      <th>2023-Q2</th>\n",
       "      <th>2023-Q3</th>\n",
       "      <th>2023-Q4</th>\n",
       "      <th>2024-Q1</th>\n",
       "      <th>2024-Q2</th>\n",
       "      <th>2024-Q3</th>\n",
       "      <th>2024-Q4</th>\n",
       "      <th>2025-Q1</th>\n",
       "    </tr>\n",
       "    <tr>\n",
       "      <th>ISIN</th>\n",
       "      <th>Issuer</th>\n",
       "      <th></th>\n",
       "      <th></th>\n",
       "      <th></th>\n",
       "      <th></th>\n",
       "      <th></th>\n",
       "      <th></th>\n",
       "      <th></th>\n",
       "      <th></th>\n",
       "      <th></th>\n",
       "      <th></th>\n",
       "      <th></th>\n",
       "      <th></th>\n",
       "      <th></th>\n",
       "      <th></th>\n",
       "      <th></th>\n",
       "      <th></th>\n",
       "      <th></th>\n",
       "      <th></th>\n",
       "      <th></th>\n",
       "      <th></th>\n",
       "      <th></th>\n",
       "    </tr>\n",
       "  </thead>\n",
       "  <tbody>\n",
       "    <tr>\n",
       "      <th>AU000000AZJ1</th>\n",
       "      <th>Aurizon</th>\n",
       "      <td>1.632502e+09</td>\n",
       "      <td>1.420560e+09</td>\n",
       "      <td>5.336968e+08</td>\n",
       "      <td>NaN</td>\n",
       "      <td>NaN</td>\n",
       "      <td>NaN</td>\n",
       "      <td>NaN</td>\n",
       "      <td>NaN</td>\n",
       "      <td>NaN</td>\n",
       "      <td>NaN</td>\n",
       "      <td>...</td>\n",
       "      <td>NaN</td>\n",
       "      <td>NaN</td>\n",
       "      <td>NaN</td>\n",
       "      <td>NaN</td>\n",
       "      <td>NaN</td>\n",
       "      <td>NaN</td>\n",
       "      <td>NaN</td>\n",
       "      <td>NaN</td>\n",
       "      <td>NaN</td>\n",
       "      <td>NaN</td>\n",
       "    </tr>\n",
       "    <tr>\n",
       "      <th rowspan=\"2\" valign=\"top\">AU000000IFN8</th>\n",
       "      <th>Infigen</th>\n",
       "      <td>NaN</td>\n",
       "      <td>NaN</td>\n",
       "      <td>NaN</td>\n",
       "      <td>NaN</td>\n",
       "      <td>NaN</td>\n",
       "      <td>4.660510e+07</td>\n",
       "      <td>6.516443e+07</td>\n",
       "      <td>6.477188e+07</td>\n",
       "      <td>3.785504e+07</td>\n",
       "      <td>9.415558e+07</td>\n",
       "      <td>...</td>\n",
       "      <td>NaN</td>\n",
       "      <td>NaN</td>\n",
       "      <td>NaN</td>\n",
       "      <td>NaN</td>\n",
       "      <td>NaN</td>\n",
       "      <td>NaN</td>\n",
       "      <td>NaN</td>\n",
       "      <td>NaN</td>\n",
       "      <td>NaN</td>\n",
       "      <td>NaN</td>\n",
       "    </tr>\n",
       "    <tr>\n",
       "      <th>Infigen Energy</th>\n",
       "      <td>6.281136e+07</td>\n",
       "      <td>6.831314e+07</td>\n",
       "      <td>5.963276e+07</td>\n",
       "      <td>4.583519e+07</td>\n",
       "      <td>4.364771e+07</td>\n",
       "      <td>NaN</td>\n",
       "      <td>NaN</td>\n",
       "      <td>NaN</td>\n",
       "      <td>NaN</td>\n",
       "      <td>NaN</td>\n",
       "      <td>...</td>\n",
       "      <td>NaN</td>\n",
       "      <td>NaN</td>\n",
       "      <td>NaN</td>\n",
       "      <td>NaN</td>\n",
       "      <td>NaN</td>\n",
       "      <td>NaN</td>\n",
       "      <td>NaN</td>\n",
       "      <td>NaN</td>\n",
       "      <td>NaN</td>\n",
       "      <td>NaN</td>\n",
       "    </tr>\n",
       "    <tr>\n",
       "      <th>AU000000WOW2</th>\n",
       "      <th>Woolworths</th>\n",
       "      <td>-6.329407e+08</td>\n",
       "      <td>-7.083289e+08</td>\n",
       "      <td>-5.704467e+08</td>\n",
       "      <td>-3.741958e+08</td>\n",
       "      <td>-2.127914e+08</td>\n",
       "      <td>-2.100291e+08</td>\n",
       "      <td>-2.265967e+08</td>\n",
       "      <td>-2.285481e+08</td>\n",
       "      <td>-1.939870e+08</td>\n",
       "      <td>-8.760004e+07</td>\n",
       "      <td>...</td>\n",
       "      <td>NaN</td>\n",
       "      <td>NaN</td>\n",
       "      <td>NaN</td>\n",
       "      <td>NaN</td>\n",
       "      <td>NaN</td>\n",
       "      <td>NaN</td>\n",
       "      <td>NaN</td>\n",
       "      <td>NaN</td>\n",
       "      <td>NaN</td>\n",
       "      <td>NaN</td>\n",
       "    </tr>\n",
       "    <tr>\n",
       "      <th>BMG475671050</th>\n",
       "      <th>IHS Markit Ltd</th>\n",
       "      <td>NaN</td>\n",
       "      <td>NaN</td>\n",
       "      <td>NaN</td>\n",
       "      <td>NaN</td>\n",
       "      <td>NaN</td>\n",
       "      <td>NaN</td>\n",
       "      <td>NaN</td>\n",
       "      <td>NaN</td>\n",
       "      <td>NaN</td>\n",
       "      <td>NaN</td>\n",
       "      <td>...</td>\n",
       "      <td>NaN</td>\n",
       "      <td>NaN</td>\n",
       "      <td>NaN</td>\n",
       "      <td>NaN</td>\n",
       "      <td>NaN</td>\n",
       "      <td>NaN</td>\n",
       "      <td>NaN</td>\n",
       "      <td>NaN</td>\n",
       "      <td>NaN</td>\n",
       "      <td>NaN</td>\n",
       "    </tr>\n",
       "  </tbody>\n",
       "</table>\n",
       "<p>5 rows × 29 columns</p>\n",
       "</div>"
      ],
      "text/plain": [
       "Year Quarter Formatted            2018-Q1       2018-Q2       2018-Q3  \\\n",
       "ISIN         Issuer                                                     \n",
       "AU000000AZJ1 Aurizon         1.632502e+09  1.420560e+09  5.336968e+08   \n",
       "AU000000IFN8 Infigen                  NaN           NaN           NaN   \n",
       "             Infigen Energy  6.281136e+07  6.831314e+07  5.963276e+07   \n",
       "AU000000WOW2 Woolworths     -6.329407e+08 -7.083289e+08 -5.704467e+08   \n",
       "BMG475671050 IHS Markit Ltd           NaN           NaN           NaN   \n",
       "\n",
       "Year Quarter Formatted            2018-Q4       2019-Q1       2019-Q2  \\\n",
       "ISIN         Issuer                                                     \n",
       "AU000000AZJ1 Aurizon                  NaN           NaN           NaN   \n",
       "AU000000IFN8 Infigen                  NaN           NaN  4.660510e+07   \n",
       "             Infigen Energy  4.583519e+07  4.364771e+07           NaN   \n",
       "AU000000WOW2 Woolworths     -3.741958e+08 -2.127914e+08 -2.100291e+08   \n",
       "BMG475671050 IHS Markit Ltd           NaN           NaN           NaN   \n",
       "\n",
       "Year Quarter Formatted            2019-Q3       2019-Q4       2020-Q1  \\\n",
       "ISIN         Issuer                                                     \n",
       "AU000000AZJ1 Aurizon                  NaN           NaN           NaN   \n",
       "AU000000IFN8 Infigen         6.516443e+07  6.477188e+07  3.785504e+07   \n",
       "             Infigen Energy           NaN           NaN           NaN   \n",
       "AU000000WOW2 Woolworths     -2.265967e+08 -2.285481e+08 -1.939870e+08   \n",
       "BMG475671050 IHS Markit Ltd           NaN           NaN           NaN   \n",
       "\n",
       "Year Quarter Formatted            2020-Q2  ...  2022-Q4  2023-Q1  2023-Q2  \\\n",
       "ISIN         Issuer                        ...                              \n",
       "AU000000AZJ1 Aurizon                  NaN  ...      NaN      NaN      NaN   \n",
       "AU000000IFN8 Infigen         9.415558e+07  ...      NaN      NaN      NaN   \n",
       "             Infigen Energy           NaN  ...      NaN      NaN      NaN   \n",
       "AU000000WOW2 Woolworths     -8.760004e+07  ...      NaN      NaN      NaN   \n",
       "BMG475671050 IHS Markit Ltd           NaN  ...      NaN      NaN      NaN   \n",
       "\n",
       "Year Quarter Formatted       2023-Q3  2023-Q4  2024-Q1  2024-Q2  2024-Q3  \\\n",
       "ISIN         Issuer                                                        \n",
       "AU000000AZJ1 Aurizon             NaN      NaN      NaN      NaN      NaN   \n",
       "AU000000IFN8 Infigen             NaN      NaN      NaN      NaN      NaN   \n",
       "             Infigen Energy      NaN      NaN      NaN      NaN      NaN   \n",
       "AU000000WOW2 Woolworths          NaN      NaN      NaN      NaN      NaN   \n",
       "BMG475671050 IHS Markit Ltd      NaN      NaN      NaN      NaN      NaN   \n",
       "\n",
       "Year Quarter Formatted       2024-Q4  2025-Q1  \n",
       "ISIN         Issuer                            \n",
       "AU000000AZJ1 Aurizon             NaN      NaN  \n",
       "AU000000IFN8 Infigen             NaN      NaN  \n",
       "             Infigen Energy      NaN      NaN  \n",
       "AU000000WOW2 Woolworths          NaN      NaN  \n",
       "BMG475671050 IHS Markit Ltd      NaN      NaN  \n",
       "\n",
       "[5 rows x 29 columns]"
      ]
     },
     "execution_count": 16,
     "metadata": {},
     "output_type": "execute_result"
    }
   ],
   "source": [
    "portfolio_pivot_mkt_value.head()"
   ]
  },
  {
   "cell_type": "code",
   "execution_count": 17,
   "id": "e33c8c4a-b613-4055-bc61-cc8bb9dd7f78",
   "metadata": {},
   "outputs": [
    {
     "name": "stdout",
     "output_type": "stream",
     "text": [
      "(1271, 15)\n"
     ]
    },
    {
     "data": {
      "application/vnd.plotly.v1+json": {
       "config": {
        "plotlyServerURL": "https://plot.ly"
       },
       "data": [
        {
         "customdata": [
          [
           "US90130A1016"
          ],
          [
           "US90130A1016"
          ],
          [
           "US90130A1016"
          ]
         ],
         "hovertemplate": "ISIN=%{customdata[0]}<br>Quarter=%{x}<br>Value of Mkt value=%{y:.2}<extra></extra>",
         "legendgroup": "US90130A1016",
         "marker": {
          "color": "#636efa",
          "pattern": {
           "shape": ""
          }
         },
         "name": "US90130A1016",
         "orientation": "v",
         "showlegend": true,
         "textposition": "auto",
         "type": "bar",
         "x": [
          "2018-Q1",
          "2018-Q2",
          "2018-Q3"
         ],
         "xaxis": "x",
         "y": {
          "bdata": "9ijMzUnp4EFxPQ5y0OnyQRSuCxlqovFB",
          "dtype": "f8"
         },
         "yaxis": "y"
        },
        {
         "customdata": [
          [
           "US90130A2006"
          ],
          [
           "US90130A2006"
          ],
          [
           "US90130A2006"
          ]
         ],
         "hovertemplate": "ISIN=%{customdata[0]}<br>Quarter=%{x}<br>Value of Mkt value=%{y:.2}<extra></extra>",
         "legendgroup": "US90130A2006",
         "marker": {
          "color": "#EF553B",
          "pattern": {
           "shape": ""
          }
         },
         "name": "US90130A2006",
         "orientation": "v",
         "showlegend": true,
         "textposition": "auto",
         "type": "bar",
         "x": [
          "2018-Q1",
          "2018-Q2",
          "2018-Q3"
         ],
         "xaxis": "x",
         "y": {
          "bdata": "ZmamJN8StkFcj6LWysDNQcP16GJyq8tB",
          "dtype": "f8"
         },
         "yaxis": "y"
        },
        {
         "customdata": [
          [
           "ES0105046009"
          ],
          [
           "ES0105046009"
          ],
          [
           "ES0105046009"
          ],
          [
           "ES0105046009"
          ],
          [
           "ES0105046009"
          ],
          [
           "ES0105046009"
          ],
          [
           "ES0105046009"
          ],
          [
           "ES0105046009"
          ],
          [
           "ES0105046009"
          ],
          [
           "ES0105046009"
          ],
          [
           "ES0105046009"
          ],
          [
           "ES0105046009"
          ],
          [
           "ES0105046009"
          ],
          [
           "ES0105046009"
          ],
          [
           "ES0105046009"
          ],
          [
           "ES0105046009"
          ],
          [
           "ES0105046009"
          ],
          [
           "ES0105046009"
          ],
          [
           "ES0105046009"
          ],
          [
           "ES0105046009"
          ],
          [
           "ES0105046009"
          ],
          [
           "ES0105046009"
          ],
          [
           "ES0105046009"
          ],
          [
           "ES0105046009"
          ],
          [
           "ES0105046009"
          ],
          [
           "ES0105046009"
          ],
          [
           "ES0105046009"
          ],
          [
           "ES0105046009"
          ],
          [
           "ES0105046009"
          ],
          [
           "ES0105046009"
          ],
          [
           "ES0105046009"
          ],
          [
           "ES0105046009"
          ],
          [
           "ES0105046009"
          ],
          [
           "ES0105046009"
          ],
          [
           "ES0105046009"
          ],
          [
           "ES0105046009"
          ],
          [
           "ES0105046009"
          ],
          [
           "ES0105046009"
          ],
          [
           "ES0105046009"
          ],
          [
           "ES0105046009"
          ],
          [
           "ES0105046009"
          ],
          [
           "ES0105046009"
          ],
          [
           "ES0105046009"
          ],
          [
           "ES0105046009"
          ],
          [
           "ES0105046009"
          ],
          [
           "ES0105046009"
          ],
          [
           "ES0105046009"
          ],
          [
           "ES0105046009"
          ],
          [
           "ES0105046009"
          ],
          [
           "ES0105046009"
          ],
          [
           "ES0105046009"
          ],
          [
           "ES0105046009"
          ],
          [
           "ES0105046009"
          ],
          [
           "ES0105046009"
          ],
          [
           "ES0105046009"
          ],
          [
           "ES0105046009"
          ],
          [
           "ES0105046009"
          ],
          [
           "ES0105046009"
          ],
          [
           "ES0105046009"
          ],
          [
           "ES0105046009"
          ],
          [
           "ES0105046009"
          ],
          [
           "ES0105046009"
          ],
          [
           "ES0105046009"
          ],
          [
           "ES0105046009"
          ],
          [
           "ES0105046009"
          ],
          [
           "ES0105046009"
          ],
          [
           "ES0105046009"
          ],
          [
           "ES0105046009"
          ],
          [
           "ES0105046009"
          ],
          [
           "ES0105046009"
          ],
          [
           "ES0105046009"
          ],
          [
           "ES0105046009"
          ],
          [
           "ES0105046009"
          ]
         ],
         "hovertemplate": "ISIN=%{customdata[0]}<br>Quarter=%{x}<br>Value of Mkt value=%{y:.2}<extra></extra>",
         "legendgroup": "ES0105046009",
         "marker": {
          "color": "#00cc96",
          "pattern": {
           "shape": ""
          }
         },
         "name": "ES0105046009",
         "orientation": "v",
         "showlegend": true,
         "textposition": "auto",
         "type": "bar",
         "x": [
          "2018-Q1",
          "2018-Q1",
          "2018-Q2",
          "2018-Q2",
          "2018-Q3",
          "2018-Q3",
          "2018-Q4",
          "2018-Q4",
          "2019-Q1",
          "2019-Q1",
          "2019-Q2",
          "2019-Q2",
          "2019-Q3",
          "2019-Q3",
          "2019-Q3",
          "2019-Q4",
          "2019-Q4",
          "2019-Q4",
          "2020-Q1",
          "2020-Q1",
          "2020-Q1",
          "2020-Q2",
          "2020-Q2",
          "2020-Q2",
          "2020-Q3",
          "2020-Q3",
          "2020-Q3",
          "2020-Q4",
          "2020-Q4",
          "2020-Q4",
          "2021-Q1",
          "2021-Q1",
          "2021-Q1",
          "2021-Q2",
          "2021-Q2",
          "2021-Q3",
          "2021-Q3",
          "2021-Q3",
          "2021-Q4",
          "2021-Q4",
          "2021-Q4",
          "2022-Q1",
          "2022-Q1",
          "2022-Q2",
          "2022-Q2",
          "2022-Q2",
          "2022-Q3",
          "2022-Q3",
          "2022-Q3",
          "2022-Q4",
          "2022-Q4",
          "2022-Q4",
          "2023-Q1",
          "2023-Q1",
          "2023-Q1",
          "2023-Q2",
          "2023-Q2",
          "2023-Q2",
          "2023-Q3",
          "2023-Q3",
          "2023-Q3",
          "2023-Q4",
          "2023-Q4",
          "2024-Q1",
          "2024-Q1",
          "2024-Q2",
          "2024-Q2",
          "2024-Q2",
          "2024-Q2",
          "2024-Q3",
          "2024-Q3",
          "2024-Q4",
          "2024-Q4"
         ],
         "xaxis": "x",
         "y": {
          "bdata": "AACg+SLV00GR/lIli0LQQQAAAFR97cNBkxjYbT1NzUEAAACCYAnDQdQrJ6LS/ctBAAAARcwTwUFX7BTMTBzJQQAAACZPv8NBjgbWElYJzUEAAABIHLzFQfXbH4d69c9BAAAAAE8VxEGkcD0Jb5DIQQAAAMBs3aNBAAAAkCv3xEEAAADU1LykQTY8TXuwpMlBpHA9ChwWuEEnF2M143W9QbgehSsW05dBAAAAhMc+vUEAAAC9Zu2cQYLiKbWc4sFBZmZmPt6rvkF4RZy94sHCQTMzM5GFVp5B3jwxlp4mwkGamZniVtiiQTNts/6VTcdB7Z4sjk/zv0EAAADCLJmhQTSA33PrwsVB1SZOl8Grv0FGmQFJuXHKQVDf8kCFscBBmpkZXbDAokFoy/82VzDHQWWlSZk6fL5BMzMzo3cfoUHmIn7MayzFQfdYelQ8JMBBvQCjCAXvykHByuHJzYy4QQAAgPgTlJtB46WdzNjuv0EDfSI6Qzy0QZqZma9Iu5ZBmwPcbCJSukFtHDFxpz+4QTMzM0hpPZtBp7Mn436Kv0EsZZlM4+W9QYbJ6iFqR8RBAACAzXuDoUF4nKL/Cei9Qftc/affSMRBAAAAZL6EoUHBkNXph+y7QX2W9zKl8MJBzczM0HRboEEX2Y5gdcXAQSPbEw3FqctBHAjJG6g5wkEsfaB6rw/OQS0hH+yapsJBAAAAIGZVjEFZF/fXnofHQQAAABC52aVBSG3iXuhexEEcCGGn0czQQSAkiw/97sJB9aEPtMc6z0E=",
          "dtype": "f8"
         },
         "yaxis": "y"
        },
        {
         "customdata": [
          [
           "NL0000235190"
          ],
          [
           "NL0000235190"
          ],
          [
           "NL0000235190"
          ],
          [
           "NL0000235190"
          ],
          [
           "NL0000235190"
          ],
          [
           "NL0000235190"
          ],
          [
           "NL0000235190"
          ],
          [
           "NL0000235190"
          ],
          [
           "NL0000235190"
          ],
          [
           "NL0000235190"
          ],
          [
           "NL0000235190"
          ],
          [
           "NL0000235190"
          ],
          [
           "NL0000235190"
          ],
          [
           "NL0000235190"
          ],
          [
           "NL0000235190"
          ],
          [
           "NL0000235190"
          ],
          [
           "NL0000235190"
          ],
          [
           "NL0000235190"
          ],
          [
           "NL0000235190"
          ],
          [
           "NL0000235190"
          ],
          [
           "NL0000235190"
          ],
          [
           "NL0000235190"
          ],
          [
           "NL0000235190"
          ],
          [
           "NL0000235190"
          ],
          [
           "NL0000235190"
          ],
          [
           "NL0000235190"
          ],
          [
           "NL0000235190"
          ],
          [
           "NL0000235190"
          ],
          [
           "NL0000235190"
          ],
          [
           "NL0000235190"
          ],
          [
           "NL0000235190"
          ],
          [
           "NL0000235190"
          ],
          [
           "NL0000235190"
          ],
          [
           "NL0000235190"
          ],
          [
           "NL0000235190"
          ],
          [
           "NL0000235190"
          ],
          [
           "NL0000235190"
          ],
          [
           "NL0000235190"
          ],
          [
           "NL0000235190"
          ],
          [
           "NL0000235190"
          ]
         ],
         "hovertemplate": "ISIN=%{customdata[0]}<br>Quarter=%{x}<br>Value of Mkt value=%{y:.2}<extra></extra>",
         "legendgroup": "NL0000235190",
         "marker": {
          "color": "#ab63fa",
          "pattern": {
           "shape": ""
          }
         },
         "name": "NL0000235190",
         "orientation": "v",
         "showlegend": true,
         "textposition": "auto",
         "type": "bar",
         "x": [
          "2018-Q1",
          "2018-Q2",
          "2018-Q3",
          "2018-Q4",
          "2019-Q1",
          "2019-Q2",
          "2019-Q3",
          "2019-Q4",
          "2020-Q1",
          "2020-Q2",
          "2020-Q3",
          "2020-Q4",
          "2021-Q1",
          "2021-Q4",
          "2022-Q1",
          "2022-Q2",
          "2022-Q3",
          "2022-Q3",
          "2022-Q4",
          "2022-Q4",
          "2022-Q4",
          "2023-Q1",
          "2023-Q1",
          "2023-Q2",
          "2023-Q2",
          "2023-Q3",
          "2023-Q3",
          "2023-Q4",
          "2023-Q4",
          "2024-Q1",
          "2024-Q1",
          "2024-Q2",
          "2024-Q2",
          "2024-Q2",
          "2024-Q3",
          "2024-Q3",
          "2024-Q4",
          "2024-Q4",
          "2025-Q1",
          "2025-Q1"
         ],
         "xaxis": "x",
         "y": {
          "bdata": "Lv93wQ8P2UGMFdMDIWbZQSjuGyIIO9tBhgAyOQJ71UFfB9IKU8LZQU0VdPxuXNRBcT2KfT4R1kELQU6d19jYQdehUgNa2sZBK9mhZyph0EGiKql7B7rVQUQYnIQB2dlBYtbXYDr/0EHuB/zrMK+9QQ+6RFX+rc5Bgez58DQa4EE9Ctekh3ySQVZ/W5vZLOZBH4XrQgM3mUEHZOqTz+HuQdmve47SOYpBTRUiwOHP8UGrIXEi6q+MQWQeAn/jPvNBidCIRv/+jkFkBqzWbeTxQedWCMQB0YxBdj5mKyuP9EGOdRHcS46QQRiyWgRRgvhBhJ84CGzDk0EAAABsfJK4Qb/xs0VVwPBBelbSnQZ+jUG2rXg3D3HzQXy3uYG0Wo9BgwY38sp59UEoZIfCZzSRQdGuB3ThlfdBuvME9hTlkkE=",
          "dtype": "f8"
         },
         "yaxis": "y"
        },
        {
         "customdata": [
          [
           "US01609W1027"
          ],
          [
           "US01609W1027"
          ]
         ],
         "hovertemplate": "ISIN=%{customdata[0]}<br>Quarter=%{x}<br>Value of Mkt value=%{y:.2}<extra></extra>",
         "legendgroup": "US01609W1027",
         "marker": {
          "color": "#FFA15A",
          "pattern": {
           "shape": ""
          }
         },
         "name": "US01609W1027",
         "orientation": "v",
         "showlegend": true,
         "textposition": "auto",
         "type": "bar",
         "x": [
          "2018-Q1",
          "2018-Q2"
         ],
         "xaxis": "x",
         "y": {
          "bdata": "Ctf7Kruz8MEK18vu3IXqwQ==",
          "dtype": "f8"
         },
         "yaxis": "y"
        },
        {
         "customdata": [
          [
           "US02079K3059"
          ],
          [
           "US02079K3059"
          ],
          [
           "US02079K3059"
          ],
          [
           "US02079K3059"
          ],
          [
           "US02079K3059"
          ],
          [
           "US02079K3059"
          ],
          [
           "US02079K3059"
          ],
          [
           "US02079K3059"
          ],
          [
           "US02079K3059"
          ],
          [
           "US02079K3059"
          ],
          [
           "US02079K3059"
          ],
          [
           "US02079K3059"
          ],
          [
           "US02079K3059"
          ],
          [
           "US02079K3059"
          ],
          [
           "US02079K3059"
          ],
          [
           "US02079K3059"
          ],
          [
           "US02079K3059"
          ],
          [
           "US02079K3059"
          ],
          [
           "US02079K3059"
          ],
          [
           "US02079K3059"
          ],
          [
           "US02079K3059"
          ],
          [
           "US02079K3059"
          ],
          [
           "US02079K3059"
          ],
          [
           "US02079K3059"
          ],
          [
           "US02079K3059"
          ],
          [
           "US02079K3059"
          ],
          [
           "US02079K3059"
          ],
          [
           "US02079K3059"
          ],
          [
           "US02079K3059"
          ],
          [
           "US02079K3059"
          ],
          [
           "US02079K3059"
          ],
          [
           "US02079K3059"
          ],
          [
           "US02079K3059"
          ],
          [
           "US02079K3059"
          ],
          [
           "US02079K3059"
          ],
          [
           "US02079K3059"
          ],
          [
           "US02079K3059"
          ],
          [
           "US02079K3059"
          ],
          [
           "US02079K3059"
          ],
          [
           "US02079K3059"
          ],
          [
           "US02079K3059"
          ],
          [
           "US02079K3059"
          ],
          [
           "US02079K3059"
          ],
          [
           "US02079K3059"
          ],
          [
           "US02079K3059"
          ]
         ],
         "hovertemplate": "ISIN=%{customdata[0]}<br>Quarter=%{x}<br>Value of Mkt value=%{y:.2}<extra></extra>",
         "legendgroup": "US02079K3059",
         "marker": {
          "color": "#19d3f3",
          "pattern": {
           "shape": ""
          }
         },
         "name": "US02079K3059",
         "orientation": "v",
         "showlegend": true,
         "textposition": "auto",
         "type": "bar",
         "x": [
          "2018-Q1",
          "2018-Q2",
          "2018-Q3",
          "2018-Q4",
          "2019-Q1",
          "2019-Q2",
          "2019-Q3",
          "2019-Q3",
          "2019-Q4",
          "2019-Q4",
          "2020-Q1",
          "2020-Q1",
          "2020-Q2",
          "2020-Q2",
          "2020-Q3",
          "2020-Q3",
          "2020-Q4",
          "2020-Q4",
          "2020-Q4",
          "2021-Q1",
          "2021-Q1",
          "2021-Q1",
          "2021-Q2",
          "2021-Q3",
          "2021-Q3",
          "2021-Q3",
          "2021-Q4",
          "2021-Q4",
          "2021-Q4",
          "2022-Q1",
          "2022-Q2",
          "2022-Q2",
          "2022-Q2",
          "2022-Q3",
          "2022-Q3",
          "2022-Q3",
          "2022-Q4",
          "2022-Q4",
          "2022-Q4",
          "2023-Q4",
          "2024-Q1",
          "2024-Q2",
          "2024-Q3",
          "2024-Q4",
          "2025-Q1"
         ],
         "xaxis": "x",
         "y": {
          "bdata": "7FG4DFlTtkFSuB4mm064QT0K1z/V+7lB4XoUvq6buUF7FC7IC3SrQc3MzNZztb5BSOH6GnePtkFxPYonEPGwQUjhOpq8vrhBcT3KuwuVskFmZiaohXe1QTMz80PXHrBBzcwMMGuss0Gamdm7wzK6QTMzM9OnE7tBmpmZuUxVtEFI4XqczFW/QQAAAADotnBBcT0K/8NQuEGF69GXDnDCQQAAAABzq3NB7FG46VmdvEF7FE7uP7/TQYXrURdT5sdB9ihcerSLwkEAAAAAJn95QQrXoxHZ5clBAAAAANqge0HsUbgzoxjEQTMz08XKoNRBw/XoNS45zUH2KNyQ+Du+QQAAAIB1yHRBAACANIdby0EAAADxToq6QQAAAABpPnJBmpmZTD57uEEAAAAAG9RwQZqZGac7PMlBAAAAYPj3dEFcj0IHAcilQQAA4N4gXNBBAABAfrHKzUEAAEDKhgDRQTMzM+Gm08JB",
          "dtype": "f8"
         },
         "yaxis": "y"
        },
        {
         "customdata": [
          [
           "US02079K1079"
          ],
          [
           "US02079K1079"
          ],
          [
           "US02079K1079"
          ],
          [
           "US02079K1079"
          ],
          [
           "US02079K1079"
          ],
          [
           "US02079K1079"
          ],
          [
           "US02079K1079"
          ],
          [
           "US02079K1079"
          ],
          [
           "US02079K1079"
          ],
          [
           "US02079K1079"
          ],
          [
           "US02079K1079"
          ],
          [
           "US02079K1079"
          ],
          [
           "US02079K1079"
          ],
          [
           "US02079K1079"
          ],
          [
           "US02079K1079"
          ],
          [
           "US02079K1079"
          ],
          [
           "US02079K1079"
          ],
          [
           "US02079K1079"
          ],
          [
           "US02079K1079"
          ],
          [
           "US02079K1079"
          ],
          [
           "US02079K1079"
          ],
          [
           "US02079K1079"
          ],
          [
           "US02079K1079"
          ],
          [
           "US02079K1079"
          ],
          [
           "US02079K1079"
          ],
          [
           "US02079K1079"
          ],
          [
           "US02079K1079"
          ],
          [
           "US02079K1079"
          ],
          [
           "US02079K1079"
          ],
          [
           "US02079K1079"
          ],
          [
           "US02079K1079"
          ],
          [
           "US02079K1079"
          ],
          [
           "US02079K1079"
          ],
          [
           "US02079K1079"
          ],
          [
           "US02079K1079"
          ],
          [
           "US02079K1079"
          ],
          [
           "US02079K1079"
          ],
          [
           "US02079K1079"
          ],
          [
           "US02079K1079"
          ],
          [
           "US02079K1079"
          ],
          [
           "US02079K1079"
          ],
          [
           "US02079K1079"
          ],
          [
           "US02079K1079"
          ]
         ],
         "hovertemplate": "ISIN=%{customdata[0]}<br>Quarter=%{x}<br>Value of Mkt value=%{y:.2}<extra></extra>",
         "legendgroup": "US02079K1079",
         "marker": {
          "color": "#FF6692",
          "pattern": {
           "shape": ""
          }
         },
         "name": "US02079K1079",
         "orientation": "v",
         "showlegend": true,
         "textposition": "auto",
         "type": "bar",
         "x": [
          "2018-Q1",
          "2018-Q2",
          "2018-Q3",
          "2018-Q4",
          "2019-Q1",
          "2019-Q2",
          "2019-Q3",
          "2019-Q4",
          "2020-Q1",
          "2020-Q2",
          "2020-Q3",
          "2020-Q3",
          "2020-Q4",
          "2021-Q1",
          "2021-Q2",
          "2021-Q3",
          "2021-Q3",
          "2021-Q4",
          "2021-Q4",
          "2022-Q1",
          "2022-Q2",
          "2022-Q2",
          "2022-Q3",
          "2022-Q3",
          "2022-Q4",
          "2022-Q4",
          "2023-Q1",
          "2023-Q1",
          "2023-Q1",
          "2023-Q2",
          "2023-Q2",
          "2023-Q2",
          "2023-Q3",
          "2023-Q3",
          "2023-Q3",
          "2023-Q4",
          "2024-Q1",
          "2024-Q2",
          "2024-Q2",
          "2024-Q2",
          "2024-Q3",
          "2024-Q4",
          "2025-Q1"
         ],
         "xaxis": "x",
         "y": {
          "bdata": "exRW1RKO4EGambkCtszkQRSuJzggQOZBCtcjwGKH5EGF60Eug3/kQXE9WlnvqelBAADgF8EM7kGkcF2niy3tQaRwbR+r/ehB16Pg15EI7kFmZmYb0TjvQQAAAACwNyjBXI/iVAmc8kFcj5rVZvn1QQrX4z2mn/pBAAAAMJ6FgEFSuLbl9S78QQAAAPDg74FBexSmX+mY/kGamb0pFp33QQAAACCXHntBAACAgepI80EAAACARdd3QQAADH1EwPFBAAAAgEYAdkHNzCCfb87wQQAAAHC4b79BAAAAAJDJeUEAAADiNgncQQAAAIDC/n1B7FF4JXJIwkHsUdgwA77XQZqZWVBn7cNBAAAAQLFYgEGamTmRSsjWQVyPQpIJxuFBhetR4dUz40EAAACAb72GQR+Fa1KyuMtBH4WrI3Sx30HhepTH3BXlQeF6FMTya+dBmpnhYM0g4EE=",
          "dtype": "f8"
         },
         "yaxis": "y"
        },
        {
         "customdata": [
          [
           "US0213461017"
          ],
          [
           "US0213461017"
          ]
         ],
         "hovertemplate": "ISIN=%{customdata[0]}<br>Quarter=%{x}<br>Value of Mkt value=%{y:.2}<extra></extra>",
         "legendgroup": "US0213461017",
         "marker": {
          "color": "#B6E880",
          "pattern": {
           "shape": ""
          }
         },
         "name": "US0213461017",
         "orientation": "v",
         "showlegend": true,
         "textposition": "auto",
         "type": "bar",
         "x": [
          "2018-Q1",
          "2018-Q2"
         ],
         "xaxis": "x",
         "y": {
          "bdata": "UrjOZMsA9kFcj4pZTh/vQQ==",
          "dtype": "f8"
         },
         "yaxis": "y"
        },
        {
         "customdata": [
          [
           "US00206R1023"
          ]
         ],
         "hovertemplate": "ISIN=%{customdata[0]}<br>Quarter=%{x}<br>Value of Mkt value=%{y:.2}<extra></extra>",
         "legendgroup": "US00206R1023",
         "marker": {
          "color": "#FF97FF",
          "pattern": {
           "shape": ""
          }
         },
         "name": "US00206R1023",
         "orientation": "v",
         "showlegend": true,
         "textposition": "auto",
         "type": "bar",
         "x": [
          "2018-Q1"
         ],
         "xaxis": "x",
         "y": {
          "bdata": "AABAGTGxx8E=",
          "dtype": "f8"
         },
         "yaxis": "y"
        },
        {
         "customdata": [
          [
           "US1344291091"
          ]
         ],
         "hovertemplate": "ISIN=%{customdata[0]}<br>Quarter=%{x}<br>Value of Mkt value=%{y:.2}<extra></extra>",
         "legendgroup": "US1344291091",
         "marker": {
          "color": "#FECB52",
          "pattern": {
           "shape": ""
          }
         },
         "name": "US1344291091",
         "orientation": "v",
         "showlegend": true,
         "textposition": "auto",
         "type": "bar",
         "x": [
          "2018-Q1"
         ],
         "xaxis": "x",
         "y": {
          "bdata": "rkfhWqSjd8E=",
          "dtype": "f8"
         },
         "yaxis": "y"
        },
        {
         "customdata": [
          [
           "CA13645T1003"
          ],
          [
           "CA13645T1003"
          ],
          [
           "CA13645T1003"
          ],
          [
           "CA13645T1003"
          ],
          [
           "CA13645T1003"
          ],
          [
           "CA13645T1003"
          ],
          [
           "CA13645T1003"
          ],
          [
           "CA13645T1003"
          ],
          [
           "CA13645T1003"
          ],
          [
           "CA13645T1003"
          ],
          [
           "CA13645T1003"
          ],
          [
           "CA13645T1003"
          ],
          [
           "CA13645T1003"
          ],
          [
           "CA13645T1003"
          ],
          [
           "CA13645T1003"
          ],
          [
           "CA13645T1003"
          ],
          [
           "CA13645T1003"
          ],
          [
           "CA13645T1003"
          ],
          [
           "CA13645T1003"
          ],
          [
           "CA13645T1003"
          ],
          [
           "CA13645T1003"
          ],
          [
           "CA13645T1003"
          ],
          [
           "CA13645T1003"
          ],
          [
           "CA13645T1003"
          ],
          [
           "CA13645T1003"
          ],
          [
           "CA13645T1003"
          ],
          [
           "CA13645T1003"
          ],
          [
           "CA13645T1003"
          ],
          [
           "CA13645T1003"
          ],
          [
           "CA13645T1003"
          ],
          [
           "CA13645T1003"
          ],
          [
           "CA13645T1003"
          ],
          [
           "CA13645T1003"
          ],
          [
           "CA13645T1003"
          ],
          [
           "CA13645T1003"
          ],
          [
           "CA13645T1003"
          ],
          [
           "CA13645T1003"
          ],
          [
           "CA13645T1003"
          ]
         ],
         "hovertemplate": "ISIN=%{customdata[0]}<br>Quarter=%{x}<br>Value of Mkt value=%{y:.2}<extra></extra>",
         "legendgroup": "CA13645T1003",
         "marker": {
          "color": "#636efa",
          "pattern": {
           "shape": ""
          }
         },
         "name": "CA13645T1003",
         "orientation": "v",
         "showlegend": true,
         "textposition": "auto",
         "type": "bar",
         "x": [
          "2018-Q1",
          "2018-Q2",
          "2018-Q2",
          "2018-Q3",
          "2018-Q3",
          "2018-Q4",
          "2018-Q4",
          "2019-Q1",
          "2019-Q1",
          "2019-Q2",
          "2019-Q2",
          "2019-Q3",
          "2019-Q3",
          "2019-Q4",
          "2019-Q4",
          "2020-Q1",
          "2020-Q1",
          "2020-Q2",
          "2020-Q2",
          "2020-Q3",
          "2020-Q3",
          "2020-Q4",
          "2020-Q4",
          "2021-Q1",
          "2021-Q1",
          "2021-Q2",
          "2021-Q2",
          "2021-Q3",
          "2021-Q3",
          "2021-Q4",
          "2021-Q4",
          "2022-Q1",
          "2022-Q1",
          "2022-Q2",
          "2022-Q2",
          "2022-Q3",
          "2022-Q3",
          "2022-Q3"
         ],
         "xaxis": "x",
         "y": {
          "bdata": "CxSnP9P+b0EAAAAAQ3RhQUcJGRbmubhBCtejv0NDrkE7zRya3xXGQaRwPSxBpLpBwuaNoXlHykEUrsdKD0PAQeeyrM9gWdNBw/Wo7fO2wkHoVSQ63gDXQaRwPdYmE8JBdj8xPFNv10HNzMz68LbEQYq6qf7AW9tBj8L1tnTXwUGJcKSK2FTYQXE9ShlT2sRBsnh/ujQI3EHherTRotzIQcEdORfHweBBCtcDiidQzEFpwx/gmh3jQaRwHcC2+c5B77b59+oO5UHNzOzqrmfPQaNiZXDiLuVBmpm5OwGSykHQkZ1QHvjhQTMz86gmYM1BOxhVN0zX40GamTmXGtrQQb+XMw8hu+ZBZM3GAZE+40EzMzNeoYTMQQAAAAC4FpNBmpmZP6XbyEFI+JfqUV/iQQ==",
          "dtype": "f8"
         },
         "yaxis": "y"
        },
        {
         "customdata": [
          [
           "US16119P1084"
          ],
          [
           "US16119P1084"
          ],
          [
           "US16119P1084"
          ],
          [
           "US16119P1084"
          ],
          [
           "US16119P1084"
          ],
          [
           "US16119P1084"
          ],
          [
           "US16119P1084"
          ],
          [
           "US16119P1084"
          ],
          [
           "US16119P1084"
          ],
          [
           "US16119P1084"
          ],
          [
           "US16119P1084"
          ],
          [
           "US16119P1084"
          ],
          [
           "US16119P1084"
          ],
          [
           "US16119P1084"
          ],
          [
           "US16119P1084"
          ],
          [
           "US16119P1084"
          ],
          [
           "US16119P1084"
          ],
          [
           "US16119P1084"
          ],
          [
           "US16119P1084"
          ],
          [
           "US16119P1084"
          ],
          [
           "US16119P1084"
          ],
          [
           "US16119P1084"
          ],
          [
           "US16119P1084"
          ],
          [
           "US16119P1084"
          ],
          [
           "US16119P1084"
          ],
          [
           "US16119P1084"
          ],
          [
           "US16119P1084"
          ],
          [
           "US16119P1084"
          ]
         ],
         "hovertemplate": "ISIN=%{customdata[0]}<br>Quarter=%{x}<br>Value of Mkt value=%{y:.2}<extra></extra>",
         "legendgroup": "US16119P1084",
         "marker": {
          "color": "#EF553B",
          "pattern": {
           "shape": ""
          }
         },
         "name": "US16119P1084",
         "orientation": "v",
         "showlegend": true,
         "textposition": "auto",
         "type": "bar",
         "x": [
          "2018-Q1",
          "2018-Q2",
          "2018-Q3",
          "2018-Q4",
          "2019-Q1",
          "2019-Q2",
          "2019-Q3",
          "2019-Q3",
          "2019-Q4",
          "2019-Q4",
          "2020-Q1",
          "2020-Q1",
          "2020-Q2",
          "2020-Q2",
          "2020-Q3",
          "2020-Q3",
          "2020-Q4",
          "2020-Q4",
          "2021-Q1",
          "2021-Q1",
          "2021-Q2",
          "2021-Q3",
          "2021-Q3",
          "2021-Q3",
          "2021-Q4",
          "2021-Q4",
          "2021-Q4",
          "2022-Q1"
         ],
         "xaxis": "x",
         "y": {
          "bdata": "MzNTsbAv5kEpXNdKxljqQXsUDhQoM+1BCtfj1QZi50F7FMZFSSzoQR+F27L8BOpBPQr3VOcJ6EEAAAC4IM/BQQAAALhB9sRBKVyvb11L7EEAAACOu9rCQfYotBxAW+pBAAAAOGEKxkGkcJ3bb8/uQbgeLY2B2/JBAAAAZNb6ykFmZsJkOPvzQQAAAEZ6lsxBAAAA7NupykEpXAcT6KLyQc3MLB5VBvpBAAAAANfqf0EAAACouHDPQQAAQK7AKPZBAAAAwO2ZfEEAAABqfyzMQeF6XO8sr/JBCtcjmOsp0UE=",
          "dtype": "f8"
         },
         "yaxis": "y"
        },
        {
         "customdata": [
          [
           "US20030N1019"
          ]
         ],
         "hovertemplate": "ISIN=%{customdata[0]}<br>Quarter=%{x}<br>Value of Mkt value=%{y:.2}<extra></extra>",
         "legendgroup": "US20030N1019",
         "marker": {
          "color": "#00cc96",
          "pattern": {
           "shape": ""
          }
         },
         "name": "US20030N1019",
         "orientation": "v",
         "showlegend": true,
         "textposition": "auto",
         "type": "bar",
         "x": [
          "2018-Q1"
         ],
         "xaxis": "x",
         "y": {
          "bdata": "mpmZYjU7uEE=",
          "dtype": "f8"
         },
         "yaxis": "y"
        },
        {
         "customdata": [
          [
           "US2058871029"
          ]
         ],
         "hovertemplate": "ISIN=%{customdata[0]}<br>Quarter=%{x}<br>Value of Mkt value=%{y:.2}<extra></extra>",
         "legendgroup": "US2058871029",
         "marker": {
          "color": "#ab63fa",
          "pattern": {
           "shape": ""
          }
         },
         "name": "US2058871029",
         "orientation": "v",
         "showlegend": true,
         "textposition": "auto",
         "type": "bar",
         "x": [
          "2018-Q1"
         ],
         "xaxis": "x",
         "y": {
          "bdata": "Urge/Yh4ocE=",
          "dtype": "f8"
         },
         "yaxis": "y"
        },
        {
         "customdata": [
          [
           "FR0010533075"
          ],
          [
           "FR0010533075"
          ],
          [
           "FR0010533075"
          ],
          [
           "FR0010533075"
          ],
          [
           "FR0010533075"
          ],
          [
           "FR0010533075"
          ],
          [
           "FR0010533075"
          ],
          [
           "FR0010533075"
          ],
          [
           "FR0010533075"
          ],
          [
           "FR0010533075"
          ],
          [
           "FR0010533075"
          ],
          [
           "FR0010533075"
          ],
          [
           "FR0010533075"
          ],
          [
           "FR0010533075"
          ],
          [
           "FR0010533075"
          ],
          [
           "FR0010533075"
          ],
          [
           "FR0010533075"
          ],
          [
           "FR0010533075"
          ],
          [
           "FR0010533075"
          ],
          [
           "FR0010533075"
          ],
          [
           "FR0010533075"
          ],
          [
           "FR0010533075"
          ],
          [
           "FR0010533075"
          ],
          [
           "FR0010533075"
          ],
          [
           "FR0010533075"
          ],
          [
           "FR0010533075"
          ],
          [
           "FR0010533075"
          ],
          [
           "FR0010533075"
          ],
          [
           "FR0010533075"
          ],
          [
           "FR0010533075"
          ],
          [
           "FR0010533075"
          ],
          [
           "FR0010533075"
          ],
          [
           "FR0010533075"
          ],
          [
           "FR0010533075"
          ],
          [
           "FR0010533075"
          ]
         ],
         "hovertemplate": "ISIN=%{customdata[0]}<br>Quarter=%{x}<br>Value of Mkt value=%{y:.2}<extra></extra>",
         "legendgroup": "FR0010533075",
         "marker": {
          "color": "#FFA15A",
          "pattern": {
           "shape": ""
          }
         },
         "name": "FR0010533075",
         "orientation": "v",
         "showlegend": true,
         "textposition": "auto",
         "type": "bar",
         "x": [
          "2018-Q1",
          "2018-Q1",
          "2018-Q2",
          "2018-Q2",
          "2018-Q3",
          "2018-Q3",
          "2018-Q4",
          "2018-Q4",
          "2019-Q1",
          "2019-Q2",
          "2019-Q3",
          "2019-Q3",
          "2019-Q4",
          "2019-Q4",
          "2020-Q1",
          "2020-Q1",
          "2020-Q2",
          "2020-Q2",
          "2020-Q3",
          "2020-Q3",
          "2020-Q3",
          "2020-Q4",
          "2020-Q4",
          "2020-Q4",
          "2021-Q1",
          "2021-Q1",
          "2021-Q1",
          "2021-Q2",
          "2021-Q2",
          "2021-Q2",
          "2021-Q3",
          "2021-Q4",
          "2022-Q1",
          "2022-Q2",
          "2022-Q3"
         ],
         "xaxis": "x",
         "y": {
          "bdata": "y6ENo5UJxUGJQWA/0jN9QZJc706CNsRB0NWW+qwJfEGBlT+RYs/CQUoMAuKGF3pBNWMiswjRw0GH3Ezd6nx7QbLPqH4bvsdBEogTu0YWyUFSuG4wQXbIQdc079h/VVlBn82SzjJSzEFivyemqVRdQdobiCqW9cNBym37bYVaaEEFbp1SaQjJQbQ8D+8L92xBina1breXyEFfmEx1fGNAQXVZTNBJTmtBvLCRzsCqz0GgT+QlbuFEQZMB4IchZXFB3xp4IxYMzEHEfHl9NNBuQRgmU6VnfkJBObnjmaqAzEGitDd8RstCQep4TEpIUG9BGDezwKw2zUE/xlzojN3OQaMj9qnI29BBWzGALO1x0EFD+h7CDw/NQQ==",
          "dtype": "f8"
         },
         "yaxis": "y"
        },
        {
         "customdata": [
          [
           "US4404521001"
          ],
          [
           "US4404521001"
          ],
          [
           "US4404521001"
          ],
          [
           "US4404521001"
          ],
          [
           "US4404521001"
          ],
          [
           "US4404521001"
          ],
          [
           "US4404521001"
          ],
          [
           "US4404521001"
          ],
          [
           "US4404521001"
          ],
          [
           "US4404521001"
          ],
          [
           "US4404521001"
          ],
          [
           "US4404521001"
          ],
          [
           "US4404521001"
          ],
          [
           "US4404521001"
          ],
          [
           "US4404521001"
          ],
          [
           "US4404521001"
          ],
          [
           "US4404521001"
          ],
          [
           "US4404521001"
          ]
         ],
         "hovertemplate": "ISIN=%{customdata[0]}<br>Quarter=%{x}<br>Value of Mkt value=%{y:.2}<extra></extra>",
         "legendgroup": "US4404521001",
         "marker": {
          "color": "#19d3f3",
          "pattern": {
           "shape": ""
          }
         },
         "name": "US4404521001",
         "orientation": "v",
         "showlegend": true,
         "textposition": "auto",
         "type": "bar",
         "x": [
          "2018-Q1",
          "2018-Q2",
          "2018-Q3",
          "2018-Q4",
          "2019-Q1",
          "2019-Q2",
          "2019-Q3",
          "2019-Q4",
          "2019-Q4",
          "2020-Q1",
          "2020-Q2",
          "2020-Q3",
          "2020-Q4",
          "2021-Q1",
          "2021-Q2",
          "2021-Q3",
          "2021-Q4",
          "2022-Q1"
         ],
         "xaxis": "x",
         "y": {
          "bdata": "7FG4/itddcEpXI8iMkuNwWZmZuaPBI/BpHA96l/4kcF7FK6nktiSwQrXo+g3CaXBexSuC/iwpsFcj8LR9bekwQAAAICXgnXBj8L1xK2aq8FmZqbZ+Lu4wQAAwAefz7nBAADAGLcpucEAAIAhasu5wQAAQLhEx7nBAAAAN2MitsEAAMDpw1m6wQAAAPsR/qXB",
          "dtype": "f8"
         },
         "yaxis": "y"
        },
        {
         "customdata": [
          [
           "AU000000IFN8"
          ],
          [
           "AU000000IFN8"
          ],
          [
           "AU000000IFN8"
          ],
          [
           "AU000000IFN8"
          ],
          [
           "AU000000IFN8"
          ],
          [
           "AU000000IFN8"
          ],
          [
           "AU000000IFN8"
          ],
          [
           "AU000000IFN8"
          ],
          [
           "AU000000IFN8"
          ],
          [
           "AU000000IFN8"
          ]
         ],
         "hovertemplate": "ISIN=%{customdata[0]}<br>Quarter=%{x}<br>Value of Mkt value=%{y:.2}<extra></extra>",
         "legendgroup": "AU000000IFN8",
         "marker": {
          "color": "#FF6692",
          "pattern": {
           "shape": ""
          }
         },
         "name": "AU000000IFN8",
         "orientation": "v",
         "showlegend": true,
         "textposition": "auto",
         "type": "bar",
         "x": [
          "2018-Q1",
          "2018-Q2",
          "2018-Q3",
          "2018-Q4",
          "2019-Q1",
          "2019-Q2",
          "2019-Q3",
          "2019-Q4",
          "2020-Q1",
          "2020-Q2"
         ],
         "xaxis": "x",
         "y": {
          "bdata": "uteZ7mbzjUFr1qnAgEmQQT3Upqxjb4xBO59LnR3bhUH/6cbYFtCEQW2oaDwZOYZBrBxag6QSj0HWczJhueKOQRmDKO35DIJB0qvB6cxylkE=",
          "dtype": "f8"
         },
         "yaxis": "y"
        },
        {
         "customdata": [
          [
           "US4878361082"
          ],
          [
           "US4878361082"
          ]
         ],
         "hovertemplate": "ISIN=%{customdata[0]}<br>Quarter=%{x}<br>Value of Mkt value=%{y:.2}<extra></extra>",
         "legendgroup": "US4878361082",
         "marker": {
          "color": "#B6E880",
          "pattern": {
           "shape": ""
          }
         },
         "name": "US4878361082",
         "orientation": "v",
         "showlegend": true,
         "textposition": "auto",
         "type": "bar",
         "x": [
          "2018-Q1",
          "2018-Q2"
         ],
         "xaxis": "x",
         "y": {
          "bdata": "PQrXOj5hmsEAAABAA6iEwQ==",
          "dtype": "f8"
         },
         "yaxis": "y"
        },
        {
         "customdata": [
          [
           "US5007541064"
          ]
         ],
         "hovertemplate": "ISIN=%{customdata[0]}<br>Quarter=%{x}<br>Value of Mkt value=%{y:.2}<extra></extra>",
         "legendgroup": "US5007541064",
         "marker": {
          "color": "#FF97FF",
          "pattern": {
           "shape": ""
          }
         },
         "name": "US5007541064",
         "orientation": "v",
         "showlegend": true,
         "textposition": "auto",
         "type": "bar",
         "x": [
          "2018-Q1"
         ],
         "xaxis": "x",
         "y": {
          "bdata": "AAAAgEHSYcE=",
          "dtype": "f8"
         },
         "yaxis": "y"
        },
        {
         "customdata": [
          [
           "GB00B0SWJX34"
          ],
          [
           "GB00B0SWJX34"
          ],
          [
           "GB00B0SWJX34"
          ]
         ],
         "hovertemplate": "ISIN=%{customdata[0]}<br>Quarter=%{x}<br>Value of Mkt value=%{y:.2}<extra></extra>",
         "legendgroup": "GB00B0SWJX34",
         "marker": {
          "color": "#FECB52",
          "pattern": {
           "shape": ""
          }
         },
         "name": "GB00B0SWJX34",
         "orientation": "v",
         "showlegend": true,
         "textposition": "auto",
         "type": "bar",
         "x": [
          "2018-Q1",
          "2018-Q2",
          "2018-Q2"
         ],
         "xaxis": "x",
         "y": {
          "bdata": "Wd5Vr1KjzkEcQUqXT0vPQXhD6p97gJHB",
          "dtype": "f8"
         },
         "yaxis": "y"
        },
        {
         "customdata": [
          [
           "US5949181045"
          ],
          [
           "US5949181045"
          ],
          [
           "US5949181045"
          ],
          [
           "US5949181045"
          ],
          [
           "US5949181045"
          ],
          [
           "US5949181045"
          ],
          [
           "US5949181045"
          ],
          [
           "US5949181045"
          ],
          [
           "US5949181045"
          ],
          [
           "US5949181045"
          ],
          [
           "US5949181045"
          ],
          [
           "US5949181045"
          ],
          [
           "US5949181045"
          ],
          [
           "US5949181045"
          ],
          [
           "US5949181045"
          ],
          [
           "US5949181045"
          ],
          [
           "US5949181045"
          ],
          [
           "US5949181045"
          ],
          [
           "US5949181045"
          ],
          [
           "US5949181045"
          ],
          [
           "US5949181045"
          ],
          [
           "US5949181045"
          ],
          [
           "US5949181045"
          ],
          [
           "US5949181045"
          ],
          [
           "US5949181045"
          ],
          [
           "US5949181045"
          ],
          [
           "US5949181045"
          ],
          [
           "US5949181045"
          ],
          [
           "US5949181045"
          ],
          [
           "US5949181045"
          ],
          [
           "US5949181045"
          ],
          [
           "US5949181045"
          ],
          [
           "US5949181045"
          ],
          [
           "US5949181045"
          ],
          [
           "US5949181045"
          ],
          [
           "US5949181045"
          ],
          [
           "US5949181045"
          ],
          [
           "US5949181045"
          ],
          [
           "US5949181045"
          ],
          [
           "US5949181045"
          ],
          [
           "US5949181045"
          ],
          [
           "US5949181045"
          ],
          [
           "US5949181045"
          ],
          [
           "US5949181045"
          ],
          [
           "US5949181045"
          ],
          [
           "US5949181045"
          ],
          [
           "US5949181045"
          ],
          [
           "US5949181045"
          ],
          [
           "US5949181045"
          ],
          [
           "US5949181045"
          ],
          [
           "US5949181045"
          ],
          [
           "US5949181045"
          ],
          [
           "US5949181045"
          ],
          [
           "US5949181045"
          ],
          [
           "US5949181045"
          ],
          [
           "US5949181045"
          ],
          [
           "US5949181045"
          ]
         ],
         "hovertemplate": "ISIN=%{customdata[0]}<br>Quarter=%{x}<br>Value of Mkt value=%{y:.2}<extra></extra>",
         "legendgroup": "US5949181045",
         "marker": {
          "color": "#636efa",
          "pattern": {
           "shape": ""
          }
         },
         "name": "US5949181045",
         "orientation": "v",
         "showlegend": true,
         "textposition": "auto",
         "type": "bar",
         "x": [
          "2018-Q1",
          "2018-Q2",
          "2018-Q3",
          "2018-Q4",
          "2019-Q1",
          "2019-Q2",
          "2019-Q3",
          "2019-Q3",
          "2019-Q4",
          "2019-Q4",
          "2020-Q1",
          "2020-Q1",
          "2020-Q1",
          "2020-Q2",
          "2020-Q2",
          "2020-Q2",
          "2020-Q3",
          "2020-Q3",
          "2020-Q3",
          "2020-Q3",
          "2020-Q4",
          "2020-Q4",
          "2020-Q4",
          "2021-Q1",
          "2021-Q1",
          "2021-Q1",
          "2021-Q2",
          "2021-Q3",
          "2021-Q3",
          "2021-Q3",
          "2021-Q4",
          "2021-Q4",
          "2021-Q4",
          "2022-Q1",
          "2022-Q2",
          "2022-Q2",
          "2022-Q2",
          "2022-Q3",
          "2022-Q3",
          "2022-Q3",
          "2022-Q4",
          "2022-Q4",
          "2022-Q4",
          "2023-Q1",
          "2023-Q1",
          "2023-Q1",
          "2023-Q2",
          "2023-Q2",
          "2023-Q2",
          "2023-Q4",
          "2024-Q1",
          "2024-Q2",
          "2024-Q2",
          "2024-Q2",
          "2024-Q3",
          "2024-Q4",
          "2025-Q1"
         ],
         "xaxis": "x",
         "y": {
          "bdata": "w/V4cwb40UGuR9Fr9mnTQY/CZQFFhNZBUrh+FoZo4EEK12Ozjb3eQa5HoVzfZOBBAAAAAJOEukFI4fqh3P3OQQAAAAAyFL5BmpkZ8qOT0UGkcC0204fVQQAAANi1walBAAAAAK8UvkHhenR/1AzdQSlcT1C3lsNBAAAAfEiesEEK18NV/vHdQQAAACTaLLFBSOG6wMQ+xEEAAACAwPtHwbgeBQiuaMVB9iicq6Sq30EAAACIlimyQVK4Xo2jscZBAAAA5KlAs0EK15OaPA/qQTMzs8P6nPNBAAAAgGgFt0G4HoWz0yLLQQAAANN/RehBAAAAAAffrkGPwvX0pi/QQQAAABFcde5Bj8Jl2nHd8kEAAAD4IJOnQUjhOr+UuMhBw/VgBW4B7EEAAAAQz2ClQWZm5jjrasZBAABA9oPF6UEAAAAwawOmQR+Fa3lvFcdBexQ+jn1f7kEAAACwoHaqQc3MTJAJwMtBAAAQbgcq50EAAADwMEKvQaRwvavf38JBSOHqTWCW5kEpXK/xoo/sQeF61GBi9O9BAAAAkFKCqEFmZqboO5u6QQAAcFXYFu1BmpmhV+Ch8kEAAOjaSE71QTMzl3kBd/dB",
          "dtype": "f8"
         },
         "yaxis": "y"
        },
        {
         "customdata": [
          [
           "US61166W1018"
          ]
         ],
         "hovertemplate": "ISIN=%{customdata[0]}<br>Quarter=%{x}<br>Value of Mkt value=%{y:.2}<extra></extra>",
         "legendgroup": "US61166W1018",
         "marker": {
          "color": "#EF553B",
          "pattern": {
           "shape": ""
          }
         },
         "name": "US61166W1018",
         "orientation": "v",
         "showlegend": true,
         "textposition": "auto",
         "type": "bar",
         "x": [
          "2018-Q1"
         ],
         "xaxis": "x",
         "y": {
          "bdata": "AAAACHODikE=",
          "dtype": "f8"
         },
         "yaxis": "y"
        },
        {
         "customdata": [
          [
           "US6153691059"
          ],
          [
           "US6153691059"
          ],
          [
           "US6153691059"
          ],
          [
           "US6153691059"
          ],
          [
           "US6153691059"
          ],
          [
           "US6153691059"
          ],
          [
           "US6153691059"
          ],
          [
           "US6153691059"
          ],
          [
           "US6153691059"
          ],
          [
           "US6153691059"
          ],
          [
           "US6153691059"
          ],
          [
           "US6153691059"
          ],
          [
           "US6153691059"
          ],
          [
           "US6153691059"
          ],
          [
           "US6153691059"
          ],
          [
           "US6153691059"
          ],
          [
           "US6153691059"
          ],
          [
           "US6153691059"
          ],
          [
           "US6153691059"
          ],
          [
           "US6153691059"
          ],
          [
           "US6153691059"
          ],
          [
           "US6153691059"
          ],
          [
           "US6153691059"
          ],
          [
           "US6153691059"
          ],
          [
           "US6153691059"
          ],
          [
           "US6153691059"
          ],
          [
           "US6153691059"
          ],
          [
           "US6153691059"
          ],
          [
           "US6153691059"
          ],
          [
           "US6153691059"
          ],
          [
           "US6153691059"
          ],
          [
           "US6153691059"
          ],
          [
           "US6153691059"
          ],
          [
           "US6153691059"
          ],
          [
           "US6153691059"
          ],
          [
           "US6153691059"
          ],
          [
           "US6153691059"
          ],
          [
           "US6153691059"
          ],
          [
           "US6153691059"
          ],
          [
           "US6153691059"
          ],
          [
           "US6153691059"
          ],
          [
           "US6153691059"
          ],
          [
           "US6153691059"
          ],
          [
           "US6153691059"
          ],
          [
           "US6153691059"
          ],
          [
           "US6153691059"
          ],
          [
           "US6153691059"
          ],
          [
           "US6153691059"
          ],
          [
           "US6153691059"
          ],
          [
           "US6153691059"
          ],
          [
           "US6153691059"
          ]
         ],
         "hovertemplate": "ISIN=%{customdata[0]}<br>Quarter=%{x}<br>Value of Mkt value=%{y:.2}<extra></extra>",
         "legendgroup": "US6153691059",
         "marker": {
          "color": "#00cc96",
          "pattern": {
           "shape": ""
          }
         },
         "name": "US6153691059",
         "orientation": "v",
         "showlegend": true,
         "textposition": "auto",
         "type": "bar",
         "x": [
          "2018-Q1",
          "2018-Q2",
          "2018-Q3",
          "2018-Q4",
          "2019-Q1",
          "2019-Q2",
          "2019-Q3",
          "2019-Q3",
          "2019-Q4",
          "2019-Q4",
          "2020-Q1",
          "2020-Q1",
          "2020-Q2",
          "2020-Q2",
          "2020-Q3",
          "2020-Q3",
          "2020-Q4",
          "2020-Q4",
          "2021-Q1",
          "2021-Q1",
          "2021-Q2",
          "2021-Q3",
          "2021-Q3",
          "2021-Q4",
          "2021-Q4",
          "2022-Q1",
          "2022-Q2",
          "2022-Q2",
          "2022-Q3",
          "2022-Q3",
          "2022-Q3",
          "2022-Q4",
          "2022-Q4",
          "2022-Q4",
          "2023-Q1",
          "2023-Q1",
          "2023-Q1",
          "2023-Q2",
          "2023-Q2",
          "2023-Q2",
          "2023-Q3",
          "2023-Q3",
          "2023-Q3",
          "2023-Q4",
          "2024-Q1",
          "2024-Q2",
          "2024-Q2",
          "2024-Q2",
          "2024-Q3",
          "2024-Q4",
          "2025-Q1"
         ],
         "xaxis": "x",
         "y": {
          "bdata": "ZmZmlD/frUHhehQORJavQZqZmaW22LJBpHA9WUFsx0EUrqf3k+fOQVyPElJqqtBBzcxMVnIUpUHD9WiLoq/NQYXrEcnnk89BzcwMWG/gsUEAAIBPqQ2/QQAAQJ9iEclBMzNTMyUrxEEUrnd39kfQQZqZSaNZLdFBAAAgrU1HxUGamZkFok7FQQrXo1JEM9FBZmYGSe/rxUGPwiXH17zRQfYoHKXCaeFBZmZG18QRykGPwgULBBjVQc3MzMVjkqVB16NgM6Rr4UHD9bA0ktjgQY/Cdamiu6BBKVwvr9jj3EEAAAAQ3PeRQY/C9Wso6p1BFK4nLoyz2EEAAACgvZeUQcP1KCNgJKFBMzOTdNAP4EH2KFy479OiQc3MzDtKQLpBheuhgnyc4UGPwvVaumSlQc3MzMoI1L1BuB6FTHVi5EEpXA+NzXOjQc3MTN4vH7tBpHDVBNY44kHsUXje4FjwQfYoUD5Oq/BBpHC9gtDlqUGamVmz3w3CQUjh4lj0bfBBAADczhr79UEAAJSzo+z1QQAAlFeUkfVB",
          "dtype": "f8"
         },
         "yaxis": "y"
        },
        {
         "customdata": [
          [
           "US6558441084"
          ],
          [
           "US6558441084"
          ],
          [
           "US6558441084"
          ]
         ],
         "hovertemplate": "ISIN=%{customdata[0]}<br>Quarter=%{x}<br>Value of Mkt value=%{y:.2}<extra></extra>",
         "legendgroup": "US6558441084",
         "marker": {
          "color": "#ab63fa",
          "pattern": {
           "shape": ""
          }
         },
         "name": "US6558441084",
         "orientation": "v",
         "showlegend": true,
         "textposition": "auto",
         "type": "bar",
         "x": [
          "2018-Q1",
          "2018-Q2",
          "2018-Q3"
         ],
         "xaxis": "x",
         "y": {
          "bdata": "AAAAWIs2k0EpXI8c5bu2QQAAgDgeBcNB",
          "dtype": "f8"
         },
         "yaxis": "y"
        },
        {
         "customdata": [
          [
           "US6819191064"
          ],
          [
           "US6819191064"
          ],
          [
           "US6819191064"
          ],
          [
           "US6819191064"
          ],
          [
           "US6819191064"
          ],
          [
           "US6819191064"
          ],
          [
           "US6819191064"
          ],
          [
           "US6819191064"
          ],
          [
           "US6819191064"
          ],
          [
           "US6819191064"
          ],
          [
           "US6819191064"
          ],
          [
           "US6819191064"
          ],
          [
           "US6819191064"
          ]
         ],
         "hovertemplate": "ISIN=%{customdata[0]}<br>Quarter=%{x}<br>Value of Mkt value=%{y:.2}<extra></extra>",
         "legendgroup": "US6819191064",
         "marker": {
          "color": "#FFA15A",
          "pattern": {
           "shape": ""
          }
         },
         "name": "US6819191064",
         "orientation": "v",
         "showlegend": true,
         "textposition": "auto",
         "type": "bar",
         "x": [
          "2018-Q1",
          "2018-Q2",
          "2018-Q3",
          "2018-Q4",
          "2019-Q1",
          "2019-Q2",
          "2019-Q3",
          "2019-Q4",
          "2020-Q1",
          "2020-Q2",
          "2020-Q3",
          "2020-Q4",
          "2021-Q1"
         ],
         "xaxis": "x",
         "y": {
          "bdata": "16Nw0cLVfsGF61GyZy6AwQrXo+in3HzBexSuV60Tf8GPwnVJ3YShwc3MjORuG7LBMzOzVvlMscEUrscY1OaxwTMzM8C+QqjBzczMfs4gqMEAAAAn2t+lwfYo3E/Qj6vBZmZmd4RgpsE=",
          "dtype": "f8"
         },
         "yaxis": "y"
        },
        {
         "customdata": [
          [
           "FR0000131906"
          ]
         ],
         "hovertemplate": "ISIN=%{customdata[0]}<br>Quarter=%{x}<br>Value of Mkt value=%{y:.2}<extra></extra>",
         "legendgroup": "FR0000131906",
         "marker": {
          "color": "#19d3f3",
          "pattern": {
           "shape": ""
          }
         },
         "name": "FR0000131906",
         "orientation": "v",
         "showlegend": true,
         "textposition": "auto",
         "type": "bar",
         "x": [
          "2018-Q1"
         ],
         "xaxis": "x",
         "y": {
          "bdata": "cT1Kp+qrgUE=",
          "dtype": "f8"
         },
         "yaxis": "y"
        },
        {
         "customdata": [
          [
           "US78409V1044"
          ],
          [
           "US78409V1044"
          ],
          [
           "US78409V1044"
          ],
          [
           "US78409V1044"
          ],
          [
           "US78409V1044"
          ],
          [
           "US78409V1044"
          ],
          [
           "US78409V1044"
          ],
          [
           "US78409V1044"
          ],
          [
           "US78409V1044"
          ],
          [
           "US78409V1044"
          ],
          [
           "US78409V1044"
          ],
          [
           "US78409V1044"
          ],
          [
           "US78409V1044"
          ],
          [
           "US78409V1044"
          ],
          [
           "US78409V1044"
          ],
          [
           "US78409V1044"
          ],
          [
           "US78409V1044"
          ],
          [
           "US78409V1044"
          ],
          [
           "US78409V1044"
          ],
          [
           "US78409V1044"
          ],
          [
           "US78409V1044"
          ],
          [
           "US78409V1044"
          ],
          [
           "US78409V1044"
          ],
          [
           "US78409V1044"
          ],
          [
           "US78409V1044"
          ],
          [
           "US78409V1044"
          ],
          [
           "US78409V1044"
          ],
          [
           "US78409V1044"
          ],
          [
           "US78409V1044"
          ],
          [
           "US78409V1044"
          ],
          [
           "US78409V1044"
          ],
          [
           "US78409V1044"
          ],
          [
           "US78409V1044"
          ],
          [
           "US78409V1044"
          ],
          [
           "US78409V1044"
          ],
          [
           "US78409V1044"
          ],
          [
           "US78409V1044"
          ],
          [
           "US78409V1044"
          ],
          [
           "US78409V1044"
          ],
          [
           "US78409V1044"
          ],
          [
           "US78409V1044"
          ],
          [
           "US78409V1044"
          ],
          [
           "US78409V1044"
          ],
          [
           "US78409V1044"
          ],
          [
           "US78409V1044"
          ],
          [
           "US78409V1044"
          ],
          [
           "US78409V1044"
          ],
          [
           "US78409V1044"
          ],
          [
           "US78409V1044"
          ],
          [
           "US78409V1044"
          ],
          [
           "US78409V1044"
          ],
          [
           "US78409V1044"
          ],
          [
           "US78409V1044"
          ],
          [
           "US78409V1044"
          ],
          [
           "US78409V1044"
          ],
          [
           "US78409V1044"
          ]
         ],
         "hovertemplate": "ISIN=%{customdata[0]}<br>Quarter=%{x}<br>Value of Mkt value=%{y:.2}<extra></extra>",
         "legendgroup": "US78409V1044",
         "marker": {
          "color": "#FF6692",
          "pattern": {
           "shape": ""
          }
         },
         "name": "US78409V1044",
         "orientation": "v",
         "showlegend": true,
         "textposition": "auto",
         "type": "bar",
         "x": [
          "2018-Q1",
          "2018-Q2",
          "2018-Q3",
          "2018-Q4",
          "2019-Q1",
          "2019-Q2",
          "2019-Q3",
          "2019-Q3",
          "2019-Q4",
          "2019-Q4",
          "2020-Q1",
          "2020-Q1",
          "2020-Q2",
          "2020-Q2",
          "2020-Q3",
          "2020-Q3",
          "2020-Q4",
          "2020-Q4",
          "2020-Q4",
          "2021-Q1",
          "2021-Q1",
          "2021-Q1",
          "2021-Q2",
          "2021-Q3",
          "2021-Q3",
          "2021-Q3",
          "2021-Q4",
          "2021-Q4",
          "2021-Q4",
          "2022-Q1",
          "2022-Q2",
          "2022-Q2",
          "2022-Q2",
          "2022-Q3",
          "2022-Q3",
          "2022-Q3",
          "2022-Q4",
          "2022-Q4",
          "2022-Q4",
          "2023-Q1",
          "2023-Q1",
          "2023-Q1",
          "2023-Q2",
          "2023-Q2",
          "2023-Q2",
          "2023-Q3",
          "2023-Q3",
          "2023-Q3",
          "2023-Q4",
          "2024-Q1",
          "2024-Q2",
          "2024-Q2",
          "2024-Q2",
          "2024-Q3",
          "2024-Q4",
          "2025-Q1"
         ],
         "xaxis": "x",
         "y": {
          "bdata": "KVyPqN5AlEEK16PfCp2VQQrXo+lftpRBw/UonvwxtEEzMzMEiGi4QY/C9X0qaLpB4XoUKum2pUFI4XqE3IqxQc3MzOraM6hBzczMhG2Ns0FmZiaCmaS3Qc3MzMp/uKVB4XoUBlM0rUHXo3BY+cm/QWZm5nZPZcFBmpmZIXr2r0HhehRMTiOtQdejMPmlvL5BAAAAgKJZb0EAAADAftNwQbgehc0SR69B16Ng/zfS2UFmZq6sq3HhQQAAAEClQnRB7FG4XabUskHsUXiEpFjZQQAAAEDdgHZBCtejT1nqtEFSuJ7FhcXUQdej0Hmg9+JBAAAAgIAScEFcj8IBU+CtQYXrIb6PU+JBmpmZm8gQq0EAAACA1R5tQTMzKxQwmuBBAAAAAD/xb0GkcD3+N7CtQQrXczOoJuNBAAAAQJ5wcEEfhesnRo+uQVK4PtaBDORBAAAAQK0dc0HsUbi9WsSxQT0Kd7TzT+dBAAAAQJJscUF7FK6izzGwQcP1WEWrl+RBCtfj7gRu60FmZraLzH3qQQAAAABWRKVBAAAACCjEs0EAAACm2oPsQXE96ltFt/JBXI9ywtwK8kEzM9MSQWjyQQ==",
          "dtype": "f8"
         },
         "yaxis": "y"
        },
        {
         "customdata": [
          [
           "FR0000073272"
          ],
          [
           "FR0000073272"
          ],
          [
           "FR0000073272"
          ],
          [
           "FR0000073272"
          ],
          [
           "FR0000073272"
          ],
          [
           "FR0000073272"
          ],
          [
           "FR0000073272"
          ],
          [
           "FR0000073272"
          ],
          [
           "FR0000073272"
          ],
          [
           "FR0000073272"
          ],
          [
           "FR0000073272"
          ],
          [
           "FR0000073272"
          ],
          [
           "FR0000073272"
          ],
          [
           "FR0000073272"
          ],
          [
           "FR0000073272"
          ],
          [
           "FR0000073272"
          ],
          [
           "FR0000073272"
          ],
          [
           "FR0000073272"
          ],
          [
           "FR0000073272"
          ],
          [
           "FR0000073272"
          ],
          [
           "FR0000073272"
          ],
          [
           "FR0000073272"
          ],
          [
           "FR0000073272"
          ],
          [
           "FR0000073272"
          ],
          [
           "FR0000073272"
          ],
          [
           "FR0000073272"
          ],
          [
           "FR0000073272"
          ],
          [
           "FR0000073272"
          ],
          [
           "FR0000073272"
          ]
         ],
         "hovertemplate": "ISIN=%{customdata[0]}<br>Quarter=%{x}<br>Value of Mkt value=%{y:.2}<extra></extra>",
         "legendgroup": "FR0000073272",
         "marker": {
          "color": "#B6E880",
          "pattern": {
           "shape": ""
          }
         },
         "name": "FR0000073272",
         "orientation": "v",
         "showlegend": true,
         "textposition": "auto",
         "type": "bar",
         "x": [
          "2018-Q1",
          "2018-Q2",
          "2018-Q3",
          "2018-Q4",
          "2019-Q1",
          "2019-Q2",
          "2019-Q3",
          "2019-Q4",
          "2020-Q1",
          "2020-Q2",
          "2020-Q3",
          "2020-Q4",
          "2021-Q1",
          "2021-Q2",
          "2021-Q3",
          "2021-Q4",
          "2022-Q1",
          "2022-Q2",
          "2022-Q3",
          "2022-Q4",
          "2023-Q1",
          "2023-Q2",
          "2023-Q3",
          "2023-Q4",
          "2024-Q1",
          "2024-Q2",
          "2024-Q3",
          "2024-Q4",
          "2025-Q1"
         ],
         "xaxis": "x",
         "y": {
          "bdata": "lnhLzU1h2UFUUkIEYz7bQclZtSnHFt5Bf97OW1Wg3UEuv6CRJsDgQX/ZhJ2x5OFB002gsQE740HTE9iOidniQWX8kwa5athBOl1zjoA74EGln4zK6AfgQcyAYEIPWeRBRrYMRx1Q4UG45PZc1nzhQVbO8xrdI95BGLKKr54i20ED65iC8DbbQTwWZyIhStlBJA1mljeq10F8R3VvKzDjQV66eFRzQORBB/D5kt5p5UFyUT0LZJXoQe0vHmAJg+9BITzm52329EG0H2N4JL70QYzcUaslfPdBr430ef4p+EHsL4EzKVb9QQ==",
          "dtype": "f8"
         },
         "yaxis": "y"
        },
        {
         "customdata": [
          [
           "US8873173038"
          ]
         ],
         "hovertemplate": "ISIN=%{customdata[0]}<br>Quarter=%{x}<br>Value of Mkt value=%{y:.2}<extra></extra>",
         "legendgroup": "US8873173038",
         "marker": {
          "color": "#FF97FF",
          "pattern": {
           "shape": ""
          }
         },
         "name": "US8873173038",
         "orientation": "v",
         "showlegend": true,
         "textposition": "auto",
         "type": "bar",
         "x": [
          "2018-Q1"
         ],
         "xaxis": "x",
         "y": {
          "bdata": "j8I1JaMhxUE=",
          "dtype": "f8"
         },
         "yaxis": "y"
        },
        {
         "customdata": [
          [
           "US9078181081"
          ],
          [
           "US9078181081"
          ],
          [
           "US9078181081"
          ],
          [
           "US9078181081"
          ],
          [
           "US9078181081"
          ],
          [
           "US9078181081"
          ],
          [
           "US9078181081"
          ],
          [
           "US9078181081"
          ],
          [
           "US9078181081"
          ],
          [
           "US9078181081"
          ],
          [
           "US9078181081"
          ],
          [
           "US9078181081"
          ],
          [
           "US9078181081"
          ],
          [
           "US9078181081"
          ],
          [
           "US9078181081"
          ],
          [
           "US9078181081"
          ],
          [
           "US9078181081"
          ],
          [
           "US9078181081"
          ],
          [
           "US9078181081"
          ],
          [
           "US9078181081"
          ],
          [
           "US9078181081"
          ],
          [
           "US9078181081"
          ],
          [
           "US9078181081"
          ],
          [
           "US9078181081"
          ],
          [
           "US9078181081"
          ],
          [
           "US9078181081"
          ],
          [
           "US9078181081"
          ]
         ],
         "hovertemplate": "ISIN=%{customdata[0]}<br>Quarter=%{x}<br>Value of Mkt value=%{y:.2}<extra></extra>",
         "legendgroup": "US9078181081",
         "marker": {
          "color": "#FECB52",
          "pattern": {
           "shape": ""
          }
         },
         "name": "US9078181081",
         "orientation": "v",
         "showlegend": true,
         "textposition": "auto",
         "type": "bar",
         "x": [
          "2018-Q1",
          "2018-Q2",
          "2018-Q3",
          "2018-Q4",
          "2019-Q1",
          "2019-Q2",
          "2019-Q3",
          "2019-Q4",
          "2020-Q1",
          "2020-Q2",
          "2020-Q3",
          "2020-Q4",
          "2020-Q4",
          "2021-Q1",
          "2021-Q1",
          "2021-Q2",
          "2021-Q3",
          "2021-Q3",
          "2021-Q4",
          "2021-Q4",
          "2022-Q1",
          "2022-Q2",
          "2022-Q2",
          "2022-Q3",
          "2022-Q3",
          "2022-Q3",
          "2022-Q4"
         ],
         "xaxis": "x",
         "y": {
          "bdata": "AAAAAA52YkGuR+FmInKtQeF6NFZFachBuB7lsHTMzkEAAABzis3SQeF6dNLQ08dB16MwsS+Sx0FSuH5iOALLQa5H4S7dK8lBpHBdfL5QzkEfhTvgaqbRQQAAAAB/23NBuB6lHXxb0kEAAACAGgV1QSlcP1qcbtNBMzPTHOe/0kEAAACAZrFyQWZmBp8Va9BBAAAAgKIGeEF7FE5PwYHWQa5H0aESRtVBAAAAAAhXdEE9CtfWFkrQQQAAAABZlHJBAAAA8LVGk0GF61E6S9TMQexRuF7UZjBB",
          "dtype": "f8"
         },
         "yaxis": "y"
        },
        {
         "customdata": [
          [
           "US92343V1044"
          ],
          [
           "US92343V1044"
          ]
         ],
         "hovertemplate": "ISIN=%{customdata[0]}<br>Quarter=%{x}<br>Value of Mkt value=%{y:.2}<extra></extra>",
         "legendgroup": "US92343V1044",
         "marker": {
          "color": "#636efa",
          "pattern": {
           "shape": ""
          }
         },
         "name": "US92343V1044",
         "orientation": "v",
         "showlegend": true,
         "textposition": "auto",
         "type": "bar",
         "x": [
          "2018-Q1",
          "2018-Q2"
         ],
         "xaxis": "x",
         "y": {
          "bdata": "XI/CHWavfcHhehQCGjt/wQ==",
          "dtype": "f8"
         },
         "yaxis": "y"
        },
        {
         "customdata": [
          [
           "DE0007664039"
          ],
          [
           "DE0007664039"
          ]
         ],
         "hovertemplate": "ISIN=%{customdata[0]}<br>Quarter=%{x}<br>Value of Mkt value=%{y:.2}<extra></extra>",
         "legendgroup": "DE0007664039",
         "marker": {
          "color": "#EF553B",
          "pattern": {
           "shape": ""
          }
         },
         "name": "DE0007664039",
         "orientation": "v",
         "showlegend": true,
         "textposition": "auto",
         "type": "bar",
         "x": [
          "2018-Q1",
          "2018-Q3"
         ],
         "xaxis": "x",
         "y": {
          "bdata": "exSuB8s0MkHarPrM38ezwQ==",
          "dtype": "f8"
         },
         "yaxis": "y"
        },
        {
         "customdata": [
          [
           "US2546871060"
          ],
          [
           "US2546871060"
          ],
          [
           "US2546871060"
          ],
          [
           "US2546871060"
          ]
         ],
         "hovertemplate": "ISIN=%{customdata[0]}<br>Quarter=%{x}<br>Value of Mkt value=%{y:.2}<extra></extra>",
         "legendgroup": "US2546871060",
         "marker": {
          "color": "#00cc96",
          "pattern": {
           "shape": ""
          }
         },
         "name": "US2546871060",
         "orientation": "v",
         "showlegend": true,
         "textposition": "auto",
         "type": "bar",
         "x": [
          "2018-Q1",
          "2018-Q2",
          "2018-Q3",
          "2018-Q4"
         ],
         "xaxis": "x",
         "y": {
          "bdata": "Zmbmixpg3sFxParEvmDkwbgetSnWuuHBMzP7FOOf4ME=",
          "dtype": "f8"
         },
         "yaxis": "y"
        },
        {
         "customdata": [
          [
           "IT0003506190"
          ],
          [
           "IT0003506190"
          ],
          [
           "IT0003506190"
          ],
          [
           "IT0003506190"
          ],
          [
           "IT0003506190"
          ],
          [
           "IT0003506190"
          ],
          [
           "IT0003506190"
          ],
          [
           "IT0003506190"
          ],
          [
           "IT0003506190"
          ],
          [
           "IT0003506190"
          ],
          [
           "IT0003506190"
          ],
          [
           "IT0003506190"
          ],
          [
           "IT0003506190"
          ],
          [
           "IT0003506190"
          ],
          [
           "IT0003506190"
          ],
          [
           "IT0003506190"
          ],
          [
           "IT0003506190"
          ],
          [
           "IT0003506190"
          ],
          [
           "IT0003506190"
          ],
          [
           "IT0003506190"
          ],
          [
           "IT0003506190"
          ],
          [
           "IT0003506190"
          ],
          [
           "IT0003506190"
          ],
          [
           "IT0003506190"
          ],
          [
           "IT0003506190"
          ],
          [
           "IT0003506190"
          ],
          [
           "IT0003506190"
          ],
          [
           "IT0003506190"
          ],
          [
           "IT0003506190"
          ],
          [
           "IT0003506190"
          ],
          [
           "IT0003506190"
          ],
          [
           "IT0003506190"
          ],
          [
           "IT0003506190"
          ]
         ],
         "hovertemplate": "ISIN=%{customdata[0]}<br>Quarter=%{x}<br>Value of Mkt value=%{y:.2}<extra></extra>",
         "legendgroup": "IT0003506190",
         "marker": {
          "color": "#ab63fa",
          "pattern": {
           "shape": ""
          }
         },
         "name": "IT0003506190",
         "orientation": "v",
         "showlegend": true,
         "textposition": "auto",
         "type": "bar",
         "x": [
          "2018-Q1",
          "2018-Q2",
          "2018-Q3",
          "2018-Q4",
          "2019-Q1",
          "2019-Q2",
          "2019-Q3",
          "2019-Q3",
          "2019-Q4",
          "2019-Q4",
          "2020-Q1",
          "2020-Q1",
          "2020-Q2",
          "2020-Q2",
          "2020-Q3",
          "2020-Q3",
          "2020-Q3",
          "2020-Q4",
          "2020-Q4",
          "2020-Q4",
          "2021-Q1",
          "2021-Q1",
          "2021-Q1",
          "2021-Q2",
          "2021-Q2",
          "2021-Q3",
          "2021-Q3",
          "2021-Q3",
          "2021-Q4",
          "2021-Q4",
          "2021-Q4",
          "2022-Q1",
          "2022-Q1"
         ],
         "xaxis": "x",
         "y": {
          "bdata": "gvO02onP0kH/BHdtsanSQb3wwnCmLtVBRQBkhF1K1UHTXXNflf7ZQShJuSbA0dpBNV66BS8XhEGhZ/dgXUbYQTs2AkWfXINBFk5+m/Jk10GQgxLynPN0QfAZ/RK0UMlB/mX3iBQBekF6Nsjz6R7QQeyi6FZnBVlBQnZeB3UTjkHwaluAypjPQWCDLuOzCtJBw0Ve7x/hkEGUh5WYkY+GQUcD4vf4xtJB5IMeu0ORkUH2KNzN/nqHQTlFh4QIuYZB3nFn9t4700HgfgNGrcXTQZ+rnQ13zZFBrWlevSNgYkEmcsuwSbPUQdo7IyJoo5JBbvseefc8Y0HjNhqiCCyWQYqrQqH4HtFB",
          "dtype": "f8"
         },
         "yaxis": "y"
        },
        {
         "customdata": [
          [
           "AU000000AZJ1"
          ],
          [
           "AU000000AZJ1"
          ],
          [
           "AU000000AZJ1"
          ]
         ],
         "hovertemplate": "ISIN=%{customdata[0]}<br>Quarter=%{x}<br>Value of Mkt value=%{y:.2}<extra></extra>",
         "legendgroup": "AU000000AZJ1",
         "marker": {
          "color": "#FFA15A",
          "pattern": {
           "shape": ""
          }
         },
         "name": "AU000000AZJ1",
         "orientation": "v",
         "showlegend": true,
         "textposition": "auto",
         "type": "bar",
         "x": [
          "2018-Q1",
          "2018-Q2",
          "2018-Q3"
         ],
         "xaxis": "x",
         "y": {
          "bdata": "aHpO6X9T2EHIJiR1ASvVQWOzrRiRz79B",
          "dtype": "f8"
         },
         "yaxis": "y"
        },
        {
         "customdata": [
          [
           "BRCESPACNPB4"
          ],
          [
           "BRCESPACNPB4"
          ],
          [
           "BRCESPACNPB4"
          ],
          [
           "BRCESPACNPB4"
          ],
          [
           "BRCESPACNPB4"
          ],
          [
           "BRCESPACNPB4"
          ],
          [
           "BRCESPACNPB4"
          ],
          [
           "BRCESPACNPB4"
          ],
          [
           "BRCESPACNPB4"
          ],
          [
           "BRCESPACNPB4"
          ],
          [
           "BRCESPACNPB4"
          ],
          [
           "BRCESPACNPB4"
          ],
          [
           "BRCESPACNPB4"
          ],
          [
           "BRCESPACNPB4"
          ],
          [
           "BRCESPACNPB4"
          ]
         ],
         "hovertemplate": "ISIN=%{customdata[0]}<br>Quarter=%{x}<br>Value of Mkt value=%{y:.2}<extra></extra>",
         "legendgroup": "BRCESPACNPB4",
         "marker": {
          "color": "#19d3f3",
          "pattern": {
           "shape": ""
          }
         },
         "name": "BRCESPACNPB4",
         "orientation": "v",
         "showlegend": true,
         "textposition": "auto",
         "type": "bar",
         "x": [
          "2018-Q1",
          "2018-Q2",
          "2018-Q3",
          "2018-Q4",
          "2019-Q1",
          "2019-Q2",
          "2019-Q3",
          "2019-Q3",
          "2019-Q3",
          "2019-Q4",
          "2019-Q4",
          "2019-Q4",
          "2020-Q1",
          "2020-Q1",
          "2020-Q1"
         ],
         "xaxis": "x",
         "y": {
          "bdata": "+bmSi1CPrEFQRScbWQGpQaz4TyjnuqVBoGukVX+OrUGLpBXazfepQdfd5Ac9J6lBzQd/K9gacUHn+8mv95KSQTMuUaIz+ZJBEPWRA/gokEEj3lUVeGRkQXSq/vIg/JVBRiTqVe+SjEFF034Ig0ZTQYs7OYjOiFhB",
          "dtype": "f8"
         },
         "yaxis": "y"
        },
        {
         "customdata": [
          [
           "SE0000106270"
          ],
          [
           "SE0000106270"
          ],
          [
           "SE0000106270"
          ],
          [
           "SE0000106270"
          ]
         ],
         "hovertemplate": "ISIN=%{customdata[0]}<br>Quarter=%{x}<br>Value of Mkt value=%{y:.2}<extra></extra>",
         "legendgroup": "SE0000106270",
         "marker": {
          "color": "#FF6692",
          "pattern": {
           "shape": ""
          }
         },
         "name": "SE0000106270",
         "orientation": "v",
         "showlegend": true,
         "textposition": "auto",
         "type": "bar",
         "x": [
          "2018-Q1",
          "2018-Q2",
          "2018-Q3",
          "2018-Q4"
         ],
         "xaxis": "x",
         "y": {
          "bdata": "CPbxPWgzm8Gmd2YmiQubwWd3RfC1U5vBoaYRqG0qksE=",
          "dtype": "f8"
         },
         "yaxis": "y"
        },
        {
         "customdata": [
          [
           "SE0000652216"
          ],
          [
           "SE0000652216"
          ]
         ],
         "hovertemplate": "ISIN=%{customdata[0]}<br>Quarter=%{x}<br>Value of Mkt value=%{y:.2}<extra></extra>",
         "legendgroup": "SE0000652216",
         "marker": {
          "color": "#B6E880",
          "pattern": {
           "shape": ""
          }
         },
         "name": "SE0000652216",
         "orientation": "v",
         "showlegend": true,
         "textposition": "auto",
         "type": "bar",
         "x": [
          "2018-Q1",
          "2018-Q2"
         ],
         "xaxis": "x",
         "y": {
          "bdata": "T4XuEpYzf8FIA1NsDw17wQ==",
          "dtype": "f8"
         },
         "yaxis": "y"
        },
        {
         "customdata": [
          [
           "JP3672400003"
          ]
         ],
         "hovertemplate": "ISIN=%{customdata[0]}<br>Quarter=%{x}<br>Value of Mkt value=%{y:.2}<extra></extra>",
         "legendgroup": "JP3672400003",
         "marker": {
          "color": "#FF97FF",
          "pattern": {
           "shape": ""
          }
         },
         "name": "JP3672400003",
         "orientation": "v",
         "showlegend": true,
         "textposition": "auto",
         "type": "bar",
         "x": [
          "2018-Q1"
         ],
         "xaxis": "x",
         "y": {
          "bdata": "vSO5R7tDdME=",
          "dtype": "f8"
         },
         "yaxis": "y"
        },
        {
         "customdata": [
          [
           "DE000PAH0038"
          ],
          [
           "DE000PAH0038"
          ],
          [
           "DE000PAH0038"
          ]
         ],
         "hovertemplate": "ISIN=%{customdata[0]}<br>Quarter=%{x}<br>Value of Mkt value=%{y:.2}<extra></extra>",
         "legendgroup": "DE000PAH0038",
         "marker": {
          "color": "#FECB52",
          "pattern": {
           "shape": ""
          }
         },
         "name": "DE000PAH0038",
         "orientation": "v",
         "showlegend": true,
         "textposition": "auto",
         "type": "bar",
         "x": [
          "2018-Q1",
          "2018-Q2",
          "2018-Q3"
         ],
         "xaxis": "x",
         "y": {
          "bdata": "CtcrLzIJ2UHL+FcONlfKQW3n63031bNB",
          "dtype": "f8"
         },
         "yaxis": "y"
        },
        {
         "customdata": [
          [
           "DE000PSM7770"
          ],
          [
           "DE000PSM7770"
          ]
         ],
         "hovertemplate": "ISIN=%{customdata[0]}<br>Quarter=%{x}<br>Value of Mkt value=%{y:.2}<extra></extra>",
         "legendgroup": "DE000PSM7770",
         "marker": {
          "color": "#636efa",
          "pattern": {
           "shape": ""
          }
         },
         "name": "DE000PSM7770",
         "orientation": "v",
         "showlegend": true,
         "textposition": "auto",
         "type": "bar",
         "x": [
          "2018-Q1",
          "2018-Q2"
         ],
         "xaxis": "x",
         "y": {
          "bdata": "mG4Sf9WwYsElBoGtilVbwQ==",
          "dtype": "f8"
         },
         "yaxis": "y"
        },
        {
         "customdata": [
          [
           "SE0000108227"
          ],
          [
           "SE0000108227"
          ],
          [
           "SE0000108227"
          ]
         ],
         "hovertemplate": "ISIN=%{customdata[0]}<br>Quarter=%{x}<br>Value of Mkt value=%{y:.2}<extra></extra>",
         "legendgroup": "SE0000108227",
         "marker": {
          "color": "#EF553B",
          "pattern": {
           "shape": ""
          }
         },
         "name": "SE0000108227",
         "orientation": "v",
         "showlegend": true,
         "textposition": "auto",
         "type": "bar",
         "x": [
          "2018-Q1",
          "2018-Q2",
          "2018-Q3"
         ],
         "xaxis": "x",
         "y": {
          "bdata": "/yQ+i799c8F+wr5WTsRxwZcIr9w0EHDB",
          "dtype": "f8"
         },
         "yaxis": "y"
        },
        {
         "customdata": [
          [
           "AU000000WOW2"
          ],
          [
           "AU000000WOW2"
          ],
          [
           "AU000000WOW2"
          ],
          [
           "AU000000WOW2"
          ],
          [
           "AU000000WOW2"
          ],
          [
           "AU000000WOW2"
          ],
          [
           "AU000000WOW2"
          ],
          [
           "AU000000WOW2"
          ],
          [
           "AU000000WOW2"
          ],
          [
           "AU000000WOW2"
          ]
         ],
         "hovertemplate": "ISIN=%{customdata[0]}<br>Quarter=%{x}<br>Value of Mkt value=%{y:.2}<extra></extra>",
         "legendgroup": "AU000000WOW2",
         "marker": {
          "color": "#00cc96",
          "pattern": {
           "shape": ""
          }
         },
         "name": "AU000000WOW2",
         "orientation": "v",
         "showlegend": true,
         "textposition": "auto",
         "type": "bar",
         "x": [
          "2018-Q1",
          "2018-Q2",
          "2018-Q3",
          "2018-Q4",
          "2019-Q1",
          "2019-Q2",
          "2019-Q3",
          "2019-Q4",
          "2020-Q1",
          "2020-Q2"
         ],
         "xaxis": "x",
         "y": {
          "bdata": "46RES/TcwsE/HDzMHhzFwSEd5qMpAMHB8Q5ML8ZNtsERcAis4F2pwX43xX2UCanB+n5qzy4Dq8GZY3nuuz6rwV668SkDIKfBxqNUsK7ilME=",
          "dtype": "f8"
         },
         "yaxis": "y"
        },
        {
         "customdata": [
          [
           "JP3933800009"
          ],
          [
           "JP3933800009"
          ]
         ],
         "hovertemplate": "ISIN=%{customdata[0]}<br>Quarter=%{x}<br>Value of Mkt value=%{y:.2}<extra></extra>",
         "legendgroup": "JP3933800009",
         "marker": {
          "color": "#ab63fa",
          "pattern": {
           "shape": ""
          }
         },
         "name": "JP3933800009",
         "orientation": "v",
         "showlegend": true,
         "textposition": "auto",
         "type": "bar",
         "x": [
          "2018-Q1",
          "2018-Q2"
         ],
         "xaxis": "x",
         "y": {
          "bdata": "O5Vibum+ncFOJM354EaVwQ==",
          "dtype": "f8"
         },
         "yaxis": "y"
        },
        {
         "customdata": [
          [
           "US00090Q1031"
          ],
          [
           "US00090Q1031"
          ],
          [
           "US00090Q1031"
          ]
         ],
         "hovertemplate": "ISIN=%{customdata[0]}<br>Quarter=%{x}<br>Value of Mkt value=%{y:.2}<extra></extra>",
         "legendgroup": "US00090Q1031",
         "marker": {
          "color": "#FFA15A",
          "pattern": {
           "shape": ""
          }
         },
         "name": "US00090Q1031",
         "orientation": "v",
         "showlegend": true,
         "textposition": "auto",
         "type": "bar",
         "x": [
          "2018-Q2",
          "2018-Q3",
          "2018-Q4"
         ],
         "xaxis": "x",
         "y": {
          "bdata": "ZmZmZijXJMEK16Nwk58mwbgeheu19RzB",
          "dtype": "f8"
         },
         "yaxis": "y"
        },
        {
         "customdata": [
          [
           "JE00B2QKY057"
          ],
          [
           "JE00B2QKY057"
          ],
          [
           "JE00B2QKY057"
          ]
         ],
         "hovertemplate": "ISIN=%{customdata[0]}<br>Quarter=%{x}<br>Value of Mkt value=%{y:.2}<extra></extra>",
         "legendgroup": "JE00B2QKY057",
         "marker": {
          "color": "#19d3f3",
          "pattern": {
           "shape": ""
          }
         },
         "name": "JE00B2QKY057",
         "orientation": "v",
         "showlegend": true,
         "textposition": "auto",
         "type": "bar",
         "x": [
          "2018-Q2",
          "2018-Q3",
          "2018-Q4"
         ],
         "xaxis": "x",
         "y": {
          "bdata": "zczMNerSfUGkcL0MSeN/QTMzM90D3X5B",
          "dtype": "f8"
         },
         "yaxis": "y"
        },
        {
         "customdata": [
          [
           "JP3463000004"
          ],
          [
           "JP3463000004"
          ],
          [
           "JP3463000004"
          ]
         ],
         "hovertemplate": "ISIN=%{customdata[0]}<br>Quarter=%{x}<br>Value of Mkt value=%{y:.2}<extra></extra>",
         "legendgroup": "JP3463000004",
         "marker": {
          "color": "#FF6692",
          "pattern": {
           "shape": ""
          }
         },
         "name": "JP3463000004",
         "orientation": "v",
         "showlegend": true,
         "textposition": "auto",
         "type": "bar",
         "x": [
          "2018-Q2",
          "2018-Q3",
          "2018-Q4"
         ],
         "xaxis": "x",
         "y": {
          "bdata": "lDviPevEcsHJDsAje/xywVoUkTTLB27B",
          "dtype": "f8"
         },
         "yaxis": "y"
        },
        {
         "customdata": [
          [
           "CA1363751027"
          ],
          [
           "CA1363751027"
          ],
          [
           "CA1363751027"
          ],
          [
           "CA1363751027"
          ],
          [
           "CA1363751027"
          ],
          [
           "CA1363751027"
          ],
          [
           "CA1363751027"
          ],
          [
           "CA1363751027"
          ],
          [
           "CA1363751027"
          ],
          [
           "CA1363751027"
          ],
          [
           "CA1363751027"
          ],
          [
           "CA1363751027"
          ],
          [
           "CA1363751027"
          ],
          [
           "CA1363751027"
          ],
          [
           "CA1363751027"
          ],
          [
           "CA1363751027"
          ],
          [
           "CA1363751027"
          ],
          [
           "CA1363751027"
          ],
          [
           "CA1363751027"
          ],
          [
           "CA1363751027"
          ],
          [
           "CA1363751027"
          ],
          [
           "CA1363751027"
          ],
          [
           "CA1363751027"
          ],
          [
           "CA1363751027"
          ],
          [
           "CA1363751027"
          ],
          [
           "CA1363751027"
          ],
          [
           "CA1363751027"
          ],
          [
           "CA1363751027"
          ],
          [
           "CA1363751027"
          ],
          [
           "CA1363751027"
          ],
          [
           "CA1363751027"
          ],
          [
           "CA1363751027"
          ],
          [
           "CA1363751027"
          ],
          [
           "CA1363751027"
          ],
          [
           "CA1363751027"
          ],
          [
           "CA1363751027"
          ],
          [
           "CA1363751027"
          ],
          [
           "CA1363751027"
          ],
          [
           "CA1363751027"
          ],
          [
           "CA1363751027"
          ],
          [
           "CA1363751027"
          ],
          [
           "CA1363751027"
          ],
          [
           "CA1363751027"
          ],
          [
           "CA1363751027"
          ],
          [
           "CA1363751027"
          ],
          [
           "CA1363751027"
          ],
          [
           "CA1363751027"
          ],
          [
           "CA1363751027"
          ],
          [
           "CA1363751027"
          ],
          [
           "CA1363751027"
          ],
          [
           "CA1363751027"
          ],
          [
           "CA1363751027"
          ],
          [
           "CA1363751027"
          ],
          [
           "CA1363751027"
          ],
          [
           "CA1363751027"
          ],
          [
           "CA1363751027"
          ],
          [
           "CA1363751027"
          ],
          [
           "CA1363751027"
          ],
          [
           "CA1363751027"
          ],
          [
           "CA1363751027"
          ],
          [
           "CA1363751027"
          ],
          [
           "CA1363751027"
          ],
          [
           "CA1363751027"
          ],
          [
           "CA1363751027"
          ]
         ],
         "hovertemplate": "ISIN=%{customdata[0]}<br>Quarter=%{x}<br>Value of Mkt value=%{y:.2}<extra></extra>",
         "legendgroup": "CA1363751027",
         "marker": {
          "color": "#B6E880",
          "pattern": {
           "shape": ""
          }
         },
         "name": "CA1363751027",
         "orientation": "v",
         "showlegend": true,
         "textposition": "auto",
         "type": "bar",
         "x": [
          "2018-Q3",
          "2018-Q3",
          "2018-Q4",
          "2018-Q4",
          "2019-Q1",
          "2019-Q1",
          "2019-Q2",
          "2019-Q2",
          "2019-Q3",
          "2019-Q3",
          "2019-Q4",
          "2019-Q4",
          "2020-Q1",
          "2020-Q1",
          "2020-Q2",
          "2020-Q2",
          "2020-Q3",
          "2020-Q3",
          "2020-Q4",
          "2020-Q4",
          "2021-Q1",
          "2021-Q1",
          "2021-Q2",
          "2021-Q2",
          "2021-Q3",
          "2021-Q3",
          "2021-Q4",
          "2021-Q4",
          "2022-Q1",
          "2022-Q1",
          "2022-Q2",
          "2022-Q2",
          "2022-Q3",
          "2022-Q3",
          "2022-Q3",
          "2022-Q4",
          "2022-Q4",
          "2022-Q4",
          "2023-Q1",
          "2023-Q1",
          "2023-Q1",
          "2023-Q1",
          "2023-Q2",
          "2023-Q2",
          "2023-Q2",
          "2023-Q2",
          "2023-Q3",
          "2023-Q3",
          "2023-Q3",
          "2023-Q3",
          "2023-Q4",
          "2023-Q4",
          "2024-Q1",
          "2024-Q1",
          "2024-Q2",
          "2024-Q2",
          "2024-Q2",
          "2024-Q2",
          "2024-Q3",
          "2024-Q3",
          "2024-Q4",
          "2024-Q4",
          "2025-Q1",
          "2025-Q1"
         ],
         "xaxis": "x",
         "y": {
          "bdata": "AAAA4P3IgkHaUz8RBYycQQAAQNGk0LNB96Z+fPYGuUEAAABrDxm5Qa5hEmPcasNBCtejnM5txEFCB0NUO/DKQUjhOvCk2cNB39QgBXZwykGamXlaAvvDQdtuqeXzNstBPQr3iQcmwUG5BJcVS2HIQc3MzLfTzcNB0UwlwfGSy0FmZmbo3c3HQffbppJfl9BBuZmx6ksi0UEAAADb6Y/IQTMzM93M7slBoaRvcS4Y0kFI4XqacrvQQZCCMMin79dBZma2T/Q71EH6hG+vl0vhQSlcb8HjftVBO0ts2NBg4kHXo9C2HnjXQWkMfg6fCeRBUriOu4Wt00ECD8Ya787gQQAAACAgFZRBcT16D4uj0UEgKOSI7R7gQQAAAACSG5ZBqdEW4Me+4UFI4XoT52rTQQAAAEBRIHxBAAAAuEgsqUFy7hyDaqHhQVK47pTTDdFBAAAAwIbdfEEAAABIoNWpQTP2mAzRFeVBmpmZv5ke00EAAABA8NN5QQAAAFivHadBNI1RLhnY4kFmZma4jBvRQaFKphca3eVBZmZmIJqo10HNzMzGt83YQWOg/XRN1+ZBAAAAQBUqfEEAAAA4BjWpQfOZ9hzcfeRBZmZmIL6n0kEAAABayA/WQRUrpqORKeJBSTD2GoxX2UHsURgcFPPRQSj6BtrC+NRBUrjeiCrn0EE=",
          "dtype": "f8"
         },
         "yaxis": "y"
        },
        {
         "customdata": [
          [
           "US5312298541"
          ],
          [
           "US5312298541"
          ]
         ],
         "hovertemplate": "ISIN=%{customdata[0]}<br>Quarter=%{x}<br>Value of Mkt value=%{y:.2}<extra></extra>",
         "legendgroup": "US5312298541",
         "marker": {
          "color": "#FF97FF",
          "pattern": {
           "shape": ""
          }
         },
         "name": "US5312298541",
         "orientation": "v",
         "showlegend": true,
         "textposition": "auto",
         "type": "bar",
         "x": [
          "2018-Q3",
          "2018-Q4"
         ],
         "xaxis": "x",
         "y": {
          "bdata": "j8L1UPLLYkGamZnnxMORQQ==",
          "dtype": "f8"
         },
         "yaxis": "y"
        },
        {
         "customdata": [
          [
           "US5380341090"
          ],
          [
           "US5380341090"
          ]
         ],
         "hovertemplate": "ISIN=%{customdata[0]}<br>Quarter=%{x}<br>Value of Mkt value=%{y:.2}<extra></extra>",
         "legendgroup": "US5380341090",
         "marker": {
          "color": "#FECB52",
          "pattern": {
           "shape": ""
          }
         },
         "name": "US5380341090",
         "orientation": "v",
         "showlegend": true,
         "textposition": "auto",
         "type": "bar",
         "x": [
          "2018-Q3",
          "2018-Q4"
         ],
         "xaxis": "x",
         "y": {
          "bdata": "7FG47iJYUMEAAABEDhSBwQ==",
          "dtype": "f8"
         },
         "yaxis": "y"
        },
        {
         "customdata": [
          [
           "US69331C1080"
          ]
         ],
         "hovertemplate": "ISIN=%{customdata[0]}<br>Quarter=%{x}<br>Value of Mkt value=%{y:.2}<extra></extra>",
         "legendgroup": "US69331C1080",
         "marker": {
          "color": "#636efa",
          "pattern": {
           "shape": ""
          }
         },
         "name": "US69331C1080",
         "orientation": "v",
         "showlegend": true,
         "textposition": "auto",
         "type": "bar",
         "x": [
          "2018-Q3"
         ],
         "xaxis": "x",
         "y": {
          "bdata": "rkfhAHi6jkE=",
          "dtype": "f8"
         },
         "yaxis": "y"
        },
        {
         "customdata": [
          [
           "US90130A3095"
          ]
         ],
         "hovertemplate": "ISIN=%{customdata[0]}<br>Quarter=%{x}<br>Value of Mkt value=%{y:.2}<extra></extra>",
         "legendgroup": "US90130A3095",
         "marker": {
          "color": "#EF553B",
          "pattern": {
           "shape": ""
          }
         },
         "name": "US90130A3095",
         "orientation": "v",
         "showlegend": true,
         "textposition": "auto",
         "type": "bar",
         "x": [
          "2018-Q4"
         ],
         "xaxis": "x",
         "y": {
          "bdata": "H4WbMdVQ8kE=",
          "dtype": "f8"
         },
         "yaxis": "y"
        },
        {
         "customdata": [
          [
           "US90130A4085"
          ]
         ],
         "hovertemplate": "ISIN=%{customdata[0]}<br>Quarter=%{x}<br>Value of Mkt value=%{y:.2}<extra></extra>",
         "legendgroup": "US90130A4085",
         "marker": {
          "color": "#00cc96",
          "pattern": {
           "shape": ""
          }
         },
         "name": "US90130A4085",
         "orientation": "v",
         "showlegend": true,
         "textposition": "auto",
         "type": "bar",
         "x": [
          "2018-Q4"
         ],
         "xaxis": "x",
         "y": {
          "bdata": "Ctfj63LazEE=",
          "dtype": "f8"
         },
         "yaxis": "y"
        },
        {
         "customdata": [
          [
           "US35137L1052"
          ]
         ],
         "hovertemplate": "ISIN=%{customdata[0]}<br>Quarter=%{x}<br>Value of Mkt value=%{y:.2}<extra></extra>",
         "legendgroup": "US35137L1052",
         "marker": {
          "color": "#ab63fa",
          "pattern": {
           "shape": ""
          }
         },
         "name": "US35137L1052",
         "orientation": "v",
         "showlegend": true,
         "textposition": "auto",
         "type": "bar",
         "x": [
          "2019-Q1"
         ],
         "xaxis": "x",
         "y": {
          "bdata": "16NwQMAtuEE=",
          "dtype": "f8"
         },
         "yaxis": "y"
        },
        {
         "customdata": [
          [
           "US35137L2043"
          ]
         ],
         "hovertemplate": "ISIN=%{customdata[0]}<br>Quarter=%{x}<br>Value of Mkt value=%{y:.2}<extra></extra>",
         "legendgroup": "US35137L2043",
         "marker": {
          "color": "#FFA15A",
          "pattern": {
           "shape": ""
          }
         },
         "name": "US35137L2043",
         "orientation": "v",
         "showlegend": true,
         "textposition": "auto",
         "type": "bar",
         "x": [
          "2019-Q1"
         ],
         "xaxis": "x",
         "y": {
          "bdata": "w/UoiMQVnkE=",
          "dtype": "f8"
         },
         "yaxis": "y"
        },
        {
         "customdata": [
          [
           "DE000A1DAHH0"
          ],
          [
           "DE000A1DAHH0"
          ],
          [
           "DE000A1DAHH0"
          ],
          [
           "DE000A1DAHH0"
          ],
          [
           "DE000A1DAHH0"
          ]
         ],
         "hovertemplate": "ISIN=%{customdata[0]}<br>Quarter=%{x}<br>Value of Mkt value=%{y:.2}<extra></extra>",
         "legendgroup": "DE000A1DAHH0",
         "marker": {
          "color": "#19d3f3",
          "pattern": {
           "shape": ""
          }
         },
         "name": "DE000A1DAHH0",
         "orientation": "v",
         "showlegend": true,
         "textposition": "auto",
         "type": "bar",
         "x": [
          "2019-Q1",
          "2019-Q2",
          "2019-Q2",
          "2019-Q3",
          "2019-Q3"
         ],
         "xaxis": "x",
         "y": {
          "bdata": "lMGxy9oAj0ERNtyFt8OQQZEKY8uRRlRB9ihcWbSDkUFt5/upPe1TQQ==",
          "dtype": "f8"
         },
         "yaxis": "y"
        },
        {
         "customdata": [
          [
           "US2944291051"
          ],
          [
           "US2944291051"
          ],
          [
           "US2944291051"
          ]
         ],
         "hovertemplate": "ISIN=%{customdata[0]}<br>Quarter=%{x}<br>Value of Mkt value=%{y:.2}<extra></extra>",
         "legendgroup": "US2944291051",
         "marker": {
          "color": "#FF6692",
          "pattern": {
           "shape": ""
          }
         },
         "name": "US2944291051",
         "orientation": "v",
         "showlegend": true,
         "textposition": "auto",
         "type": "bar",
         "x": [
          "2019-Q1",
          "2019-Q2",
          "2019-Q3"
         ],
         "xaxis": "x",
         "y": {
          "bdata": "AAAAZ2MVp0E9CtfRLliqQbgehSBsLppB",
          "dtype": "f8"
         },
         "yaxis": "y"
        },
        {
         "customdata": [
          [
           "US91336L1070"
          ],
          [
           "US91336L1070"
          ],
          [
           "US91336L1070"
          ],
          [
           "US91336L1070"
          ],
          [
           "US91336L1070"
          ],
          [
           "US91336L1070"
          ],
          [
           "US91336L1070"
          ]
         ],
         "hovertemplate": "ISIN=%{customdata[0]}<br>Quarter=%{x}<br>Value of Mkt value=%{y:.2}<extra></extra>",
         "legendgroup": "US91336L1070",
         "marker": {
          "color": "#B6E880",
          "pattern": {
           "shape": ""
          }
         },
         "name": "US91336L1070",
         "orientation": "v",
         "showlegend": true,
         "textposition": "auto",
         "type": "bar",
         "x": [
          "2019-Q1",
          "2019-Q2",
          "2019-Q3",
          "2019-Q4",
          "2020-Q1",
          "2020-Q2",
          "2020-Q2"
         ],
         "xaxis": "x",
         "y": {
          "bdata": "UrgeTakrkUGF61Fd/8OxQeF6FJ+u3bFBH4XrY17ctEEAAACgLJOhQQAAAAA2FHBBmpmZPV9hp0E=",
          "dtype": "f8"
         },
         "yaxis": "y"
        },
        {
         "customdata": [
          [
           "US92553P2011"
          ]
         ],
         "hovertemplate": "ISIN=%{customdata[0]}<br>Quarter=%{x}<br>Value of Mkt value=%{y:.2}<extra></extra>",
         "legendgroup": "US92553P2011",
         "marker": {
          "color": "#FF97FF",
          "pattern": {
           "shape": ""
          }
         },
         "name": "US92553P2011",
         "orientation": "v",
         "showlegend": true,
         "textposition": "auto",
         "type": "bar",
         "x": [
          "2019-Q1"
         ],
         "xaxis": "x",
         "y": {
          "bdata": "4XoUgj/ef8E=",
          "dtype": "f8"
         },
         "yaxis": "y"
        },
        {
         "customdata": [
          [
           "FR0000125486"
          ],
          [
           "FR0000125486"
          ],
          [
           "FR0000125486"
          ],
          [
           "FR0000125486"
          ],
          [
           "FR0000125486"
          ],
          [
           "FR0000125486"
          ],
          [
           "FR0000125486"
          ],
          [
           "FR0000125486"
          ],
          [
           "FR0000125486"
          ],
          [
           "FR0000125486"
          ],
          [
           "FR0000125486"
          ],
          [
           "FR0000125486"
          ],
          [
           "FR0000125486"
          ],
          [
           "FR0000125486"
          ],
          [
           "FR0000125486"
          ],
          [
           "FR0000125486"
          ],
          [
           "FR0000125486"
          ],
          [
           "FR0000125486"
          ],
          [
           "FR0000125486"
          ],
          [
           "FR0000125486"
          ],
          [
           "FR0000125486"
          ],
          [
           "FR0000125486"
          ],
          [
           "FR0000125486"
          ],
          [
           "FR0000125486"
          ],
          [
           "FR0000125486"
          ],
          [
           "FR0000125486"
          ],
          [
           "FR0000125486"
          ],
          [
           "FR0000125486"
          ],
          [
           "FR0000125486"
          ],
          [
           "FR0000125486"
          ],
          [
           "FR0000125486"
          ],
          [
           "FR0000125486"
          ],
          [
           "FR0000125486"
          ],
          [
           "FR0000125486"
          ],
          [
           "FR0000125486"
          ],
          [
           "FR0000125486"
          ],
          [
           "FR0000125486"
          ],
          [
           "FR0000125486"
          ],
          [
           "FR0000125486"
          ],
          [
           "FR0000125486"
          ],
          [
           "FR0000125486"
          ],
          [
           "FR0000125486"
          ],
          [
           "FR0000125486"
          ],
          [
           "FR0000125486"
          ],
          [
           "FR0000125486"
          ],
          [
           "FR0000125486"
          ],
          [
           "FR0000125486"
          ],
          [
           "FR0000125486"
          ],
          [
           "FR0000125486"
          ],
          [
           "FR0000125486"
          ],
          [
           "FR0000125486"
          ],
          [
           "FR0000125486"
          ],
          [
           "FR0000125486"
          ],
          [
           "FR0000125486"
          ],
          [
           "FR0000125486"
          ],
          [
           "FR0000125486"
          ],
          [
           "FR0000125486"
          ],
          [
           "FR0000125486"
          ],
          [
           "FR0000125486"
          ],
          [
           "FR0000125486"
          ],
          [
           "FR0000125486"
          ],
          [
           "FR0000125486"
          ],
          [
           "FR0000125486"
          ],
          [
           "FR0000125486"
          ],
          [
           "FR0000125486"
          ],
          [
           "FR0000125486"
          ],
          [
           "FR0000125486"
          ],
          [
           "FR0000125486"
          ],
          [
           "FR0000125486"
          ],
          [
           "FR0000125486"
          ],
          [
           "FR0000125486"
          ],
          [
           "FR0000125486"
          ],
          [
           "FR0000125486"
          ],
          [
           "FR0000125486"
          ],
          [
           "FR0000125486"
          ],
          [
           "FR0000125486"
          ],
          [
           "FR0000125486"
          ],
          [
           "FR0000125486"
          ],
          [
           "FR0000125486"
          ],
          [
           "FR0000125486"
          ],
          [
           "FR0000125486"
          ],
          [
           "FR0000125486"
          ],
          [
           "FR0000125486"
          ],
          [
           "FR0000125486"
          ],
          [
           "FR0000125486"
          ],
          [
           "FR0000125486"
          ],
          [
           "FR0000125486"
          ],
          [
           "FR0000125486"
          ],
          [
           "FR0000125486"
          ],
          [
           "FR0000125486"
          ],
          [
           "FR0000125486"
          ],
          [
           "FR0000125486"
          ],
          [
           "FR0000125486"
          ],
          [
           "FR0000125486"
          ],
          [
           "FR0000125486"
          ],
          [
           "FR0000125486"
          ],
          [
           "FR0000125486"
          ],
          [
           "FR0000125486"
          ],
          [
           "FR0000125486"
          ],
          [
           "FR0000125486"
          ],
          [
           "FR0000125486"
          ],
          [
           "FR0000125486"
          ],
          [
           "FR0000125486"
          ],
          [
           "FR0000125486"
          ],
          [
           "FR0000125486"
          ],
          [
           "FR0000125486"
          ]
         ],
         "hovertemplate": "ISIN=%{customdata[0]}<br>Quarter=%{x}<br>Value of Mkt value=%{y:.2}<extra></extra>",
         "legendgroup": "FR0000125486",
         "marker": {
          "color": "#FECB52",
          "pattern": {
           "shape": ""
          }
         },
         "name": "FR0000125486",
         "orientation": "v",
         "showlegend": true,
         "textposition": "auto",
         "type": "bar",
         "x": [
          "2019-Q1",
          "2019-Q2",
          "2019-Q3",
          "2019-Q4",
          "2020-Q1",
          "2020-Q1",
          "2020-Q2",
          "2020-Q2",
          "2020-Q2",
          "2020-Q3",
          "2020-Q3",
          "2020-Q3",
          "2020-Q3",
          "2020-Q3",
          "2020-Q4",
          "2020-Q4",
          "2020-Q4",
          "2020-Q4",
          "2020-Q4",
          "2021-Q1",
          "2021-Q1",
          "2021-Q1",
          "2021-Q1",
          "2021-Q1",
          "2021-Q2",
          "2021-Q2",
          "2021-Q3",
          "2021-Q3",
          "2021-Q3",
          "2021-Q3",
          "2021-Q3",
          "2021-Q3",
          "2021-Q4",
          "2021-Q4",
          "2021-Q4",
          "2021-Q4",
          "2021-Q4",
          "2021-Q4",
          "2022-Q1",
          "2022-Q1",
          "2022-Q2",
          "2022-Q2",
          "2022-Q2",
          "2022-Q2",
          "2022-Q2",
          "2022-Q2",
          "2022-Q3",
          "2022-Q3",
          "2022-Q3",
          "2022-Q3",
          "2022-Q3",
          "2022-Q3",
          "2022-Q3",
          "2022-Q3",
          "2022-Q4",
          "2022-Q4",
          "2022-Q4",
          "2022-Q4",
          "2022-Q4",
          "2022-Q4",
          "2022-Q4",
          "2022-Q4",
          "2023-Q1",
          "2023-Q1",
          "2023-Q1",
          "2023-Q1",
          "2023-Q1",
          "2023-Q1",
          "2023-Q1",
          "2023-Q1",
          "2023-Q2",
          "2023-Q2",
          "2023-Q2",
          "2023-Q2",
          "2023-Q2",
          "2023-Q2",
          "2023-Q2",
          "2023-Q3",
          "2023-Q3",
          "2023-Q3",
          "2023-Q3",
          "2023-Q3",
          "2023-Q3",
          "2023-Q3",
          "2023-Q4",
          "2023-Q4",
          "2023-Q4",
          "2023-Q4",
          "2024-Q1",
          "2024-Q1",
          "2024-Q1",
          "2024-Q1",
          "2024-Q2",
          "2024-Q2",
          "2024-Q2",
          "2024-Q2",
          "2024-Q2",
          "2024-Q2",
          "2024-Q2",
          "2024-Q2",
          "2024-Q3",
          "2024-Q3",
          "2024-Q4",
          "2024-Q4",
          "2025-Q1",
          "2025-Q1"
         ],
         "xaxis": "x",
         "y": {
          "bdata": "H/MB4yhurUGgT5S9q8DHQXDO2N+OztFBUkk9KZVZ0kGDabhnBwzMQbR2a8keysJBL910Xf4Mz0GynbdApBHWQSuHFiuOFqJBx50yE3y1zEFV2uKYIHqHQTEG1nWMZ9RBrMlT3iGUtUEOgg7lDb2qQYeKxZUMBdFBQ1k4VZijnkEmqOH50pW5QeBjsAFuMdhBajHYCAK0r0FSSR2QLEbRQbsPQB2/V7BBfLjknKOWn0GPGahsx2C6QcmTpFtX8dhBW11Fcgra0EGpog47IHPjQelxnaIzfNBBQ3Md22vJ10GamVkkNgaWQabVHIOPFqBBiEZ5ypmlsEGe0gGMcN66QW1Yd87Vr9BBtk3xpOwT2EE2zAChvdmwQeF6FLAxS5ZBJLbbVPNIoEHXS1OimDK7QZPIBP+NudpBOIdDPIPt3EEXZ1yelzjfQWh3SO1ttMBBCtej5BjLkkF9lTwiu8qhQY0qQ4vAdJtBdTkl7GLttkFxPQqyiASUQWcOO3P1iNtBF7qix/zUokGD/GzTlJO+Qfhv3nWq+7RBexQudh4zkUEC8SqeEjSUQaHb2/0+U65BexQucGCFmEElohGBXd3gQTXwe+6KEadBDcVdEkK6wkGSWmjPGrS5QSlcTxirEZVBH4D8K5y/mEEFqFWV2pKyQZqZmWwHG61Bw7uSS6dr4kF5I9fmA3LFQTqvsaStgb1BZmZmPbMvmEEdcpNbT3uqQU9As0UCaZxBCyTYVF5StUFSuJ4fQnmtQUvKCjhKp+JB91sLXgvRqkE2XCLScbfFQZ1nbKs04b1BigJVv36hqkHj30/LZZe1QUjhepZmMqxBvhZYIG3Y4UGHjIdHp6epQU6YMGDYlbxBq+mSmJzGxEF6wvL4KXqpQU916Pbzp7RBpptfhqko5kFOYidnj3DXQYXr+Ye/yqxBXI9a7vRXt0FDGuVpLZ/mQeQPhoe9ZK1BfQXp+M7Ut0G0O7QI7e3XQYXrUfaJw6pB2qnVlj7w4EHNzMxIXVyVQR4Vz5DTQ7FBe6TB5+0hu0F2Mljkry6oQY2ad/Czs8ZBqpoA3TObs0F+mHlFp6HkQe2wpjZxk+FBJqnvBg4+4kG3Aj4VIMHgQeZ0D8J2NuZB7+bwn6Bm5EE=",
          "dtype": "f8"
         },
         "yaxis": "y"
        },
        {
         "customdata": [
          [
           "US0367521038"
          ],
          [
           "US0367521038"
          ],
          [
           "US0367521038"
          ],
          [
           "US0367521038"
          ]
         ],
         "hovertemplate": "ISIN=%{customdata[0]}<br>Quarter=%{x}<br>Value of Mkt value=%{y:.2}<extra></extra>",
         "legendgroup": "US0367521038",
         "marker": {
          "color": "#636efa",
          "pattern": {
           "shape": ""
          }
         },
         "name": "US0367521038",
         "orientation": "v",
         "showlegend": true,
         "textposition": "auto",
         "type": "bar",
         "x": [
          "2019-Q2",
          "2019-Q3",
          "2019-Q4",
          "2020-Q1"
         ],
         "xaxis": "x",
         "y": {
          "bdata": "Urhe/LGYxUHNzEx2KQDJQVyP4lZuF85BhetRCJHsoUE=",
          "dtype": "f8"
         },
         "yaxis": "y"
        },
        {
         "customdata": [
          [
           "US46284V1017"
          ],
          [
           "US46284V1017"
          ],
          [
           "US46284V1017"
          ],
          [
           "US46284V1017"
          ],
          [
           "US46284V1017"
          ],
          [
           "US46284V1017"
          ],
          [
           "US46284V1017"
          ]
         ],
         "hovertemplate": "ISIN=%{customdata[0]}<br>Quarter=%{x}<br>Value of Mkt value=%{y:.2}<extra></extra>",
         "legendgroup": "US46284V1017",
         "marker": {
          "color": "#EF553B",
          "pattern": {
           "shape": ""
          }
         },
         "name": "US46284V1017",
         "orientation": "v",
         "showlegend": true,
         "textposition": "auto",
         "type": "bar",
         "x": [
          "2019-Q2",
          "2019-Q3",
          "2019-Q4",
          "2020-Q1",
          "2020-Q2",
          "2020-Q3",
          "2020-Q4"
         ],
         "xaxis": "x",
         "y": {
          "bdata": "AAAAwPsSc8Efheu7wDyIwfYoXMEj2YfBZmZmLjjPgcHNzMz40IeDwVK4Hs/+C4TB16NwVU0PhsE=",
          "dtype": "f8"
         },
         "yaxis": "y"
        },
        {
         "customdata": [
          [
           "US92826C8394"
          ],
          [
           "US92826C8394"
          ],
          [
           "US92826C8394"
          ],
          [
           "US92826C8394"
          ],
          [
           "US92826C8394"
          ],
          [
           "US92826C8394"
          ],
          [
           "US92826C8394"
          ],
          [
           "US92826C8394"
          ],
          [
           "US92826C8394"
          ],
          [
           "US92826C8394"
          ],
          [
           "US92826C8394"
          ],
          [
           "US92826C8394"
          ],
          [
           "US92826C8394"
          ],
          [
           "US92826C8394"
          ],
          [
           "US92826C8394"
          ],
          [
           "US92826C8394"
          ],
          [
           "US92826C8394"
          ],
          [
           "US92826C8394"
          ],
          [
           "US92826C8394"
          ],
          [
           "US92826C8394"
          ],
          [
           "US92826C8394"
          ],
          [
           "US92826C8394"
          ],
          [
           "US92826C8394"
          ],
          [
           "US92826C8394"
          ],
          [
           "US92826C8394"
          ],
          [
           "US92826C8394"
          ],
          [
           "US92826C8394"
          ],
          [
           "US92826C8394"
          ],
          [
           "US92826C8394"
          ],
          [
           "US92826C8394"
          ],
          [
           "US92826C8394"
          ],
          [
           "US92826C8394"
          ],
          [
           "US92826C8394"
          ],
          [
           "US92826C8394"
          ],
          [
           "US92826C8394"
          ],
          [
           "US92826C8394"
          ],
          [
           "US92826C8394"
          ],
          [
           "US92826C8394"
          ],
          [
           "US92826C8394"
          ]
         ],
         "hovertemplate": "ISIN=%{customdata[0]}<br>Quarter=%{x}<br>Value of Mkt value=%{y:.2}<extra></extra>",
         "legendgroup": "US92826C8394",
         "marker": {
          "color": "#00cc96",
          "pattern": {
           "shape": ""
          }
         },
         "name": "US92826C8394",
         "orientation": "v",
         "showlegend": true,
         "textposition": "auto",
         "type": "bar",
         "x": [
          "2019-Q2",
          "2019-Q3",
          "2019-Q4",
          "2020-Q1",
          "2020-Q2",
          "2020-Q3",
          "2020-Q4",
          "2021-Q1",
          "2021-Q2",
          "2021-Q3",
          "2021-Q3",
          "2021-Q4",
          "2021-Q4",
          "2022-Q1",
          "2022-Q2",
          "2022-Q2",
          "2022-Q3",
          "2022-Q3",
          "2022-Q3",
          "2022-Q4",
          "2022-Q4",
          "2022-Q4",
          "2023-Q1",
          "2023-Q1",
          "2023-Q1",
          "2023-Q2",
          "2023-Q2",
          "2023-Q2",
          "2023-Q3",
          "2023-Q3",
          "2023-Q3",
          "2023-Q4",
          "2024-Q1",
          "2024-Q2",
          "2024-Q2",
          "2024-Q2",
          "2024-Q3",
          "2024-Q4",
          "2025-Q1"
         ],
         "xaxis": "x",
         "y": {
          "bdata": "AAAAPlUAokE9CtcGzUSoQZqZmau6gqpBAAAAMWCv0EFI4YpXOOreQXE9OmeTPORB9ihMMpYi5kH2KAxGPW3lQaRw3RCFqedBAAAAoBXUe0EAAHgvtOXuQQAAACDpEntBMzMv2fp28UGF64leQ9vuQQAAAOAEmXhBpHB13twz60EAAABgu3uTQQAAAGCtMXZBMzPLDkfz50EAAAAAq/R5QQAAAAAbyZZBrkehp3gC7EEAAABgGmqrQQAAAMDBKnxBSOFqQ2Ru7EEAAACAL6t9QQAAAMBC4KxB9ihczzON60EAAADgRrx8QQAAADC896tBCteTUjEt6UFmZvYV7LruQSlc785wePBBAAAAkDZlgEEAAADQJeqvQeF6JBbEuuxBZmYOCws68EEUrid42KbyQexRSBLgrvRB",
          "dtype": "f8"
         },
         "yaxis": "y"
        },
        {
         "customdata": [
          [
           "ES0118900010"
          ],
          [
           "ES0118900010"
          ],
          [
           "ES0118900010"
          ],
          [
           "ES0118900010"
          ],
          [
           "ES0118900010"
          ],
          [
           "ES0118900010"
          ],
          [
           "ES0118900010"
          ],
          [
           "ES0118900010"
          ],
          [
           "ES0118900010"
          ],
          [
           "ES0118900010"
          ],
          [
           "ES0118900010"
          ],
          [
           "ES0118900010"
          ],
          [
           "ES0118900010"
          ],
          [
           "ES0118900010"
          ],
          [
           "ES0118900010"
          ],
          [
           "ES0118900010"
          ],
          [
           "ES0118900010"
          ],
          [
           "ES0118900010"
          ],
          [
           "ES0118900010"
          ],
          [
           "ES0118900010"
          ],
          [
           "ES0118900010"
          ],
          [
           "ES0118900010"
          ],
          [
           "ES0118900010"
          ],
          [
           "ES0118900010"
          ],
          [
           "ES0118900010"
          ],
          [
           "ES0118900010"
          ],
          [
           "ES0118900010"
          ],
          [
           "ES0118900010"
          ],
          [
           "ES0118900010"
          ],
          [
           "ES0118900010"
          ],
          [
           "ES0118900010"
          ],
          [
           "ES0118900010"
          ],
          [
           "ES0118900010"
          ],
          [
           "ES0118900010"
          ],
          [
           "ES0118900010"
          ],
          [
           "ES0118900010"
          ],
          [
           "ES0118900010"
          ],
          [
           "ES0118900010"
          ],
          [
           "ES0118900010"
          ],
          [
           "ES0118900010"
          ],
          [
           "ES0118900010"
          ],
          [
           "ES0118900010"
          ],
          [
           "ES0118900010"
          ],
          [
           "ES0118900010"
          ],
          [
           "ES0118900010"
          ],
          [
           "ES0118900010"
          ],
          [
           "ES0118900010"
          ],
          [
           "ES0118900010"
          ],
          [
           "ES0118900010"
          ],
          [
           "ES0118900010"
          ],
          [
           "ES0118900010"
          ],
          [
           "ES0118900010"
          ],
          [
           "ES0118900010"
          ],
          [
           "ES0118900010"
          ],
          [
           "ES0118900010"
          ],
          [
           "ES0118900010"
          ],
          [
           "ES0118900010"
          ],
          [
           "ES0118900010"
          ],
          [
           "ES0118900010"
          ],
          [
           "ES0118900010"
          ]
         ],
         "hovertemplate": "ISIN=%{customdata[0]}<br>Quarter=%{x}<br>Value of Mkt value=%{y:.2}<extra></extra>",
         "legendgroup": "ES0118900010",
         "marker": {
          "color": "#ab63fa",
          "pattern": {
           "shape": ""
          }
         },
         "name": "ES0118900010",
         "orientation": "v",
         "showlegend": true,
         "textposition": "auto",
         "type": "bar",
         "x": [
          "2019-Q2",
          "2019-Q3",
          "2019-Q3",
          "2019-Q3",
          "2019-Q4",
          "2019-Q4",
          "2019-Q4",
          "2020-Q1",
          "2020-Q1",
          "2020-Q1",
          "2020-Q2",
          "2020-Q2",
          "2020-Q2",
          "2020-Q3",
          "2020-Q3",
          "2020-Q3",
          "2020-Q3",
          "2020-Q4",
          "2020-Q4",
          "2020-Q4",
          "2020-Q4",
          "2021-Q1",
          "2021-Q1",
          "2021-Q1",
          "2021-Q1",
          "2021-Q2",
          "2021-Q2",
          "2021-Q3",
          "2021-Q3",
          "2021-Q3",
          "2021-Q4",
          "2021-Q4",
          "2021-Q4",
          "2022-Q1",
          "2022-Q1",
          "2022-Q2",
          "2022-Q2",
          "2022-Q2",
          "2022-Q2",
          "2022-Q3",
          "2022-Q3",
          "2022-Q3",
          "2022-Q3",
          "2022-Q4",
          "2022-Q4",
          "2022-Q4",
          "2022-Q4",
          "2023-Q1",
          "2023-Q1",
          "2023-Q1",
          "2023-Q1",
          "2023-Q1",
          "2023-Q1",
          "2023-Q2",
          "2023-Q2",
          "2023-Q2",
          "2023-Q2",
          "2023-Q2",
          "2023-Q2",
          "2023-Q2"
         ],
         "xaxis": "x",
         "y": {
          "bdata": "48cQnvoQwUHFINDzBuK7QWDlEDj3d51BqDWtua+ho0GmSA70UKS9QQubodu43qRBBg19gdxTn0Fgd0pMo6egQVzJ9lUCz7ZBiuUWe1Wzh0FYObTalIOKQTbN6xPFoaJBKcuoJHc4uUGY3aOFIuGaQb991UstcqRBOdbVSa4FoUEepzATpwq3QYCfAb9BcadBzoiSAR1rukElzETuToSjQZRNCbFx4qxBcvlPa3jzuEHshp377SOmQTUkHoPMbqJBATUlObxHq0GMuSMG+u+5QcWPXcQ1cMRBAI+0E8TRuUEBUO9Cei+8QdU8K5KpAqlBTMEamusEvEFwXwcgPZa+QR0FCLYrJKtBuveUCU4fxEGRmMBcON+3QTlFx7+eCLlBDyY1rXwohEEGoPEBsjamQaPJxxWk7rZB9yDEhKcUpEHjNhplQqG2QfNzP/jvurRBe6N2Ffk4gkEuVV3CHVqnQRSvjooJUbpBGJRrKX0buEGV8oo38TCFQdTURpQjMKpBiEtKfjqDvUHQ7TcC/wi7QbmNjpP8hKBBR6xpR+Kxq0G3XSgn2RGbQUkvdg8FL6xBX2KQ48GDs0GiDNP5Zhi9QWLWaRIHsbFBdciFXUDHoUHEmHgwBq6oQWecAvAozq1B",
          "dtype": "f8"
         },
         "yaxis": "y"
        },
        {
         "customdata": [
          [
           "JP3732000009"
          ],
          [
           "JP3732000009"
          ],
          [
           "JP3732000009"
          ],
          [
           "JP3732000009"
          ],
          [
           "JP3732000009"
          ],
          [
           "JP3732000009"
          ],
          [
           "JP3732000009"
          ],
          [
           "JP3732000009"
          ],
          [
           "JP3732000009"
          ],
          [
           "JP3732000009"
          ],
          [
           "JP3732000009"
          ],
          [
           "JP3732000009"
          ],
          [
           "JP3732000009"
          ],
          [
           "JP3732000009"
          ],
          [
           "JP3732000009"
          ],
          [
           "JP3732000009"
          ],
          [
           "JP3732000009"
          ],
          [
           "JP3732000009"
          ],
          [
           "JP3732000009"
          ],
          [
           "JP3732000009"
          ],
          [
           "JP3732000009"
          ],
          [
           "JP3732000009"
          ],
          [
           "JP3732000009"
          ],
          [
           "JP3732000009"
          ],
          [
           "JP3732000009"
          ],
          [
           "JP3732000009"
          ]
         ],
         "hovertemplate": "ISIN=%{customdata[0]}<br>Quarter=%{x}<br>Value of Mkt value=%{y:.2}<extra></extra>",
         "legendgroup": "JP3732000009",
         "marker": {
          "color": "#FFA15A",
          "pattern": {
           "shape": ""
          }
         },
         "name": "JP3732000009",
         "orientation": "v",
         "showlegend": true,
         "textposition": "auto",
         "type": "bar",
         "x": [
          "2019-Q2",
          "2019-Q3",
          "2019-Q3",
          "2019-Q3",
          "2019-Q4",
          "2019-Q4",
          "2019-Q4",
          "2020-Q1",
          "2020-Q1",
          "2020-Q1",
          "2020-Q2",
          "2020-Q2",
          "2020-Q2",
          "2020-Q2",
          "2020-Q3",
          "2020-Q3",
          "2020-Q3",
          "2020-Q3",
          "2020-Q4",
          "2020-Q4",
          "2020-Q4",
          "2020-Q4",
          "2021-Q1",
          "2021-Q1",
          "2021-Q1",
          "2021-Q1"
         ],
         "xaxis": "x",
         "y": {
          "bdata": "5Hw2zW2ZmsFSmeIMbiVpwVJ2NL1CtoXBabPgsoSOi8HF57nVX4mFwQZ8Q3+MVYvBqSEgl3HxaMG7joIxq7lnwdDSdc4tfITBKwjfIuP/icFOU6W9nWuEwah9GeywHo/B3ywvqt3qicHXDFW1jEF+wTbUXg7vtobBVH9jTpflgcFH0rxOgvGVwdLNuSxchHrBTcmIrGi9fcEMOrFyrHmJwWZif5FuEoTBJjAyCkGcmME1ioulq26KwY+/eSJr237BUg5WE3fThMEfSmzW7oiZwQ==",
          "dtype": "f8"
         },
         "yaxis": "y"
        },
        {
         "customdata": [
          [
           "US0527691069"
          ],
          [
           "US0527691069"
          ],
          [
           "US0527691069"
          ],
          [
           "US0527691069"
          ]
         ],
         "hovertemplate": "ISIN=%{customdata[0]}<br>Quarter=%{x}<br>Value of Mkt value=%{y:.2}<extra></extra>",
         "legendgroup": "US0527691069",
         "marker": {
          "color": "#19d3f3",
          "pattern": {
           "shape": ""
          }
         },
         "name": "US0527691069",
         "orientation": "v",
         "showlegend": true,
         "textposition": "auto",
         "type": "bar",
         "x": [
          "2019-Q3",
          "2019-Q4",
          "2020-Q1",
          "2020-Q2"
         ],
         "xaxis": "x",
         "y": {
          "bdata": "AAAAgHbVb0EAAABARsVzQQAAAACo0SdBAAAAAK4/MkE=",
          "dtype": "f8"
         },
         "yaxis": "y"
        },
        {
         "customdata": [
          [
           "US7551115071"
          ],
          [
           "US7551115071"
          ],
          [
           "US7551115071"
          ]
         ],
         "hovertemplate": "ISIN=%{customdata[0]}<br>Quarter=%{x}<br>Value of Mkt value=%{y:.2}<extra></extra>",
         "legendgroup": "US7551115071",
         "marker": {
          "color": "#FF6692",
          "pattern": {
           "shape": ""
          }
         },
         "name": "US7551115071",
         "orientation": "v",
         "showlegend": true,
         "textposition": "auto",
         "type": "bar",
         "x": [
          "2019-Q3",
          "2019-Q4",
          "2020-Q1"
         ],
         "xaxis": "x",
         "y": {
          "bdata": "zczMojxcq0EK1+O1MlHWQc3MfKsjYdRB",
          "dtype": "f8"
         },
         "yaxis": "y"
        },
        {
         "customdata": [
          [
           "US00724F1012"
          ],
          [
           "US00724F1012"
          ],
          [
           "US00724F1012"
          ]
         ],
         "hovertemplate": "ISIN=%{customdata[0]}<br>Quarter=%{x}<br>Value of Mkt value=%{y:.2}<extra></extra>",
         "legendgroup": "US00724F1012",
         "marker": {
          "color": "#B6E880",
          "pattern": {
           "shape": ""
          }
         },
         "name": "US00724F1012",
         "orientation": "v",
         "showlegend": true,
         "textposition": "auto",
         "type": "bar",
         "x": [
          "2019-Q4",
          "2020-Q1",
          "2020-Q2"
         ],
         "xaxis": "x",
         "y": {
          "bdata": "zczMTPBCMUEzMzMz66cwQc3MzEx5yDZB",
          "dtype": "f8"
         },
         "yaxis": "y"
        },
        {
         "customdata": [
          [
           "US6668071029"
          ]
         ],
         "hovertemplate": "ISIN=%{customdata[0]}<br>Quarter=%{x}<br>Value of Mkt value=%{y:.2}<extra></extra>",
         "legendgroup": "US6668071029",
         "marker": {
          "color": "#FF97FF",
          "pattern": {
           "shape": ""
          }
         },
         "name": "US6668071029",
         "orientation": "v",
         "showlegend": true,
         "textposition": "auto",
         "type": "bar",
         "x": [
          "2019-Q4"
         ],
         "xaxis": "x",
         "y": {
          "bdata": "AAAAKGh9jEE=",
          "dtype": "f8"
         },
         "yaxis": "y"
        },
        {
         "customdata": [
          [
           "US8936411003"
          ]
         ],
         "hovertemplate": "ISIN=%{customdata[0]}<br>Quarter=%{x}<br>Value of Mkt value=%{y:.2}<extra></extra>",
         "legendgroup": "US8936411003",
         "marker": {
          "color": "#FECB52",
          "pattern": {
           "shape": ""
          }
         },
         "name": "US8936411003",
         "orientation": "v",
         "showlegend": true,
         "textposition": "auto",
         "type": "bar",
         "x": [
          "2019-Q4"
         ],
         "xaxis": "x",
         "y": {
          "bdata": "AAAAALgXh0E=",
          "dtype": "f8"
         },
         "yaxis": "y"
        },
        {
         "customdata": [
          [
           "FR0000120073"
          ],
          [
           "FR0000120073"
          ],
          [
           "FR0000120073"
          ],
          [
           "FR0000120073"
          ],
          [
           "FR0000120073"
          ],
          [
           "FR0000120073"
          ]
         ],
         "hovertemplate": "ISIN=%{customdata[0]}<br>Quarter=%{x}<br>Value of Mkt value=%{y:.2}<extra></extra>",
         "legendgroup": "FR0000120073",
         "marker": {
          "color": "#636efa",
          "pattern": {
           "shape": ""
          }
         },
         "name": "FR0000120073",
         "orientation": "v",
         "showlegend": true,
         "textposition": "auto",
         "type": "bar",
         "x": [
          "2019-Q4",
          "2019-Q4",
          "2020-Q1",
          "2020-Q1",
          "2020-Q2",
          "2020-Q2"
         ],
         "xaxis": "x",
         "y": {
          "bdata": "d2fteZ/atUEnMQh6x8OOQX0/9eI3/ItBOjupd+w8vEHNO06UM6mNQTxOaaJ8CMBB",
          "dtype": "f8"
         },
         "yaxis": "y"
        },
        {
         "customdata": [
          [
           "GB0002634946"
          ]
         ],
         "hovertemplate": "ISIN=%{customdata[0]}<br>Quarter=%{x}<br>Value of Mkt value=%{y:.2}<extra></extra>",
         "legendgroup": "GB0002634946",
         "marker": {
          "color": "#EF553B",
          "pattern": {
           "shape": ""
          }
         },
         "name": "GB0002634946",
         "orientation": "v",
         "showlegend": true,
         "textposition": "auto",
         "type": "bar",
         "x": [
          "2019-Q4"
         ],
         "xaxis": "x",
         "y": {
          "bdata": "F9nOHxRSdEE=",
          "dtype": "f8"
         },
         "yaxis": "y"
        },
        {
         "customdata": [
          [
           "DE0007472060"
          ],
          [
           "DE0007472060"
          ],
          [
           "DE0007472060"
          ],
          [
           "DE0007472060"
          ],
          [
           "DE0007472060"
          ],
          [
           "DE0007472060"
          ],
          [
           "DE0007472060"
          ]
         ],
         "hovertemplate": "ISIN=%{customdata[0]}<br>Quarter=%{x}<br>Value of Mkt value=%{y:.2}<extra></extra>",
         "legendgroup": "DE0007472060",
         "marker": {
          "color": "#00cc96",
          "pattern": {
           "shape": ""
          }
         },
         "name": "DE0007472060",
         "orientation": "v",
         "showlegend": true,
         "textposition": "auto",
         "type": "bar",
         "x": [
          "2019-Q4",
          "2019-Q4",
          "2019-Q4",
          "2019-Q4",
          "2020-Q1",
          "2020-Q1",
          "2020-Q1"
         ],
         "xaxis": "x",
         "y": {
          "bdata": "YhDYA8DJksFWDi1w+cmGwQAAACTAYnvBAAAAgDT9VsHsUbiHiDx6wSV6GZshZHfBYttCu+b/kcE=",
          "dtype": "f8"
         },
         "yaxis": "y"
        },
        {
         "customdata": [
          [
           "US0231351067"
          ],
          [
           "US0231351067"
          ],
          [
           "US0231351067"
          ],
          [
           "US0231351067"
          ]
         ],
         "hovertemplate": "ISIN=%{customdata[0]}<br>Quarter=%{x}<br>Value of Mkt value=%{y:.2}<extra></extra>",
         "legendgroup": "US0231351067",
         "marker": {
          "color": "#ab63fa",
          "pattern": {
           "shape": ""
          }
         },
         "name": "US0231351067",
         "orientation": "v",
         "showlegend": true,
         "textposition": "auto",
         "type": "bar",
         "x": [
          "2020-Q1",
          "2020-Q2",
          "2020-Q3",
          "2020-Q4"
         ],
         "xaxis": "x",
         "y": {
          "bdata": "AAAAgHcyZUEAAABAW/5tQQAAAIDn0GBBAAAAgNVkYUE=",
          "dtype": "f8"
         },
         "yaxis": "y"
        },
        {
         "customdata": [
          [
           "IE00BZ12WP82"
          ],
          [
           "IE00BZ12WP82"
          ]
         ],
         "hovertemplate": "ISIN=%{customdata[0]}<br>Quarter=%{x}<br>Value of Mkt value=%{y:.2}<extra></extra>",
         "legendgroup": "IE00BZ12WP82",
         "marker": {
          "color": "#FFA15A",
          "pattern": {
           "shape": ""
          }
         },
         "name": "IE00BZ12WP82",
         "orientation": "v",
         "showlegend": true,
         "textposition": "auto",
         "type": "bar",
         "x": [
          "2020-Q1",
          "2020-Q1"
         ],
         "xaxis": "x",
         "y": {
          "bdata": "AAAAIPWSe0F1k5jmSM90QQ==",
          "dtype": "f8"
         },
         "yaxis": "y"
        },
        {
         "customdata": [
          [
           "US57636Q1040"
          ],
          [
           "US57636Q1040"
          ]
         ],
         "hovertemplate": "ISIN=%{customdata[0]}<br>Quarter=%{x}<br>Value of Mkt value=%{y:.2}<extra></extra>",
         "legendgroup": "US57636Q1040",
         "marker": {
          "color": "#19d3f3",
          "pattern": {
           "shape": ""
          }
         },
         "name": "US57636Q1040",
         "orientation": "v",
         "showlegend": true,
         "textposition": "auto",
         "type": "bar",
         "x": [
          "2020-Q1",
          "2020-Q2"
         ],
         "xaxis": "x",
         "y": {
          "bdata": "AAAAYBNzdkEAAADQJXt7QQ==",
          "dtype": "f8"
         },
         "yaxis": "y"
        },
        {
         "customdata": [
          [
           "US1011211018"
          ],
          [
           "US1011211018"
          ],
          [
           "US1011211018"
          ],
          [
           "US1011211018"
          ],
          [
           "US1011211018"
          ],
          [
           "US1011211018"
          ],
          [
           "US1011211018"
          ],
          [
           "US1011211018"
          ],
          [
           "US1011211018"
          ],
          [
           "US1011211018"
          ],
          [
           "US1011211018"
          ],
          [
           "US1011211018"
          ],
          [
           "US1011211018"
          ],
          [
           "US1011211018"
          ]
         ],
         "hovertemplate": "ISIN=%{customdata[0]}<br>Quarter=%{x}<br>Value of Mkt value=%{y:.2}<extra></extra>",
         "legendgroup": "US1011211018",
         "marker": {
          "color": "#FF6692",
          "pattern": {
           "shape": ""
          }
         },
         "name": "US1011211018",
         "orientation": "v",
         "showlegend": true,
         "textposition": "auto",
         "type": "bar",
         "x": [
          "2020-Q2",
          "2020-Q3",
          "2020-Q4",
          "2021-Q1",
          "2021-Q2",
          "2021-Q3",
          "2021-Q3",
          "2021-Q4",
          "2021-Q4",
          "2022-Q1",
          "2022-Q2",
          "2022-Q2",
          "2022-Q3",
          "2022-Q3"
         ],
         "xaxis": "x",
         "y": {
          "bdata": "9ihcrSUYnUHNzMx8S2O2QXE9KluX+8RBMzMzQL2ix0EfhdvFYJzRQQAAAIDK/25BmpmJ39ee0kEAAACABHpwQexRWHdCAdNBMzMzBA0p1EEAAAAAF3VpQXsUbtTBwshBAAAAgPdyZUHhelS/Sti0QQ==",
          "dtype": "f8"
         },
         "yaxis": "y"
        },
        {
         "customdata": [
          [
           "US75513E1010"
          ]
         ],
         "hovertemplate": "ISIN=%{customdata[0]}<br>Quarter=%{x}<br>Value of Mkt value=%{y:.2}<extra></extra>",
         "legendgroup": "US75513E1010",
         "marker": {
          "color": "#B6E880",
          "pattern": {
           "shape": ""
          }
         },
         "name": "US75513E1010",
         "orientation": "v",
         "showlegend": true,
         "textposition": "auto",
         "type": "bar",
         "x": [
          "2020-Q2"
         ],
         "xaxis": "x",
         "y": {
          "bdata": "4XpUaNw2xUE=",
          "dtype": "f8"
         },
         "yaxis": "y"
        },
        {
         "customdata": [
          [
           "US9290421091"
          ],
          [
           "US9290421091"
          ],
          [
           "US9290421091"
          ]
         ],
         "hovertemplate": "ISIN=%{customdata[0]}<br>Quarter=%{x}<br>Value of Mkt value=%{y:.2}<extra></extra>",
         "legendgroup": "US9290421091",
         "marker": {
          "color": "#FF97FF",
          "pattern": {
           "shape": ""
          }
         },
         "name": "US9290421091",
         "orientation": "v",
         "showlegend": true,
         "textposition": "auto",
         "type": "bar",
         "x": [
          "2020-Q2",
          "2020-Q3",
          "2020-Q4"
         ],
         "xaxis": "x",
         "y": {
          "bdata": "j8J1CWDHoEGPwnXC5wCyQexRuGgdvaRB",
          "dtype": "f8"
         },
         "yaxis": "y"
        },
        {
         "customdata": [
          [
           "US92556H2067"
          ],
          [
           "US92556H2067"
          ],
          [
           "US92556H2067"
          ]
         ],
         "hovertemplate": "ISIN=%{customdata[0]}<br>Quarter=%{x}<br>Value of Mkt value=%{y:.2}<extra></extra>",
         "legendgroup": "US92556H2067",
         "marker": {
          "color": "#FECB52",
          "pattern": {
           "shape": ""
          }
         },
         "name": "US92556H2067",
         "orientation": "v",
         "showlegend": true,
         "textposition": "auto",
         "type": "bar",
         "x": [
          "2020-Q3",
          "2020-Q4",
          "2021-Q1"
         ],
         "xaxis": "x",
         "y": {
          "bdata": "CtejlfgoksHD9ag/orazwQAAAAAAAAAA",
          "dtype": "f8"
         },
         "yaxis": "y"
        },
        {
         "customdata": [
          [
           "TW0002330008"
          ],
          [
           "TW0002330008"
          ],
          [
           "TW0002330008"
          ],
          [
           "TW0002330008"
          ],
          [
           "TW0002330008"
          ],
          [
           "TW0002330008"
          ],
          [
           "TW0002330008"
          ],
          [
           "TW0002330008"
          ],
          [
           "TW0002330008"
          ],
          [
           "TW0002330008"
          ],
          [
           "TW0002330008"
          ],
          [
           "TW0002330008"
          ],
          [
           "TW0002330008"
          ],
          [
           "TW0002330008"
          ],
          [
           "TW0002330008"
          ],
          [
           "TW0002330008"
          ],
          [
           "TW0002330008"
          ],
          [
           "TW0002330008"
          ],
          [
           "TW0002330008"
          ],
          [
           "TW0002330008"
          ],
          [
           "TW0002330008"
          ],
          [
           "TW0002330008"
          ],
          [
           "TW0002330008"
          ],
          [
           "TW0002330008"
          ],
          [
           "TW0002330008"
          ],
          [
           "TW0002330008"
          ],
          [
           "TW0002330008"
          ],
          [
           "TW0002330008"
          ],
          [
           "TW0002330008"
          ],
          [
           "TW0002330008"
          ],
          [
           "TW0002330008"
          ],
          [
           "TW0002330008"
          ]
         ],
         "hovertemplate": "ISIN=%{customdata[0]}<br>Quarter=%{x}<br>Value of Mkt value=%{y:.2}<extra></extra>",
         "legendgroup": "TW0002330008",
         "marker": {
          "color": "#636efa",
          "pattern": {
           "shape": ""
          }
         },
         "name": "TW0002330008",
         "orientation": "v",
         "showlegend": true,
         "textposition": "auto",
         "type": "bar",
         "x": [
          "2020-Q3",
          "2020-Q3",
          "2020-Q3",
          "2020-Q3",
          "2020-Q4",
          "2020-Q4",
          "2020-Q4",
          "2020-Q4",
          "2021-Q1",
          "2021-Q1",
          "2021-Q1",
          "2021-Q1",
          "2021-Q2",
          "2021-Q3",
          "2021-Q3",
          "2021-Q3",
          "2021-Q4",
          "2021-Q4",
          "2021-Q4",
          "2022-Q1",
          "2022-Q2",
          "2022-Q2",
          "2022-Q2",
          "2022-Q2",
          "2022-Q2",
          "2022-Q3",
          "2022-Q3",
          "2022-Q3",
          "2022-Q3",
          "2022-Q4",
          "2022-Q4",
          "2022-Q4"
         ],
         "xaxis": "x",
         "y": {
          "bdata": "OQUWZGYyvUGWLx1eCAHBQb99jd6D4o1BWIdg3eYvp0EwguqfEUGtQXU2biMIdMVBzxXQ6BFQtkGIffj+D2vCQYo25SuKFsRB5bKuDwvor0ECsRbQ2fuVQW6anB3wVbhB6sLtQuWz1UFcc9V3uSSwQSsmKHNv6pRBR7JEnd1TxEFGa4/4zDSxQTjjQj7xSpZBo1ZAwnWqxUESqc3FVsbKQfk1TXQQ1KhBiNtMnoQVkEFwsq0nXZyEQVxCr4wKtbhBzIs9kFrHokHPr/cD1ByBQQ0T4oJGnaRBfVC3jYSDtEEzwPVnwUSmQdvHVbKDKItBr5PP0XTJgkH1wakXh3KoQQ==",
          "dtype": "f8"
         },
         "yaxis": "y"
        },
        {
         "customdata": [
          [
           "US4824801009"
          ],
          [
           "US4824801009"
          ]
         ],
         "hovertemplate": "ISIN=%{customdata[0]}<br>Quarter=%{x}<br>Value of Mkt value=%{y:.2}<extra></extra>",
         "legendgroup": "US4824801009",
         "marker": {
          "color": "#EF553B",
          "pattern": {
           "shape": ""
          }
         },
         "name": "US4824801009",
         "orientation": "v",
         "showlegend": true,
         "textposition": "auto",
         "type": "bar",
         "x": [
          "2021-Q1",
          "2022-Q2"
         ],
         "xaxis": "x",
         "y": {
          "bdata": "AAAAAKRIY0GkcD0SdaaHQQ==",
          "dtype": "f8"
         },
         "yaxis": "y"
        },
        {
         "customdata": [
          [
           "US5128071082"
          ],
          [
           "US5128071082"
          ]
         ],
         "hovertemplate": "ISIN=%{customdata[0]}<br>Quarter=%{x}<br>Value of Mkt value=%{y:.2}<extra></extra>",
         "legendgroup": "US5128071082",
         "marker": {
          "color": "#00cc96",
          "pattern": {
           "shape": ""
          }
         },
         "name": "US5128071082",
         "orientation": "v",
         "showlegend": true,
         "textposition": "auto",
         "type": "bar",
         "x": [
          "2021-Q1",
          "2022-Q2"
         ],
         "xaxis": "x",
         "y": {
          "bdata": "AAAAgCakY0EAAACOJzKCQQ==",
          "dtype": "f8"
         },
         "yaxis": "y"
        },
        {
         "customdata": [
          [
           "US0152711091"
          ],
          [
           "US0152711091"
          ],
          [
           "US0152711091"
          ],
          [
           "US0152711091"
          ],
          [
           "US0152711091"
          ]
         ],
         "hovertemplate": "ISIN=%{customdata[0]}<br>Quarter=%{x}<br>Value of Mkt value=%{y:.2}<extra></extra>",
         "legendgroup": "US0152711091",
         "marker": {
          "color": "#ab63fa",
          "pattern": {
           "shape": ""
          }
         },
         "name": "US0152711091",
         "orientation": "v",
         "showlegend": true,
         "textposition": "auto",
         "type": "bar",
         "x": [
          "2021-Q2",
          "2021-Q3",
          "2021-Q3",
          "2021-Q4",
          "2021-Q4"
         ],
         "xaxis": "x",
         "y": {
          "bdata": "AAAAQJuaeEEAAACAyzhyQVK4nsFqgKJBAAAAAFxDdUH2KFxz75alQQ==",
          "dtype": "f8"
         },
         "yaxis": "y"
        },
        {
         "customdata": [
          [
           "US49427F1084"
          ]
         ],
         "hovertemplate": "ISIN=%{customdata[0]}<br>Quarter=%{x}<br>Value of Mkt value=%{y:.2}<extra></extra>",
         "legendgroup": "US49427F1084",
         "marker": {
          "color": "#FFA15A",
          "pattern": {
           "shape": ""
          }
         },
         "name": "US49427F1084",
         "orientation": "v",
         "showlegend": true,
         "textposition": "auto",
         "type": "bar",
         "x": [
          "2021-Q2"
         ],
         "xaxis": "x",
         "y": {
          "bdata": "uB6F634dR0E=",
          "dtype": "f8"
         },
         "yaxis": "y"
        },
        {
         "customdata": [
          [
           "ES0105066007"
          ],
          [
           "ES0105066007"
          ],
          [
           "ES0105066007"
          ],
          [
           "ES0105066007"
          ],
          [
           "ES0105066007"
          ],
          [
           "ES0105066007"
          ],
          [
           "ES0105066007"
          ],
          [
           "ES0105066007"
          ],
          [
           "ES0105066007"
          ],
          [
           "ES0105066007"
          ],
          [
           "ES0105066007"
          ],
          [
           "ES0105066007"
          ],
          [
           "ES0105066007"
          ],
          [
           "ES0105066007"
          ],
          [
           "ES0105066007"
          ],
          [
           "ES0105066007"
          ],
          [
           "ES0105066007"
          ],
          [
           "ES0105066007"
          ],
          [
           "ES0105066007"
          ],
          [
           "ES0105066007"
          ],
          [
           "ES0105066007"
          ],
          [
           "ES0105066007"
          ],
          [
           "ES0105066007"
          ],
          [
           "ES0105066007"
          ],
          [
           "ES0105066007"
          ],
          [
           "ES0105066007"
          ],
          [
           "ES0105066007"
          ],
          [
           "ES0105066007"
          ],
          [
           "ES0105066007"
          ],
          [
           "ES0105066007"
          ],
          [
           "ES0105066007"
          ],
          [
           "ES0105066007"
          ],
          [
           "ES0105066007"
          ],
          [
           "ES0105066007"
          ],
          [
           "ES0105066007"
          ],
          [
           "ES0105066007"
          ],
          [
           "ES0105066007"
          ],
          [
           "ES0105066007"
          ],
          [
           "ES0105066007"
          ],
          [
           "ES0105066007"
          ],
          [
           "ES0105066007"
          ],
          [
           "ES0105066007"
          ],
          [
           "ES0105066007"
          ],
          [
           "ES0105066007"
          ]
         ],
         "hovertemplate": "ISIN=%{customdata[0]}<br>Quarter=%{x}<br>Value of Mkt value=%{y:.2}<extra></extra>",
         "legendgroup": "ES0105066007",
         "marker": {
          "color": "#19d3f3",
          "pattern": {
           "shape": ""
          }
         },
         "name": "ES0105066007",
         "orientation": "v",
         "showlegend": true,
         "textposition": "auto",
         "type": "bar",
         "x": [
          "2021-Q2",
          "2021-Q3",
          "2021-Q3",
          "2021-Q3",
          "2021-Q3",
          "2021-Q3",
          "2021-Q4",
          "2021-Q4",
          "2021-Q4",
          "2021-Q4",
          "2021-Q4",
          "2021-Q4",
          "2022-Q1",
          "2022-Q2",
          "2022-Q2",
          "2022-Q2",
          "2022-Q2",
          "2022-Q2",
          "2022-Q2",
          "2022-Q3",
          "2022-Q3",
          "2022-Q3",
          "2022-Q3",
          "2022-Q3",
          "2022-Q3",
          "2022-Q4",
          "2022-Q4",
          "2022-Q4",
          "2022-Q4",
          "2022-Q4",
          "2022-Q4",
          "2023-Q1",
          "2023-Q1",
          "2023-Q1",
          "2023-Q1",
          "2023-Q1",
          "2023-Q2",
          "2023-Q3",
          "2023-Q4",
          "2024-Q1",
          "2024-Q2",
          "2024-Q3",
          "2024-Q4",
          "2025-Q1"
         ],
         "xaxis": "x",
         "y": {
          "bdata": "UwV7/EbE1UFTItEsUMa3Qd5U2I1Gp7ZB5BQdgT5DYEGGPcVAJpm0QSjyTCFiNLhBv5gt73nEpUEk0KAXAGy2QY+OS5hLXbVBVOX74kmXl0H+Ctm2ztO2QSwP4oBuP8FB+PzMB17K2UEb1M7NaQ2gQdUJSF9wg7xBY2FMmmCWrkETt/K+G+mtQYs45QyWc65BYK0qMFt4j0EG8UHxdMSZQVAbRbWeAahB096wOkKZt0E3+7M8w3CoQVWEM6qvjKhBlzcH/5pakEE6z1i7uV6bQZ0N2UXZf6lBdy48cZATqkGwVHdq5/WpQRCugCH+XpFBPuh5J/8QuUFGJWEVaC7fQQAAAAAAAAAAAAAAAAAAAAAAAAAAAAAAAAAAAAAAAAAAGUDxaloc4UH/kVepFY/dQe2NHC6er+BBIhew2WX53UHyJaaYopbbQYf96i/PMeFBVbdWjsTL2kGBEIzSHBzeQQ==",
          "dtype": "f8"
         },
         "yaxis": "y"
        },
        {
         "customdata": [
          [
           "BMG475671050"
          ],
          [
           "BMG475671050"
          ]
         ],
         "hovertemplate": "ISIN=%{customdata[0]}<br>Quarter=%{x}<br>Value of Mkt value=%{y:.2}<extra></extra>",
         "legendgroup": "BMG475671050",
         "marker": {
          "color": "#FF6692",
          "pattern": {
           "shape": ""
          }
         },
         "name": "BMG475671050",
         "orientation": "v",
         "showlegend": true,
         "textposition": "auto",
         "type": "bar",
         "x": [
          "2021-Q3",
          "2021-Q4"
         ],
         "xaxis": "x",
         "y": {
          "bdata": "UrgebntJt0EUrsf/aizMQQ==",
          "dtype": "f8"
         },
         "yaxis": "y"
        },
        {
         "customdata": [
          [
           "US0382221051"
          ]
         ],
         "hovertemplate": "ISIN=%{customdata[0]}<br>Quarter=%{x}<br>Value of Mkt value=%{y:.2}<extra></extra>",
         "legendgroup": "US0382221051",
         "marker": {
          "color": "#B6E880",
          "pattern": {
           "shape": ""
          }
         },
         "name": "US0382221051",
         "orientation": "v",
         "showlegend": true,
         "textposition": "auto",
         "type": "bar",
         "x": [
          "2022-Q2"
         ],
         "xaxis": "x",
         "y": {
          "bdata": "SOF65FqUpEE=",
          "dtype": "f8"
         },
         "yaxis": "y"
        },
        {
         "customdata": [
          [
           "NL0010273215"
          ]
         ],
         "hovertemplate": "ISIN=%{customdata[0]}<br>Quarter=%{x}<br>Value of Mkt value=%{y:.2}<extra></extra>",
         "legendgroup": "NL0010273215",
         "marker": {
          "color": "#FF97FF",
          "pattern": {
           "shape": ""
          }
         },
         "name": "NL0010273215",
         "orientation": "v",
         "showlegend": true,
         "textposition": "auto",
         "type": "bar",
         "x": [
          "2022-Q2"
         ],
         "xaxis": "x",
         "y": {
          "bdata": "P+OAEE41skE=",
          "dtype": "f8"
         },
         "yaxis": "y"
        },
        {
         "customdata": [
          [
           "CA13646K1084"
          ],
          [
           "CA13646K1084"
          ],
          [
           "CA13646K1084"
          ],
          [
           "CA13646K1084"
          ],
          [
           "CA13646K1084"
          ],
          [
           "CA13646K1084"
          ],
          [
           "CA13646K1084"
          ],
          [
           "CA13646K1084"
          ],
          [
           "CA13646K1084"
          ],
          [
           "CA13646K1084"
          ],
          [
           "CA13646K1084"
          ],
          [
           "CA13646K1084"
          ],
          [
           "CA13646K1084"
          ],
          [
           "CA13646K1084"
          ],
          [
           "CA13646K1084"
          ],
          [
           "CA13646K1084"
          ],
          [
           "CA13646K1084"
          ],
          [
           "CA13646K1084"
          ],
          [
           "CA13646K1084"
          ],
          [
           "CA13646K1084"
          ],
          [
           "CA13646K1084"
          ],
          [
           "CA13646K1084"
          ],
          [
           "CA13646K1084"
          ],
          [
           "CA13646K1084"
          ],
          [
           "CA13646K1084"
          ]
         ],
         "hovertemplate": "ISIN=%{customdata[0]}<br>Quarter=%{x}<br>Value of Mkt value=%{y:.2}<extra></extra>",
         "legendgroup": "CA13646K1084",
         "marker": {
          "color": "#FECB52",
          "pattern": {
           "shape": ""
          }
         },
         "name": "CA13646K1084",
         "orientation": "v",
         "showlegend": true,
         "textposition": "auto",
         "type": "bar",
         "x": [
          "2022-Q4",
          "2022-Q4",
          "2022-Q4",
          "2023-Q1",
          "2023-Q1",
          "2023-Q1",
          "2023-Q2",
          "2023-Q2",
          "2023-Q2",
          "2023-Q3",
          "2023-Q3",
          "2023-Q3",
          "2023-Q4",
          "2023-Q4",
          "2024-Q1",
          "2024-Q1",
          "2024-Q2",
          "2024-Q2",
          "2024-Q2",
          "2024-Q3",
          "2024-Q3",
          "2024-Q4",
          "2024-Q4",
          "2025-Q1",
          "2025-Q1"
         ],
         "xaxis": "x",
         "y": {
          "bdata": "xIPsfBOJ5EEAAACAIleVQTMzU/pFystBzaO8hMc25UEAAADAilCpQTMzcwyvFslBAAAAICOTqkEZZbcRN0bmQZqZeRxmVspB9zzLbT185EEAAACgcXuoQc3MLPl8Q8hBsYWDJibM5UFmZsYeNyTQQc3M/LhdANJBY01wE/Qw6EEAAACgT+epQWZmxlQbrMlBhqBmBjaa5UHTACmq93PnQZqZeYPndtFB/qUtRdzb40GamXm5GY3NQc3MrMtOq8xB0VfGoiBA40E=",
          "dtype": "f8"
         },
         "yaxis": "y"
        },
        {
         "customdata": [
          [
           "US8835561023"
          ],
          [
           "US8835561023"
          ],
          [
           "US8835561023"
          ],
          [
           "US8835561023"
          ],
          [
           "US8835561023"
          ],
          [
           "US8835561023"
          ],
          [
           "US8835561023"
          ],
          [
           "US8835561023"
          ],
          [
           "US8835561023"
          ],
          [
           "US8835561023"
          ],
          [
           "US8835561023"
          ],
          [
           "US8835561023"
          ],
          [
           "US8835561023"
          ]
         ],
         "hovertemplate": "ISIN=%{customdata[0]}<br>Quarter=%{x}<br>Value of Mkt value=%{y:.2}<extra></extra>",
         "legendgroup": "US8835561023",
         "marker": {
          "color": "#636efa",
          "pattern": {
           "shape": ""
          }
         },
         "name": "US8835561023",
         "orientation": "v",
         "showlegend": true,
         "textposition": "auto",
         "type": "bar",
         "x": [
          "2022-Q4",
          "2022-Q4",
          "2023-Q1",
          "2023-Q1",
          "2023-Q1",
          "2023-Q2",
          "2023-Q2",
          "2023-Q2",
          "2023-Q3",
          "2023-Q3",
          "2023-Q3",
          "2023-Q4",
          "2024-Q1"
         ],
         "xaxis": "x",
         "y": {
          "bdata": "mpmZqY33aEEAAAAA1QF1Qc3MzFybIVpBpHA90unGoEGuR+G134KxQQAAALCpp1dBAAAAohq0r0EAAPBdeSvTQc3MzJzV8lZBw/Uoqr/BrkFxPRoyTbvSQYXrsRSzxNdB7FGYCaNJykE=",
          "dtype": "f8"
         },
         "yaxis": "y"
        },
        {
         "customdata": [
          [
           "US3696043013"
          ],
          [
           "US3696043013"
          ],
          [
           "US3696043013"
          ],
          [
           "US3696043013"
          ],
          [
           "US3696043013"
          ],
          [
           "US3696043013"
          ],
          [
           "US3696043013"
          ],
          [
           "US3696043013"
          ],
          [
           "US3696043013"
          ],
          [
           "US3696043013"
          ],
          [
           "US3696043013"
          ],
          [
           "US3696043013"
          ],
          [
           "US3696043013"
          ],
          [
           "US3696043013"
          ],
          [
           "US3696043013"
          ],
          [
           "US3696043013"
          ]
         ],
         "hovertemplate": "ISIN=%{customdata[0]}<br>Quarter=%{x}<br>Value of Mkt value=%{y:.2}<extra></extra>",
         "legendgroup": "US3696043013",
         "marker": {
          "color": "#EF553B",
          "pattern": {
           "shape": ""
          }
         },
         "name": "US3696043013",
         "orientation": "v",
         "showlegend": true,
         "textposition": "auto",
         "type": "bar",
         "x": [
          "2023-Q1",
          "2023-Q1",
          "2023-Q2",
          "2023-Q2",
          "2023-Q2",
          "2023-Q3",
          "2023-Q3",
          "2023-Q3",
          "2023-Q4",
          "2024-Q1",
          "2024-Q2",
          "2024-Q2",
          "2024-Q2",
          "2024-Q3",
          "2024-Q4",
          "2025-Q1"
         ],
         "xaxis": "x",
         "y": {
          "bdata": "ZmZmmeMIzUGamZl99n7SQQAAAICnbX9BZmaG0gpJw0EzM5s2YL7pQQAAAIDsoH9BMzMTsoBow0GamfExX+jpQVK4RuAR5vFBPQp7e179+0EAAADAp72GQa5HAZ2q6MtBH4VPr61+9kEfhfu0rgj/QY/CFceJOvpBAACCXbRSAEI=",
          "dtype": "f8"
         },
         "yaxis": "y"
        },
        {
         "customdata": [
          [
           "JE00BJVNSS43"
          ],
          [
           "JE00BJVNSS43"
          ],
          [
           "JE00BJVNSS43"
          ],
          [
           "JE00BJVNSS43"
          ],
          [
           "JE00BJVNSS43"
          ],
          [
           "JE00BJVNSS43"
          ]
         ],
         "hovertemplate": "ISIN=%{customdata[0]}<br>Quarter=%{x}<br>Value of Mkt value=%{y:.2}<extra></extra>",
         "legendgroup": "JE00BJVNSS43",
         "marker": {
          "color": "#00cc96",
          "pattern": {
           "shape": ""
          }
         },
         "name": "JE00BJVNSS43",
         "orientation": "v",
         "showlegend": true,
         "textposition": "auto",
         "type": "bar",
         "x": [
          "2023-Q2",
          "2023-Q2",
          "2023-Q3",
          "2023-Q3",
          "2023-Q4",
          "2024-Q1"
         ],
         "xaxis": "x",
         "y": {
          "bdata": "zczM9H5JcUEzMzPZDR2IQZqZmWHsEnJBZmZmpAU2iUGamZn+CRqUQQAAAAAAAAAA",
          "dtype": "f8"
         },
         "yaxis": "y"
        },
        {
         "customdata": [
          [
           "NL0015001FS8"
          ],
          [
           "NL0015001FS8"
          ],
          [
           "NL0015001FS8"
          ],
          [
           "NL0015001FS8"
          ],
          [
           "NL0015001FS8"
          ],
          [
           "NL0015001FS8"
          ],
          [
           "NL0015001FS8"
          ],
          [
           "NL0015001FS8"
          ],
          [
           "NL0015001FS8"
          ],
          [
           "NL0015001FS8"
          ],
          [
           "NL0015001FS8"
          ],
          [
           "NL0015001FS8"
          ],
          [
           "NL0015001FS8"
          ],
          [
           "NL0015001FS8"
          ],
          [
           "NL0015001FS8"
          ],
          [
           "NL0015001FS8"
          ],
          [
           "NL0015001FS8"
          ],
          [
           "NL0015001FS8"
          ],
          [
           "NL0015001FS8"
          ],
          [
           "NL0015001FS8"
          ],
          [
           "NL0015001FS8"
          ],
          [
           "NL0015001FS8"
          ],
          [
           "NL0015001FS8"
          ],
          [
           "NL0015001FS8"
          ],
          [
           "NL0015001FS8"
          ],
          [
           "NL0015001FS8"
          ],
          [
           "NL0015001FS8"
          ],
          [
           "NL0015001FS8"
          ],
          [
           "NL0015001FS8"
          ],
          [
           "NL0015001FS8"
          ],
          [
           "NL0015001FS8"
          ],
          [
           "NL0015001FS8"
          ]
         ],
         "hovertemplate": "ISIN=%{customdata[0]}<br>Quarter=%{x}<br>Value of Mkt value=%{y:.2}<extra></extra>",
         "legendgroup": "NL0015001FS8",
         "marker": {
          "color": "#ab63fa",
          "pattern": {
           "shape": ""
          }
         },
         "name": "NL0015001FS8",
         "orientation": "v",
         "showlegend": true,
         "textposition": "auto",
         "type": "bar",
         "x": [
          "2023-Q2",
          "2023-Q3",
          "2023-Q3",
          "2023-Q3",
          "2023-Q3",
          "2023-Q3",
          "2023-Q3",
          "2023-Q3",
          "2023-Q3",
          "2023-Q4",
          "2023-Q4",
          "2023-Q4",
          "2024-Q1",
          "2024-Q1",
          "2024-Q1",
          "2024-Q2",
          "2024-Q2",
          "2024-Q2",
          "2024-Q2",
          "2024-Q2",
          "2024-Q2",
          "2024-Q2",
          "2024-Q2",
          "2024-Q2",
          "2024-Q3",
          "2024-Q3",
          "2024-Q3",
          "2024-Q4",
          "2024-Q4",
          "2024-Q4",
          "2025-Q1",
          "2025-Q1"
         ],
         "xaxis": "x",
         "y": {
          "bdata": "DLCPHg0iZ0GVDIAb9Z+aQZs6H5SRk6tBDeCdDB8Ys0GcFfk87He8QbJnv5VyT7FBZ3x/ZDFloUGk4zrBwymtQakw9kXmJahB7lqiUjkToEHUTYlxIcbeQb1SBrXOKK1BRrJHVgd0oUFqNNkAMXnBQX5zB+o38eBB/dtldtz4gUEAAAAgToayQWjmicq385xBWkhAvSXlsUHH9a+VtBSdQSjTGHL097lBcH2IWy8PskG8lsACLEzBQbUWplyt1cpBfhuKjSf3tkEpzShgB/vhQYMvsPT4H8NBby9RRxvEtkEvqDNDdvXCQVx338gP0+FBle6WXQUduEFmhV95SObnQQ==",
          "dtype": "f8"
         },
         "yaxis": "y"
        },
        {
         "customdata": [
          [
           "DE0007236101"
          ],
          [
           "DE0007236101"
          ],
          [
           "DE0007236101"
          ],
          [
           "DE0007236101"
          ],
          [
           "DE0007236101"
          ],
          [
           "DE0007236101"
          ],
          [
           "DE0007236101"
          ],
          [
           "DE0007236101"
          ],
          [
           "DE0007236101"
          ]
         ],
         "hovertemplate": "ISIN=%{customdata[0]}<br>Quarter=%{x}<br>Value of Mkt value=%{y:.2}<extra></extra>",
         "legendgroup": "DE0007236101",
         "marker": {
          "color": "#FFA15A",
          "pattern": {
           "shape": ""
          }
         },
         "name": "DE0007236101",
         "orientation": "v",
         "showlegend": true,
         "textposition": "auto",
         "type": "bar",
         "x": [
          "2023-Q2",
          "2023-Q3",
          "2023-Q4",
          "2024-Q1",
          "2024-Q2",
          "2024-Q2",
          "2024-Q2",
          "2024-Q3",
          "2024-Q4"
         ],
         "xaxis": "x",
         "y": {
          "bdata": "YFrkRRsKu0Gs5jnDxG67QeviNuzy7sFBEodssBRBwkHNzMyMCMBxQf2iBEMS2LFBAAAABAiksEHG+5GhHE7DQQuzUBsqrcJB",
          "dtype": "f8"
         },
         "yaxis": "y"
        },
        {
         "customdata": [
          [
           "DE000SHL1006"
          ],
          [
           "DE000SHL1006"
          ],
          [
           "DE000SHL1006"
          ],
          [
           "DE000SHL1006"
          ],
          [
           "DE000SHL1006"
          ],
          [
           "DE000SHL1006"
          ],
          [
           "DE000SHL1006"
          ]
         ],
         "hovertemplate": "ISIN=%{customdata[0]}<br>Quarter=%{x}<br>Value of Mkt value=%{y:.2}<extra></extra>",
         "legendgroup": "DE000SHL1006",
         "marker": {
          "color": "#19d3f3",
          "pattern": {
           "shape": ""
          }
         },
         "name": "DE000SHL1006",
         "orientation": "v",
         "showlegend": true,
         "textposition": "auto",
         "type": "bar",
         "x": [
          "2023-Q2",
          "2023-Q3",
          "2023-Q4",
          "2024-Q1",
          "2024-Q2",
          "2024-Q3",
          "2024-Q4"
         ],
         "xaxis": "x",
         "y": {
          "bdata": "BYvbUSmUo8EzMzMjW6qkwQAAwBJ4o6fB+n5quPTpqMEfheuQHXinweXQwoZSaqjBUrgeRQqYpcE=",
          "dtype": "f8"
         },
         "yaxis": "y"
        },
        {
         "customdata": [
          [
           "US36828A1016"
          ]
         ],
         "hovertemplate": "ISIN=%{customdata[0]}<br>Quarter=%{x}<br>Value of Mkt value=%{y:.2}<extra></extra>",
         "legendgroup": "US36828A1016",
         "marker": {
          "color": "#FF6692",
          "pattern": {
           "shape": ""
          }
         },
         "name": "US36828A1016",
         "orientation": "v",
         "showlegend": true,
         "textposition": "auto",
         "type": "bar",
         "x": [
          "2024-Q1"
         ],
         "xaxis": "x",
         "y": {
          "bdata": "AACACwUQqcE=",
          "dtype": "f8"
         },
         "yaxis": "y"
        },
        {
         "customdata": [
          [
           "ES0105046017"
          ],
          [
           "ES0105046017"
          ]
         ],
         "hovertemplate": "ISIN=%{customdata[0]}<br>Quarter=%{x}<br>Value of Mkt value=%{y:.2}<extra></extra>",
         "legendgroup": "ES0105046017",
         "marker": {
          "color": "#B6E880",
          "pattern": {
           "shape": ""
          }
         },
         "name": "ES0105046017",
         "orientation": "v",
         "showlegend": true,
         "textposition": "auto",
         "type": "bar",
         "x": [
          "2025-Q1",
          "2025-Q1"
         ],
         "xaxis": "x",
         "y": {
          "bdata": "1SE3rtaxxUETm6M8V+TRQQ==",
          "dtype": "f8"
         },
         "yaxis": "y"
        }
       ],
       "layout": {
        "barmode": "stack",
        "legend": {
         "title": {
          "text": "ISIN"
         },
         "tracegroupgap": 0
        },
        "template": {
         "data": {
          "bar": [
           {
            "error_x": {
             "color": "#2a3f5f"
            },
            "error_y": {
             "color": "#2a3f5f"
            },
            "marker": {
             "line": {
              "color": "#E5ECF6",
              "width": 0.5
             },
             "pattern": {
              "fillmode": "overlay",
              "size": 10,
              "solidity": 0.2
             }
            },
            "type": "bar"
           }
          ],
          "barpolar": [
           {
            "marker": {
             "line": {
              "color": "#E5ECF6",
              "width": 0.5
             },
             "pattern": {
              "fillmode": "overlay",
              "size": 10,
              "solidity": 0.2
             }
            },
            "type": "barpolar"
           }
          ],
          "carpet": [
           {
            "aaxis": {
             "endlinecolor": "#2a3f5f",
             "gridcolor": "white",
             "linecolor": "white",
             "minorgridcolor": "white",
             "startlinecolor": "#2a3f5f"
            },
            "baxis": {
             "endlinecolor": "#2a3f5f",
             "gridcolor": "white",
             "linecolor": "white",
             "minorgridcolor": "white",
             "startlinecolor": "#2a3f5f"
            },
            "type": "carpet"
           }
          ],
          "choropleth": [
           {
            "colorbar": {
             "outlinewidth": 0,
             "ticks": ""
            },
            "type": "choropleth"
           }
          ],
          "contour": [
           {
            "colorbar": {
             "outlinewidth": 0,
             "ticks": ""
            },
            "colorscale": [
             [
              0,
              "#0d0887"
             ],
             [
              0.1111111111111111,
              "#46039f"
             ],
             [
              0.2222222222222222,
              "#7201a8"
             ],
             [
              0.3333333333333333,
              "#9c179e"
             ],
             [
              0.4444444444444444,
              "#bd3786"
             ],
             [
              0.5555555555555556,
              "#d8576b"
             ],
             [
              0.6666666666666666,
              "#ed7953"
             ],
             [
              0.7777777777777778,
              "#fb9f3a"
             ],
             [
              0.8888888888888888,
              "#fdca26"
             ],
             [
              1,
              "#f0f921"
             ]
            ],
            "type": "contour"
           }
          ],
          "contourcarpet": [
           {
            "colorbar": {
             "outlinewidth": 0,
             "ticks": ""
            },
            "type": "contourcarpet"
           }
          ],
          "heatmap": [
           {
            "colorbar": {
             "outlinewidth": 0,
             "ticks": ""
            },
            "colorscale": [
             [
              0,
              "#0d0887"
             ],
             [
              0.1111111111111111,
              "#46039f"
             ],
             [
              0.2222222222222222,
              "#7201a8"
             ],
             [
              0.3333333333333333,
              "#9c179e"
             ],
             [
              0.4444444444444444,
              "#bd3786"
             ],
             [
              0.5555555555555556,
              "#d8576b"
             ],
             [
              0.6666666666666666,
              "#ed7953"
             ],
             [
              0.7777777777777778,
              "#fb9f3a"
             ],
             [
              0.8888888888888888,
              "#fdca26"
             ],
             [
              1,
              "#f0f921"
             ]
            ],
            "type": "heatmap"
           }
          ],
          "histogram": [
           {
            "marker": {
             "pattern": {
              "fillmode": "overlay",
              "size": 10,
              "solidity": 0.2
             }
            },
            "type": "histogram"
           }
          ],
          "histogram2d": [
           {
            "colorbar": {
             "outlinewidth": 0,
             "ticks": ""
            },
            "colorscale": [
             [
              0,
              "#0d0887"
             ],
             [
              0.1111111111111111,
              "#46039f"
             ],
             [
              0.2222222222222222,
              "#7201a8"
             ],
             [
              0.3333333333333333,
              "#9c179e"
             ],
             [
              0.4444444444444444,
              "#bd3786"
             ],
             [
              0.5555555555555556,
              "#d8576b"
             ],
             [
              0.6666666666666666,
              "#ed7953"
             ],
             [
              0.7777777777777778,
              "#fb9f3a"
             ],
             [
              0.8888888888888888,
              "#fdca26"
             ],
             [
              1,
              "#f0f921"
             ]
            ],
            "type": "histogram2d"
           }
          ],
          "histogram2dcontour": [
           {
            "colorbar": {
             "outlinewidth": 0,
             "ticks": ""
            },
            "colorscale": [
             [
              0,
              "#0d0887"
             ],
             [
              0.1111111111111111,
              "#46039f"
             ],
             [
              0.2222222222222222,
              "#7201a8"
             ],
             [
              0.3333333333333333,
              "#9c179e"
             ],
             [
              0.4444444444444444,
              "#bd3786"
             ],
             [
              0.5555555555555556,
              "#d8576b"
             ],
             [
              0.6666666666666666,
              "#ed7953"
             ],
             [
              0.7777777777777778,
              "#fb9f3a"
             ],
             [
              0.8888888888888888,
              "#fdca26"
             ],
             [
              1,
              "#f0f921"
             ]
            ],
            "type": "histogram2dcontour"
           }
          ],
          "mesh3d": [
           {
            "colorbar": {
             "outlinewidth": 0,
             "ticks": ""
            },
            "type": "mesh3d"
           }
          ],
          "parcoords": [
           {
            "line": {
             "colorbar": {
              "outlinewidth": 0,
              "ticks": ""
             }
            },
            "type": "parcoords"
           }
          ],
          "pie": [
           {
            "automargin": true,
            "type": "pie"
           }
          ],
          "scatter": [
           {
            "fillpattern": {
             "fillmode": "overlay",
             "size": 10,
             "solidity": 0.2
            },
            "type": "scatter"
           }
          ],
          "scatter3d": [
           {
            "line": {
             "colorbar": {
              "outlinewidth": 0,
              "ticks": ""
             }
            },
            "marker": {
             "colorbar": {
              "outlinewidth": 0,
              "ticks": ""
             }
            },
            "type": "scatter3d"
           }
          ],
          "scattercarpet": [
           {
            "marker": {
             "colorbar": {
              "outlinewidth": 0,
              "ticks": ""
             }
            },
            "type": "scattercarpet"
           }
          ],
          "scattergeo": [
           {
            "marker": {
             "colorbar": {
              "outlinewidth": 0,
              "ticks": ""
             }
            },
            "type": "scattergeo"
           }
          ],
          "scattergl": [
           {
            "marker": {
             "colorbar": {
              "outlinewidth": 0,
              "ticks": ""
             }
            },
            "type": "scattergl"
           }
          ],
          "scattermap": [
           {
            "marker": {
             "colorbar": {
              "outlinewidth": 0,
              "ticks": ""
             }
            },
            "type": "scattermap"
           }
          ],
          "scattermapbox": [
           {
            "marker": {
             "colorbar": {
              "outlinewidth": 0,
              "ticks": ""
             }
            },
            "type": "scattermapbox"
           }
          ],
          "scatterpolar": [
           {
            "marker": {
             "colorbar": {
              "outlinewidth": 0,
              "ticks": ""
             }
            },
            "type": "scatterpolar"
           }
          ],
          "scatterpolargl": [
           {
            "marker": {
             "colorbar": {
              "outlinewidth": 0,
              "ticks": ""
             }
            },
            "type": "scatterpolargl"
           }
          ],
          "scatterternary": [
           {
            "marker": {
             "colorbar": {
              "outlinewidth": 0,
              "ticks": ""
             }
            },
            "type": "scatterternary"
           }
          ],
          "surface": [
           {
            "colorbar": {
             "outlinewidth": 0,
             "ticks": ""
            },
            "colorscale": [
             [
              0,
              "#0d0887"
             ],
             [
              0.1111111111111111,
              "#46039f"
             ],
             [
              0.2222222222222222,
              "#7201a8"
             ],
             [
              0.3333333333333333,
              "#9c179e"
             ],
             [
              0.4444444444444444,
              "#bd3786"
             ],
             [
              0.5555555555555556,
              "#d8576b"
             ],
             [
              0.6666666666666666,
              "#ed7953"
             ],
             [
              0.7777777777777778,
              "#fb9f3a"
             ],
             [
              0.8888888888888888,
              "#fdca26"
             ],
             [
              1,
              "#f0f921"
             ]
            ],
            "type": "surface"
           }
          ],
          "table": [
           {
            "cells": {
             "fill": {
              "color": "#EBF0F8"
             },
             "line": {
              "color": "white"
             }
            },
            "header": {
             "fill": {
              "color": "#C8D4E3"
             },
             "line": {
              "color": "white"
             }
            },
            "type": "table"
           }
          ]
         },
         "layout": {
          "annotationdefaults": {
           "arrowcolor": "#2a3f5f",
           "arrowhead": 0,
           "arrowwidth": 1
          },
          "autotypenumbers": "strict",
          "coloraxis": {
           "colorbar": {
            "outlinewidth": 0,
            "ticks": ""
           }
          },
          "colorscale": {
           "diverging": [
            [
             0,
             "#8e0152"
            ],
            [
             0.1,
             "#c51b7d"
            ],
            [
             0.2,
             "#de77ae"
            ],
            [
             0.3,
             "#f1b6da"
            ],
            [
             0.4,
             "#fde0ef"
            ],
            [
             0.5,
             "#f7f7f7"
            ],
            [
             0.6,
             "#e6f5d0"
            ],
            [
             0.7,
             "#b8e186"
            ],
            [
             0.8,
             "#7fbc41"
            ],
            [
             0.9,
             "#4d9221"
            ],
            [
             1,
             "#276419"
            ]
           ],
           "sequential": [
            [
             0,
             "#0d0887"
            ],
            [
             0.1111111111111111,
             "#46039f"
            ],
            [
             0.2222222222222222,
             "#7201a8"
            ],
            [
             0.3333333333333333,
             "#9c179e"
            ],
            [
             0.4444444444444444,
             "#bd3786"
            ],
            [
             0.5555555555555556,
             "#d8576b"
            ],
            [
             0.6666666666666666,
             "#ed7953"
            ],
            [
             0.7777777777777778,
             "#fb9f3a"
            ],
            [
             0.8888888888888888,
             "#fdca26"
            ],
            [
             1,
             "#f0f921"
            ]
           ],
           "sequentialminus": [
            [
             0,
             "#0d0887"
            ],
            [
             0.1111111111111111,
             "#46039f"
            ],
            [
             0.2222222222222222,
             "#7201a8"
            ],
            [
             0.3333333333333333,
             "#9c179e"
            ],
            [
             0.4444444444444444,
             "#bd3786"
            ],
            [
             0.5555555555555556,
             "#d8576b"
            ],
            [
             0.6666666666666666,
             "#ed7953"
            ],
            [
             0.7777777777777778,
             "#fb9f3a"
            ],
            [
             0.8888888888888888,
             "#fdca26"
            ],
            [
             1,
             "#f0f921"
            ]
           ]
          },
          "colorway": [
           "#636efa",
           "#EF553B",
           "#00cc96",
           "#ab63fa",
           "#FFA15A",
           "#19d3f3",
           "#FF6692",
           "#B6E880",
           "#FF97FF",
           "#FECB52"
          ],
          "font": {
           "color": "#2a3f5f"
          },
          "geo": {
           "bgcolor": "white",
           "lakecolor": "white",
           "landcolor": "#E5ECF6",
           "showlakes": true,
           "showland": true,
           "subunitcolor": "white"
          },
          "hoverlabel": {
           "align": "left"
          },
          "hovermode": "closest",
          "mapbox": {
           "style": "light"
          },
          "paper_bgcolor": "white",
          "plot_bgcolor": "#E5ECF6",
          "polar": {
           "angularaxis": {
            "gridcolor": "white",
            "linecolor": "white",
            "ticks": ""
           },
           "bgcolor": "#E5ECF6",
           "radialaxis": {
            "gridcolor": "white",
            "linecolor": "white",
            "ticks": ""
           }
          },
          "scene": {
           "xaxis": {
            "backgroundcolor": "#E5ECF6",
            "gridcolor": "white",
            "gridwidth": 2,
            "linecolor": "white",
            "showbackground": true,
            "ticks": "",
            "zerolinecolor": "white"
           },
           "yaxis": {
            "backgroundcolor": "#E5ECF6",
            "gridcolor": "white",
            "gridwidth": 2,
            "linecolor": "white",
            "showbackground": true,
            "ticks": "",
            "zerolinecolor": "white"
           },
           "zaxis": {
            "backgroundcolor": "#E5ECF6",
            "gridcolor": "white",
            "gridwidth": 2,
            "linecolor": "white",
            "showbackground": true,
            "ticks": "",
            "zerolinecolor": "white"
           }
          },
          "shapedefaults": {
           "line": {
            "color": "#2a3f5f"
           }
          },
          "ternary": {
           "aaxis": {
            "gridcolor": "white",
            "linecolor": "white",
            "ticks": ""
           },
           "baxis": {
            "gridcolor": "white",
            "linecolor": "white",
            "ticks": ""
           },
           "bgcolor": "#E5ECF6",
           "caxis": {
            "gridcolor": "white",
            "linecolor": "white",
            "ticks": ""
           }
          },
          "title": {
           "x": 0.05
          },
          "xaxis": {
           "automargin": true,
           "gridcolor": "white",
           "linecolor": "white",
           "ticks": "",
           "title": {
            "standoff": 15
           },
           "zerolinecolor": "white",
           "zerolinewidth": 2
          },
          "yaxis": {
           "automargin": true,
           "gridcolor": "white",
           "linecolor": "white",
           "ticks": "",
           "title": {
            "standoff": 15
           },
           "zerolinecolor": "white",
           "zerolinewidth": 2
          }
         }
        },
        "title": {
         "text": "Holding Weight (Mkt value) of Each ISIN per Quarter"
        },
        "uniformtext": {
         "minsize": 8,
         "mode": "hide"
        },
        "xaxis": {
         "anchor": "y",
         "domain": [
          0,
          1
         ],
         "title": {
          "text": "Quarter"
         }
        },
        "yaxis": {
         "anchor": "x",
         "domain": [
          0,
          1
         ],
         "title": {
          "text": "Percentage of NAV (Mkt value)"
         }
        }
       }
      },
      "image/png": "[encoded data removed]"
     },
     "metadata": {},
     "output_type": "display_data"
    }
   ],
   "source": [
    "create_stacked_bar_chart(portfolio_df, 'Mkt value')"
   ]
  },
  {
   "cell_type": "code",
   "execution_count": 18,
   "id": "9f249282-d418-4773-aa35-b93bf8e35aac",
   "metadata": {},
   "outputs": [
    {
     "name": "stderr",
     "output_type": "stream",
     "text": [
      "/tmp/ipykernel_3403622/2084563770.py:11: SettingWithCopyWarning:\n",
      "\n",
      "\n",
      "A value is trying to be set on a copy of a slice from a DataFrame.\n",
      "Try using .loc[row_indexer,col_indexer] = value instead\n",
      "\n",
      "See the caveats in the documentation: https://pandas.pydata.org/pandas-docs/stable/user_guide/indexing.html#returning-a-view-versus-a-copy\n",
      "\n",
      "/tmp/ipykernel_3403622/2084563770.py:14: SettingWithCopyWarning:\n",
      "\n",
      "\n",
      "A value is trying to be set on a copy of a slice from a DataFrame\n",
      "\n",
      "See the caveats in the documentation: https://pandas.pydata.org/pandas-docs/stable/user_guide/indexing.html#returning-a-view-versus-a-copy\n",
      "\n"
     ]
    },
    {
     "name": "stdout",
     "output_type": "stream",
     "text": [
      "(835, 15)\n"
     ]
    },
    {
     "data": {
      "application/vnd.plotly.v1+json": {
       "config": {
        "plotlyServerURL": "https://plot.ly"
       },
       "data": [
        {
         "customdata": [
          [
           "US90130A1016"
          ],
          [
           "US90130A1016"
          ],
          [
           "US90130A1016"
          ]
         ],
         "hovertemplate": "ISIN=%{customdata[0]}<br>Quarter=%{x}<br>Value of Mkt value=%{y:.2}<extra></extra>",
         "legendgroup": "US90130A1016",
         "marker": {
          "color": "#636efa",
          "pattern": {
           "shape": ""
          }
         },
         "name": "US90130A1016",
         "orientation": "v",
         "showlegend": true,
         "textposition": "auto",
         "type": "bar",
         "x": [
          "2018-Q1",
          "2018-Q2",
          "2018-Q3"
         ],
         "xaxis": "x",
         "y": {
          "bdata": "9ijMzUnp4EFxPQ5y0OnyQRSuCxlqovFB",
          "dtype": "f8"
         },
         "yaxis": "y"
        },
        {
         "customdata": [
          [
           "US90130A2006"
          ],
          [
           "US90130A2006"
          ],
          [
           "US90130A2006"
          ]
         ],
         "hovertemplate": "ISIN=%{customdata[0]}<br>Quarter=%{x}<br>Value of Mkt value=%{y:.2}<extra></extra>",
         "legendgroup": "US90130A2006",
         "marker": {
          "color": "#EF553B",
          "pattern": {
           "shape": ""
          }
         },
         "name": "US90130A2006",
         "orientation": "v",
         "showlegend": true,
         "textposition": "auto",
         "type": "bar",
         "x": [
          "2018-Q1",
          "2018-Q2",
          "2018-Q3"
         ],
         "xaxis": "x",
         "y": {
          "bdata": "ZmamJN8StkFcj6LWysDNQcP16GJyq8tB",
          "dtype": "f8"
         },
         "yaxis": "y"
        },
        {
         "customdata": [
          [
           "ES0105046009"
          ],
          [
           "ES0105046009"
          ],
          [
           "ES0105046009"
          ],
          [
           "ES0105046009"
          ],
          [
           "ES0105046009"
          ],
          [
           "ES0105046009"
          ],
          [
           "ES0105046009"
          ],
          [
           "ES0105046009"
          ],
          [
           "ES0105046009"
          ],
          [
           "ES0105046009"
          ],
          [
           "ES0105046009"
          ],
          [
           "ES0105046009"
          ],
          [
           "ES0105046009"
          ],
          [
           "ES0105046009"
          ],
          [
           "ES0105046009"
          ],
          [
           "ES0105046009"
          ],
          [
           "ES0105046009"
          ],
          [
           "ES0105046009"
          ],
          [
           "ES0105046009"
          ],
          [
           "ES0105046009"
          ],
          [
           "ES0105046009"
          ],
          [
           "ES0105046009"
          ],
          [
           "ES0105046009"
          ],
          [
           "ES0105046009"
          ],
          [
           "ES0105046009"
          ],
          [
           "ES0105046009"
          ],
          [
           "ES0105046009"
          ],
          [
           "ES0105046009"
          ]
         ],
         "hovertemplate": "ISIN=%{customdata[0]}<br>Quarter=%{x}<br>Value of Mkt value=%{y:.2}<extra></extra>",
         "legendgroup": "ES0105046009",
         "marker": {
          "color": "#00cc96",
          "pattern": {
           "shape": ""
          }
         },
         "name": "ES0105046009",
         "orientation": "v",
         "showlegend": true,
         "textposition": "auto",
         "type": "bar",
         "x": [
          "2018-Q1",
          "2018-Q2",
          "2018-Q3",
          "2018-Q4",
          "2019-Q1",
          "2019-Q2",
          "2019-Q3",
          "2019-Q4",
          "2020-Q1",
          "2020-Q2",
          "2020-Q3",
          "2020-Q4",
          "2021-Q1",
          "2021-Q2",
          "2021-Q3",
          "2021-Q4",
          "2022-Q1",
          "2022-Q2",
          "2022-Q3",
          "2022-Q4",
          "2023-Q1",
          "2023-Q2",
          "2023-Q3",
          "2023-Q4",
          "2024-Q1",
          "2024-Q2",
          "2024-Q3",
          "2024-Q4"
         ],
         "xaxis": "x",
         "y": {
          "bdata": "AACg+SLV00EAAABUfe3DQQAAAIJgCcNBAAAARcwTwUEAAAAmT7/DQQAAAEgcvMVBAAAAAE8VxEEAAACQK/fEQaRwPQocFrhBAAAAhMc+vUFmZmY+3qu+Qd48MZaeJsJB7Z4sjk/zv0HVJk6Xwau/QVDf8kCFscBBZaVJmTp8vkH3WHpUPCTAQcHK4cnNjLhBA30iOkM8tEFtHDFxpz+4QSxlmUzj5b1BeJyi/wnovUHBkNXph+y7QRfZjmB1xcBBHAjJG6g5wkEtIR/smqbCQUht4l7oXsRBICSLD/3uwkE=",
          "dtype": "f8"
         },
         "yaxis": "y"
        },
        {
         "customdata": [
          [
           "NL0000235190"
          ],
          [
           "NL0000235190"
          ],
          [
           "NL0000235190"
          ],
          [
           "NL0000235190"
          ],
          [
           "NL0000235190"
          ],
          [
           "NL0000235190"
          ],
          [
           "NL0000235190"
          ],
          [
           "NL0000235190"
          ],
          [
           "NL0000235190"
          ],
          [
           "NL0000235190"
          ],
          [
           "NL0000235190"
          ],
          [
           "NL0000235190"
          ],
          [
           "NL0000235190"
          ],
          [
           "NL0000235190"
          ],
          [
           "NL0000235190"
          ],
          [
           "NL0000235190"
          ],
          [
           "NL0000235190"
          ],
          [
           "NL0000235190"
          ],
          [
           "NL0000235190"
          ],
          [
           "NL0000235190"
          ],
          [
           "NL0000235190"
          ],
          [
           "NL0000235190"
          ],
          [
           "NL0000235190"
          ],
          [
           "NL0000235190"
          ],
          [
           "NL0000235190"
          ],
          [
           "NL0000235190"
          ],
          [
           "NL0000235190"
          ],
          [
           "NL0000235190"
          ],
          [
           "NL0000235190"
          ],
          [
           "NL0000235190"
          ]
         ],
         "hovertemplate": "ISIN=%{customdata[0]}<br>Quarter=%{x}<br>Value of Mkt value=%{y:.2}<extra></extra>",
         "legendgroup": "NL0000235190",
         "marker": {
          "color": "#ab63fa",
          "pattern": {
           "shape": ""
          }
         },
         "name": "NL0000235190",
         "orientation": "v",
         "showlegend": true,
         "textposition": "auto",
         "type": "bar",
         "x": [
          "2018-Q1",
          "2018-Q2",
          "2018-Q3",
          "2018-Q4",
          "2019-Q1",
          "2019-Q2",
          "2019-Q3",
          "2019-Q4",
          "2020-Q1",
          "2020-Q2",
          "2020-Q3",
          "2020-Q4",
          "2021-Q1",
          "2021-Q4",
          "2022-Q1",
          "2022-Q2",
          "2022-Q3",
          "2022-Q3",
          "2022-Q4",
          "2022-Q4",
          "2023-Q1",
          "2023-Q2",
          "2023-Q3",
          "2023-Q4",
          "2024-Q1",
          "2024-Q2",
          "2024-Q2",
          "2024-Q3",
          "2024-Q4",
          "2025-Q1"
         ],
         "xaxis": "x",
         "y": {
          "bdata": "Lv93wQ8P2UGMFdMDIWbZQSjuGyIIO9tBhgAyOQJ71UFfB9IKU8LZQU0VdPxuXNRBcT2KfT4R1kELQU6d19jYQdehUgNa2sZBK9mhZyph0EGiKql7B7rVQUQYnIQB2dlBYtbXYDr/0EHuB/zrMK+9QQ+6RFX+rc5Bgez58DQa4EE9Ctekh3ySQVZ/W5vZLOZBH4XrQgM3mUEHZOqTz+HuQU0VIsDhz/FBZB4Cf+M+80FkBqzWbeTxQXY+Zisrj/RBGLJaBFGC+EEAAABsfJK4Qb/xs0VVwPBBtq14Nw9x80GDBjfyynn1QdGuB3ThlfdB",
          "dtype": "f8"
         },
         "yaxis": "y"
        },
        {
         "customdata": [
          [
           "US01609W1027"
          ],
          [
           "US01609W1027"
          ]
         ],
         "hovertemplate": "ISIN=%{customdata[0]}<br>Quarter=%{x}<br>Value of Mkt value=%{y:.2}<extra></extra>",
         "legendgroup": "US01609W1027",
         "marker": {
          "color": "#FFA15A",
          "pattern": {
           "shape": ""
          }
         },
         "name": "US01609W1027",
         "orientation": "v",
         "showlegend": true,
         "textposition": "auto",
         "type": "bar",
         "x": [
          "2018-Q1",
          "2018-Q2"
         ],
         "xaxis": "x",
         "y": {
          "bdata": "Ctf7Kruz8MEK18vu3IXqwQ==",
          "dtype": "f8"
         },
         "yaxis": "y"
        },
        {
         "customdata": [
          [
           "US02079K3059"
          ],
          [
           "US02079K3059"
          ],
          [
           "US02079K3059"
          ],
          [
           "US02079K3059"
          ],
          [
           "US02079K3059"
          ],
          [
           "US02079K3059"
          ],
          [
           "US02079K3059"
          ],
          [
           "US02079K3059"
          ],
          [
           "US02079K3059"
          ],
          [
           "US02079K3059"
          ],
          [
           "US02079K3059"
          ],
          [
           "US02079K3059"
          ],
          [
           "US02079K3059"
          ],
          [
           "US02079K3059"
          ],
          [
           "US02079K3059"
          ],
          [
           "US02079K3059"
          ],
          [
           "US02079K3059"
          ],
          [
           "US02079K3059"
          ],
          [
           "US02079K3059"
          ],
          [
           "US02079K3059"
          ],
          [
           "US02079K3059"
          ],
          [
           "US02079K3059"
          ],
          [
           "US02079K3059"
          ],
          [
           "US02079K3059"
          ],
          [
           "US02079K3059"
          ],
          [
           "US02079K3059"
          ],
          [
           "US02079K3059"
          ],
          [
           "US02079K3059"
          ],
          [
           "US02079K3059"
          ],
          [
           "US02079K3059"
          ],
          [
           "US02079K3059"
          ],
          [
           "US02079K3059"
          ],
          [
           "US02079K3059"
          ],
          [
           "US02079K3059"
          ],
          [
           "US02079K3059"
          ],
          [
           "US02079K3059"
          ],
          [
           "US02079K3059"
          ],
          [
           "US02079K3059"
          ],
          [
           "US02079K3059"
          ],
          [
           "US02079K3059"
          ],
          [
           "US02079K3059"
          ],
          [
           "US02079K3059"
          ],
          [
           "US02079K3059"
          ],
          [
           "US02079K3059"
          ],
          [
           "US02079K3059"
          ]
         ],
         "hovertemplate": "ISIN=%{customdata[0]}<br>Quarter=%{x}<br>Value of Mkt value=%{y:.2}<extra></extra>",
         "legendgroup": "US02079K3059",
         "marker": {
          "color": "#19d3f3",
          "pattern": {
           "shape": ""
          }
         },
         "name": "US02079K3059",
         "orientation": "v",
         "showlegend": true,
         "textposition": "auto",
         "type": "bar",
         "x": [
          "2018-Q1",
          "2018-Q2",
          "2018-Q3",
          "2018-Q4",
          "2019-Q1",
          "2019-Q2",
          "2019-Q3",
          "2019-Q3",
          "2019-Q4",
          "2019-Q4",
          "2020-Q1",
          "2020-Q1",
          "2020-Q2",
          "2020-Q2",
          "2020-Q3",
          "2020-Q3",
          "2020-Q4",
          "2020-Q4",
          "2020-Q4",
          "2021-Q1",
          "2021-Q1",
          "2021-Q1",
          "2021-Q2",
          "2021-Q3",
          "2021-Q3",
          "2021-Q3",
          "2021-Q4",
          "2021-Q4",
          "2021-Q4",
          "2022-Q1",
          "2022-Q2",
          "2022-Q2",
          "2022-Q2",
          "2022-Q3",
          "2022-Q3",
          "2022-Q3",
          "2022-Q4",
          "2022-Q4",
          "2022-Q4",
          "2023-Q4",
          "2024-Q1",
          "2024-Q2",
          "2024-Q3",
          "2024-Q4",
          "2025-Q1"
         ],
         "xaxis": "x",
         "y": {
          "bdata": "7FG4DFlTtkFSuB4mm064QT0K1z/V+7lB4XoUvq6buUF7FC7IC3SrQc3MzNZztb5BSOH6GnePtkFxPYonEPGwQUjhOpq8vrhBcT3KuwuVskFmZiaohXe1QTMz80PXHrBBzcwMMGuss0Gamdm7wzK6QTMzM9OnE7tBmpmZuUxVtEFI4XqczFW/QQAAAADotnBBcT0K/8NQuEGF69GXDnDCQQAAAABzq3NB7FG46VmdvEF7FE7uP7/TQYXrURdT5sdB9ihcerSLwkEAAAAAJn95QQrXoxHZ5clBAAAAANqge0HsUbgzoxjEQTMz08XKoNRBw/XoNS45zUH2KNyQ+Du+QQAAAIB1yHRBAACANIdby0EAAADxToq6QQAAAABpPnJBmpmZTD57uEEAAAAAG9RwQZqZGac7PMlBAAAAYPj3dEFcj0IHAcilQQAA4N4gXNBBAABAfrHKzUEAAEDKhgDRQTMzM+Gm08JB",
          "dtype": "f8"
         },
         "yaxis": "y"
        },
        {
         "customdata": [
          [
           "US02079K1079"
          ],
          [
           "US02079K1079"
          ],
          [
           "US02079K1079"
          ],
          [
           "US02079K1079"
          ],
          [
           "US02079K1079"
          ],
          [
           "US02079K1079"
          ],
          [
           "US02079K1079"
          ],
          [
           "US02079K1079"
          ],
          [
           "US02079K1079"
          ],
          [
           "US02079K1079"
          ],
          [
           "US02079K1079"
          ],
          [
           "US02079K1079"
          ],
          [
           "US02079K1079"
          ],
          [
           "US02079K1079"
          ],
          [
           "US02079K1079"
          ],
          [
           "US02079K1079"
          ],
          [
           "US02079K1079"
          ],
          [
           "US02079K1079"
          ],
          [
           "US02079K1079"
          ],
          [
           "US02079K1079"
          ],
          [
           "US02079K1079"
          ],
          [
           "US02079K1079"
          ],
          [
           "US02079K1079"
          ],
          [
           "US02079K1079"
          ],
          [
           "US02079K1079"
          ],
          [
           "US02079K1079"
          ],
          [
           "US02079K1079"
          ],
          [
           "US02079K1079"
          ],
          [
           "US02079K1079"
          ],
          [
           "US02079K1079"
          ],
          [
           "US02079K1079"
          ],
          [
           "US02079K1079"
          ],
          [
           "US02079K1079"
          ],
          [
           "US02079K1079"
          ],
          [
           "US02079K1079"
          ],
          [
           "US02079K1079"
          ],
          [
           "US02079K1079"
          ],
          [
           "US02079K1079"
          ],
          [
           "US02079K1079"
          ],
          [
           "US02079K1079"
          ],
          [
           "US02079K1079"
          ],
          [
           "US02079K1079"
          ]
         ],
         "hovertemplate": "ISIN=%{customdata[0]}<br>Quarter=%{x}<br>Value of Mkt value=%{y:.2}<extra></extra>",
         "legendgroup": "US02079K1079",
         "marker": {
          "color": "#FF6692",
          "pattern": {
           "shape": ""
          }
         },
         "name": "US02079K1079",
         "orientation": "v",
         "showlegend": true,
         "textposition": "auto",
         "type": "bar",
         "x": [
          "2018-Q1",
          "2018-Q2",
          "2018-Q3",
          "2018-Q4",
          "2019-Q1",
          "2019-Q2",
          "2019-Q3",
          "2019-Q4",
          "2020-Q1",
          "2020-Q2",
          "2020-Q3",
          "2020-Q4",
          "2021-Q1",
          "2021-Q2",
          "2021-Q3",
          "2021-Q3",
          "2021-Q4",
          "2021-Q4",
          "2022-Q1",
          "2022-Q2",
          "2022-Q2",
          "2022-Q3",
          "2022-Q3",
          "2022-Q4",
          "2022-Q4",
          "2023-Q1",
          "2023-Q1",
          "2023-Q1",
          "2023-Q2",
          "2023-Q2",
          "2023-Q2",
          "2023-Q3",
          "2023-Q3",
          "2023-Q3",
          "2023-Q4",
          "2024-Q1",
          "2024-Q2",
          "2024-Q2",
          "2024-Q2",
          "2024-Q3",
          "2024-Q4",
          "2025-Q1"
         ],
         "xaxis": "x",
         "y": {
          "bdata": "exRW1RKO4EGambkCtszkQRSuJzggQOZBCtcjwGKH5EGF60Eug3/kQXE9WlnvqelBAADgF8EM7kGkcF2niy3tQaRwbR+r/ehB16Pg15EI7kFmZmYb0TjvQVyP4lQJnPJBXI+a1Wb59UEK1+M9pp/6QQAAADCehYBBUri25fUu/EEAAADw4O+BQXsUpl/pmP5Bmpm9KRad90EAAAAglx57QQAAgIHqSPNBAAAAgEXXd0EAAAx9RMDxQQAAAIBGAHZBzcwgn2/O8EEAAABwuG+/QQAAAACQyXlBAAAA4jYJ3EEAAACAwv59QexReCVySMJB7FHYMAO+10GamVlQZ+3DQQAAAECxWIBBmpk5kUrI1kFcj0KSCcbhQYXrUeHVM+NBAAAAgG+9hkEfhWtSsrjLQR+FqyN0sd9B4XqUx9wV5UHhehTE8mvnQZqZ4WDNIOBB",
          "dtype": "f8"
         },
         "yaxis": "y"
        },
        {
         "customdata": [
          [
           "US0213461017"
          ],
          [
           "US0213461017"
          ]
         ],
         "hovertemplate": "ISIN=%{customdata[0]}<br>Quarter=%{x}<br>Value of Mkt value=%{y:.2}<extra></extra>",
         "legendgroup": "US0213461017",
         "marker": {
          "color": "#B6E880",
          "pattern": {
           "shape": ""
          }
         },
         "name": "US0213461017",
         "orientation": "v",
         "showlegend": true,
         "textposition": "auto",
         "type": "bar",
         "x": [
          "2018-Q1",
          "2018-Q2"
         ],
         "xaxis": "x",
         "y": {
          "bdata": "UrjOZMsA9kFcj4pZTh/vQQ==",
          "dtype": "f8"
         },
         "yaxis": "y"
        },
        {
         "customdata": [
          [
           "US00206R1023"
          ]
         ],
         "hovertemplate": "ISIN=%{customdata[0]}<br>Quarter=%{x}<br>Value of Mkt value=%{y:.2}<extra></extra>",
         "legendgroup": "US00206R1023",
         "marker": {
          "color": "#FF97FF",
          "pattern": {
           "shape": ""
          }
         },
         "name": "US00206R1023",
         "orientation": "v",
         "showlegend": true,
         "textposition": "auto",
         "type": "bar",
         "x": [
          "2018-Q1"
         ],
         "xaxis": "x",
         "y": {
          "bdata": "AABAGTGxx8E=",
          "dtype": "f8"
         },
         "yaxis": "y"
        },
        {
         "customdata": [
          [
           "US1344291091"
          ]
         ],
         "hovertemplate": "ISIN=%{customdata[0]}<br>Quarter=%{x}<br>Value of Mkt value=%{y:.2}<extra></extra>",
         "legendgroup": "US1344291091",
         "marker": {
          "color": "#FECB52",
          "pattern": {
           "shape": ""
          }
         },
         "name": "US1344291091",
         "orientation": "v",
         "showlegend": true,
         "textposition": "auto",
         "type": "bar",
         "x": [
          "2018-Q1"
         ],
         "xaxis": "x",
         "y": {
          "bdata": "rkfhWqSjd8E=",
          "dtype": "f8"
         },
         "yaxis": "y"
        },
        {
         "customdata": [
          [
           "CA13645T1003"
          ],
          [
           "CA13645T1003"
          ],
          [
           "CA13645T1003"
          ],
          [
           "CA13645T1003"
          ],
          [
           "CA13645T1003"
          ],
          [
           "CA13645T1003"
          ],
          [
           "CA13645T1003"
          ],
          [
           "CA13645T1003"
          ],
          [
           "CA13645T1003"
          ],
          [
           "CA13645T1003"
          ],
          [
           "CA13645T1003"
          ],
          [
           "CA13645T1003"
          ],
          [
           "CA13645T1003"
          ],
          [
           "CA13645T1003"
          ],
          [
           "CA13645T1003"
          ],
          [
           "CA13645T1003"
          ],
          [
           "CA13645T1003"
          ],
          [
           "CA13645T1003"
          ],
          [
           "CA13645T1003"
          ],
          [
           "CA13645T1003"
          ],
          [
           "CA13645T1003"
          ],
          [
           "CA13645T1003"
          ],
          [
           "CA13645T1003"
          ],
          [
           "CA13645T1003"
          ],
          [
           "CA13645T1003"
          ],
          [
           "CA13645T1003"
          ],
          [
           "CA13645T1003"
          ],
          [
           "CA13645T1003"
          ],
          [
           "CA13645T1003"
          ],
          [
           "CA13645T1003"
          ],
          [
           "CA13645T1003"
          ],
          [
           "CA13645T1003"
          ],
          [
           "CA13645T1003"
          ],
          [
           "CA13645T1003"
          ],
          [
           "CA13645T1003"
          ],
          [
           "CA13645T1003"
          ],
          [
           "CA13645T1003"
          ],
          [
           "CA13645T1003"
          ]
         ],
         "hovertemplate": "ISIN=%{customdata[0]}<br>Quarter=%{x}<br>Value of Mkt value=%{y:.2}<extra></extra>",
         "legendgroup": "CA13645T1003",
         "marker": {
          "color": "#636efa",
          "pattern": {
           "shape": ""
          }
         },
         "name": "CA13645T1003",
         "orientation": "v",
         "showlegend": true,
         "textposition": "auto",
         "type": "bar",
         "x": [
          "2018-Q1",
          "2018-Q2",
          "2018-Q2",
          "2018-Q3",
          "2018-Q3",
          "2018-Q4",
          "2018-Q4",
          "2019-Q1",
          "2019-Q1",
          "2019-Q2",
          "2019-Q2",
          "2019-Q3",
          "2019-Q3",
          "2019-Q4",
          "2019-Q4",
          "2020-Q1",
          "2020-Q1",
          "2020-Q2",
          "2020-Q2",
          "2020-Q3",
          "2020-Q3",
          "2020-Q4",
          "2020-Q4",
          "2021-Q1",
          "2021-Q1",
          "2021-Q2",
          "2021-Q2",
          "2021-Q3",
          "2021-Q3",
          "2021-Q4",
          "2021-Q4",
          "2022-Q1",
          "2022-Q1",
          "2022-Q2",
          "2022-Q2",
          "2022-Q3",
          "2022-Q3",
          "2022-Q3"
         ],
         "xaxis": "x",
         "y": {
          "bdata": "CxSnP9P+b0EAAAAAQ3RhQUcJGRbmubhBCtejv0NDrkE7zRya3xXGQaRwPSxBpLpBwuaNoXlHykEUrsdKD0PAQeeyrM9gWdNBw/Wo7fO2wkHoVSQ63gDXQaRwPdYmE8JBdj8xPFNv10HNzMz68LbEQYq6qf7AW9tBj8L1tnTXwUGJcKSK2FTYQXE9ShlT2sRBsnh/ujQI3EHherTRotzIQcEdORfHweBBCtcDiidQzEFpwx/gmh3jQaRwHcC2+c5B77b59+oO5UHNzOzqrmfPQaNiZXDiLuVBmpm5OwGSykHQkZ1QHvjhQTMz86gmYM1BOxhVN0zX40GamTmXGtrQQb+XMw8hu+ZBZM3GAZE+40EzMzNeoYTMQQAAAAC4FpNBmpmZP6XbyEFI+JfqUV/iQQ==",
          "dtype": "f8"
         },
         "yaxis": "y"
        },
        {
         "customdata": [
          [
           "US16119P1084"
          ],
          [
           "US16119P1084"
          ],
          [
           "US16119P1084"
          ],
          [
           "US16119P1084"
          ],
          [
           "US16119P1084"
          ],
          [
           "US16119P1084"
          ],
          [
           "US16119P1084"
          ],
          [
           "US16119P1084"
          ],
          [
           "US16119P1084"
          ],
          [
           "US16119P1084"
          ],
          [
           "US16119P1084"
          ],
          [
           "US16119P1084"
          ],
          [
           "US16119P1084"
          ],
          [
           "US16119P1084"
          ],
          [
           "US16119P1084"
          ],
          [
           "US16119P1084"
          ],
          [
           "US16119P1084"
          ],
          [
           "US16119P1084"
          ],
          [
           "US16119P1084"
          ],
          [
           "US16119P1084"
          ],
          [
           "US16119P1084"
          ],
          [
           "US16119P1084"
          ],
          [
           "US16119P1084"
          ],
          [
           "US16119P1084"
          ],
          [
           "US16119P1084"
          ],
          [
           "US16119P1084"
          ],
          [
           "US16119P1084"
          ],
          [
           "US16119P1084"
          ]
         ],
         "hovertemplate": "ISIN=%{customdata[0]}<br>Quarter=%{x}<br>Value of Mkt value=%{y:.2}<extra></extra>",
         "legendgroup": "US16119P1084",
         "marker": {
          "color": "#EF553B",
          "pattern": {
           "shape": ""
          }
         },
         "name": "US16119P1084",
         "orientation": "v",
         "showlegend": true,
         "textposition": "auto",
         "type": "bar",
         "x": [
          "2018-Q1",
          "2018-Q2",
          "2018-Q3",
          "2018-Q4",
          "2019-Q1",
          "2019-Q2",
          "2019-Q3",
          "2019-Q3",
          "2019-Q4",
          "2019-Q4",
          "2020-Q1",
          "2020-Q1",
          "2020-Q2",
          "2020-Q2",
          "2020-Q3",
          "2020-Q3",
          "2020-Q4",
          "2020-Q4",
          "2021-Q1",
          "2021-Q1",
          "2021-Q2",
          "2021-Q3",
          "2021-Q3",
          "2021-Q3",
          "2021-Q4",
          "2021-Q4",
          "2021-Q4",
          "2022-Q1"
         ],
         "xaxis": "x",
         "y": {
          "bdata": "MzNTsbAv5kEpXNdKxljqQXsUDhQoM+1BCtfj1QZi50F7FMZFSSzoQR+F27L8BOpBPQr3VOcJ6EEAAAC4IM/BQQAAALhB9sRBKVyvb11L7EEAAACOu9rCQfYotBxAW+pBAAAAOGEKxkGkcJ3bb8/uQbgeLY2B2/JBAAAAZNb6ykFmZsJkOPvzQQAAAEZ6lsxBAAAA7NupykEpXAcT6KLyQc3MLB5VBvpBAAAAANfqf0EAAACouHDPQQAAQK7AKPZBAAAAwO2ZfEEAAABqfyzMQeF6XO8sr/JBCtcjmOsp0UE=",
          "dtype": "f8"
         },
         "yaxis": "y"
        },
        {
         "customdata": [
          [
           "US20030N1019"
          ]
         ],
         "hovertemplate": "ISIN=%{customdata[0]}<br>Quarter=%{x}<br>Value of Mkt value=%{y:.2}<extra></extra>",
         "legendgroup": "US20030N1019",
         "marker": {
          "color": "#00cc96",
          "pattern": {
           "shape": ""
          }
         },
         "name": "US20030N1019",
         "orientation": "v",
         "showlegend": true,
         "textposition": "auto",
         "type": "bar",
         "x": [
          "2018-Q1"
         ],
         "xaxis": "x",
         "y": {
          "bdata": "mpmZYjU7uEE=",
          "dtype": "f8"
         },
         "yaxis": "y"
        },
        {
         "customdata": [
          [
           "US2058871029"
          ]
         ],
         "hovertemplate": "ISIN=%{customdata[0]}<br>Quarter=%{x}<br>Value of Mkt value=%{y:.2}<extra></extra>",
         "legendgroup": "US2058871029",
         "marker": {
          "color": "#ab63fa",
          "pattern": {
           "shape": ""
          }
         },
         "name": "US2058871029",
         "orientation": "v",
         "showlegend": true,
         "textposition": "auto",
         "type": "bar",
         "x": [
          "2018-Q1"
         ],
         "xaxis": "x",
         "y": {
          "bdata": "Urge/Yh4ocE=",
          "dtype": "f8"
         },
         "yaxis": "y"
        },
        {
         "customdata": [
          [
           "FR0010533075"
          ],
          [
           "FR0010533075"
          ],
          [
           "FR0010533075"
          ],
          [
           "FR0010533075"
          ],
          [
           "FR0010533075"
          ],
          [
           "FR0010533075"
          ],
          [
           "FR0010533075"
          ],
          [
           "FR0010533075"
          ],
          [
           "FR0010533075"
          ],
          [
           "FR0010533075"
          ],
          [
           "FR0010533075"
          ],
          [
           "FR0010533075"
          ],
          [
           "FR0010533075"
          ],
          [
           "FR0010533075"
          ],
          [
           "FR0010533075"
          ],
          [
           "FR0010533075"
          ],
          [
           "FR0010533075"
          ],
          [
           "FR0010533075"
          ],
          [
           "FR0010533075"
          ]
         ],
         "hovertemplate": "ISIN=%{customdata[0]}<br>Quarter=%{x}<br>Value of Mkt value=%{y:.2}<extra></extra>",
         "legendgroup": "FR0010533075",
         "marker": {
          "color": "#FFA15A",
          "pattern": {
           "shape": ""
          }
         },
         "name": "FR0010533075",
         "orientation": "v",
         "showlegend": true,
         "textposition": "auto",
         "type": "bar",
         "x": [
          "2018-Q1",
          "2018-Q2",
          "2018-Q3",
          "2018-Q4",
          "2019-Q1",
          "2019-Q2",
          "2019-Q3",
          "2019-Q4",
          "2020-Q1",
          "2020-Q2",
          "2020-Q3",
          "2020-Q4",
          "2021-Q1",
          "2021-Q2",
          "2021-Q3",
          "2021-Q4",
          "2022-Q1",
          "2022-Q2",
          "2022-Q3"
         ],
         "xaxis": "x",
         "y": {
          "bdata": "y6ENo5UJxUGSXO9OgjbEQYGVP5Fiz8JBNWMiswjRw0Gyz6h+G77HQRKIE7tGFslBUrhuMEF2yEGfzZLOMlLMQdobiCqW9cNBBW6dUmkIyUGKdrVut5fIQbywkc7Aqs9B3xp4IxYMzEE5ueOZqoDMQRg3s8CsNs1BP8Zc6IzdzkGjI/apyNvQQVsxgCztcdBBQ/oewg8PzUE=",
          "dtype": "f8"
         },
         "yaxis": "y"
        },
        {
         "customdata": [
          [
           "US4404521001"
          ],
          [
           "US4404521001"
          ],
          [
           "US4404521001"
          ],
          [
           "US4404521001"
          ],
          [
           "US4404521001"
          ],
          [
           "US4404521001"
          ],
          [
           "US4404521001"
          ],
          [
           "US4404521001"
          ],
          [
           "US4404521001"
          ],
          [
           "US4404521001"
          ],
          [
           "US4404521001"
          ],
          [
           "US4404521001"
          ],
          [
           "US4404521001"
          ],
          [
           "US4404521001"
          ],
          [
           "US4404521001"
          ],
          [
           "US4404521001"
          ],
          [
           "US4404521001"
          ],
          [
           "US4404521001"
          ]
         ],
         "hovertemplate": "ISIN=%{customdata[0]}<br>Quarter=%{x}<br>Value of Mkt value=%{y:.2}<extra></extra>",
         "legendgroup": "US4404521001",
         "marker": {
          "color": "#19d3f3",
          "pattern": {
           "shape": ""
          }
         },
         "name": "US4404521001",
         "orientation": "v",
         "showlegend": true,
         "textposition": "auto",
         "type": "bar",
         "x": [
          "2018-Q1",
          "2018-Q2",
          "2018-Q3",
          "2018-Q4",
          "2019-Q1",
          "2019-Q2",
          "2019-Q3",
          "2019-Q4",
          "2019-Q4",
          "2020-Q1",
          "2020-Q2",
          "2020-Q3",
          "2020-Q4",
          "2021-Q1",
          "2021-Q2",
          "2021-Q3",
          "2021-Q4",
          "2022-Q1"
         ],
         "xaxis": "x",
         "y": {
          "bdata": "7FG4/itddcEpXI8iMkuNwWZmZuaPBI/BpHA96l/4kcF7FK6nktiSwQrXo+g3CaXBexSuC/iwpsFcj8LR9bekwQAAAICXgnXBj8L1xK2aq8FmZqbZ+Lu4wQAAwAefz7nBAADAGLcpucEAAIAhasu5wQAAQLhEx7nBAAAAN2MitsEAAMDpw1m6wQAAAPsR/qXB",
          "dtype": "f8"
         },
         "yaxis": "y"
        },
        {
         "customdata": [
          [
           "AU000000IFN8"
          ],
          [
           "AU000000IFN8"
          ],
          [
           "AU000000IFN8"
          ],
          [
           "AU000000IFN8"
          ],
          [
           "AU000000IFN8"
          ],
          [
           "AU000000IFN8"
          ],
          [
           "AU000000IFN8"
          ],
          [
           "AU000000IFN8"
          ],
          [
           "AU000000IFN8"
          ],
          [
           "AU000000IFN8"
          ]
         ],
         "hovertemplate": "ISIN=%{customdata[0]}<br>Quarter=%{x}<br>Value of Mkt value=%{y:.2}<extra></extra>",
         "legendgroup": "AU000000IFN8",
         "marker": {
          "color": "#FF6692",
          "pattern": {
           "shape": ""
          }
         },
         "name": "AU000000IFN8",
         "orientation": "v",
         "showlegend": true,
         "textposition": "auto",
         "type": "bar",
         "x": [
          "2018-Q1",
          "2018-Q2",
          "2018-Q3",
          "2018-Q4",
          "2019-Q1",
          "2019-Q2",
          "2019-Q3",
          "2019-Q4",
          "2020-Q1",
          "2020-Q2"
         ],
         "xaxis": "x",
         "y": {
          "bdata": "uteZ7mbzjUFr1qnAgEmQQT3Upqxjb4xBO59LnR3bhUH/6cbYFtCEQW2oaDwZOYZBrBxag6QSj0HWczJhueKOQRmDKO35DIJB0qvB6cxylkE=",
          "dtype": "f8"
         },
         "yaxis": "y"
        },
        {
         "customdata": [
          [
           "US4878361082"
          ],
          [
           "US4878361082"
          ]
         ],
         "hovertemplate": "ISIN=%{customdata[0]}<br>Quarter=%{x}<br>Value of Mkt value=%{y:.2}<extra></extra>",
         "legendgroup": "US4878361082",
         "marker": {
          "color": "#B6E880",
          "pattern": {
           "shape": ""
          }
         },
         "name": "US4878361082",
         "orientation": "v",
         "showlegend": true,
         "textposition": "auto",
         "type": "bar",
         "x": [
          "2018-Q1",
          "2018-Q2"
         ],
         "xaxis": "x",
         "y": {
          "bdata": "PQrXOj5hmsEAAABAA6iEwQ==",
          "dtype": "f8"
         },
         "yaxis": "y"
        },
        {
         "customdata": [
          [
           "US5007541064"
          ]
         ],
         "hovertemplate": "ISIN=%{customdata[0]}<br>Quarter=%{x}<br>Value of Mkt value=%{y:.2}<extra></extra>",
         "legendgroup": "US5007541064",
         "marker": {
          "color": "#FF97FF",
          "pattern": {
           "shape": ""
          }
         },
         "name": "US5007541064",
         "orientation": "v",
         "showlegend": true,
         "textposition": "auto",
         "type": "bar",
         "x": [
          "2018-Q1"
         ],
         "xaxis": "x",
         "y": {
          "bdata": "AAAAgEHSYcE=",
          "dtype": "f8"
         },
         "yaxis": "y"
        },
        {
         "customdata": [
          [
           "GB00B0SWJX34"
          ],
          [
           "GB00B0SWJX34"
          ]
         ],
         "hovertemplate": "ISIN=%{customdata[0]}<br>Quarter=%{x}<br>Value of Mkt value=%{y:.2}<extra></extra>",
         "legendgroup": "GB00B0SWJX34",
         "marker": {
          "color": "#FECB52",
          "pattern": {
           "shape": ""
          }
         },
         "name": "GB00B0SWJX34",
         "orientation": "v",
         "showlegend": true,
         "textposition": "auto",
         "type": "bar",
         "x": [
          "2018-Q1",
          "2018-Q2"
         ],
         "xaxis": "x",
         "y": {
          "bdata": "Wd5Vr1KjzkEcQUqXT0vPQQ==",
          "dtype": "f8"
         },
         "yaxis": "y"
        },
        {
         "customdata": [
          [
           "US5949181045"
          ],
          [
           "US5949181045"
          ],
          [
           "US5949181045"
          ],
          [
           "US5949181045"
          ],
          [
           "US5949181045"
          ],
          [
           "US5949181045"
          ],
          [
           "US5949181045"
          ],
          [
           "US5949181045"
          ],
          [
           "US5949181045"
          ],
          [
           "US5949181045"
          ],
          [
           "US5949181045"
          ],
          [
           "US5949181045"
          ],
          [
           "US5949181045"
          ],
          [
           "US5949181045"
          ],
          [
           "US5949181045"
          ],
          [
           "US5949181045"
          ],
          [
           "US5949181045"
          ],
          [
           "US5949181045"
          ],
          [
           "US5949181045"
          ],
          [
           "US5949181045"
          ],
          [
           "US5949181045"
          ],
          [
           "US5949181045"
          ],
          [
           "US5949181045"
          ],
          [
           "US5949181045"
          ],
          [
           "US5949181045"
          ],
          [
           "US5949181045"
          ],
          [
           "US5949181045"
          ],
          [
           "US5949181045"
          ],
          [
           "US5949181045"
          ],
          [
           "US5949181045"
          ],
          [
           "US5949181045"
          ],
          [
           "US5949181045"
          ],
          [
           "US5949181045"
          ],
          [
           "US5949181045"
          ],
          [
           "US5949181045"
          ],
          [
           "US5949181045"
          ],
          [
           "US5949181045"
          ],
          [
           "US5949181045"
          ],
          [
           "US5949181045"
          ],
          [
           "US5949181045"
          ],
          [
           "US5949181045"
          ],
          [
           "US5949181045"
          ],
          [
           "US5949181045"
          ],
          [
           "US5949181045"
          ],
          [
           "US5949181045"
          ],
          [
           "US5949181045"
          ],
          [
           "US5949181045"
          ],
          [
           "US5949181045"
          ],
          [
           "US5949181045"
          ],
          [
           "US5949181045"
          ],
          [
           "US5949181045"
          ],
          [
           "US5949181045"
          ],
          [
           "US5949181045"
          ],
          [
           "US5949181045"
          ],
          [
           "US5949181045"
          ],
          [
           "US5949181045"
          ]
         ],
         "hovertemplate": "ISIN=%{customdata[0]}<br>Quarter=%{x}<br>Value of Mkt value=%{y:.2}<extra></extra>",
         "legendgroup": "US5949181045",
         "marker": {
          "color": "#636efa",
          "pattern": {
           "shape": ""
          }
         },
         "name": "US5949181045",
         "orientation": "v",
         "showlegend": true,
         "textposition": "auto",
         "type": "bar",
         "x": [
          "2018-Q1",
          "2018-Q2",
          "2018-Q3",
          "2018-Q4",
          "2019-Q1",
          "2019-Q2",
          "2019-Q3",
          "2019-Q3",
          "2019-Q4",
          "2019-Q4",
          "2020-Q1",
          "2020-Q1",
          "2020-Q1",
          "2020-Q2",
          "2020-Q2",
          "2020-Q2",
          "2020-Q3",
          "2020-Q3",
          "2020-Q3",
          "2020-Q4",
          "2020-Q4",
          "2020-Q4",
          "2021-Q1",
          "2021-Q1",
          "2021-Q1",
          "2021-Q2",
          "2021-Q3",
          "2021-Q3",
          "2021-Q3",
          "2021-Q4",
          "2021-Q4",
          "2021-Q4",
          "2022-Q1",
          "2022-Q2",
          "2022-Q2",
          "2022-Q2",
          "2022-Q3",
          "2022-Q3",
          "2022-Q3",
          "2022-Q4",
          "2022-Q4",
          "2022-Q4",
          "2023-Q1",
          "2023-Q1",
          "2023-Q1",
          "2023-Q2",
          "2023-Q2",
          "2023-Q2",
          "2023-Q4",
          "2024-Q1",
          "2024-Q2",
          "2024-Q2",
          "2024-Q2",
          "2024-Q3",
          "2024-Q4",
          "2025-Q1"
         ],
         "xaxis": "x",
         "y": {
          "bdata": "w/V4cwb40UGuR9Fr9mnTQY/CZQFFhNZBUrh+FoZo4EEK12Ozjb3eQa5HoVzfZOBBAAAAAJOEukFI4fqh3P3OQQAAAAAyFL5BmpkZ8qOT0UGkcC0204fVQQAAANi1walBAAAAAK8UvkHhenR/1AzdQSlcT1C3lsNBAAAAfEiesEEK18NV/vHdQQAAACTaLLFBSOG6wMQ+xEG4HgUIrmjFQfYonKukqt9BAAAAiJYpskFSuF6No7HGQQAAAOSpQLNBCteTmjwP6kEzM7PD+pzzQQAAAIBoBbdBuB6Fs9Miy0EAAADTf0XoQQAAAAAH365Bj8L19KYv0EEAAAARXHXuQY/CZdpx3fJBAAAA+CCTp0FI4Tq/lLjIQcP1YAVuAexBAAAAEM9gpUFmZuY462rGQQAAQPaDxelBAAAAMGsDpkEfhWt5bxXHQXsUPo59X+5BAAAAsKB2qkHNzEyQCcDLQQAAEG4HKudBAAAA8DBCr0GkcL2r39/CQUjh6k1gluZBKVyv8aKP7EHhetRgYvTvQQAAAJBSgqhBZmam6DubukEAAHBV2BbtQZqZoVfgofJBAADo2khO9UEzM5d5AXf3QQ==",
          "dtype": "f8"
         },
         "yaxis": "y"
        },
        {
         "customdata": [
          [
           "US61166W1018"
          ]
         ],
         "hovertemplate": "ISIN=%{customdata[0]}<br>Quarter=%{x}<br>Value of Mkt value=%{y:.2}<extra></extra>",
         "legendgroup": "US61166W1018",
         "marker": {
          "color": "#EF553B",
          "pattern": {
           "shape": ""
          }
         },
         "name": "US61166W1018",
         "orientation": "v",
         "showlegend": true,
         "textposition": "auto",
         "type": "bar",
         "x": [
          "2018-Q1"
         ],
         "xaxis": "x",
         "y": {
          "bdata": "AAAACHODikE=",
          "dtype": "f8"
         },
         "yaxis": "y"
        },
        {
         "customdata": [
          [
           "US6153691059"
          ],
          [
           "US6153691059"
          ],
          [
           "US6153691059"
          ],
          [
           "US6153691059"
          ],
          [
           "US6153691059"
          ],
          [
           "US6153691059"
          ],
          [
           "US6153691059"
          ],
          [
           "US6153691059"
          ],
          [
           "US6153691059"
          ],
          [
           "US6153691059"
          ],
          [
           "US6153691059"
          ],
          [
           "US6153691059"
          ],
          [
           "US6153691059"
          ],
          [
           "US6153691059"
          ],
          [
           "US6153691059"
          ],
          [
           "US6153691059"
          ],
          [
           "US6153691059"
          ],
          [
           "US6153691059"
          ],
          [
           "US6153691059"
          ],
          [
           "US6153691059"
          ],
          [
           "US6153691059"
          ],
          [
           "US6153691059"
          ],
          [
           "US6153691059"
          ],
          [
           "US6153691059"
          ],
          [
           "US6153691059"
          ],
          [
           "US6153691059"
          ],
          [
           "US6153691059"
          ],
          [
           "US6153691059"
          ],
          [
           "US6153691059"
          ],
          [
           "US6153691059"
          ],
          [
           "US6153691059"
          ],
          [
           "US6153691059"
          ],
          [
           "US6153691059"
          ],
          [
           "US6153691059"
          ],
          [
           "US6153691059"
          ],
          [
           "US6153691059"
          ],
          [
           "US6153691059"
          ],
          [
           "US6153691059"
          ],
          [
           "US6153691059"
          ],
          [
           "US6153691059"
          ],
          [
           "US6153691059"
          ],
          [
           "US6153691059"
          ],
          [
           "US6153691059"
          ],
          [
           "US6153691059"
          ],
          [
           "US6153691059"
          ],
          [
           "US6153691059"
          ],
          [
           "US6153691059"
          ],
          [
           "US6153691059"
          ],
          [
           "US6153691059"
          ],
          [
           "US6153691059"
          ],
          [
           "US6153691059"
          ]
         ],
         "hovertemplate": "ISIN=%{customdata[0]}<br>Quarter=%{x}<br>Value of Mkt value=%{y:.2}<extra></extra>",
         "legendgroup": "US6153691059",
         "marker": {
          "color": "#00cc96",
          "pattern": {
           "shape": ""
          }
         },
         "name": "US6153691059",
         "orientation": "v",
         "showlegend": true,
         "textposition": "auto",
         "type": "bar",
         "x": [
          "2018-Q1",
          "2018-Q2",
          "2018-Q3",
          "2018-Q4",
          "2019-Q1",
          "2019-Q2",
          "2019-Q3",
          "2019-Q3",
          "2019-Q4",
          "2019-Q4",
          "2020-Q1",
          "2020-Q1",
          "2020-Q2",
          "2020-Q2",
          "2020-Q3",
          "2020-Q3",
          "2020-Q4",
          "2020-Q4",
          "2021-Q1",
          "2021-Q1",
          "2021-Q2",
          "2021-Q3",
          "2021-Q3",
          "2021-Q4",
          "2021-Q4",
          "2022-Q1",
          "2022-Q2",
          "2022-Q2",
          "2022-Q3",
          "2022-Q3",
          "2022-Q3",
          "2022-Q4",
          "2022-Q4",
          "2022-Q4",
          "2023-Q1",
          "2023-Q1",
          "2023-Q1",
          "2023-Q2",
          "2023-Q2",
          "2023-Q2",
          "2023-Q3",
          "2023-Q3",
          "2023-Q3",
          "2023-Q4",
          "2024-Q1",
          "2024-Q2",
          "2024-Q2",
          "2024-Q2",
          "2024-Q3",
          "2024-Q4",
          "2025-Q1"
         ],
         "xaxis": "x",
         "y": {
          "bdata": "ZmZmlD/frUHhehQORJavQZqZmaW22LJBpHA9WUFsx0EUrqf3k+fOQVyPElJqqtBBzcxMVnIUpUHD9WiLoq/NQYXrEcnnk89BzcwMWG/gsUEAAIBPqQ2/QQAAQJ9iEclBMzNTMyUrxEEUrnd39kfQQZqZSaNZLdFBAAAgrU1HxUGamZkFok7FQQrXo1JEM9FBZmYGSe/rxUGPwiXH17zRQfYoHKXCaeFBZmZG18QRykGPwgULBBjVQc3MzMVjkqVB16NgM6Rr4UHD9bA0ktjgQY/Cdamiu6BBKVwvr9jj3EEAAAAQ3PeRQY/C9Wso6p1BFK4nLoyz2EEAAACgvZeUQcP1KCNgJKFBMzOTdNAP4EH2KFy479OiQc3MzDtKQLpBheuhgnyc4UGPwvVaumSlQc3MzMoI1L1BuB6FTHVi5EEpXA+NzXOjQc3MTN4vH7tBpHDVBNY44kHsUXje4FjwQfYoUD5Oq/BBpHC9gtDlqUGamVmz3w3CQUjh4lj0bfBBAADczhr79UEAAJSzo+z1QQAAlFeUkfVB",
          "dtype": "f8"
         },
         "yaxis": "y"
        },
        {
         "customdata": [
          [
           "US6558441084"
          ],
          [
           "US6558441084"
          ],
          [
           "US6558441084"
          ]
         ],
         "hovertemplate": "ISIN=%{customdata[0]}<br>Quarter=%{x}<br>Value of Mkt value=%{y:.2}<extra></extra>",
         "legendgroup": "US6558441084",
         "marker": {
          "color": "#ab63fa",
          "pattern": {
           "shape": ""
          }
         },
         "name": "US6558441084",
         "orientation": "v",
         "showlegend": true,
         "textposition": "auto",
         "type": "bar",
         "x": [
          "2018-Q1",
          "2018-Q2",
          "2018-Q3"
         ],
         "xaxis": "x",
         "y": {
          "bdata": "AAAAWIs2k0EpXI8c5bu2QQAAgDgeBcNB",
          "dtype": "f8"
         },
         "yaxis": "y"
        },
        {
         "customdata": [
          [
           "US6819191064"
          ],
          [
           "US6819191064"
          ],
          [
           "US6819191064"
          ],
          [
           "US6819191064"
          ],
          [
           "US6819191064"
          ],
          [
           "US6819191064"
          ],
          [
           "US6819191064"
          ],
          [
           "US6819191064"
          ],
          [
           "US6819191064"
          ],
          [
           "US6819191064"
          ],
          [
           "US6819191064"
          ],
          [
           "US6819191064"
          ],
          [
           "US6819191064"
          ]
         ],
         "hovertemplate": "ISIN=%{customdata[0]}<br>Quarter=%{x}<br>Value of Mkt value=%{y:.2}<extra></extra>",
         "legendgroup": "US6819191064",
         "marker": {
          "color": "#FFA15A",
          "pattern": {
           "shape": ""
          }
         },
         "name": "US6819191064",
         "orientation": "v",
         "showlegend": true,
         "textposition": "auto",
         "type": "bar",
         "x": [
          "2018-Q1",
          "2018-Q2",
          "2018-Q3",
          "2018-Q4",
          "2019-Q1",
          "2019-Q2",
          "2019-Q3",
          "2019-Q4",
          "2020-Q1",
          "2020-Q2",
          "2020-Q3",
          "2020-Q4",
          "2021-Q1"
         ],
         "xaxis": "x",
         "y": {
          "bdata": "16Nw0cLVfsGF61GyZy6AwQrXo+in3HzBexSuV60Tf8GPwnVJ3YShwc3MjORuG7LBMzOzVvlMscEUrscY1OaxwTMzM8C+QqjBzczMfs4gqMEAAAAn2t+lwfYo3E/Qj6vBZmZmd4RgpsE=",
          "dtype": "f8"
         },
         "yaxis": "y"
        },
        {
         "customdata": [
          [
           "FR0000131906"
          ]
         ],
         "hovertemplate": "ISIN=%{customdata[0]}<br>Quarter=%{x}<br>Value of Mkt value=%{y:.2}<extra></extra>",
         "legendgroup": "FR0000131906",
         "marker": {
          "color": "#19d3f3",
          "pattern": {
           "shape": ""
          }
         },
         "name": "FR0000131906",
         "orientation": "v",
         "showlegend": true,
         "textposition": "auto",
         "type": "bar",
         "x": [
          "2018-Q1"
         ],
         "xaxis": "x",
         "y": {
          "bdata": "cT1Kp+qrgUE=",
          "dtype": "f8"
         },
         "yaxis": "y"
        },
        {
         "customdata": [
          [
           "US78409V1044"
          ],
          [
           "US78409V1044"
          ],
          [
           "US78409V1044"
          ],
          [
           "US78409V1044"
          ],
          [
           "US78409V1044"
          ],
          [
           "US78409V1044"
          ],
          [
           "US78409V1044"
          ],
          [
           "US78409V1044"
          ],
          [
           "US78409V1044"
          ],
          [
           "US78409V1044"
          ],
          [
           "US78409V1044"
          ],
          [
           "US78409V1044"
          ],
          [
           "US78409V1044"
          ],
          [
           "US78409V1044"
          ],
          [
           "US78409V1044"
          ],
          [
           "US78409V1044"
          ],
          [
           "US78409V1044"
          ],
          [
           "US78409V1044"
          ],
          [
           "US78409V1044"
          ],
          [
           "US78409V1044"
          ],
          [
           "US78409V1044"
          ],
          [
           "US78409V1044"
          ],
          [
           "US78409V1044"
          ],
          [
           "US78409V1044"
          ],
          [
           "US78409V1044"
          ],
          [
           "US78409V1044"
          ],
          [
           "US78409V1044"
          ],
          [
           "US78409V1044"
          ],
          [
           "US78409V1044"
          ],
          [
           "US78409V1044"
          ],
          [
           "US78409V1044"
          ],
          [
           "US78409V1044"
          ],
          [
           "US78409V1044"
          ],
          [
           "US78409V1044"
          ],
          [
           "US78409V1044"
          ],
          [
           "US78409V1044"
          ],
          [
           "US78409V1044"
          ],
          [
           "US78409V1044"
          ],
          [
           "US78409V1044"
          ],
          [
           "US78409V1044"
          ],
          [
           "US78409V1044"
          ],
          [
           "US78409V1044"
          ],
          [
           "US78409V1044"
          ],
          [
           "US78409V1044"
          ],
          [
           "US78409V1044"
          ],
          [
           "US78409V1044"
          ],
          [
           "US78409V1044"
          ],
          [
           "US78409V1044"
          ],
          [
           "US78409V1044"
          ],
          [
           "US78409V1044"
          ],
          [
           "US78409V1044"
          ],
          [
           "US78409V1044"
          ],
          [
           "US78409V1044"
          ],
          [
           "US78409V1044"
          ],
          [
           "US78409V1044"
          ],
          [
           "US78409V1044"
          ]
         ],
         "hovertemplate": "ISIN=%{customdata[0]}<br>Quarter=%{x}<br>Value of Mkt value=%{y:.2}<extra></extra>",
         "legendgroup": "US78409V1044",
         "marker": {
          "color": "#FF6692",
          "pattern": {
           "shape": ""
          }
         },
         "name": "US78409V1044",
         "orientation": "v",
         "showlegend": true,
         "textposition": "auto",
         "type": "bar",
         "x": [
          "2018-Q1",
          "2018-Q2",
          "2018-Q3",
          "2018-Q4",
          "2019-Q1",
          "2019-Q2",
          "2019-Q3",
          "2019-Q3",
          "2019-Q4",
          "2019-Q4",
          "2020-Q1",
          "2020-Q1",
          "2020-Q2",
          "2020-Q2",
          "2020-Q3",
          "2020-Q3",
          "2020-Q4",
          "2020-Q4",
          "2020-Q4",
          "2021-Q1",
          "2021-Q1",
          "2021-Q1",
          "2021-Q2",
          "2021-Q3",
          "2021-Q3",
          "2021-Q3",
          "2021-Q4",
          "2021-Q4",
          "2021-Q4",
          "2022-Q1",
          "2022-Q2",
          "2022-Q2",
          "2022-Q2",
          "2022-Q3",
          "2022-Q3",
          "2022-Q3",
          "2022-Q4",
          "2022-Q4",
          "2022-Q4",
          "2023-Q1",
          "2023-Q1",
          "2023-Q1",
          "2023-Q2",
          "2023-Q2",
          "2023-Q2",
          "2023-Q3",
          "2023-Q3",
          "2023-Q3",
          "2023-Q4",
          "2024-Q1",
          "2024-Q2",
          "2024-Q2",
          "2024-Q2",
          "2024-Q3",
          "2024-Q4",
          "2025-Q1"
         ],
         "xaxis": "x",
         "y": {
          "bdata": "KVyPqN5AlEEK16PfCp2VQQrXo+lftpRBw/UonvwxtEEzMzMEiGi4QY/C9X0qaLpB4XoUKum2pUFI4XqE3IqxQc3MzOraM6hBzczMhG2Ns0FmZiaCmaS3Qc3MzMp/uKVB4XoUBlM0rUHXo3BY+cm/QWZm5nZPZcFBmpmZIXr2r0HhehRMTiOtQdejMPmlvL5BAAAAgKJZb0EAAADAftNwQbgehc0SR69B16Ng/zfS2UFmZq6sq3HhQQAAAEClQnRB7FG4XabUskHsUXiEpFjZQQAAAEDdgHZBCtejT1nqtEFSuJ7FhcXUQdej0Hmg9+JBAAAAgIAScEFcj8IBU+CtQYXrIb6PU+JBmpmZm8gQq0EAAACA1R5tQTMzKxQwmuBBAAAAAD/xb0GkcD3+N7CtQQrXczOoJuNBAAAAQJ5wcEEfhesnRo+uQVK4PtaBDORBAAAAQK0dc0HsUbi9WsSxQT0Kd7TzT+dBAAAAQJJscUF7FK6izzGwQcP1WEWrl+RBCtfj7gRu60FmZraLzH3qQQAAAABWRKVBAAAACCjEs0EAAACm2oPsQXE96ltFt/JBXI9ywtwK8kEzM9MSQWjyQQ==",
          "dtype": "f8"
         },
         "yaxis": "y"
        },
        {
         "customdata": [
          [
           "FR0000073272"
          ],
          [
           "FR0000073272"
          ],
          [
           "FR0000073272"
          ],
          [
           "FR0000073272"
          ],
          [
           "FR0000073272"
          ],
          [
           "FR0000073272"
          ],
          [
           "FR0000073272"
          ],
          [
           "FR0000073272"
          ],
          [
           "FR0000073272"
          ],
          [
           "FR0000073272"
          ],
          [
           "FR0000073272"
          ],
          [
           "FR0000073272"
          ],
          [
           "FR0000073272"
          ],
          [
           "FR0000073272"
          ],
          [
           "FR0000073272"
          ],
          [
           "FR0000073272"
          ],
          [
           "FR0000073272"
          ],
          [
           "FR0000073272"
          ],
          [
           "FR0000073272"
          ],
          [
           "FR0000073272"
          ],
          [
           "FR0000073272"
          ],
          [
           "FR0000073272"
          ],
          [
           "FR0000073272"
          ],
          [
           "FR0000073272"
          ],
          [
           "FR0000073272"
          ],
          [
           "FR0000073272"
          ],
          [
           "FR0000073272"
          ],
          [
           "FR0000073272"
          ],
          [
           "FR0000073272"
          ]
         ],
         "hovertemplate": "ISIN=%{customdata[0]}<br>Quarter=%{x}<br>Value of Mkt value=%{y:.2}<extra></extra>",
         "legendgroup": "FR0000073272",
         "marker": {
          "color": "#B6E880",
          "pattern": {
           "shape": ""
          }
         },
         "name": "FR0000073272",
         "orientation": "v",
         "showlegend": true,
         "textposition": "auto",
         "type": "bar",
         "x": [
          "2018-Q1",
          "2018-Q2",
          "2018-Q3",
          "2018-Q4",
          "2019-Q1",
          "2019-Q2",
          "2019-Q3",
          "2019-Q4",
          "2020-Q1",
          "2020-Q2",
          "2020-Q3",
          "2020-Q4",
          "2021-Q1",
          "2021-Q2",
          "2021-Q3",
          "2021-Q4",
          "2022-Q1",
          "2022-Q2",
          "2022-Q3",
          "2022-Q4",
          "2023-Q1",
          "2023-Q2",
          "2023-Q3",
          "2023-Q4",
          "2024-Q1",
          "2024-Q2",
          "2024-Q3",
          "2024-Q4",
          "2025-Q1"
         ],
         "xaxis": "x",
         "y": {
          "bdata": "lnhLzU1h2UFUUkIEYz7bQclZtSnHFt5Bf97OW1Wg3UEuv6CRJsDgQX/ZhJ2x5OFB002gsQE740HTE9iOidniQWX8kwa5athBOl1zjoA74EGln4zK6AfgQcyAYEIPWeRBRrYMRx1Q4UG45PZc1nzhQVbO8xrdI95BGLKKr54i20ED65iC8DbbQTwWZyIhStlBJA1mljeq10F8R3VvKzDjQV66eFRzQORBB/D5kt5p5UFyUT0LZJXoQe0vHmAJg+9BITzm52329EG0H2N4JL70QYzcUaslfPdBr430ef4p+EHsL4EzKVb9QQ==",
          "dtype": "f8"
         },
         "yaxis": "y"
        },
        {
         "customdata": [
          [
           "US8873173038"
          ]
         ],
         "hovertemplate": "ISIN=%{customdata[0]}<br>Quarter=%{x}<br>Value of Mkt value=%{y:.2}<extra></extra>",
         "legendgroup": "US8873173038",
         "marker": {
          "color": "#FF97FF",
          "pattern": {
           "shape": ""
          }
         },
         "name": "US8873173038",
         "orientation": "v",
         "showlegend": true,
         "textposition": "auto",
         "type": "bar",
         "x": [
          "2018-Q1"
         ],
         "xaxis": "x",
         "y": {
          "bdata": "j8I1JaMhxUE=",
          "dtype": "f8"
         },
         "yaxis": "y"
        },
        {
         "customdata": [
          [
           "US9078181081"
          ],
          [
           "US9078181081"
          ],
          [
           "US9078181081"
          ],
          [
           "US9078181081"
          ],
          [
           "US9078181081"
          ],
          [
           "US9078181081"
          ],
          [
           "US9078181081"
          ],
          [
           "US9078181081"
          ],
          [
           "US9078181081"
          ],
          [
           "US9078181081"
          ],
          [
           "US9078181081"
          ],
          [
           "US9078181081"
          ],
          [
           "US9078181081"
          ],
          [
           "US9078181081"
          ],
          [
           "US9078181081"
          ],
          [
           "US9078181081"
          ],
          [
           "US9078181081"
          ],
          [
           "US9078181081"
          ],
          [
           "US9078181081"
          ],
          [
           "US9078181081"
          ],
          [
           "US9078181081"
          ],
          [
           "US9078181081"
          ],
          [
           "US9078181081"
          ],
          [
           "US9078181081"
          ],
          [
           "US9078181081"
          ],
          [
           "US9078181081"
          ],
          [
           "US9078181081"
          ]
         ],
         "hovertemplate": "ISIN=%{customdata[0]}<br>Quarter=%{x}<br>Value of Mkt value=%{y:.2}<extra></extra>",
         "legendgroup": "US9078181081",
         "marker": {
          "color": "#FECB52",
          "pattern": {
           "shape": ""
          }
         },
         "name": "US9078181081",
         "orientation": "v",
         "showlegend": true,
         "textposition": "auto",
         "type": "bar",
         "x": [
          "2018-Q1",
          "2018-Q2",
          "2018-Q3",
          "2018-Q4",
          "2019-Q1",
          "2019-Q2",
          "2019-Q3",
          "2019-Q4",
          "2020-Q1",
          "2020-Q2",
          "2020-Q3",
          "2020-Q4",
          "2020-Q4",
          "2021-Q1",
          "2021-Q1",
          "2021-Q2",
          "2021-Q3",
          "2021-Q3",
          "2021-Q4",
          "2021-Q4",
          "2022-Q1",
          "2022-Q2",
          "2022-Q2",
          "2022-Q3",
          "2022-Q3",
          "2022-Q3",
          "2022-Q4"
         ],
         "xaxis": "x",
         "y": {
          "bdata": "AAAAAA52YkGuR+FmInKtQeF6NFZFachBuB7lsHTMzkEAAABzis3SQeF6dNLQ08dB16MwsS+Sx0FSuH5iOALLQa5H4S7dK8lBpHBdfL5QzkEfhTvgaqbRQQAAAAB/23NBuB6lHXxb0kEAAACAGgV1QSlcP1qcbtNBMzPTHOe/0kEAAACAZrFyQWZmBp8Va9BBAAAAgKIGeEF7FE5PwYHWQa5H0aESRtVBAAAAAAhXdEE9CtfWFkrQQQAAAABZlHJBAAAA8LVGk0GF61E6S9TMQexRuF7UZjBB",
          "dtype": "f8"
         },
         "yaxis": "y"
        },
        {
         "customdata": [
          [
           "US92343V1044"
          ],
          [
           "US92343V1044"
          ]
         ],
         "hovertemplate": "ISIN=%{customdata[0]}<br>Quarter=%{x}<br>Value of Mkt value=%{y:.2}<extra></extra>",
         "legendgroup": "US92343V1044",
         "marker": {
          "color": "#636efa",
          "pattern": {
           "shape": ""
          }
         },
         "name": "US92343V1044",
         "orientation": "v",
         "showlegend": true,
         "textposition": "auto",
         "type": "bar",
         "x": [
          "2018-Q1",
          "2018-Q2"
         ],
         "xaxis": "x",
         "y": {
          "bdata": "XI/CHWavfcHhehQCGjt/wQ==",
          "dtype": "f8"
         },
         "yaxis": "y"
        },
        {
         "customdata": [
          [
           "DE0007664039"
          ]
         ],
         "hovertemplate": "ISIN=%{customdata[0]}<br>Quarter=%{x}<br>Value of Mkt value=%{y:.2}<extra></extra>",
         "legendgroup": "DE0007664039",
         "marker": {
          "color": "#EF553B",
          "pattern": {
           "shape": ""
          }
         },
         "name": "DE0007664039",
         "orientation": "v",
         "showlegend": true,
         "textposition": "auto",
         "type": "bar",
         "x": [
          "2018-Q1"
         ],
         "xaxis": "x",
         "y": {
          "bdata": "exSuB8s0MkE=",
          "dtype": "f8"
         },
         "yaxis": "y"
        },
        {
         "customdata": [
          [
           "US2546871060"
          ],
          [
           "US2546871060"
          ],
          [
           "US2546871060"
          ],
          [
           "US2546871060"
          ]
         ],
         "hovertemplate": "ISIN=%{customdata[0]}<br>Quarter=%{x}<br>Value of Mkt value=%{y:.2}<extra></extra>",
         "legendgroup": "US2546871060",
         "marker": {
          "color": "#00cc96",
          "pattern": {
           "shape": ""
          }
         },
         "name": "US2546871060",
         "orientation": "v",
         "showlegend": true,
         "textposition": "auto",
         "type": "bar",
         "x": [
          "2018-Q1",
          "2018-Q2",
          "2018-Q3",
          "2018-Q4"
         ],
         "xaxis": "x",
         "y": {
          "bdata": "Zmbmixpg3sFxParEvmDkwbgetSnWuuHBMzP7FOOf4ME=",
          "dtype": "f8"
         },
         "yaxis": "y"
        },
        {
         "customdata": [
          [
           "US00090Q1031"
          ],
          [
           "US00090Q1031"
          ],
          [
           "US00090Q1031"
          ]
         ],
         "hovertemplate": "ISIN=%{customdata[0]}<br>Quarter=%{x}<br>Value of Mkt value=%{y:.2}<extra></extra>",
         "legendgroup": "US00090Q1031",
         "marker": {
          "color": "#ab63fa",
          "pattern": {
           "shape": ""
          }
         },
         "name": "US00090Q1031",
         "orientation": "v",
         "showlegend": true,
         "textposition": "auto",
         "type": "bar",
         "x": [
          "2018-Q2",
          "2018-Q3",
          "2018-Q4"
         ],
         "xaxis": "x",
         "y": {
          "bdata": "ZmZmZijXJMEK16Nwk58mwbgeheu19RzB",
          "dtype": "f8"
         },
         "yaxis": "y"
        },
        {
         "customdata": [
          [
           "CA1363751027"
          ],
          [
           "CA1363751027"
          ],
          [
           "CA1363751027"
          ],
          [
           "CA1363751027"
          ],
          [
           "CA1363751027"
          ],
          [
           "CA1363751027"
          ],
          [
           "CA1363751027"
          ],
          [
           "CA1363751027"
          ],
          [
           "CA1363751027"
          ],
          [
           "CA1363751027"
          ],
          [
           "CA1363751027"
          ],
          [
           "CA1363751027"
          ],
          [
           "CA1363751027"
          ],
          [
           "CA1363751027"
          ],
          [
           "CA1363751027"
          ],
          [
           "CA1363751027"
          ],
          [
           "CA1363751027"
          ],
          [
           "CA1363751027"
          ],
          [
           "CA1363751027"
          ],
          [
           "CA1363751027"
          ],
          [
           "CA1363751027"
          ],
          [
           "CA1363751027"
          ],
          [
           "CA1363751027"
          ],
          [
           "CA1363751027"
          ],
          [
           "CA1363751027"
          ],
          [
           "CA1363751027"
          ],
          [
           "CA1363751027"
          ],
          [
           "CA1363751027"
          ],
          [
           "CA1363751027"
          ],
          [
           "CA1363751027"
          ],
          [
           "CA1363751027"
          ],
          [
           "CA1363751027"
          ],
          [
           "CA1363751027"
          ],
          [
           "CA1363751027"
          ],
          [
           "CA1363751027"
          ],
          [
           "CA1363751027"
          ],
          [
           "CA1363751027"
          ],
          [
           "CA1363751027"
          ],
          [
           "CA1363751027"
          ],
          [
           "CA1363751027"
          ],
          [
           "CA1363751027"
          ],
          [
           "CA1363751027"
          ],
          [
           "CA1363751027"
          ],
          [
           "CA1363751027"
          ],
          [
           "CA1363751027"
          ],
          [
           "CA1363751027"
          ],
          [
           "CA1363751027"
          ],
          [
           "CA1363751027"
          ],
          [
           "CA1363751027"
          ],
          [
           "CA1363751027"
          ],
          [
           "CA1363751027"
          ],
          [
           "CA1363751027"
          ],
          [
           "CA1363751027"
          ],
          [
           "CA1363751027"
          ],
          [
           "CA1363751027"
          ],
          [
           "CA1363751027"
          ],
          [
           "CA1363751027"
          ],
          [
           "CA1363751027"
          ],
          [
           "CA1363751027"
          ],
          [
           "CA1363751027"
          ],
          [
           "CA1363751027"
          ],
          [
           "CA1363751027"
          ],
          [
           "CA1363751027"
          ],
          [
           "CA1363751027"
          ]
         ],
         "hovertemplate": "ISIN=%{customdata[0]}<br>Quarter=%{x}<br>Value of Mkt value=%{y:.2}<extra></extra>",
         "legendgroup": "CA1363751027",
         "marker": {
          "color": "#FFA15A",
          "pattern": {
           "shape": ""
          }
         },
         "name": "CA1363751027",
         "orientation": "v",
         "showlegend": true,
         "textposition": "auto",
         "type": "bar",
         "x": [
          "2018-Q3",
          "2018-Q3",
          "2018-Q4",
          "2018-Q4",
          "2019-Q1",
          "2019-Q1",
          "2019-Q2",
          "2019-Q2",
          "2019-Q3",
          "2019-Q3",
          "2019-Q4",
          "2019-Q4",
          "2020-Q1",
          "2020-Q1",
          "2020-Q2",
          "2020-Q2",
          "2020-Q3",
          "2020-Q3",
          "2020-Q4",
          "2020-Q4",
          "2021-Q1",
          "2021-Q1",
          "2021-Q2",
          "2021-Q2",
          "2021-Q3",
          "2021-Q3",
          "2021-Q4",
          "2021-Q4",
          "2022-Q1",
          "2022-Q1",
          "2022-Q2",
          "2022-Q2",
          "2022-Q3",
          "2022-Q3",
          "2022-Q3",
          "2022-Q4",
          "2022-Q4",
          "2022-Q4",
          "2023-Q1",
          "2023-Q1",
          "2023-Q1",
          "2023-Q1",
          "2023-Q2",
          "2023-Q2",
          "2023-Q2",
          "2023-Q2",
          "2023-Q3",
          "2023-Q3",
          "2023-Q3",
          "2023-Q3",
          "2023-Q4",
          "2023-Q4",
          "2024-Q1",
          "2024-Q1",
          "2024-Q2",
          "2024-Q2",
          "2024-Q2",
          "2024-Q2",
          "2024-Q3",
          "2024-Q3",
          "2024-Q4",
          "2024-Q4",
          "2025-Q1",
          "2025-Q1"
         ],
         "xaxis": "x",
         "y": {
          "bdata": "AAAA4P3IgkHaUz8RBYycQQAAQNGk0LNB96Z+fPYGuUEAAABrDxm5Qa5hEmPcasNBCtejnM5txEFCB0NUO/DKQUjhOvCk2cNB39QgBXZwykGamXlaAvvDQdtuqeXzNstBPQr3iQcmwUG5BJcVS2HIQc3MzLfTzcNB0UwlwfGSy0FmZmbo3c3HQffbppJfl9BBuZmx6ksi0UEAAADb6Y/IQTMzM93M7slBoaRvcS4Y0kFI4XqacrvQQZCCMMin79dBZma2T/Q71EH6hG+vl0vhQSlcb8HjftVBO0ts2NBg4kHXo9C2HnjXQWkMfg6fCeRBUriOu4Wt00ECD8Ya787gQQAAACAgFZRBcT16D4uj0UEgKOSI7R7gQQAAAACSG5ZBqdEW4Me+4UFI4XoT52rTQQAAAEBRIHxBAAAAuEgsqUFy7hyDaqHhQVK47pTTDdFBAAAAwIbdfEEAAABIoNWpQTP2mAzRFeVBmpmZv5ke00EAAABA8NN5QQAAAFivHadBNI1RLhnY4kFmZma4jBvRQaFKphca3eVBZmZmIJqo10HNzMzGt83YQWOg/XRN1+ZBAAAAQBUqfEEAAAA4BjWpQfOZ9hzcfeRBZmZmIL6n0kEAAABayA/WQRUrpqORKeJBSTD2GoxX2UHsURgcFPPRQSj6BtrC+NRBUrjeiCrn0EE=",
          "dtype": "f8"
         },
         "yaxis": "y"
        },
        {
         "customdata": [
          [
           "US5312298541"
          ],
          [
           "US5312298541"
          ]
         ],
         "hovertemplate": "ISIN=%{customdata[0]}<br>Quarter=%{x}<br>Value of Mkt value=%{y:.2}<extra></extra>",
         "legendgroup": "US5312298541",
         "marker": {
          "color": "#19d3f3",
          "pattern": {
           "shape": ""
          }
         },
         "name": "US5312298541",
         "orientation": "v",
         "showlegend": true,
         "textposition": "auto",
         "type": "bar",
         "x": [
          "2018-Q3",
          "2018-Q4"
         ],
         "xaxis": "x",
         "y": {
          "bdata": "j8L1UPLLYkGamZnnxMORQQ==",
          "dtype": "f8"
         },
         "yaxis": "y"
        },
        {
         "customdata": [
          [
           "US5380341090"
          ],
          [
           "US5380341090"
          ]
         ],
         "hovertemplate": "ISIN=%{customdata[0]}<br>Quarter=%{x}<br>Value of Mkt value=%{y:.2}<extra></extra>",
         "legendgroup": "US5380341090",
         "marker": {
          "color": "#FF6692",
          "pattern": {
           "shape": ""
          }
         },
         "name": "US5380341090",
         "orientation": "v",
         "showlegend": true,
         "textposition": "auto",
         "type": "bar",
         "x": [
          "2018-Q3",
          "2018-Q4"
         ],
         "xaxis": "x",
         "y": {
          "bdata": "7FG47iJYUMEAAABEDhSBwQ==",
          "dtype": "f8"
         },
         "yaxis": "y"
        },
        {
         "customdata": [
          [
           "US69331C1080"
          ]
         ],
         "hovertemplate": "ISIN=%{customdata[0]}<br>Quarter=%{x}<br>Value of Mkt value=%{y:.2}<extra></extra>",
         "legendgroup": "US69331C1080",
         "marker": {
          "color": "#B6E880",
          "pattern": {
           "shape": ""
          }
         },
         "name": "US69331C1080",
         "orientation": "v",
         "showlegend": true,
         "textposition": "auto",
         "type": "bar",
         "x": [
          "2018-Q3"
         ],
         "xaxis": "x",
         "y": {
          "bdata": "rkfhAHi6jkE=",
          "dtype": "f8"
         },
         "yaxis": "y"
        },
        {
         "customdata": [
          [
           "US90130A3095"
          ]
         ],
         "hovertemplate": "ISIN=%{customdata[0]}<br>Quarter=%{x}<br>Value of Mkt value=%{y:.2}<extra></extra>",
         "legendgroup": "US90130A3095",
         "marker": {
          "color": "#FF97FF",
          "pattern": {
           "shape": ""
          }
         },
         "name": "US90130A3095",
         "orientation": "v",
         "showlegend": true,
         "textposition": "auto",
         "type": "bar",
         "x": [
          "2018-Q4"
         ],
         "xaxis": "x",
         "y": {
          "bdata": "H4WbMdVQ8kE=",
          "dtype": "f8"
         },
         "yaxis": "y"
        },
        {
         "customdata": [
          [
           "US90130A4085"
          ]
         ],
         "hovertemplate": "ISIN=%{customdata[0]}<br>Quarter=%{x}<br>Value of Mkt value=%{y:.2}<extra></extra>",
         "legendgroup": "US90130A4085",
         "marker": {
          "color": "#FECB52",
          "pattern": {
           "shape": ""
          }
         },
         "name": "US90130A4085",
         "orientation": "v",
         "showlegend": true,
         "textposition": "auto",
         "type": "bar",
         "x": [
          "2018-Q4"
         ],
         "xaxis": "x",
         "y": {
          "bdata": "Ctfj63LazEE=",
          "dtype": "f8"
         },
         "yaxis": "y"
        },
        {
         "customdata": [
          [
           "US35137L1052"
          ]
         ],
         "hovertemplate": "ISIN=%{customdata[0]}<br>Quarter=%{x}<br>Value of Mkt value=%{y:.2}<extra></extra>",
         "legendgroup": "US35137L1052",
         "marker": {
          "color": "#636efa",
          "pattern": {
           "shape": ""
          }
         },
         "name": "US35137L1052",
         "orientation": "v",
         "showlegend": true,
         "textposition": "auto",
         "type": "bar",
         "x": [
          "2019-Q1"
         ],
         "xaxis": "x",
         "y": {
          "bdata": "16NwQMAtuEE=",
          "dtype": "f8"
         },
         "yaxis": "y"
        },
        {
         "customdata": [
          [
           "US35137L2043"
          ]
         ],
         "hovertemplate": "ISIN=%{customdata[0]}<br>Quarter=%{x}<br>Value of Mkt value=%{y:.2}<extra></extra>",
         "legendgroup": "US35137L2043",
         "marker": {
          "color": "#EF553B",
          "pattern": {
           "shape": ""
          }
         },
         "name": "US35137L2043",
         "orientation": "v",
         "showlegend": true,
         "textposition": "auto",
         "type": "bar",
         "x": [
          "2019-Q1"
         ],
         "xaxis": "x",
         "y": {
          "bdata": "w/UoiMQVnkE=",
          "dtype": "f8"
         },
         "yaxis": "y"
        },
        {
         "customdata": [
          [
           "DE000A1DAHH0"
          ],
          [
           "DE000A1DAHH0"
          ],
          [
           "DE000A1DAHH0"
          ]
         ],
         "hovertemplate": "ISIN=%{customdata[0]}<br>Quarter=%{x}<br>Value of Mkt value=%{y:.2}<extra></extra>",
         "legendgroup": "DE000A1DAHH0",
         "marker": {
          "color": "#00cc96",
          "pattern": {
           "shape": ""
          }
         },
         "name": "DE000A1DAHH0",
         "orientation": "v",
         "showlegend": true,
         "textposition": "auto",
         "type": "bar",
         "x": [
          "2019-Q1",
          "2019-Q2",
          "2019-Q3"
         ],
         "xaxis": "x",
         "y": {
          "bdata": "lMGxy9oAj0ERNtyFt8OQQfYoXFm0g5FB",
          "dtype": "f8"
         },
         "yaxis": "y"
        },
        {
         "customdata": [
          [
           "US2944291051"
          ],
          [
           "US2944291051"
          ],
          [
           "US2944291051"
          ]
         ],
         "hovertemplate": "ISIN=%{customdata[0]}<br>Quarter=%{x}<br>Value of Mkt value=%{y:.2}<extra></extra>",
         "legendgroup": "US2944291051",
         "marker": {
          "color": "#ab63fa",
          "pattern": {
           "shape": ""
          }
         },
         "name": "US2944291051",
         "orientation": "v",
         "showlegend": true,
         "textposition": "auto",
         "type": "bar",
         "x": [
          "2019-Q1",
          "2019-Q2",
          "2019-Q3"
         ],
         "xaxis": "x",
         "y": {
          "bdata": "AAAAZ2MVp0E9CtfRLliqQbgehSBsLppB",
          "dtype": "f8"
         },
         "yaxis": "y"
        },
        {
         "customdata": [
          [
           "US91336L1070"
          ],
          [
           "US91336L1070"
          ],
          [
           "US91336L1070"
          ],
          [
           "US91336L1070"
          ],
          [
           "US91336L1070"
          ],
          [
           "US91336L1070"
          ],
          [
           "US91336L1070"
          ]
         ],
         "hovertemplate": "ISIN=%{customdata[0]}<br>Quarter=%{x}<br>Value of Mkt value=%{y:.2}<extra></extra>",
         "legendgroup": "US91336L1070",
         "marker": {
          "color": "#FFA15A",
          "pattern": {
           "shape": ""
          }
         },
         "name": "US91336L1070",
         "orientation": "v",
         "showlegend": true,
         "textposition": "auto",
         "type": "bar",
         "x": [
          "2019-Q1",
          "2019-Q2",
          "2019-Q3",
          "2019-Q4",
          "2020-Q1",
          "2020-Q2",
          "2020-Q2"
         ],
         "xaxis": "x",
         "y": {
          "bdata": "UrgeTakrkUGF61Fd/8OxQeF6FJ+u3bFBH4XrY17ctEEAAACgLJOhQQAAAAA2FHBBmpmZPV9hp0E=",
          "dtype": "f8"
         },
         "yaxis": "y"
        },
        {
         "customdata": [
          [
           "US92553P2011"
          ]
         ],
         "hovertemplate": "ISIN=%{customdata[0]}<br>Quarter=%{x}<br>Value of Mkt value=%{y:.2}<extra></extra>",
         "legendgroup": "US92553P2011",
         "marker": {
          "color": "#19d3f3",
          "pattern": {
           "shape": ""
          }
         },
         "name": "US92553P2011",
         "orientation": "v",
         "showlegend": true,
         "textposition": "auto",
         "type": "bar",
         "x": [
          "2019-Q1"
         ],
         "xaxis": "x",
         "y": {
          "bdata": "4XoUgj/ef8E=",
          "dtype": "f8"
         },
         "yaxis": "y"
        },
        {
         "customdata": [
          [
           "US0367521038"
          ],
          [
           "US0367521038"
          ],
          [
           "US0367521038"
          ],
          [
           "US0367521038"
          ]
         ],
         "hovertemplate": "ISIN=%{customdata[0]}<br>Quarter=%{x}<br>Value of Mkt value=%{y:.2}<extra></extra>",
         "legendgroup": "US0367521038",
         "marker": {
          "color": "#FF6692",
          "pattern": {
           "shape": ""
          }
         },
         "name": "US0367521038",
         "orientation": "v",
         "showlegend": true,
         "textposition": "auto",
         "type": "bar",
         "x": [
          "2019-Q2",
          "2019-Q3",
          "2019-Q4",
          "2020-Q1"
         ],
         "xaxis": "x",
         "y": {
          "bdata": "Urhe/LGYxUHNzEx2KQDJQVyP4lZuF85BhetRCJHsoUE=",
          "dtype": "f8"
         },
         "yaxis": "y"
        },
        {
         "customdata": [
          [
           "US46284V1017"
          ],
          [
           "US46284V1017"
          ],
          [
           "US46284V1017"
          ],
          [
           "US46284V1017"
          ],
          [
           "US46284V1017"
          ],
          [
           "US46284V1017"
          ],
          [
           "US46284V1017"
          ]
         ],
         "hovertemplate": "ISIN=%{customdata[0]}<br>Quarter=%{x}<br>Value of Mkt value=%{y:.2}<extra></extra>",
         "legendgroup": "US46284V1017",
         "marker": {
          "color": "#B6E880",
          "pattern": {
           "shape": ""
          }
         },
         "name": "US46284V1017",
         "orientation": "v",
         "showlegend": true,
         "textposition": "auto",
         "type": "bar",
         "x": [
          "2019-Q2",
          "2019-Q3",
          "2019-Q4",
          "2020-Q1",
          "2020-Q2",
          "2020-Q3",
          "2020-Q4"
         ],
         "xaxis": "x",
         "y": {
          "bdata": "AAAAwPsSc8Efheu7wDyIwfYoXMEj2YfBZmZmLjjPgcHNzMz40IeDwVK4Hs/+C4TB16NwVU0PhsE=",
          "dtype": "f8"
         },
         "yaxis": "y"
        },
        {
         "customdata": [
          [
           "FR0000125486"
          ],
          [
           "FR0000125486"
          ],
          [
           "FR0000125486"
          ],
          [
           "FR0000125486"
          ],
          [
           "FR0000125486"
          ],
          [
           "FR0000125486"
          ],
          [
           "FR0000125486"
          ],
          [
           "FR0000125486"
          ],
          [
           "FR0000125486"
          ],
          [
           "FR0000125486"
          ],
          [
           "FR0000125486"
          ],
          [
           "FR0000125486"
          ],
          [
           "FR0000125486"
          ],
          [
           "FR0000125486"
          ],
          [
           "FR0000125486"
          ],
          [
           "FR0000125486"
          ],
          [
           "FR0000125486"
          ],
          [
           "FR0000125486"
          ],
          [
           "FR0000125486"
          ],
          [
           "FR0000125486"
          ],
          [
           "FR0000125486"
          ],
          [
           "FR0000125486"
          ],
          [
           "FR0000125486"
          ],
          [
           "FR0000125486"
          ],
          [
           "FR0000125486"
          ],
          [
           "FR0000125486"
          ],
          [
           "FR0000125486"
          ],
          [
           "FR0000125486"
          ],
          [
           "FR0000125486"
          ],
          [
           "FR0000125486"
          ]
         ],
         "hovertemplate": "ISIN=%{customdata[0]}<br>Quarter=%{x}<br>Value of Mkt value=%{y:.2}<extra></extra>",
         "legendgroup": "FR0000125486",
         "marker": {
          "color": "#FF97FF",
          "pattern": {
           "shape": ""
          }
         },
         "name": "FR0000125486",
         "orientation": "v",
         "showlegend": true,
         "textposition": "auto",
         "type": "bar",
         "x": [
          "2019-Q2",
          "2019-Q3",
          "2019-Q4",
          "2020-Q1",
          "2020-Q2",
          "2020-Q3",
          "2020-Q4",
          "2021-Q1",
          "2021-Q2",
          "2021-Q3",
          "2021-Q4",
          "2022-Q1",
          "2022-Q2",
          "2022-Q3",
          "2022-Q3",
          "2022-Q4",
          "2022-Q4",
          "2023-Q1",
          "2023-Q1",
          "2023-Q2",
          "2023-Q2",
          "2023-Q3",
          "2023-Q3",
          "2023-Q4",
          "2024-Q1",
          "2024-Q2",
          "2024-Q2",
          "2024-Q3",
          "2024-Q4",
          "2025-Q1"
         ],
         "xaxis": "x",
         "y": {
          "bdata": "oE+UvavAx0Fwztjfjs7RQVJJPSmVWdJBg2m4ZwcMzEEv3XRd/gzPQcedMhN8tcxBh4rFlQwF0UFSSR2QLEbRQVtdRXIK2tBB6XGdojN80EFtWHfO1a/QQZPIBP+NudpBF2dcnpc430FxPQqyiASUQWcOO3P1iNtBexQucGCFmEElohGBXd3gQZqZmWwHG61Bw7uSS6dr4kFSuJ4fQnmtQUvKCjhKp+JBSOF6lmYyrEG+FlggbdjhQaabX4apKOZBQxrlaS2f5kGF61H2icOqQdqp1ZY+8OBBfph5Raeh5EEmqe8GDj7iQeZ0D8J2NuZB",
          "dtype": "f8"
         },
         "yaxis": "y"
        },
        {
         "customdata": [
          [
           "US92826C8394"
          ],
          [
           "US92826C8394"
          ],
          [
           "US92826C8394"
          ],
          [
           "US92826C8394"
          ],
          [
           "US92826C8394"
          ],
          [
           "US92826C8394"
          ],
          [
           "US92826C8394"
          ],
          [
           "US92826C8394"
          ],
          [
           "US92826C8394"
          ],
          [
           "US92826C8394"
          ],
          [
           "US92826C8394"
          ],
          [
           "US92826C8394"
          ],
          [
           "US92826C8394"
          ],
          [
           "US92826C8394"
          ],
          [
           "US92826C8394"
          ],
          [
           "US92826C8394"
          ],
          [
           "US92826C8394"
          ],
          [
           "US92826C8394"
          ],
          [
           "US92826C8394"
          ],
          [
           "US92826C8394"
          ],
          [
           "US92826C8394"
          ],
          [
           "US92826C8394"
          ],
          [
           "US92826C8394"
          ],
          [
           "US92826C8394"
          ],
          [
           "US92826C8394"
          ],
          [
           "US92826C8394"
          ],
          [
           "US92826C8394"
          ],
          [
           "US92826C8394"
          ],
          [
           "US92826C8394"
          ],
          [
           "US92826C8394"
          ],
          [
           "US92826C8394"
          ],
          [
           "US92826C8394"
          ],
          [
           "US92826C8394"
          ],
          [
           "US92826C8394"
          ],
          [
           "US92826C8394"
          ],
          [
           "US92826C8394"
          ],
          [
           "US92826C8394"
          ],
          [
           "US92826C8394"
          ],
          [
           "US92826C8394"
          ]
         ],
         "hovertemplate": "ISIN=%{customdata[0]}<br>Quarter=%{x}<br>Value of Mkt value=%{y:.2}<extra></extra>",
         "legendgroup": "US92826C8394",
         "marker": {
          "color": "#FECB52",
          "pattern": {
           "shape": ""
          }
         },
         "name": "US92826C8394",
         "orientation": "v",
         "showlegend": true,
         "textposition": "auto",
         "type": "bar",
         "x": [
          "2019-Q2",
          "2019-Q3",
          "2019-Q4",
          "2020-Q1",
          "2020-Q2",
          "2020-Q3",
          "2020-Q4",
          "2021-Q1",
          "2021-Q2",
          "2021-Q3",
          "2021-Q3",
          "2021-Q4",
          "2021-Q4",
          "2022-Q1",
          "2022-Q2",
          "2022-Q2",
          "2022-Q3",
          "2022-Q3",
          "2022-Q3",
          "2022-Q4",
          "2022-Q4",
          "2022-Q4",
          "2023-Q1",
          "2023-Q1",
          "2023-Q1",
          "2023-Q2",
          "2023-Q2",
          "2023-Q2",
          "2023-Q3",
          "2023-Q3",
          "2023-Q3",
          "2023-Q4",
          "2024-Q1",
          "2024-Q2",
          "2024-Q2",
          "2024-Q2",
          "2024-Q3",
          "2024-Q4",
          "2025-Q1"
         ],
         "xaxis": "x",
         "y": {
          "bdata": "AAAAPlUAokE9CtcGzUSoQZqZmau6gqpBAAAAMWCv0EFI4YpXOOreQXE9OmeTPORB9ihMMpYi5kH2KAxGPW3lQaRw3RCFqedBAAAAoBXUe0EAAHgvtOXuQQAAACDpEntBMzMv2fp28UGF64leQ9vuQQAAAOAEmXhBpHB13twz60EAAABgu3uTQQAAAGCtMXZBMzPLDkfz50EAAAAAq/R5QQAAAAAbyZZBrkehp3gC7EEAAABgGmqrQQAAAMDBKnxBSOFqQ2Ru7EEAAACAL6t9QQAAAMBC4KxB9ihczzON60EAAADgRrx8QQAAADC896tBCteTUjEt6UFmZvYV7LruQSlc785wePBBAAAAkDZlgEEAAADQJeqvQeF6JBbEuuxBZmYOCws68EEUrid42KbyQexRSBLgrvRB",
          "dtype": "f8"
         },
         "yaxis": "y"
        },
        {
         "customdata": [
          [
           "US0527691069"
          ],
          [
           "US0527691069"
          ],
          [
           "US0527691069"
          ],
          [
           "US0527691069"
          ]
         ],
         "hovertemplate": "ISIN=%{customdata[0]}<br>Quarter=%{x}<br>Value of Mkt value=%{y:.2}<extra></extra>",
         "legendgroup": "US0527691069",
         "marker": {
          "color": "#636efa",
          "pattern": {
           "shape": ""
          }
         },
         "name": "US0527691069",
         "orientation": "v",
         "showlegend": true,
         "textposition": "auto",
         "type": "bar",
         "x": [
          "2019-Q3",
          "2019-Q4",
          "2020-Q1",
          "2020-Q2"
         ],
         "xaxis": "x",
         "y": {
          "bdata": "AAAAgHbVb0EAAABARsVzQQAAAACo0SdBAAAAAK4/MkE=",
          "dtype": "f8"
         },
         "yaxis": "y"
        },
        {
         "customdata": [
          [
           "US7551115071"
          ],
          [
           "US7551115071"
          ],
          [
           "US7551115071"
          ]
         ],
         "hovertemplate": "ISIN=%{customdata[0]}<br>Quarter=%{x}<br>Value of Mkt value=%{y:.2}<extra></extra>",
         "legendgroup": "US7551115071",
         "marker": {
          "color": "#EF553B",
          "pattern": {
           "shape": ""
          }
         },
         "name": "US7551115071",
         "orientation": "v",
         "showlegend": true,
         "textposition": "auto",
         "type": "bar",
         "x": [
          "2019-Q3",
          "2019-Q4",
          "2020-Q1"
         ],
         "xaxis": "x",
         "y": {
          "bdata": "zczMojxcq0EK1+O1MlHWQc3MfKsjYdRB",
          "dtype": "f8"
         },
         "yaxis": "y"
        },
        {
         "customdata": [
          [
           "US00724F1012"
          ],
          [
           "US00724F1012"
          ],
          [
           "US00724F1012"
          ]
         ],
         "hovertemplate": "ISIN=%{customdata[0]}<br>Quarter=%{x}<br>Value of Mkt value=%{y:.2}<extra></extra>",
         "legendgroup": "US00724F1012",
         "marker": {
          "color": "#00cc96",
          "pattern": {
           "shape": ""
          }
         },
         "name": "US00724F1012",
         "orientation": "v",
         "showlegend": true,
         "textposition": "auto",
         "type": "bar",
         "x": [
          "2019-Q4",
          "2020-Q1",
          "2020-Q2"
         ],
         "xaxis": "x",
         "y": {
          "bdata": "zczMTPBCMUEzMzMz66cwQc3MzEx5yDZB",
          "dtype": "f8"
         },
         "yaxis": "y"
        },
        {
         "customdata": [
          [
           "US6668071029"
          ]
         ],
         "hovertemplate": "ISIN=%{customdata[0]}<br>Quarter=%{x}<br>Value of Mkt value=%{y:.2}<extra></extra>",
         "legendgroup": "US6668071029",
         "marker": {
          "color": "#ab63fa",
          "pattern": {
           "shape": ""
          }
         },
         "name": "US6668071029",
         "orientation": "v",
         "showlegend": true,
         "textposition": "auto",
         "type": "bar",
         "x": [
          "2019-Q4"
         ],
         "xaxis": "x",
         "y": {
          "bdata": "AAAAKGh9jEE=",
          "dtype": "f8"
         },
         "yaxis": "y"
        },
        {
         "customdata": [
          [
           "US8936411003"
          ]
         ],
         "hovertemplate": "ISIN=%{customdata[0]}<br>Quarter=%{x}<br>Value of Mkt value=%{y:.2}<extra></extra>",
         "legendgroup": "US8936411003",
         "marker": {
          "color": "#FFA15A",
          "pattern": {
           "shape": ""
          }
         },
         "name": "US8936411003",
         "orientation": "v",
         "showlegend": true,
         "textposition": "auto",
         "type": "bar",
         "x": [
          "2019-Q4"
         ],
         "xaxis": "x",
         "y": {
          "bdata": "AAAAALgXh0E=",
          "dtype": "f8"
         },
         "yaxis": "y"
        },
        {
         "customdata": [
          [
           "US0231351067"
          ],
          [
           "US0231351067"
          ],
          [
           "US0231351067"
          ],
          [
           "US0231351067"
          ]
         ],
         "hovertemplate": "ISIN=%{customdata[0]}<br>Quarter=%{x}<br>Value of Mkt value=%{y:.2}<extra></extra>",
         "legendgroup": "US0231351067",
         "marker": {
          "color": "#19d3f3",
          "pattern": {
           "shape": ""
          }
         },
         "name": "US0231351067",
         "orientation": "v",
         "showlegend": true,
         "textposition": "auto",
         "type": "bar",
         "x": [
          "2020-Q1",
          "2020-Q2",
          "2020-Q3",
          "2020-Q4"
         ],
         "xaxis": "x",
         "y": {
          "bdata": "AAAAgHcyZUEAAABAW/5tQQAAAIDn0GBBAAAAgNVkYUE=",
          "dtype": "f8"
         },
         "yaxis": "y"
        },
        {
         "customdata": [
          [
           "IE00BZ12WP82"
          ]
         ],
         "hovertemplate": "ISIN=%{customdata[0]}<br>Quarter=%{x}<br>Value of Mkt value=%{y:.2}<extra></extra>",
         "legendgroup": "IE00BZ12WP82",
         "marker": {
          "color": "#FF6692",
          "pattern": {
           "shape": ""
          }
         },
         "name": "IE00BZ12WP82",
         "orientation": "v",
         "showlegend": true,
         "textposition": "auto",
         "type": "bar",
         "x": [
          "2020-Q1"
         ],
         "xaxis": "x",
         "y": {
          "bdata": "AAAAIPWSe0E=",
          "dtype": "f8"
         },
         "yaxis": "y"
        },
        {
         "customdata": [
          [
           "US57636Q1040"
          ],
          [
           "US57636Q1040"
          ]
         ],
         "hovertemplate": "ISIN=%{customdata[0]}<br>Quarter=%{x}<br>Value of Mkt value=%{y:.2}<extra></extra>",
         "legendgroup": "US57636Q1040",
         "marker": {
          "color": "#B6E880",
          "pattern": {
           "shape": ""
          }
         },
         "name": "US57636Q1040",
         "orientation": "v",
         "showlegend": true,
         "textposition": "auto",
         "type": "bar",
         "x": [
          "2020-Q1",
          "2020-Q2"
         ],
         "xaxis": "x",
         "y": {
          "bdata": "AAAAYBNzdkEAAADQJXt7QQ==",
          "dtype": "f8"
         },
         "yaxis": "y"
        },
        {
         "customdata": [
          [
           "US1011211018"
          ],
          [
           "US1011211018"
          ],
          [
           "US1011211018"
          ],
          [
           "US1011211018"
          ],
          [
           "US1011211018"
          ],
          [
           "US1011211018"
          ],
          [
           "US1011211018"
          ],
          [
           "US1011211018"
          ],
          [
           "US1011211018"
          ],
          [
           "US1011211018"
          ],
          [
           "US1011211018"
          ],
          [
           "US1011211018"
          ],
          [
           "US1011211018"
          ],
          [
           "US1011211018"
          ]
         ],
         "hovertemplate": "ISIN=%{customdata[0]}<br>Quarter=%{x}<br>Value of Mkt value=%{y:.2}<extra></extra>",
         "legendgroup": "US1011211018",
         "marker": {
          "color": "#FF97FF",
          "pattern": {
           "shape": ""
          }
         },
         "name": "US1011211018",
         "orientation": "v",
         "showlegend": true,
         "textposition": "auto",
         "type": "bar",
         "x": [
          "2020-Q2",
          "2020-Q3",
          "2020-Q4",
          "2021-Q1",
          "2021-Q2",
          "2021-Q3",
          "2021-Q3",
          "2021-Q4",
          "2021-Q4",
          "2022-Q1",
          "2022-Q2",
          "2022-Q2",
          "2022-Q3",
          "2022-Q3"
         ],
         "xaxis": "x",
         "y": {
          "bdata": "9ihcrSUYnUHNzMx8S2O2QXE9KluX+8RBMzMzQL2ix0EfhdvFYJzRQQAAAIDK/25BmpmJ39ee0kEAAACABHpwQexRWHdCAdNBMzMzBA0p1EEAAAAAF3VpQXsUbtTBwshBAAAAgPdyZUHhelS/Sti0QQ==",
          "dtype": "f8"
         },
         "yaxis": "y"
        },
        {
         "customdata": [
          [
           "US75513E1010"
          ]
         ],
         "hovertemplate": "ISIN=%{customdata[0]}<br>Quarter=%{x}<br>Value of Mkt value=%{y:.2}<extra></extra>",
         "legendgroup": "US75513E1010",
         "marker": {
          "color": "#FECB52",
          "pattern": {
           "shape": ""
          }
         },
         "name": "US75513E1010",
         "orientation": "v",
         "showlegend": true,
         "textposition": "auto",
         "type": "bar",
         "x": [
          "2020-Q2"
         ],
         "xaxis": "x",
         "y": {
          "bdata": "4XpUaNw2xUE=",
          "dtype": "f8"
         },
         "yaxis": "y"
        },
        {
         "customdata": [
          [
           "US9290421091"
          ],
          [
           "US9290421091"
          ],
          [
           "US9290421091"
          ]
         ],
         "hovertemplate": "ISIN=%{customdata[0]}<br>Quarter=%{x}<br>Value of Mkt value=%{y:.2}<extra></extra>",
         "legendgroup": "US9290421091",
         "marker": {
          "color": "#636efa",
          "pattern": {
           "shape": ""
          }
         },
         "name": "US9290421091",
         "orientation": "v",
         "showlegend": true,
         "textposition": "auto",
         "type": "bar",
         "x": [
          "2020-Q2",
          "2020-Q3",
          "2020-Q4"
         ],
         "xaxis": "x",
         "y": {
          "bdata": "j8J1CWDHoEGPwnXC5wCyQexRuGgdvaRB",
          "dtype": "f8"
         },
         "yaxis": "y"
        },
        {
         "customdata": [
          [
           "US92556H2067"
          ],
          [
           "US92556H2067"
          ],
          [
           "US92556H2067"
          ]
         ],
         "hovertemplate": "ISIN=%{customdata[0]}<br>Quarter=%{x}<br>Value of Mkt value=%{y:.2}<extra></extra>",
         "legendgroup": "US92556H2067",
         "marker": {
          "color": "#EF553B",
          "pattern": {
           "shape": ""
          }
         },
         "name": "US92556H2067",
         "orientation": "v",
         "showlegend": true,
         "textposition": "auto",
         "type": "bar",
         "x": [
          "2020-Q3",
          "2020-Q4",
          "2021-Q1"
         ],
         "xaxis": "x",
         "y": {
          "bdata": "CtejlfgoksHD9ag/orazwQAAAAAAAAAA",
          "dtype": "f8"
         },
         "yaxis": "y"
        },
        {
         "customdata": [
          [
           "US4824801009"
          ],
          [
           "US4824801009"
          ]
         ],
         "hovertemplate": "ISIN=%{customdata[0]}<br>Quarter=%{x}<br>Value of Mkt value=%{y:.2}<extra></extra>",
         "legendgroup": "US4824801009",
         "marker": {
          "color": "#00cc96",
          "pattern": {
           "shape": ""
          }
         },
         "name": "US4824801009",
         "orientation": "v",
         "showlegend": true,
         "textposition": "auto",
         "type": "bar",
         "x": [
          "2021-Q1",
          "2022-Q2"
         ],
         "xaxis": "x",
         "y": {
          "bdata": "AAAAAKRIY0GkcD0SdaaHQQ==",
          "dtype": "f8"
         },
         "yaxis": "y"
        },
        {
         "customdata": [
          [
           "US5128071082"
          ],
          [
           "US5128071082"
          ]
         ],
         "hovertemplate": "ISIN=%{customdata[0]}<br>Quarter=%{x}<br>Value of Mkt value=%{y:.2}<extra></extra>",
         "legendgroup": "US5128071082",
         "marker": {
          "color": "#ab63fa",
          "pattern": {
           "shape": ""
          }
         },
         "name": "US5128071082",
         "orientation": "v",
         "showlegend": true,
         "textposition": "auto",
         "type": "bar",
         "x": [
          "2021-Q1",
          "2022-Q2"
         ],
         "xaxis": "x",
         "y": {
          "bdata": "AAAAgCakY0EAAACOJzKCQQ==",
          "dtype": "f8"
         },
         "yaxis": "y"
        },
        {
         "customdata": [
          [
           "US0152711091"
          ],
          [
           "US0152711091"
          ],
          [
           "US0152711091"
          ],
          [
           "US0152711091"
          ],
          [
           "US0152711091"
          ]
         ],
         "hovertemplate": "ISIN=%{customdata[0]}<br>Quarter=%{x}<br>Value of Mkt value=%{y:.2}<extra></extra>",
         "legendgroup": "US0152711091",
         "marker": {
          "color": "#FFA15A",
          "pattern": {
           "shape": ""
          }
         },
         "name": "US0152711091",
         "orientation": "v",
         "showlegend": true,
         "textposition": "auto",
         "type": "bar",
         "x": [
          "2021-Q2",
          "2021-Q3",
          "2021-Q3",
          "2021-Q4",
          "2021-Q4"
         ],
         "xaxis": "x",
         "y": {
          "bdata": "AAAAQJuaeEEAAACAyzhyQVK4nsFqgKJBAAAAAFxDdUH2KFxz75alQQ==",
          "dtype": "f8"
         },
         "yaxis": "y"
        },
        {
         "customdata": [
          [
           "US49427F1084"
          ]
         ],
         "hovertemplate": "ISIN=%{customdata[0]}<br>Quarter=%{x}<br>Value of Mkt value=%{y:.2}<extra></extra>",
         "legendgroup": "US49427F1084",
         "marker": {
          "color": "#19d3f3",
          "pattern": {
           "shape": ""
          }
         },
         "name": "US49427F1084",
         "orientation": "v",
         "showlegend": true,
         "textposition": "auto",
         "type": "bar",
         "x": [
          "2021-Q2"
         ],
         "xaxis": "x",
         "y": {
          "bdata": "uB6F634dR0E=",
          "dtype": "f8"
         },
         "yaxis": "y"
        },
        {
         "customdata": [
          [
           "BMG475671050"
          ],
          [
           "BMG475671050"
          ]
         ],
         "hovertemplate": "ISIN=%{customdata[0]}<br>Quarter=%{x}<br>Value of Mkt value=%{y:.2}<extra></extra>",
         "legendgroup": "BMG475671050",
         "marker": {
          "color": "#FF6692",
          "pattern": {
           "shape": ""
          }
         },
         "name": "BMG475671050",
         "orientation": "v",
         "showlegend": true,
         "textposition": "auto",
         "type": "bar",
         "x": [
          "2021-Q3",
          "2021-Q4"
         ],
         "xaxis": "x",
         "y": {
          "bdata": "UrgebntJt0EUrsf/aizMQQ==",
          "dtype": "f8"
         },
         "yaxis": "y"
        },
        {
         "customdata": [
          [
           "US0382221051"
          ]
         ],
         "hovertemplate": "ISIN=%{customdata[0]}<br>Quarter=%{x}<br>Value of Mkt value=%{y:.2}<extra></extra>",
         "legendgroup": "US0382221051",
         "marker": {
          "color": "#B6E880",
          "pattern": {
           "shape": ""
          }
         },
         "name": "US0382221051",
         "orientation": "v",
         "showlegend": true,
         "textposition": "auto",
         "type": "bar",
         "x": [
          "2022-Q2"
         ],
         "xaxis": "x",
         "y": {
          "bdata": "SOF65FqUpEE=",
          "dtype": "f8"
         },
         "yaxis": "y"
        },
        {
         "customdata": [
          [
           "NL0010273215"
          ]
         ],
         "hovertemplate": "ISIN=%{customdata[0]}<br>Quarter=%{x}<br>Value of Mkt value=%{y:.2}<extra></extra>",
         "legendgroup": "NL0010273215",
         "marker": {
          "color": "#FF97FF",
          "pattern": {
           "shape": ""
          }
         },
         "name": "NL0010273215",
         "orientation": "v",
         "showlegend": true,
         "textposition": "auto",
         "type": "bar",
         "x": [
          "2022-Q2"
         ],
         "xaxis": "x",
         "y": {
          "bdata": "P+OAEE41skE=",
          "dtype": "f8"
         },
         "yaxis": "y"
        },
        {
         "customdata": [
          [
           "CA13646K1084"
          ],
          [
           "CA13646K1084"
          ],
          [
           "CA13646K1084"
          ],
          [
           "CA13646K1084"
          ],
          [
           "CA13646K1084"
          ],
          [
           "CA13646K1084"
          ],
          [
           "CA13646K1084"
          ],
          [
           "CA13646K1084"
          ],
          [
           "CA13646K1084"
          ],
          [
           "CA13646K1084"
          ],
          [
           "CA13646K1084"
          ],
          [
           "CA13646K1084"
          ],
          [
           "CA13646K1084"
          ],
          [
           "CA13646K1084"
          ],
          [
           "CA13646K1084"
          ],
          [
           "CA13646K1084"
          ],
          [
           "CA13646K1084"
          ],
          [
           "CA13646K1084"
          ],
          [
           "CA13646K1084"
          ],
          [
           "CA13646K1084"
          ],
          [
           "CA13646K1084"
          ],
          [
           "CA13646K1084"
          ],
          [
           "CA13646K1084"
          ],
          [
           "CA13646K1084"
          ],
          [
           "CA13646K1084"
          ]
         ],
         "hovertemplate": "ISIN=%{customdata[0]}<br>Quarter=%{x}<br>Value of Mkt value=%{y:.2}<extra></extra>",
         "legendgroup": "CA13646K1084",
         "marker": {
          "color": "#FECB52",
          "pattern": {
           "shape": ""
          }
         },
         "name": "CA13646K1084",
         "orientation": "v",
         "showlegend": true,
         "textposition": "auto",
         "type": "bar",
         "x": [
          "2022-Q4",
          "2022-Q4",
          "2022-Q4",
          "2023-Q1",
          "2023-Q1",
          "2023-Q1",
          "2023-Q2",
          "2023-Q2",
          "2023-Q2",
          "2023-Q3",
          "2023-Q3",
          "2023-Q3",
          "2023-Q4",
          "2023-Q4",
          "2024-Q1",
          "2024-Q1",
          "2024-Q2",
          "2024-Q2",
          "2024-Q2",
          "2024-Q3",
          "2024-Q3",
          "2024-Q4",
          "2024-Q4",
          "2025-Q1",
          "2025-Q1"
         ],
         "xaxis": "x",
         "y": {
          "bdata": "xIPsfBOJ5EEAAACAIleVQTMzU/pFystBzaO8hMc25UEAAADAilCpQTMzcwyvFslBAAAAICOTqkEZZbcRN0bmQZqZeRxmVspB9zzLbT185EEAAACgcXuoQc3MLPl8Q8hBsYWDJibM5UFmZsYeNyTQQc3M/LhdANJBY01wE/Qw6EEAAACgT+epQWZmxlQbrMlBhqBmBjaa5UHTACmq93PnQZqZeYPndtFB/qUtRdzb40GamXm5GY3NQc3MrMtOq8xB0VfGoiBA40E=",
          "dtype": "f8"
         },
         "yaxis": "y"
        },
        {
         "customdata": [
          [
           "US8835561023"
          ],
          [
           "US8835561023"
          ],
          [
           "US8835561023"
          ],
          [
           "US8835561023"
          ],
          [
           "US8835561023"
          ],
          [
           "US8835561023"
          ],
          [
           "US8835561023"
          ],
          [
           "US8835561023"
          ],
          [
           "US8835561023"
          ],
          [
           "US8835561023"
          ],
          [
           "US8835561023"
          ],
          [
           "US8835561023"
          ],
          [
           "US8835561023"
          ]
         ],
         "hovertemplate": "ISIN=%{customdata[0]}<br>Quarter=%{x}<br>Value of Mkt value=%{y:.2}<extra></extra>",
         "legendgroup": "US8835561023",
         "marker": {
          "color": "#636efa",
          "pattern": {
           "shape": ""
          }
         },
         "name": "US8835561023",
         "orientation": "v",
         "showlegend": true,
         "textposition": "auto",
         "type": "bar",
         "x": [
          "2022-Q4",
          "2022-Q4",
          "2023-Q1",
          "2023-Q1",
          "2023-Q1",
          "2023-Q2",
          "2023-Q2",
          "2023-Q2",
          "2023-Q3",
          "2023-Q3",
          "2023-Q3",
          "2023-Q4",
          "2024-Q1"
         ],
         "xaxis": "x",
         "y": {
          "bdata": "mpmZqY33aEEAAAAA1QF1Qc3MzFybIVpBpHA90unGoEGuR+G134KxQQAAALCpp1dBAAAAohq0r0EAAPBdeSvTQc3MzJzV8lZBw/Uoqr/BrkFxPRoyTbvSQYXrsRSzxNdB7FGYCaNJykE=",
          "dtype": "f8"
         },
         "yaxis": "y"
        },
        {
         "customdata": [
          [
           "ES0105066007"
          ],
          [
           "ES0105066007"
          ],
          [
           "ES0105066007"
          ],
          [
           "ES0105066007"
          ],
          [
           "ES0105066007"
          ],
          [
           "ES0105066007"
          ],
          [
           "ES0105066007"
          ],
          [
           "ES0105066007"
          ],
          [
           "ES0105066007"
          ]
         ],
         "hovertemplate": "ISIN=%{customdata[0]}<br>Quarter=%{x}<br>Value of Mkt value=%{y:.2}<extra></extra>",
         "legendgroup": "ES0105066007",
         "marker": {
          "color": "#EF553B",
          "pattern": {
           "shape": ""
          }
         },
         "name": "ES0105066007",
         "orientation": "v",
         "showlegend": true,
         "textposition": "auto",
         "type": "bar",
         "x": [
          "2023-Q1",
          "2023-Q2",
          "2023-Q3",
          "2023-Q4",
          "2024-Q1",
          "2024-Q2",
          "2024-Q3",
          "2024-Q4",
          "2025-Q1"
         ],
         "xaxis": "x",
         "y": {
          "bdata": "RiVhFWgu30EZQPFqWhzhQf+RV6kVj91B7Y0cLp6v4EEiF7DZZfndQfIlppiilttBh/3qL88x4UFVt1aOxMvaQYEQjNIcHN5B",
          "dtype": "f8"
         },
         "yaxis": "y"
        },
        {
         "customdata": [
          [
           "US3696043013"
          ],
          [
           "US3696043013"
          ],
          [
           "US3696043013"
          ],
          [
           "US3696043013"
          ],
          [
           "US3696043013"
          ],
          [
           "US3696043013"
          ],
          [
           "US3696043013"
          ],
          [
           "US3696043013"
          ],
          [
           "US3696043013"
          ],
          [
           "US3696043013"
          ],
          [
           "US3696043013"
          ],
          [
           "US3696043013"
          ],
          [
           "US3696043013"
          ],
          [
           "US3696043013"
          ],
          [
           "US3696043013"
          ],
          [
           "US3696043013"
          ]
         ],
         "hovertemplate": "ISIN=%{customdata[0]}<br>Quarter=%{x}<br>Value of Mkt value=%{y:.2}<extra></extra>",
         "legendgroup": "US3696043013",
         "marker": {
          "color": "#00cc96",
          "pattern": {
           "shape": ""
          }
         },
         "name": "US3696043013",
         "orientation": "v",
         "showlegend": true,
         "textposition": "auto",
         "type": "bar",
         "x": [
          "2023-Q1",
          "2023-Q1",
          "2023-Q2",
          "2023-Q2",
          "2023-Q2",
          "2023-Q3",
          "2023-Q3",
          "2023-Q3",
          "2023-Q4",
          "2024-Q1",
          "2024-Q2",
          "2024-Q2",
          "2024-Q2",
          "2024-Q3",
          "2024-Q4",
          "2025-Q1"
         ],
         "xaxis": "x",
         "y": {
          "bdata": "ZmZmmeMIzUGamZl99n7SQQAAAICnbX9BZmaG0gpJw0EzM5s2YL7pQQAAAIDsoH9BMzMTsoBow0GamfExX+jpQVK4RuAR5vFBPQp7e179+0EAAADAp72GQa5HAZ2q6MtBH4VPr61+9kEfhfu0rgj/QY/CFceJOvpBAACCXbRSAEI=",
          "dtype": "f8"
         },
         "yaxis": "y"
        },
        {
         "customdata": [
          [
           "JE00BJVNSS43"
          ],
          [
           "JE00BJVNSS43"
          ],
          [
           "JE00BJVNSS43"
          ],
          [
           "JE00BJVNSS43"
          ],
          [
           "JE00BJVNSS43"
          ],
          [
           "JE00BJVNSS43"
          ]
         ],
         "hovertemplate": "ISIN=%{customdata[0]}<br>Quarter=%{x}<br>Value of Mkt value=%{y:.2}<extra></extra>",
         "legendgroup": "JE00BJVNSS43",
         "marker": {
          "color": "#ab63fa",
          "pattern": {
           "shape": ""
          }
         },
         "name": "JE00BJVNSS43",
         "orientation": "v",
         "showlegend": true,
         "textposition": "auto",
         "type": "bar",
         "x": [
          "2023-Q2",
          "2023-Q2",
          "2023-Q3",
          "2023-Q3",
          "2023-Q4",
          "2024-Q1"
         ],
         "xaxis": "x",
         "y": {
          "bdata": "zczM9H5JcUEzMzPZDR2IQZqZmWHsEnJBZmZmpAU2iUGamZn+CRqUQQAAAAAAAAAA",
          "dtype": "f8"
         },
         "yaxis": "y"
        },
        {
         "customdata": [
          [
           "NL0015001FS8"
          ],
          [
           "NL0015001FS8"
          ],
          [
           "NL0015001FS8"
          ],
          [
           "NL0015001FS8"
          ],
          [
           "NL0015001FS8"
          ],
          [
           "NL0015001FS8"
          ],
          [
           "NL0015001FS8"
          ],
          [
           "NL0015001FS8"
          ],
          [
           "NL0015001FS8"
          ]
         ],
         "hovertemplate": "ISIN=%{customdata[0]}<br>Quarter=%{x}<br>Value of Mkt value=%{y:.2}<extra></extra>",
         "legendgroup": "NL0015001FS8",
         "marker": {
          "color": "#FFA15A",
          "pattern": {
           "shape": ""
          }
         },
         "name": "NL0015001FS8",
         "orientation": "v",
         "showlegend": true,
         "textposition": "auto",
         "type": "bar",
         "x": [
          "2023-Q2",
          "2023-Q3",
          "2023-Q4",
          "2024-Q1",
          "2024-Q2",
          "2024-Q2",
          "2024-Q3",
          "2024-Q4",
          "2025-Q1"
         ],
         "xaxis": "x",
         "y": {
          "bdata": "DLCPHg0iZ0GVDIAb9Z+aQe5aolI5E6BBRrJHVgd0oUH922V23PiBQQAAACBOhrJBfhuKjSf3tkFvL1FHG8S2QZXull0FHbhB",
          "dtype": "f8"
         },
         "yaxis": "y"
        },
        {
         "customdata": [
          [
           "DE0007236101"
          ],
          [
           "DE0007236101"
          ],
          [
           "DE0007236101"
          ],
          [
           "DE0007236101"
          ],
          [
           "DE0007236101"
          ],
          [
           "DE0007236101"
          ],
          [
           "DE0007236101"
          ],
          [
           "DE0007236101"
          ],
          [
           "DE0007236101"
          ]
         ],
         "hovertemplate": "ISIN=%{customdata[0]}<br>Quarter=%{x}<br>Value of Mkt value=%{y:.2}<extra></extra>",
         "legendgroup": "DE0007236101",
         "marker": {
          "color": "#19d3f3",
          "pattern": {
           "shape": ""
          }
         },
         "name": "DE0007236101",
         "orientation": "v",
         "showlegend": true,
         "textposition": "auto",
         "type": "bar",
         "x": [
          "2023-Q2",
          "2023-Q3",
          "2023-Q4",
          "2024-Q1",
          "2024-Q2",
          "2024-Q2",
          "2024-Q2",
          "2024-Q3",
          "2024-Q4"
         ],
         "xaxis": "x",
         "y": {
          "bdata": "YFrkRRsKu0Gs5jnDxG67QeviNuzy7sFBEodssBRBwkHNzMyMCMBxQf2iBEMS2LFBAAAABAiksEHG+5GhHE7DQQuzUBsqrcJB",
          "dtype": "f8"
         },
         "yaxis": "y"
        },
        {
         "customdata": [
          [
           "US36828A1016"
          ]
         ],
         "hovertemplate": "ISIN=%{customdata[0]}<br>Quarter=%{x}<br>Value of Mkt value=%{y:.2}<extra></extra>",
         "legendgroup": "US36828A1016",
         "marker": {
          "color": "#FF6692",
          "pattern": {
           "shape": ""
          }
         },
         "name": "US36828A1016",
         "orientation": "v",
         "showlegend": true,
         "textposition": "auto",
         "type": "bar",
         "x": [
          "2024-Q1"
         ],
         "xaxis": "x",
         "y": {
          "bdata": "AACACwUQqcE=",
          "dtype": "f8"
         },
         "yaxis": "y"
        },
        {
         "customdata": [
          [
           "ES0105046017"
          ]
         ],
         "hovertemplate": "ISIN=%{customdata[0]}<br>Quarter=%{x}<br>Value of Mkt value=%{y:.2}<extra></extra>",
         "legendgroup": "ES0105046017",
         "marker": {
          "color": "#B6E880",
          "pattern": {
           "shape": ""
          }
         },
         "name": "ES0105046017",
         "orientation": "v",
         "showlegend": true,
         "textposition": "auto",
         "type": "bar",
         "x": [
          "2025-Q1"
         ],
         "xaxis": "x",
         "y": {
          "bdata": "1SE3rtaxxUE=",
          "dtype": "f8"
         },
         "yaxis": "y"
        }
       ],
       "layout": {
        "barmode": "stack",
        "legend": {
         "title": {
          "text": "ISIN"
         },
         "tracegroupgap": 0
        },
        "template": {
         "data": {
          "bar": [
           {
            "error_x": {
             "color": "#2a3f5f"
            },
            "error_y": {
             "color": "#2a3f5f"
            },
            "marker": {
             "line": {
              "color": "#E5ECF6",
              "width": 0.5
             },
             "pattern": {
              "fillmode": "overlay",
              "size": 10,
              "solidity": 0.2
             }
            },
            "type": "bar"
           }
          ],
          "barpolar": [
           {
            "marker": {
             "line": {
              "color": "#E5ECF6",
              "width": 0.5
             },
             "pattern": {
              "fillmode": "overlay",
              "size": 10,
              "solidity": 0.2
             }
            },
            "type": "barpolar"
           }
          ],
          "carpet": [
           {
            "aaxis": {
             "endlinecolor": "#2a3f5f",
             "gridcolor": "white",
             "linecolor": "white",
             "minorgridcolor": "white",
             "startlinecolor": "#2a3f5f"
            },
            "baxis": {
             "endlinecolor": "#2a3f5f",
             "gridcolor": "white",
             "linecolor": "white",
             "minorgridcolor": "white",
             "startlinecolor": "#2a3f5f"
            },
            "type": "carpet"
           }
          ],
          "choropleth": [
           {
            "colorbar": {
             "outlinewidth": 0,
             "ticks": ""
            },
            "type": "choropleth"
           }
          ],
          "contour": [
           {
            "colorbar": {
             "outlinewidth": 0,
             "ticks": ""
            },
            "colorscale": [
             [
              0,
              "#0d0887"
             ],
             [
              0.1111111111111111,
              "#46039f"
             ],
             [
              0.2222222222222222,
              "#7201a8"
             ],
             [
              0.3333333333333333,
              "#9c179e"
             ],
             [
              0.4444444444444444,
              "#bd3786"
             ],
             [
              0.5555555555555556,
              "#d8576b"
             ],
             [
              0.6666666666666666,
              "#ed7953"
             ],
             [
              0.7777777777777778,
              "#fb9f3a"
             ],
             [
              0.8888888888888888,
              "#fdca26"
             ],
             [
              1,
              "#f0f921"
             ]
            ],
            "type": "contour"
           }
          ],
          "contourcarpet": [
           {
            "colorbar": {
             "outlinewidth": 0,
             "ticks": ""
            },
            "type": "contourcarpet"
           }
          ],
          "heatmap": [
           {
            "colorbar": {
             "outlinewidth": 0,
             "ticks": ""
            },
            "colorscale": [
             [
              0,
              "#0d0887"
             ],
             [
              0.1111111111111111,
              "#46039f"
             ],
             [
              0.2222222222222222,
              "#7201a8"
             ],
             [
              0.3333333333333333,
              "#9c179e"
             ],
             [
              0.4444444444444444,
              "#bd3786"
             ],
             [
              0.5555555555555556,
              "#d8576b"
             ],
             [
              0.6666666666666666,
              "#ed7953"
             ],
             [
              0.7777777777777778,
              "#fb9f3a"
             ],
             [
              0.8888888888888888,
              "#fdca26"
             ],
             [
              1,
              "#f0f921"
             ]
            ],
            "type": "heatmap"
           }
          ],
          "histogram": [
           {
            "marker": {
             "pattern": {
              "fillmode": "overlay",
              "size": 10,
              "solidity": 0.2
             }
            },
            "type": "histogram"
           }
          ],
          "histogram2d": [
           {
            "colorbar": {
             "outlinewidth": 0,
             "ticks": ""
            },
            "colorscale": [
             [
              0,
              "#0d0887"
             ],
             [
              0.1111111111111111,
              "#46039f"
             ],
             [
              0.2222222222222222,
              "#7201a8"
             ],
             [
              0.3333333333333333,
              "#9c179e"
             ],
             [
              0.4444444444444444,
              "#bd3786"
             ],
             [
              0.5555555555555556,
              "#d8576b"
             ],
             [
              0.6666666666666666,
              "#ed7953"
             ],
             [
              0.7777777777777778,
              "#fb9f3a"
             ],
             [
              0.8888888888888888,
              "#fdca26"
             ],
             [
              1,
              "#f0f921"
             ]
            ],
            "type": "histogram2d"
           }
          ],
          "histogram2dcontour": [
           {
            "colorbar": {
             "outlinewidth": 0,
             "ticks": ""
            },
            "colorscale": [
             [
              0,
              "#0d0887"
             ],
             [
              0.1111111111111111,
              "#46039f"
             ],
             [
              0.2222222222222222,
              "#7201a8"
             ],
             [
              0.3333333333333333,
              "#9c179e"
             ],
             [
              0.4444444444444444,
              "#bd3786"
             ],
             [
              0.5555555555555556,
              "#d8576b"
             ],
             [
              0.6666666666666666,
              "#ed7953"
             ],
             [
              0.7777777777777778,
              "#fb9f3a"
             ],
             [
              0.8888888888888888,
              "#fdca26"
             ],
             [
              1,
              "#f0f921"
             ]
            ],
            "type": "histogram2dcontour"
           }
          ],
          "mesh3d": [
           {
            "colorbar": {
             "outlinewidth": 0,
             "ticks": ""
            },
            "type": "mesh3d"
           }
          ],
          "parcoords": [
           {
            "line": {
             "colorbar": {
              "outlinewidth": 0,
              "ticks": ""
             }
            },
            "type": "parcoords"
           }
          ],
          "pie": [
           {
            "automargin": true,
            "type": "pie"
           }
          ],
          "scatter": [
           {
            "fillpattern": {
             "fillmode": "overlay",
             "size": 10,
             "solidity": 0.2
            },
            "type": "scatter"
           }
          ],
          "scatter3d": [
           {
            "line": {
             "colorbar": {
              "outlinewidth": 0,
              "ticks": ""
             }
            },
            "marker": {
             "colorbar": {
              "outlinewidth": 0,
              "ticks": ""
             }
            },
            "type": "scatter3d"
           }
          ],
          "scattercarpet": [
           {
            "marker": {
             "colorbar": {
              "outlinewidth": 0,
              "ticks": ""
             }
            },
            "type": "scattercarpet"
           }
          ],
          "scattergeo": [
           {
            "marker": {
             "colorbar": {
              "outlinewidth": 0,
              "ticks": ""
             }
            },
            "type": "scattergeo"
           }
          ],
          "scattergl": [
           {
            "marker": {
             "colorbar": {
              "outlinewidth": 0,
              "ticks": ""
             }
            },
            "type": "scattergl"
           }
          ],
          "scattermap": [
           {
            "marker": {
             "colorbar": {
              "outlinewidth": 0,
              "ticks": ""
             }
            },
            "type": "scattermap"
           }
          ],
          "scattermapbox": [
           {
            "marker": {
             "colorbar": {
              "outlinewidth": 0,
              "ticks": ""
             }
            },
            "type": "scattermapbox"
           }
          ],
          "scatterpolar": [
           {
            "marker": {
             "colorbar": {
              "outlinewidth": 0,
              "ticks": ""
             }
            },
            "type": "scatterpolar"
           }
          ],
          "scatterpolargl": [
           {
            "marker": {
             "colorbar": {
              "outlinewidth": 0,
              "ticks": ""
             }
            },
            "type": "scatterpolargl"
           }
          ],
          "scatterternary": [
           {
            "marker": {
             "colorbar": {
              "outlinewidth": 0,
              "ticks": ""
             }
            },
            "type": "scatterternary"
           }
          ],
          "surface": [
           {
            "colorbar": {
             "outlinewidth": 0,
             "ticks": ""
            },
            "colorscale": [
             [
              0,
              "#0d0887"
             ],
             [
              0.1111111111111111,
              "#46039f"
             ],
             [
              0.2222222222222222,
              "#7201a8"
             ],
             [
              0.3333333333333333,
              "#9c179e"
             ],
             [
              0.4444444444444444,
              "#bd3786"
             ],
             [
              0.5555555555555556,
              "#d8576b"
             ],
             [
              0.6666666666666666,
              "#ed7953"
             ],
             [
              0.7777777777777778,
              "#fb9f3a"
             ],
             [
              0.8888888888888888,
              "#fdca26"
             ],
             [
              1,
              "#f0f921"
             ]
            ],
            "type": "surface"
           }
          ],
          "table": [
           {
            "cells": {
             "fill": {
              "color": "#EBF0F8"
             },
             "line": {
              "color": "white"
             }
            },
            "header": {
             "fill": {
              "color": "#C8D4E3"
             },
             "line": {
              "color": "white"
             }
            },
            "type": "table"
           }
          ]
         },
         "layout": {
          "annotationdefaults": {
           "arrowcolor": "#2a3f5f",
           "arrowhead": 0,
           "arrowwidth": 1
          },
          "autotypenumbers": "strict",
          "coloraxis": {
           "colorbar": {
            "outlinewidth": 0,
            "ticks": ""
           }
          },
          "colorscale": {
           "diverging": [
            [
             0,
             "#8e0152"
            ],
            [
             0.1,
             "#c51b7d"
            ],
            [
             0.2,
             "#de77ae"
            ],
            [
             0.3,
             "#f1b6da"
            ],
            [
             0.4,
             "#fde0ef"
            ],
            [
             0.5,
             "#f7f7f7"
            ],
            [
             0.6,
             "#e6f5d0"
            ],
            [
             0.7,
             "#b8e186"
            ],
            [
             0.8,
             "#7fbc41"
            ],
            [
             0.9,
             "#4d9221"
            ],
            [
             1,
             "#276419"
            ]
           ],
           "sequential": [
            [
             0,
             "#0d0887"
            ],
            [
             0.1111111111111111,
             "#46039f"
            ],
            [
             0.2222222222222222,
             "#7201a8"
            ],
            [
             0.3333333333333333,
             "#9c179e"
            ],
            [
             0.4444444444444444,
             "#bd3786"
            ],
            [
             0.5555555555555556,
             "#d8576b"
            ],
            [
             0.6666666666666666,
             "#ed7953"
            ],
            [
             0.7777777777777778,
             "#fb9f3a"
            ],
            [
             0.8888888888888888,
             "#fdca26"
            ],
            [
             1,
             "#f0f921"
            ]
           ],
           "sequentialminus": [
            [
             0,
             "#0d0887"
            ],
            [
             0.1111111111111111,
             "#46039f"
            ],
            [
             0.2222222222222222,
             "#7201a8"
            ],
            [
             0.3333333333333333,
             "#9c179e"
            ],
            [
             0.4444444444444444,
             "#bd3786"
            ],
            [
             0.5555555555555556,
             "#d8576b"
            ],
            [
             0.6666666666666666,
             "#ed7953"
            ],
            [
             0.7777777777777778,
             "#fb9f3a"
            ],
            [
             0.8888888888888888,
             "#fdca26"
            ],
            [
             1,
             "#f0f921"
            ]
           ]
          },
          "colorway": [
           "#636efa",
           "#EF553B",
           "#00cc96",
           "#ab63fa",
           "#FFA15A",
           "#19d3f3",
           "#FF6692",
           "#B6E880",
           "#FF97FF",
           "#FECB52"
          ],
          "font": {
           "color": "#2a3f5f"
          },
          "geo": {
           "bgcolor": "white",
           "lakecolor": "white",
           "landcolor": "#E5ECF6",
           "showlakes": true,
           "showland": true,
           "subunitcolor": "white"
          },
          "hoverlabel": {
           "align": "left"
          },
          "hovermode": "closest",
          "mapbox": {
           "style": "light"
          },
          "paper_bgcolor": "white",
          "plot_bgcolor": "#E5ECF6",
          "polar": {
           "angularaxis": {
            "gridcolor": "white",
            "linecolor": "white",
            "ticks": ""
           },
           "bgcolor": "#E5ECF6",
           "radialaxis": {
            "gridcolor": "white",
            "linecolor": "white",
            "ticks": ""
           }
          },
          "scene": {
           "xaxis": {
            "backgroundcolor": "#E5ECF6",
            "gridcolor": "white",
            "gridwidth": 2,
            "linecolor": "white",
            "showbackground": true,
            "ticks": "",
            "zerolinecolor": "white"
           },
           "yaxis": {
            "backgroundcolor": "#E5ECF6",
            "gridcolor": "white",
            "gridwidth": 2,
            "linecolor": "white",
            "showbackground": true,
            "ticks": "",
            "zerolinecolor": "white"
           },
           "zaxis": {
            "backgroundcolor": "#E5ECF6",
            "gridcolor": "white",
            "gridwidth": 2,
            "linecolor": "white",
            "showbackground": true,
            "ticks": "",
            "zerolinecolor": "white"
           }
          },
          "shapedefaults": {
           "line": {
            "color": "#2a3f5f"
           }
          },
          "ternary": {
           "aaxis": {
            "gridcolor": "white",
            "linecolor": "white",
            "ticks": ""
           },
           "baxis": {
            "gridcolor": "white",
            "linecolor": "white",
            "ticks": ""
           },
           "bgcolor": "#E5ECF6",
           "caxis": {
            "gridcolor": "white",
            "linecolor": "white",
            "ticks": ""
           }
          },
          "title": {
           "x": 0.05
          },
          "xaxis": {
           "automargin": true,
           "gridcolor": "white",
           "linecolor": "white",
           "ticks": "",
           "title": {
            "standoff": 15
           },
           "zerolinecolor": "white",
           "zerolinewidth": 2
          },
          "yaxis": {
           "automargin": true,
           "gridcolor": "white",
           "linecolor": "white",
           "ticks": "",
           "title": {
            "standoff": 15
           },
           "zerolinecolor": "white",
           "zerolinewidth": 2
          }
         }
        },
        "title": {
         "text": "Holding Weight (Mkt value) of Each ISIN per Quarter"
        },
        "uniformtext": {
         "minsize": 8,
         "mode": "hide"
        },
        "xaxis": {
         "anchor": "y",
         "domain": [
          0,
          1
         ],
         "title": {
          "text": "Quarter"
         }
        },
        "yaxis": {
         "anchor": "x",
         "domain": [
          0,
          1
         ],
         "title": {
          "text": "Percentage of NAV (Mkt value)"
         }
        }
       }
      },
      "image/png": "[encoded data removed]"
     },
     "metadata": {},
     "output_type": "display_data"
    }
   ],
   "source": [
    "create_stacked_bar_chart(portfolio_equity_df, 'Mkt value')"
   ]
  },
  {
   "cell_type": "markdown",
   "id": "b83cc184-5437-4400-80e2-254ac051b9a8",
   "metadata": {},
   "source": [
    "### % of NAV"
   ]
  },
  {
   "cell_type": "code",
   "execution_count": 19,
   "id": "03544127-5440-4fdc-b074-fdc0758f295f",
   "metadata": {},
   "outputs": [],
   "source": [
    "portfolio_pivot_nav = pd.pivot_table(\n",
    "    portfolio_df,\n",
    "    values='% of NAV',\n",
    "    index=['ISIN', 'Issuer'],\n",
    "    columns='Year Quarter Formatted',\n",
    "    aggfunc='sum'\n",
    ")"
   ]
  },
  {
   "cell_type": "code",
   "execution_count": 20,
   "id": "093365e2-944f-41b1-a037-cb5254427571",
   "metadata": {},
   "outputs": [
    {
     "data": {
      "text/html": [
       "<div>\n",
       "<style scoped>\n",
       "    .dataframe tbody tr th:only-of-type {\n",
       "        vertical-align: middle;\n",
       "    }\n",
       "\n",
       "    .dataframe tbody tr th {\n",
       "        vertical-align: top;\n",
       "    }\n",
       "\n",
       "    .dataframe thead th {\n",
       "        text-align: right;\n",
       "    }\n",
       "</style>\n",
       "<table border=\"1\" class=\"dataframe\">\n",
       "  <thead>\n",
       "    <tr style=\"text-align: right;\">\n",
       "      <th></th>\n",
       "      <th>Year Quarter Formatted</th>\n",
       "      <th>2018-Q1</th>\n",
       "      <th>2018-Q2</th>\n",
       "      <th>2018-Q3</th>\n",
       "      <th>2018-Q4</th>\n",
       "      <th>2019-Q1</th>\n",
       "      <th>2019-Q2</th>\n",
       "      <th>2019-Q3</th>\n",
       "      <th>2019-Q4</th>\n",
       "      <th>2020-Q1</th>\n",
       "      <th>2020-Q2</th>\n",
       "      <th>...</th>\n",
       "      <th>2022-Q4</th>\n",
       "      <th>2023-Q1</th>\n",
       "      <th>2023-Q2</th>\n",
       "      <th>2023-Q3</th>\n",
       "      <th>2023-Q4</th>\n",
       "      <th>2024-Q1</th>\n",
       "      <th>2024-Q2</th>\n",
       "      <th>2024-Q3</th>\n",
       "      <th>2024-Q4</th>\n",
       "      <th>2025-Q1</th>\n",
       "    </tr>\n",
       "    <tr>\n",
       "      <th>ISIN</th>\n",
       "      <th>Issuer</th>\n",
       "      <th></th>\n",
       "      <th></th>\n",
       "      <th></th>\n",
       "      <th></th>\n",
       "      <th></th>\n",
       "      <th></th>\n",
       "      <th></th>\n",
       "      <th></th>\n",
       "      <th></th>\n",
       "      <th></th>\n",
       "      <th></th>\n",
       "      <th></th>\n",
       "      <th></th>\n",
       "      <th></th>\n",
       "      <th></th>\n",
       "      <th></th>\n",
       "      <th></th>\n",
       "      <th></th>\n",
       "      <th></th>\n",
       "      <th></th>\n",
       "      <th></th>\n",
       "    </tr>\n",
       "  </thead>\n",
       "  <tbody>\n",
       "    <tr>\n",
       "      <th>AU000000AZJ1</th>\n",
       "      <th>Aurizon</th>\n",
       "      <td>0.092338</td>\n",
       "      <td>0.071610</td>\n",
       "      <td>0.026123</td>\n",
       "      <td>NaN</td>\n",
       "      <td>NaN</td>\n",
       "      <td>NaN</td>\n",
       "      <td>NaN</td>\n",
       "      <td>NaN</td>\n",
       "      <td>NaN</td>\n",
       "      <td>NaN</td>\n",
       "      <td>...</td>\n",
       "      <td>NaN</td>\n",
       "      <td>NaN</td>\n",
       "      <td>NaN</td>\n",
       "      <td>NaN</td>\n",
       "      <td>NaN</td>\n",
       "      <td>NaN</td>\n",
       "      <td>NaN</td>\n",
       "      <td>NaN</td>\n",
       "      <td>NaN</td>\n",
       "      <td>NaN</td>\n",
       "    </tr>\n",
       "    <tr>\n",
       "      <th rowspan=\"2\" valign=\"top\">AU000000IFN8</th>\n",
       "      <th>Infigen</th>\n",
       "      <td>NaN</td>\n",
       "      <td>NaN</td>\n",
       "      <td>NaN</td>\n",
       "      <td>NaN</td>\n",
       "      <td>NaN</td>\n",
       "      <td>0.001884</td>\n",
       "      <td>0.002540</td>\n",
       "      <td>0.002287</td>\n",
       "      <td>0.001785</td>\n",
       "      <td>0.003358</td>\n",
       "      <td>...</td>\n",
       "      <td>NaN</td>\n",
       "      <td>NaN</td>\n",
       "      <td>NaN</td>\n",
       "      <td>NaN</td>\n",
       "      <td>NaN</td>\n",
       "      <td>NaN</td>\n",
       "      <td>NaN</td>\n",
       "      <td>NaN</td>\n",
       "      <td>NaN</td>\n",
       "      <td>NaN</td>\n",
       "    </tr>\n",
       "    <tr>\n",
       "      <th>Infigen Energy</th>\n",
       "      <td>0.003553</td>\n",
       "      <td>0.003444</td>\n",
       "      <td>0.002919</td>\n",
       "      <td>0.002462</td>\n",
       "      <td>0.001909</td>\n",
       "      <td>NaN</td>\n",
       "      <td>NaN</td>\n",
       "      <td>NaN</td>\n",
       "      <td>NaN</td>\n",
       "      <td>NaN</td>\n",
       "      <td>...</td>\n",
       "      <td>NaN</td>\n",
       "      <td>NaN</td>\n",
       "      <td>NaN</td>\n",
       "      <td>NaN</td>\n",
       "      <td>NaN</td>\n",
       "      <td>NaN</td>\n",
       "      <td>NaN</td>\n",
       "      <td>NaN</td>\n",
       "      <td>NaN</td>\n",
       "      <td>NaN</td>\n",
       "    </tr>\n",
       "    <tr>\n",
       "      <th>AU000000WOW2</th>\n",
       "      <th>Woolworths</th>\n",
       "      <td>-0.035801</td>\n",
       "      <td>-0.035706</td>\n",
       "      <td>-0.027922</td>\n",
       "      <td>-0.020096</td>\n",
       "      <td>-0.009304</td>\n",
       "      <td>-0.008490</td>\n",
       "      <td>-0.008831</td>\n",
       "      <td>-0.008069</td>\n",
       "      <td>-0.009148</td>\n",
       "      <td>-0.003124</td>\n",
       "      <td>...</td>\n",
       "      <td>NaN</td>\n",
       "      <td>NaN</td>\n",
       "      <td>NaN</td>\n",
       "      <td>NaN</td>\n",
       "      <td>NaN</td>\n",
       "      <td>NaN</td>\n",
       "      <td>NaN</td>\n",
       "      <td>NaN</td>\n",
       "      <td>NaN</td>\n",
       "      <td>NaN</td>\n",
       "    </tr>\n",
       "    <tr>\n",
       "      <th>BMG475671050</th>\n",
       "      <th>IHS Markit Ltd</th>\n",
       "      <td>NaN</td>\n",
       "      <td>NaN</td>\n",
       "      <td>NaN</td>\n",
       "      <td>NaN</td>\n",
       "      <td>NaN</td>\n",
       "      <td>NaN</td>\n",
       "      <td>NaN</td>\n",
       "      <td>NaN</td>\n",
       "      <td>NaN</td>\n",
       "      <td>NaN</td>\n",
       "      <td>...</td>\n",
       "      <td>NaN</td>\n",
       "      <td>NaN</td>\n",
       "      <td>NaN</td>\n",
       "      <td>NaN</td>\n",
       "      <td>NaN</td>\n",
       "      <td>NaN</td>\n",
       "      <td>NaN</td>\n",
       "      <td>NaN</td>\n",
       "      <td>NaN</td>\n",
       "      <td>NaN</td>\n",
       "    </tr>\n",
       "  </tbody>\n",
       "</table>\n",
       "<p>5 rows × 29 columns</p>\n",
       "</div>"
      ],
      "text/plain": [
       "Year Quarter Formatted        2018-Q1   2018-Q2   2018-Q3   2018-Q4   2019-Q1  \\\n",
       "ISIN         Issuer                                                             \n",
       "AU000000AZJ1 Aurizon         0.092338  0.071610  0.026123       NaN       NaN   \n",
       "AU000000IFN8 Infigen              NaN       NaN       NaN       NaN       NaN   \n",
       "             Infigen Energy  0.003553  0.003444  0.002919  0.002462  0.001909   \n",
       "AU000000WOW2 Woolworths     -0.035801 -0.035706 -0.027922 -0.020096 -0.009304   \n",
       "BMG475671050 IHS Markit Ltd       NaN       NaN       NaN       NaN       NaN   \n",
       "\n",
       "Year Quarter Formatted        2019-Q2   2019-Q3   2019-Q4   2020-Q1   2020-Q2  \\\n",
       "ISIN         Issuer                                                             \n",
       "AU000000AZJ1 Aurizon              NaN       NaN       NaN       NaN       NaN   \n",
       "AU000000IFN8 Infigen         0.001884  0.002540  0.002287  0.001785  0.003358   \n",
       "             Infigen Energy       NaN       NaN       NaN       NaN       NaN   \n",
       "AU000000WOW2 Woolworths     -0.008490 -0.008831 -0.008069 -0.009148 -0.003124   \n",
       "BMG475671050 IHS Markit Ltd       NaN       NaN       NaN       NaN       NaN   \n",
       "\n",
       "Year Quarter Formatted       ...  2022-Q4  2023-Q1  2023-Q2  2023-Q3  2023-Q4  \\\n",
       "ISIN         Issuer          ...                                                \n",
       "AU000000AZJ1 Aurizon         ...      NaN      NaN      NaN      NaN      NaN   \n",
       "AU000000IFN8 Infigen         ...      NaN      NaN      NaN      NaN      NaN   \n",
       "             Infigen Energy  ...      NaN      NaN      NaN      NaN      NaN   \n",
       "AU000000WOW2 Woolworths      ...      NaN      NaN      NaN      NaN      NaN   \n",
       "BMG475671050 IHS Markit Ltd  ...      NaN      NaN      NaN      NaN      NaN   \n",
       "\n",
       "Year Quarter Formatted       2024-Q1  2024-Q2  2024-Q3  2024-Q4  2025-Q1  \n",
       "ISIN         Issuer                                                       \n",
       "AU000000AZJ1 Aurizon             NaN      NaN      NaN      NaN      NaN  \n",
       "AU000000IFN8 Infigen             NaN      NaN      NaN      NaN      NaN  \n",
       "             Infigen Energy      NaN      NaN      NaN      NaN      NaN  \n",
       "AU000000WOW2 Woolworths          NaN      NaN      NaN      NaN      NaN  \n",
       "BMG475671050 IHS Markit Ltd      NaN      NaN      NaN      NaN      NaN  \n",
       "\n",
       "[5 rows x 29 columns]"
      ]
     },
     "execution_count": 20,
     "metadata": {},
     "output_type": "execute_result"
    }
   ],
   "source": [
    "portfolio_pivot_nav.head()"
   ]
  },
  {
   "cell_type": "code",
   "execution_count": 21,
   "id": "46bec9f6-eecf-4ef5-8e7f-0d38272b0ecf",
   "metadata": {},
   "outputs": [
    {
     "name": "stdout",
     "output_type": "stream",
     "text": [
      "(1271, 15)\n"
     ]
    },
    {
     "data": {
      "application/vnd.plotly.v1+json": {
       "config": {
        "plotlyServerURL": "https://plot.ly"
       },
       "data": [
        {
         "customdata": [
          [
           "US90130A1016"
          ],
          [
           "US90130A1016"
          ],
          [
           "US90130A1016"
          ]
         ],
         "hovertemplate": "ISIN=%{customdata[0]}<br>Quarter=%{x}<br>Value of % of NAV=%{y:.2}<extra></extra>",
         "legendgroup": "US90130A1016",
         "marker": {
          "color": "#636efa",
          "pattern": {
           "shape": ""
          }
         },
         "name": "US90130A1016",
         "orientation": "v",
         "showlegend": true,
         "textposition": "auto",
         "type": "bar",
         "x": [
          "2018-Q1",
          "2018-Q2",
          "2018-Q3"
         ],
         "xaxis": "x",
         "y": {
          "bdata": "6XcRk+huwD9Y1nHvI2HQPzraF6VvqM0/",
          "dtype": "f8"
         },
         "yaxis": "y"
        },
        {
         "customdata": [
          [
           "US90130A2006"
          ],
          [
           "US90130A2006"
          ],
          [
           "US90130A2006"
          ]
         ],
         "hovertemplate": "ISIN=%{customdata[0]}<br>Quarter=%{x}<br>Value of % of NAV=%{y:.2}<extra></extra>",
         "legendgroup": "US90130A2006",
         "marker": {
          "color": "#EF553B",
          "pattern": {
           "shape": ""
          }
         },
         "name": "US90130A2006",
         "orientation": "v",
         "showlegend": true,
         "textposition": "auto",
         "type": "bar",
         "x": [
          "2018-Q1",
          "2018-Q2",
          "2018-Q3"
         ],
         "xaxis": "x",
         "y": {
          "bdata": "GVpzLCJzlT+UOhlxWMSpP56lJ0qLRKc/",
          "dtype": "f8"
         },
         "yaxis": "y"
        },
        {
         "customdata": [
          [
           "ES0105046009"
          ],
          [
           "ES0105046009"
          ],
          [
           "ES0105046009"
          ],
          [
           "ES0105046009"
          ],
          [
           "ES0105046009"
          ],
          [
           "ES0105046009"
          ],
          [
           "ES0105046009"
          ],
          [
           "ES0105046009"
          ],
          [
           "ES0105046009"
          ],
          [
           "ES0105046009"
          ],
          [
           "ES0105046009"
          ],
          [
           "ES0105046009"
          ],
          [
           "ES0105046009"
          ],
          [
           "ES0105046009"
          ],
          [
           "ES0105046009"
          ],
          [
           "ES0105046009"
          ],
          [
           "ES0105046009"
          ],
          [
           "ES0105046009"
          ],
          [
           "ES0105046009"
          ],
          [
           "ES0105046009"
          ],
          [
           "ES0105046009"
          ],
          [
           "ES0105046009"
          ],
          [
           "ES0105046009"
          ],
          [
           "ES0105046009"
          ],
          [
           "ES0105046009"
          ],
          [
           "ES0105046009"
          ],
          [
           "ES0105046009"
          ],
          [
           "ES0105046009"
          ],
          [
           "ES0105046009"
          ],
          [
           "ES0105046009"
          ],
          [
           "ES0105046009"
          ],
          [
           "ES0105046009"
          ],
          [
           "ES0105046009"
          ],
          [
           "ES0105046009"
          ],
          [
           "ES0105046009"
          ],
          [
           "ES0105046009"
          ],
          [
           "ES0105046009"
          ],
          [
           "ES0105046009"
          ],
          [
           "ES0105046009"
          ],
          [
           "ES0105046009"
          ],
          [
           "ES0105046009"
          ],
          [
           "ES0105046009"
          ],
          [
           "ES0105046009"
          ],
          [
           "ES0105046009"
          ],
          [
           "ES0105046009"
          ],
          [
           "ES0105046009"
          ],
          [
           "ES0105046009"
          ],
          [
           "ES0105046009"
          ],
          [
           "ES0105046009"
          ],
          [
           "ES0105046009"
          ],
          [
           "ES0105046009"
          ],
          [
           "ES0105046009"
          ],
          [
           "ES0105046009"
          ],
          [
           "ES0105046009"
          ],
          [
           "ES0105046009"
          ],
          [
           "ES0105046009"
          ],
          [
           "ES0105046009"
          ],
          [
           "ES0105046009"
          ],
          [
           "ES0105046009"
          ],
          [
           "ES0105046009"
          ],
          [
           "ES0105046009"
          ],
          [
           "ES0105046009"
          ],
          [
           "ES0105046009"
          ],
          [
           "ES0105046009"
          ],
          [
           "ES0105046009"
          ],
          [
           "ES0105046009"
          ],
          [
           "ES0105046009"
          ],
          [
           "ES0105046009"
          ],
          [
           "ES0105046009"
          ],
          [
           "ES0105046009"
          ],
          [
           "ES0105046009"
          ],
          [
           "ES0105046009"
          ],
          [
           "ES0105046009"
          ]
         ],
         "hovertemplate": "ISIN=%{customdata[0]}<br>Quarter=%{x}<br>Value of % of NAV=%{y:.2}<extra></extra>",
         "legendgroup": "ES0105046009",
         "marker": {
          "color": "#00cc96",
          "pattern": {
           "shape": ""
          }
         },
         "name": "ES0105046009",
         "orientation": "v",
         "showlegend": true,
         "textposition": "auto",
         "type": "bar",
         "x": [
          "2018-Q1",
          "2018-Q1",
          "2018-Q2",
          "2018-Q2",
          "2018-Q3",
          "2018-Q3",
          "2018-Q4",
          "2018-Q4",
          "2019-Q1",
          "2019-Q1",
          "2019-Q2",
          "2019-Q2",
          "2019-Q3",
          "2019-Q3",
          "2019-Q3",
          "2019-Q4",
          "2019-Q4",
          "2019-Q4",
          "2020-Q1",
          "2020-Q1",
          "2020-Q1",
          "2020-Q2",
          "2020-Q2",
          "2020-Q2",
          "2020-Q3",
          "2020-Q3",
          "2020-Q3",
          "2020-Q4",
          "2020-Q4",
          "2020-Q4",
          "2021-Q1",
          "2021-Q1",
          "2021-Q1",
          "2021-Q2",
          "2021-Q2",
          "2021-Q3",
          "2021-Q3",
          "2021-Q3",
          "2021-Q4",
          "2021-Q4",
          "2021-Q4",
          "2022-Q1",
          "2022-Q1",
          "2022-Q2",
          "2022-Q2",
          "2022-Q2",
          "2022-Q3",
          "2022-Q3",
          "2022-Q3",
          "2022-Q4",
          "2022-Q4",
          "2022-Q4",
          "2023-Q1",
          "2023-Q1",
          "2023-Q1",
          "2023-Q2",
          "2023-Q2",
          "2023-Q2",
          "2023-Q3",
          "2023-Q3",
          "2023-Q3",
          "2023-Q4",
          "2023-Q4",
          "2024-Q1",
          "2024-Q1",
          "2024-Q2",
          "2024-Q2",
          "2024-Q2",
          "2024-Q2",
          "2024-Q3",
          "2024-Q3",
          "2024-Q4",
          "2024-Q4"
         ],
         "xaxis": "x",
         "y": {
          "bdata": "Alkr4p1Fsz/euMonwZmvPxUAqrAGQqE/A97VJkZgqT+Rm5nJEgKgP44trZ3Qiac/63D5Qw2Dnz/BRqV35yqnP59nfS4lq50/6lTJP/XPpT9qpsA8ZTCeP9xFCHfsMaY/3TqyJLvkmj+lZgR2bHKgP1rFg6HlmXo/ZhFIz89umT+7Pa7ECih5P/gNpN1/G58/wr8J0meDkz/e0HcW+t2XP5ZLwY8bTXM/SCdgWT7rkT/EdGfYYblxP/Ek2f++6pU/TDuxDng8kT996dLW+RSVP5HIAuKBDHE/HKj50q1wkT8+qcyxcBtyP1TbyC4AZJY/9jqu9tdujT8FPZeVMzZwP/sGZ075C5Q/guXrToLpiT8/Xi/3xaKVP7AP8cvgQYs/D/Oy1KWebj/jrL7Teu6SP9KonTRxlYc/5b9v3DN+aj+M113/TGGQP7r1CRvRqIk/hRZNTFdolT8CR8F+KUiHP/xoWrFjJ2o/TZsQKpNIjj941mjtCv6EP4H2E9f3lGc/fuBhwjBOiz/f57zqMY+GPwhtD/iaV2k/kfXhcPtXjT8jrU5y8XyIPzHcVsILnJA/KDvq3mywbD/9jY4NeIeGP7D/egvSj44/Gc1Pautkaj/0bqgaDBuGPzxyFue9/I0/Og0JvOXlaT8I3aBSjwiHP9tsmRH9/pI/qiRcCLQ+hj+ZhG2eg1iSP26Dw3ZYr4c/7OlSKpr9UT9DrPVVfeGNP4eYolKOv2s/Gu33VZ+zhz/QtlsNEYyTP9M8CFD+l4Y/4k2NNieikj8=",
          "dtype": "f8"
         },
         "yaxis": "y"
        },
        {
         "customdata": [
          [
           "NL0000235190"
          ],
          [
           "NL0000235190"
          ],
          [
           "NL0000235190"
          ],
          [
           "NL0000235190"
          ],
          [
           "NL0000235190"
          ],
          [
           "NL0000235190"
          ],
          [
           "NL0000235190"
          ],
          [
           "NL0000235190"
          ],
          [
           "NL0000235190"
          ],
          [
           "NL0000235190"
          ],
          [
           "NL0000235190"
          ],
          [
           "NL0000235190"
          ],
          [
           "NL0000235190"
          ],
          [
           "NL0000235190"
          ],
          [
           "NL0000235190"
          ],
          [
           "NL0000235190"
          ],
          [
           "NL0000235190"
          ],
          [
           "NL0000235190"
          ],
          [
           "NL0000235190"
          ],
          [
           "NL0000235190"
          ],
          [
           "NL0000235190"
          ],
          [
           "NL0000235190"
          ],
          [
           "NL0000235190"
          ],
          [
           "NL0000235190"
          ],
          [
           "NL0000235190"
          ],
          [
           "NL0000235190"
          ],
          [
           "NL0000235190"
          ],
          [
           "NL0000235190"
          ],
          [
           "NL0000235190"
          ],
          [
           "NL0000235190"
          ],
          [
           "NL0000235190"
          ],
          [
           "NL0000235190"
          ],
          [
           "NL0000235190"
          ],
          [
           "NL0000235190"
          ],
          [
           "NL0000235190"
          ],
          [
           "NL0000235190"
          ],
          [
           "NL0000235190"
          ],
          [
           "NL0000235190"
          ],
          [
           "NL0000235190"
          ],
          [
           "NL0000235190"
          ]
         ],
         "hovertemplate": "ISIN=%{customdata[0]}<br>Quarter=%{x}<br>Value of % of NAV=%{y:.2}<extra></extra>",
         "legendgroup": "NL0000235190",
         "marker": {
          "color": "#ab63fa",
          "pattern": {
           "shape": ""
          }
         },
         "name": "NL0000235190",
         "orientation": "v",
         "showlegend": true,
         "textposition": "auto",
         "type": "bar",
         "x": [
          "2018-Q1",
          "2018-Q2",
          "2018-Q3",
          "2018-Q4",
          "2019-Q1",
          "2019-Q2",
          "2019-Q3",
          "2019-Q4",
          "2020-Q1",
          "2020-Q2",
          "2020-Q3",
          "2020-Q4",
          "2021-Q1",
          "2021-Q4",
          "2022-Q1",
          "2022-Q2",
          "2022-Q3",
          "2022-Q3",
          "2022-Q4",
          "2022-Q4",
          "2022-Q4",
          "2023-Q1",
          "2023-Q1",
          "2023-Q2",
          "2023-Q2",
          "2023-Q3",
          "2023-Q3",
          "2023-Q4",
          "2023-Q4",
          "2024-Q1",
          "2024-Q1",
          "2024-Q2",
          "2024-Q2",
          "2024-Q2",
          "2024-Q3",
          "2024-Q3",
          "2024-Q4",
          "2024-Q4",
          "2025-Q1",
          "2025-Q1"
         ],
         "xaxis": "x",
         "y": {
          "bdata": "Xv2+qrhZuD/1wvFpBP+1P3UueVsD5rY/SnGThYTRsz+UJiQysFmzP3LYuwntR6w/Co5GbuiMrT/fOBZmNySuP24trAaZg6I/uZz+CGkSpD/AiDmnUmuoP7umRQHq1ag/VlwC4sRQnz8uA8mU0vaGP3FkOvCOYpg/3/SdUYyKrj/daay5jy1jPz7rysU0Abc/QUnNQFJ1Zz/pAD+EDLu8P/m1tdcZZlg/JNka4ZItvT+YgO32Dn9XP80rzkkT/7w/a63qTZ1ZVz/WESDhFFS8P93c0+Hqz1Y/izpMslc8vD/g6qoUzbxWPyiheFYq6r0/7m4TClEfWD+LRNTkYjR/P5NZCjLSRbU/s/T6ofK5Uj9cjhPn4Z62PwT27l2YPVI/mIdE75uguT8LGQz02YdUPy7o/L6nkLo/RIBWYShIVT8=",
          "dtype": "f8"
         },
         "yaxis": "y"
        },
        {
         "customdata": [
          [
           "US01609W1027"
          ],
          [
           "US01609W1027"
          ]
         ],
         "hovertemplate": "ISIN=%{customdata[0]}<br>Quarter=%{x}<br>Value of % of NAV=%{y:.2}<extra></extra>",
         "legendgroup": "US01609W1027",
         "marker": {
          "color": "#FFA15A",
          "pattern": {
           "shape": ""
          }
         },
         "name": "US01609W1027",
         "orientation": "v",
         "showlegend": true,
         "textposition": "auto",
         "type": "bar",
         "x": [
          "2018-Q1",
          "2018-Q2"
         ],
         "xaxis": "x",
         "y": {
          "bdata": "L+hUgt060L8k5G7eM/jGvw==",
          "dtype": "f8"
         },
         "yaxis": "y"
        },
        {
         "customdata": [
          [
           "US02079K3059"
          ],
          [
           "US02079K3059"
          ],
          [
           "US02079K3059"
          ],
          [
           "US02079K3059"
          ],
          [
           "US02079K3059"
          ],
          [
           "US02079K3059"
          ],
          [
           "US02079K3059"
          ],
          [
           "US02079K3059"
          ],
          [
           "US02079K3059"
          ],
          [
           "US02079K3059"
          ],
          [
           "US02079K3059"
          ],
          [
           "US02079K3059"
          ],
          [
           "US02079K3059"
          ],
          [
           "US02079K3059"
          ],
          [
           "US02079K3059"
          ],
          [
           "US02079K3059"
          ],
          [
           "US02079K3059"
          ],
          [
           "US02079K3059"
          ],
          [
           "US02079K3059"
          ],
          [
           "US02079K3059"
          ],
          [
           "US02079K3059"
          ],
          [
           "US02079K3059"
          ],
          [
           "US02079K3059"
          ],
          [
           "US02079K3059"
          ],
          [
           "US02079K3059"
          ],
          [
           "US02079K3059"
          ],
          [
           "US02079K3059"
          ],
          [
           "US02079K3059"
          ],
          [
           "US02079K3059"
          ],
          [
           "US02079K3059"
          ],
          [
           "US02079K3059"
          ],
          [
           "US02079K3059"
          ],
          [
           "US02079K3059"
          ],
          [
           "US02079K3059"
          ],
          [
           "US02079K3059"
          ],
          [
           "US02079K3059"
          ],
          [
           "US02079K3059"
          ],
          [
           "US02079K3059"
          ],
          [
           "US02079K3059"
          ],
          [
           "US02079K3059"
          ],
          [
           "US02079K3059"
          ],
          [
           "US02079K3059"
          ],
          [
           "US02079K3059"
          ],
          [
           "US02079K3059"
          ],
          [
           "US02079K3059"
          ]
         ],
         "hovertemplate": "ISIN=%{customdata[0]}<br>Quarter=%{x}<br>Value of % of NAV=%{y:.2}<extra></extra>",
         "legendgroup": "US02079K3059",
         "marker": {
          "color": "#19d3f3",
          "pattern": {
           "shape": ""
          }
         },
         "name": "US02079K3059",
         "orientation": "v",
         "showlegend": true,
         "textposition": "auto",
         "type": "bar",
         "x": [
          "2018-Q1",
          "2018-Q2",
          "2018-Q3",
          "2018-Q4",
          "2019-Q1",
          "2019-Q2",
          "2019-Q3",
          "2019-Q3",
          "2019-Q4",
          "2019-Q4",
          "2020-Q1",
          "2020-Q1",
          "2020-Q2",
          "2020-Q2",
          "2020-Q3",
          "2020-Q3",
          "2020-Q4",
          "2020-Q4",
          "2020-Q4",
          "2021-Q1",
          "2021-Q1",
          "2021-Q1",
          "2021-Q2",
          "2021-Q3",
          "2021-Q3",
          "2021-Q3",
          "2021-Q4",
          "2021-Q4",
          "2021-Q4",
          "2022-Q1",
          "2022-Q2",
          "2022-Q2",
          "2022-Q2",
          "2022-Q3",
          "2022-Q3",
          "2022-Q3",
          "2022-Q4",
          "2022-Q4",
          "2022-Q4",
          "2023-Q4",
          "2024-Q1",
          "2024-Q2",
          "2024-Q3",
          "2024-Q4",
          "2025-Q1"
         ],
         "xaxis": "x",
         "y": {
          "bdata": "qItAfsmxlT/lBU1k8QyVP9gqLnaY2ZU/P0PqL26glz+4MXCGgJ+EPzbNZ4OrU5U/XyZySO41jj+fwnDhw6+GP5d2R12MBI4/+wEte66Khj/ahob0ImSRPzAsQw+hHoo/mPRp9MAbiD+fKNqXUQ2QP5+vG1Ovbo4/cvZjaGLahj+jGcW8sxuOP8SmnB5dD0A/bJFKOAhdhz+8tqsQJ/yQPxH/yr6xHkI/pi6lZytcij/MsQWGCyigP5daU5INg5M/IpfpeyJIjj8bii8C0tBEP2nGPGztCJQ/7YPv46NfRT9VeDIc5xePP927IZlPZaA/m2ZwZ722mz+Yr0aYKayMP1VMT2ehtUM/BEatBoNhnD9EeoY2d4iLP4lYfjQe7UI/CkWQCaLGhj/I/Mdo9U8/P9PsTIstepc/dti2c0bMPD/UM52w1ZVqP0+Gfs+RxpQ/+DWjp+JUkT9LNBuM8UmUP8kx8ZiGNIU/",
          "dtype": "f8"
         },
         "yaxis": "y"
        },
        {
         "customdata": [
          [
           "US02079K1079"
          ],
          [
           "US02079K1079"
          ],
          [
           "US02079K1079"
          ],
          [
           "US02079K1079"
          ],
          [
           "US02079K1079"
          ],
          [
           "US02079K1079"
          ],
          [
           "US02079K1079"
          ],
          [
           "US02079K1079"
          ],
          [
           "US02079K1079"
          ],
          [
           "US02079K1079"
          ],
          [
           "US02079K1079"
          ],
          [
           "US02079K1079"
          ],
          [
           "US02079K1079"
          ],
          [
           "US02079K1079"
          ],
          [
           "US02079K1079"
          ],
          [
           "US02079K1079"
          ],
          [
           "US02079K1079"
          ],
          [
           "US02079K1079"
          ],
          [
           "US02079K1079"
          ],
          [
           "US02079K1079"
          ],
          [
           "US02079K1079"
          ],
          [
           "US02079K1079"
          ],
          [
           "US02079K1079"
          ],
          [
           "US02079K1079"
          ],
          [
           "US02079K1079"
          ],
          [
           "US02079K1079"
          ],
          [
           "US02079K1079"
          ],
          [
           "US02079K1079"
          ],
          [
           "US02079K1079"
          ],
          [
           "US02079K1079"
          ],
          [
           "US02079K1079"
          ],
          [
           "US02079K1079"
          ],
          [
           "US02079K1079"
          ],
          [
           "US02079K1079"
          ],
          [
           "US02079K1079"
          ],
          [
           "US02079K1079"
          ],
          [
           "US02079K1079"
          ],
          [
           "US02079K1079"
          ],
          [
           "US02079K1079"
          ],
          [
           "US02079K1079"
          ],
          [
           "US02079K1079"
          ],
          [
           "US02079K1079"
          ],
          [
           "US02079K1079"
          ]
         ],
         "hovertemplate": "ISIN=%{customdata[0]}<br>Quarter=%{x}<br>Value of % of NAV=%{y:.2}<extra></extra>",
         "legendgroup": "US02079K1079",
         "marker": {
          "color": "#FF6692",
          "pattern": {
           "shape": ""
          }
         },
         "name": "US02079K1079",
         "orientation": "v",
         "showlegend": true,
         "textposition": "auto",
         "type": "bar",
         "x": [
          "2018-Q1",
          "2018-Q2",
          "2018-Q3",
          "2018-Q4",
          "2019-Q1",
          "2019-Q2",
          "2019-Q3",
          "2019-Q4",
          "2020-Q1",
          "2020-Q2",
          "2020-Q3",
          "2020-Q3",
          "2020-Q4",
          "2021-Q1",
          "2021-Q2",
          "2021-Q3",
          "2021-Q3",
          "2021-Q4",
          "2021-Q4",
          "2022-Q1",
          "2022-Q2",
          "2022-Q2",
          "2022-Q3",
          "2022-Q3",
          "2022-Q4",
          "2022-Q4",
          "2023-Q1",
          "2023-Q1",
          "2023-Q1",
          "2023-Q2",
          "2023-Q2",
          "2023-Q2",
          "2023-Q3",
          "2023-Q3",
          "2023-Q3",
          "2023-Q4",
          "2024-Q1",
          "2024-Q2",
          "2024-Q2",
          "2024-Q2",
          "2024-Q3",
          "2024-Q4",
          "2025-Q1"
         ],
         "xaxis": "x",
         "y": {
          "bdata": "mt21r0UWwD/Cla+CVwPCP8R9/3TutcI/MQOYyr7wwj87GEbL6cu+P0xzJZq60sE/6VLU568exD8iv8njlLLBP2uEYh0AP8Q/wOfPDeJmwj9x8OlVrYvBPz+/R1ABOPu+tC72mn/hwT+JG7C9KT7EP9+9dCJZyMU/vjCLdDH6Sj/SyzooWwLHP/lF0FOpwEs/6FFZqaGrxz+7Q5bFysTCP0cft3f4t0k/h54cQ+ZJwj8vYJozlLtIPx2FELdBasI/HOXye+Z3RD9AedffaEW/P0QQkFiDv4k/hK5FTQgfRT/bdzOnhfamP9lbmMGVmEY/P+aA/sWLiz/JRzqctOKhP0g67YPtjI8/y02PdoXhST/TyZvuDwmiP1SS2tTwaKg/Jg/nlw9wpz9WTI5Wu+BMPwtPyFIampE/3pZiX7MfpD+8th8xfoioP71RKwoR86s/UAjKa2Yqoj8=",
          "dtype": "f8"
         },
         "yaxis": "y"
        },
        {
         "customdata": [
          [
           "US0213461017"
          ],
          [
           "US0213461017"
          ]
         ],
         "hovertemplate": "ISIN=%{customdata[0]}<br>Quarter=%{x}<br>Value of % of NAV=%{y:.2}<extra></extra>",
         "legendgroup": "US0213461017",
         "marker": {
          "color": "#B6E880",
          "pattern": {
           "shape": ""
          }
         },
         "name": "US0213461017",
         "orientation": "v",
         "showlegend": true,
         "textposition": "auto",
         "type": "bar",
         "x": [
          "2018-Q1",
          "2018-Q2"
         ],
         "xaxis": "x",
         "y": {
          "bdata": "E5usPZFh1T8LhGZT5vPKPw==",
          "dtype": "f8"
         },
         "yaxis": "y"
        },
        {
         "customdata": [
          [
           "US00206R1023"
          ]
         ],
         "hovertemplate": "ISIN=%{customdata[0]}<br>Quarter=%{x}<br>Value of % of NAV=%{y:.2}<extra></extra>",
         "legendgroup": "US00206R1023",
         "marker": {
          "color": "#FF97FF",
          "pattern": {
           "shape": ""
          }
         },
         "name": "US00206R1023",
         "orientation": "v",
         "showlegend": true,
         "textposition": "auto",
         "type": "bar",
         "x": [
          "2018-Q1"
         ],
         "xaxis": "x",
         "y": {
          "bdata": "nKCQ3r0Fp78=",
          "dtype": "f8"
         },
         "yaxis": "y"
        },
        {
         "customdata": [
          [
           "US1344291091"
          ]
         ],
         "hovertemplate": "ISIN=%{customdata[0]}<br>Quarter=%{x}<br>Value of % of NAV=%{y:.2}<extra></extra>",
         "legendgroup": "US1344291091",
         "marker": {
          "color": "#FECB52",
          "pattern": {
           "shape": ""
          }
         },
         "name": "US1344291091",
         "orientation": "v",
         "showlegend": true,
         "textposition": "auto",
         "type": "bar",
         "x": [
          "2018-Q1"
         ],
         "xaxis": "x",
         "y": {
          "bdata": "DcEGLpP4Vr8=",
          "dtype": "f8"
         },
         "yaxis": "y"
        },
        {
         "customdata": [
          [
           "CA13645T1003"
          ],
          [
           "CA13645T1003"
          ],
          [
           "CA13645T1003"
          ],
          [
           "CA13645T1003"
          ],
          [
           "CA13645T1003"
          ],
          [
           "CA13645T1003"
          ],
          [
           "CA13645T1003"
          ],
          [
           "CA13645T1003"
          ],
          [
           "CA13645T1003"
          ],
          [
           "CA13645T1003"
          ],
          [
           "CA13645T1003"
          ],
          [
           "CA13645T1003"
          ],
          [
           "CA13645T1003"
          ],
          [
           "CA13645T1003"
          ],
          [
           "CA13645T1003"
          ],
          [
           "CA13645T1003"
          ],
          [
           "CA13645T1003"
          ],
          [
           "CA13645T1003"
          ],
          [
           "CA13645T1003"
          ],
          [
           "CA13645T1003"
          ],
          [
           "CA13645T1003"
          ],
          [
           "CA13645T1003"
          ],
          [
           "CA13645T1003"
          ],
          [
           "CA13645T1003"
          ],
          [
           "CA13645T1003"
          ],
          [
           "CA13645T1003"
          ],
          [
           "CA13645T1003"
          ],
          [
           "CA13645T1003"
          ],
          [
           "CA13645T1003"
          ],
          [
           "CA13645T1003"
          ],
          [
           "CA13645T1003"
          ],
          [
           "CA13645T1003"
          ],
          [
           "CA13645T1003"
          ],
          [
           "CA13645T1003"
          ],
          [
           "CA13645T1003"
          ],
          [
           "CA13645T1003"
          ],
          [
           "CA13645T1003"
          ],
          [
           "CA13645T1003"
          ]
         ],
         "hovertemplate": "ISIN=%{customdata[0]}<br>Quarter=%{x}<br>Value of % of NAV=%{y:.2}<extra></extra>",
         "legendgroup": "CA13645T1003",
         "marker": {
          "color": "#636efa",
          "pattern": {
           "shape": ""
          }
         },
         "name": "CA13645T1003",
         "orientation": "v",
         "showlegend": true,
         "textposition": "auto",
         "type": "bar",
         "x": [
          "2018-Q1",
          "2018-Q2",
          "2018-Q2",
          "2018-Q3",
          "2018-Q3",
          "2018-Q4",
          "2018-Q4",
          "2019-Q1",
          "2019-Q1",
          "2019-Q2",
          "2019-Q2",
          "2019-Q3",
          "2019-Q3",
          "2019-Q4",
          "2019-Q4",
          "2020-Q1",
          "2020-Q1",
          "2020-Q2",
          "2020-Q2",
          "2020-Q3",
          "2020-Q3",
          "2020-Q4",
          "2020-Q4",
          "2021-Q1",
          "2021-Q1",
          "2021-Q2",
          "2021-Q2",
          "2021-Q3",
          "2021-Q3",
          "2021-Q4",
          "2021-Q4",
          "2022-Q1",
          "2022-Q1",
          "2022-Q2",
          "2022-Q2",
          "2022-Q3",
          "2022-Q3",
          "2022-Q3"
         ],
         "xaxis": "x",
         "y": {
          "bdata": "HF6BtUkXTz9+rNmQRDs+P2unJX7caZU/fqGJYsFyiT/Jz6emZpKiP/2GPOmHlJg/W/HdKu4+qD9cmTT/nm6YPzDXPMwAEq0/6ImgO4D+mT9PrBGLefOvP73nPRs5NJg/tNvcprNhrz8hYUig5SCZP2s2ZmQPmLA/BFKLRozonD+iiPcOO7azPxWKmX+3jZk/WMhLi/MssT9yQp48ZfGbP8yipDZn1bI/s+7ChVk0mz9BYXth/l2yPxqrB73piJw/SEK0nCdmsz/RilZb0LGZP8OGjAfVVLE/hMHnKDexlT+Xxp0dJ1etP0Wl+B6tuZY/YY6Ius6yrj/UFhWK7MmaPwSDgfoxEbI/2/CJnxVAsj9OScoZhAubP4hslqOEzWM/xdEFXrHJmT8c+IhGQg+zPw==",
          "dtype": "f8"
         },
         "yaxis": "y"
        },
        {
         "customdata": [
          [
           "US16119P1084"
          ],
          [
           "US16119P1084"
          ],
          [
           "US16119P1084"
          ],
          [
           "US16119P1084"
          ],
          [
           "US16119P1084"
          ],
          [
           "US16119P1084"
          ],
          [
           "US16119P1084"
          ],
          [
           "US16119P1084"
          ],
          [
           "US16119P1084"
          ],
          [
           "US16119P1084"
          ],
          [
           "US16119P1084"
          ],
          [
           "US16119P1084"
          ],
          [
           "US16119P1084"
          ],
          [
           "US16119P1084"
          ],
          [
           "US16119P1084"
          ],
          [
           "US16119P1084"
          ],
          [
           "US16119P1084"
          ],
          [
           "US16119P1084"
          ],
          [
           "US16119P1084"
          ],
          [
           "US16119P1084"
          ],
          [
           "US16119P1084"
          ],
          [
           "US16119P1084"
          ],
          [
           "US16119P1084"
          ],
          [
           "US16119P1084"
          ],
          [
           "US16119P1084"
          ],
          [
           "US16119P1084"
          ],
          [
           "US16119P1084"
          ],
          [
           "US16119P1084"
          ]
         ],
         "hovertemplate": "ISIN=%{customdata[0]}<br>Quarter=%{x}<br>Value of % of NAV=%{y:.2}<extra></extra>",
         "legendgroup": "US16119P1084",
         "marker": {
          "color": "#EF553B",
          "pattern": {
           "shape": ""
          }
         },
         "name": "US16119P1084",
         "orientation": "v",
         "showlegend": true,
         "textposition": "auto",
         "type": "bar",
         "x": [
          "2018-Q1",
          "2018-Q2",
          "2018-Q3",
          "2018-Q4",
          "2019-Q1",
          "2019-Q2",
          "2019-Q3",
          "2019-Q3",
          "2019-Q4",
          "2019-Q4",
          "2020-Q1",
          "2020-Q1",
          "2020-Q2",
          "2020-Q2",
          "2020-Q3",
          "2020-Q3",
          "2020-Q4",
          "2020-Q4",
          "2021-Q1",
          "2021-Q1",
          "2021-Q2",
          "2021-Q3",
          "2021-Q3",
          "2021-Q3",
          "2021-Q4",
          "2021-Q4",
          "2021-Q4",
          "2022-Q1"
         ],
         "xaxis": "x",
         "y": {
          "bdata": "mRPrLCOPxT+ci1eiJ9HGPyAL/9fvjcg/aI2cKdqSxT/3EfGhqyjCPz+Ddp/2EcI/OIZiV1kYwD9hP07YIdmXP12qZyO0bZk/yS0b2mQpwT+zE4T2pYyeP/c4Nd81WsU/bJ4oSFACmz++VQxCu+DCPwOPInnFMcU/BL/ehMpSnj9duvF47jLDP0DGBVrrd5s/ZrhqlwiQmD8AhU/e/irBP87rAb/oSsU/vL4XhL4OSj8leimrC6uZP9hG58RIF8I/H1zIRFQgRj+oaH4NrMuVP0V5zPCj6Lw/nguw581Imz8=",
          "dtype": "f8"
         },
         "yaxis": "y"
        },
        {
         "customdata": [
          [
           "US20030N1019"
          ]
         ],
         "hovertemplate": "ISIN=%{customdata[0]}<br>Quarter=%{x}<br>Value of % of NAV=%{y:.2}<extra></extra>",
         "legendgroup": "US20030N1019",
         "marker": {
          "color": "#00cc96",
          "pattern": {
           "shape": ""
          }
         },
         "name": "US20030N1019",
         "orientation": "v",
         "showlegend": true,
         "textposition": "auto",
         "type": "bar",
         "x": [
          "2018-Q1"
         ],
         "xaxis": "x",
         "y": {
          "bdata": "laMXY9uLlz8=",
          "dtype": "f8"
         },
         "yaxis": "y"
        },
        {
         "customdata": [
          [
           "US2058871029"
          ]
         ],
         "hovertemplate": "ISIN=%{customdata[0]}<br>Quarter=%{x}<br>Value of % of NAV=%{y:.2}<extra></extra>",
         "legendgroup": "US2058871029",
         "marker": {
          "color": "#ab63fa",
          "pattern": {
           "shape": ""
          }
         },
         "name": "US2058871029",
         "orientation": "v",
         "showlegend": true,
         "textposition": "auto",
         "type": "bar",
         "x": [
          "2018-Q1"
         ],
         "xaxis": "x",
         "y": {
          "bdata": "eOCGJBv6gL8=",
          "dtype": "f8"
         },
         "yaxis": "y"
        },
        {
         "customdata": [
          [
           "FR0010533075"
          ],
          [
           "FR0010533075"
          ],
          [
           "FR0010533075"
          ],
          [
           "FR0010533075"
          ],
          [
           "FR0010533075"
          ],
          [
           "FR0010533075"
          ],
          [
           "FR0010533075"
          ],
          [
           "FR0010533075"
          ],
          [
           "FR0010533075"
          ],
          [
           "FR0010533075"
          ],
          [
           "FR0010533075"
          ],
          [
           "FR0010533075"
          ],
          [
           "FR0010533075"
          ],
          [
           "FR0010533075"
          ],
          [
           "FR0010533075"
          ],
          [
           "FR0010533075"
          ],
          [
           "FR0010533075"
          ],
          [
           "FR0010533075"
          ],
          [
           "FR0010533075"
          ],
          [
           "FR0010533075"
          ],
          [
           "FR0010533075"
          ],
          [
           "FR0010533075"
          ],
          [
           "FR0010533075"
          ],
          [
           "FR0010533075"
          ],
          [
           "FR0010533075"
          ],
          [
           "FR0010533075"
          ],
          [
           "FR0010533075"
          ],
          [
           "FR0010533075"
          ],
          [
           "FR0010533075"
          ],
          [
           "FR0010533075"
          ],
          [
           "FR0010533075"
          ],
          [
           "FR0010533075"
          ],
          [
           "FR0010533075"
          ],
          [
           "FR0010533075"
          ],
          [
           "FR0010533075"
          ]
         ],
         "hovertemplate": "ISIN=%{customdata[0]}<br>Quarter=%{x}<br>Value of % of NAV=%{y:.2}<extra></extra>",
         "legendgroup": "FR0010533075",
         "marker": {
          "color": "#FFA15A",
          "pattern": {
           "shape": ""
          }
         },
         "name": "FR0010533075",
         "orientation": "v",
         "showlegend": true,
         "textposition": "auto",
         "type": "bar",
         "x": [
          "2018-Q1",
          "2018-Q1",
          "2018-Q2",
          "2018-Q2",
          "2018-Q3",
          "2018-Q3",
          "2018-Q4",
          "2018-Q4",
          "2019-Q1",
          "2019-Q2",
          "2019-Q3",
          "2019-Q3",
          "2019-Q4",
          "2019-Q4",
          "2020-Q1",
          "2020-Q1",
          "2020-Q2",
          "2020-Q2",
          "2020-Q3",
          "2020-Q3",
          "2020-Q3",
          "2020-Q4",
          "2020-Q4",
          "2020-Q4",
          "2021-Q1",
          "2021-Q1",
          "2021-Q1",
          "2021-Q2",
          "2021-Q2",
          "2021-Q2",
          "2021-Q3",
          "2021-Q4",
          "2022-Q1",
          "2022-Q2",
          "2022-Q3"
         ],
         "xaxis": "x",
         "y": {
          "bdata": "QQIxcFhxpD/EApXjfmBcP1sbV09DgaE/i1DvCQ9IWD+aiBNdnaKfPzHYSTXi8FU/Bm0Bz4BIoj9li2LkbVxZP3rU+1Dn1aE/kuaHmC5soT9amoE85WCgP0IsUnxe9jA//VKD6oktoT88I3vITsoxP08KhqN5K6A/qBiEGdS6Qz9+p7EqB62eP3J7nMBKv0E/9cclVe+jmz8EZSQebWsSP6USVXqVsD4/XLJlX1Rtnj/1ai+mIBAUP5Yx30HEtkA/r58lvlnWmT8CHQS/rGI8PzMWm7VeCRE/VjPpq+ZRlz/O4/Sk3cAOPzSu8AOrnjk/jc06mqfZlz8raFw0u+CXPzs0wzSYzJo/Dvku1Owwnz/CSrJfViWePw==",
          "dtype": "f8"
         },
         "yaxis": "y"
        },
        {
         "customdata": [
          [
           "US4404521001"
          ],
          [
           "US4404521001"
          ],
          [
           "US4404521001"
          ],
          [
           "US4404521001"
          ],
          [
           "US4404521001"
          ],
          [
           "US4404521001"
          ],
          [
           "US4404521001"
          ],
          [
           "US4404521001"
          ],
          [
           "US4404521001"
          ],
          [
           "US4404521001"
          ],
          [
           "US4404521001"
          ],
          [
           "US4404521001"
          ],
          [
           "US4404521001"
          ],
          [
           "US4404521001"
          ],
          [
           "US4404521001"
          ],
          [
           "US4404521001"
          ],
          [
           "US4404521001"
          ],
          [
           "US4404521001"
          ]
         ],
         "hovertemplate": "ISIN=%{customdata[0]}<br>Quarter=%{x}<br>Value of % of NAV=%{y:.2}<extra></extra>",
         "legendgroup": "US4404521001",
         "marker": {
          "color": "#19d3f3",
          "pattern": {
           "shape": ""
          }
         },
         "name": "US4404521001",
         "orientation": "v",
         "showlegend": true,
         "textposition": "auto",
         "type": "bar",
         "x": [
          "2018-Q1",
          "2018-Q2",
          "2018-Q3",
          "2018-Q4",
          "2019-Q1",
          "2019-Q2",
          "2019-Q3",
          "2019-Q4",
          "2019-Q4",
          "2020-Q1",
          "2020-Q2",
          "2020-Q3",
          "2020-Q4",
          "2021-Q1",
          "2021-Q2",
          "2021-Q3",
          "2021-Q4",
          "2022-Q1"
         ],
         "xaxis": "x",
         "y": {
          "bdata": "C2T86JHCVL9tOA73gF5pv2zjWR9NFWq/z5EWk2qUcL+OcIobfFBsvy7N5VfrN32/Q3Hmq8tifr9Gi7YLIiJ5v3UkrwTxF0q/iEG55f1chr+Hf1J4W0+OvybBrVF+Ao2/PDVtqXwtiL/7Q4SxHcOHv7bcWulPF4W/11eNdRYSgr/Bai06mmKEv0lmqCHtenG/",
          "dtype": "f8"
         },
         "yaxis": "y"
        },
        {
         "customdata": [
          [
           "AU000000IFN8"
          ],
          [
           "AU000000IFN8"
          ],
          [
           "AU000000IFN8"
          ],
          [
           "AU000000IFN8"
          ],
          [
           "AU000000IFN8"
          ],
          [
           "AU000000IFN8"
          ],
          [
           "AU000000IFN8"
          ],
          [
           "AU000000IFN8"
          ],
          [
           "AU000000IFN8"
          ],
          [
           "AU000000IFN8"
          ]
         ],
         "hovertemplate": "ISIN=%{customdata[0]}<br>Quarter=%{x}<br>Value of % of NAV=%{y:.2}<extra></extra>",
         "legendgroup": "AU000000IFN8",
         "marker": {
          "color": "#FF6692",
          "pattern": {
           "shape": ""
          }
         },
         "name": "AU000000IFN8",
         "orientation": "v",
         "showlegend": true,
         "textposition": "auto",
         "type": "bar",
         "x": [
          "2018-Q1",
          "2018-Q2",
          "2018-Q3",
          "2018-Q4",
          "2019-Q1",
          "2019-Q2",
          "2019-Q3",
          "2019-Q4",
          "2020-Q1",
          "2020-Q2"
         ],
         "xaxis": "x",
         "y": {
          "bdata": "fxwoL6kabT9OCvU6zTVsP/qBP3BQ6Wc/Dd+4MzAqZD9FKJr/+ERfP6hDNB8A3l4/iWmg2wjOZD949eOEv7tiPxlA2wtEP10/awpi+EWCaz8=",
          "dtype": "f8"
         },
         "yaxis": "y"
        },
        {
         "customdata": [
          [
           "US4878361082"
          ],
          [
           "US4878361082"
          ]
         ],
         "hovertemplate": "ISIN=%{customdata[0]}<br>Quarter=%{x}<br>Value of % of NAV=%{y:.2}<extra></extra>",
         "legendgroup": "US4878361082",
         "marker": {
          "color": "#B6E880",
          "pattern": {
           "shape": ""
          }
         },
         "name": "US4878361082",
         "orientation": "v",
         "showlegend": true,
         "textposition": "auto",
         "type": "bar",
         "x": [
          "2018-Q1",
          "2018-Q2"
         ],
         "xaxis": "x",
         "y": {
          "bdata": "F0U+3Veieb90CKJlj+Nhvw==",
          "dtype": "f8"
         },
         "yaxis": "y"
        },
        {
         "customdata": [
          [
           "US5007541064"
          ]
         ],
         "hovertemplate": "ISIN=%{customdata[0]}<br>Quarter=%{x}<br>Value of % of NAV=%{y:.2}<extra></extra>",
         "legendgroup": "US5007541064",
         "marker": {
          "color": "#FF97FF",
          "pattern": {
           "shape": ""
          }
         },
         "name": "US5007541064",
         "orientation": "v",
         "showlegend": true,
         "textposition": "auto",
         "type": "bar",
         "x": [
          "2018-Q1"
         ],
         "xaxis": "x",
         "y": {
          "bdata": "x+7/YUpRQb8=",
          "dtype": "f8"
         },
         "yaxis": "y"
        },
        {
         "customdata": [
          [
           "GB00B0SWJX34"
          ],
          [
           "GB00B0SWJX34"
          ],
          [
           "GB00B0SWJX34"
          ]
         ],
         "hovertemplate": "ISIN=%{customdata[0]}<br>Quarter=%{x}<br>Value of % of NAV=%{y:.2}<extra></extra>",
         "legendgroup": "GB00B0SWJX34",
         "marker": {
          "color": "#FECB52",
          "pattern": {
           "shape": ""
          }
         },
         "name": "GB00B0SWJX34",
         "orientation": "v",
         "showlegend": true,
         "textposition": "auto",
         "type": "bar",
         "x": [
          "2018-Q1",
          "2018-Q2",
          "2018-Q2"
         ],
         "xaxis": "x",
         "y": {
          "bdata": "0isv35vFrT8UJUtTAhqrP9C9wYJvUG6/",
          "dtype": "f8"
         },
         "yaxis": "y"
        },
        {
         "customdata": [
          [
           "US5949181045"
          ],
          [
           "US5949181045"
          ],
          [
           "US5949181045"
          ],
          [
           "US5949181045"
          ],
          [
           "US5949181045"
          ],
          [
           "US5949181045"
          ],
          [
           "US5949181045"
          ],
          [
           "US5949181045"
          ],
          [
           "US5949181045"
          ],
          [
           "US5949181045"
          ],
          [
           "US5949181045"
          ],
          [
           "US5949181045"
          ],
          [
           "US5949181045"
          ],
          [
           "US5949181045"
          ],
          [
           "US5949181045"
          ],
          [
           "US5949181045"
          ],
          [
           "US5949181045"
          ],
          [
           "US5949181045"
          ],
          [
           "US5949181045"
          ],
          [
           "US5949181045"
          ],
          [
           "US5949181045"
          ],
          [
           "US5949181045"
          ],
          [
           "US5949181045"
          ],
          [
           "US5949181045"
          ],
          [
           "US5949181045"
          ],
          [
           "US5949181045"
          ],
          [
           "US5949181045"
          ],
          [
           "US5949181045"
          ],
          [
           "US5949181045"
          ],
          [
           "US5949181045"
          ],
          [
           "US5949181045"
          ],
          [
           "US5949181045"
          ],
          [
           "US5949181045"
          ],
          [
           "US5949181045"
          ],
          [
           "US5949181045"
          ],
          [
           "US5949181045"
          ],
          [
           "US5949181045"
          ],
          [
           "US5949181045"
          ],
          [
           "US5949181045"
          ],
          [
           "US5949181045"
          ],
          [
           "US5949181045"
          ],
          [
           "US5949181045"
          ],
          [
           "US5949181045"
          ],
          [
           "US5949181045"
          ],
          [
           "US5949181045"
          ],
          [
           "US5949181045"
          ],
          [
           "US5949181045"
          ],
          [
           "US5949181045"
          ],
          [
           "US5949181045"
          ],
          [
           "US5949181045"
          ],
          [
           "US5949181045"
          ],
          [
           "US5949181045"
          ],
          [
           "US5949181045"
          ],
          [
           "US5949181045"
          ],
          [
           "US5949181045"
          ],
          [
           "US5949181045"
          ],
          [
           "US5949181045"
          ]
         ],
         "hovertemplate": "ISIN=%{customdata[0]}<br>Quarter=%{x}<br>Value of % of NAV=%{y:.2}<extra></extra>",
         "legendgroup": "US5949181045",
         "marker": {
          "color": "#636efa",
          "pattern": {
           "shape": ""
          }
         },
         "name": "US5949181045",
         "orientation": "v",
         "showlegend": true,
         "textposition": "auto",
         "type": "bar",
         "x": [
          "2018-Q1",
          "2018-Q2",
          "2018-Q3",
          "2018-Q4",
          "2019-Q1",
          "2019-Q2",
          "2019-Q3",
          "2019-Q3",
          "2019-Q4",
          "2019-Q4",
          "2020-Q1",
          "2020-Q1",
          "2020-Q1",
          "2020-Q2",
          "2020-Q2",
          "2020-Q2",
          "2020-Q3",
          "2020-Q3",
          "2020-Q3",
          "2020-Q3",
          "2020-Q4",
          "2020-Q4",
          "2020-Q4",
          "2021-Q1",
          "2021-Q1",
          "2021-Q1",
          "2021-Q2",
          "2021-Q3",
          "2021-Q3",
          "2021-Q3",
          "2021-Q4",
          "2021-Q4",
          "2021-Q4",
          "2022-Q1",
          "2022-Q2",
          "2022-Q2",
          "2022-Q2",
          "2022-Q3",
          "2022-Q3",
          "2022-Q3",
          "2022-Q4",
          "2022-Q4",
          "2022-Q4",
          "2023-Q1",
          "2023-Q1",
          "2023-Q1",
          "2023-Q2",
          "2023-Q2",
          "2023-Q2",
          "2023-Q4",
          "2024-Q1",
          "2024-Q2",
          "2024-Q2",
          "2024-Q2",
          "2024-Q3",
          "2024-Q4",
          "2025-Q1"
         ],
         "xaxis": "x",
         "y": {
          "bdata": "cUZcA/51sT9+6jDJHtCwP/SChvU777I/L6+gLgJHvj8zsIiDpRe3P5cXovpWxbY/QoLB/0rBkT+H7/ntHsCkP88gU+N6PpI/BETLjm1SpT/ReFAdWHGxP9M4JlXS3YQ/sb0OsJ9emD+8WUSVo8yxP9S+waUoAZg/kTocIk5dhD+sA2aaA9SwP/udq0W/TYM/7bmrng/Blj9YoUdRpPQavz8TmNEUkpQ/cSd5Vjltrj9BEEEDiHOBPz0VWD3i55Q/HkxUl1K8gT9pk+EimAG4P/lb05gBDMA/0wGi6W3Lgj9qm1cTcyeWPz6nbCbB0LM/10F/s9/hdz9M/5mtJwuZPywv0cggkLc/69Lm+iL9vT8g4QlNYlt2P8Z2xI6tcZc/QOGbtRePuj8V0EFFiC12P2MS6caYQZc/yZEGsE+8uj8uJN0c03p0P4ZBn3zAeZU/XBzSrM5BvD/BTU81yKx1PyCJUxCWupY/DBCduAL5sj/iFny1O4x3PzreIefrb4w/Qy7v9v4DsT8c8LIF1pyzP+VU9MlQgLM/j+tlKdwfbz+f93Wd2OSAP+nYjK1ueLI/3yTZYtKttT+nyYGpsGy5P1rWCj/hbbo/",
          "dtype": "f8"
         },
         "yaxis": "y"
        },
        {
         "customdata": [
          [
           "US61166W1018"
          ]
         ],
         "hovertemplate": "ISIN=%{customdata[0]}<br>Quarter=%{x}<br>Value of % of NAV=%{y:.2}<extra></extra>",
         "legendgroup": "US61166W1018",
         "marker": {
          "color": "#EF553B",
          "pattern": {
           "shape": ""
          }
         },
         "name": "US61166W1018",
         "orientation": "v",
         "showlegend": true,
         "textposition": "auto",
         "type": "bar",
         "x": [
          "2018-Q1"
         ],
         "xaxis": "x",
         "y": {
          "bdata": "AAoiIZXDaT8=",
          "dtype": "f8"
         },
         "yaxis": "y"
        },
        {
         "customdata": [
          [
           "US6153691059"
          ],
          [
           "US6153691059"
          ],
          [
           "US6153691059"
          ],
          [
           "US6153691059"
          ],
          [
           "US6153691059"
          ],
          [
           "US6153691059"
          ],
          [
           "US6153691059"
          ],
          [
           "US6153691059"
          ],
          [
           "US6153691059"
          ],
          [
           "US6153691059"
          ],
          [
           "US6153691059"
          ],
          [
           "US6153691059"
          ],
          [
           "US6153691059"
          ],
          [
           "US6153691059"
          ],
          [
           "US6153691059"
          ],
          [
           "US6153691059"
          ],
          [
           "US6153691059"
          ],
          [
           "US6153691059"
          ],
          [
           "US6153691059"
          ],
          [
           "US6153691059"
          ],
          [
           "US6153691059"
          ],
          [
           "US6153691059"
          ],
          [
           "US6153691059"
          ],
          [
           "US6153691059"
          ],
          [
           "US6153691059"
          ],
          [
           "US6153691059"
          ],
          [
           "US6153691059"
          ],
          [
           "US6153691059"
          ],
          [
           "US6153691059"
          ],
          [
           "US6153691059"
          ],
          [
           "US6153691059"
          ],
          [
           "US6153691059"
          ],
          [
           "US6153691059"
          ],
          [
           "US6153691059"
          ],
          [
           "US6153691059"
          ],
          [
           "US6153691059"
          ],
          [
           "US6153691059"
          ],
          [
           "US6153691059"
          ],
          [
           "US6153691059"
          ],
          [
           "US6153691059"
          ],
          [
           "US6153691059"
          ],
          [
           "US6153691059"
          ],
          [
           "US6153691059"
          ],
          [
           "US6153691059"
          ],
          [
           "US6153691059"
          ],
          [
           "US6153691059"
          ],
          [
           "US6153691059"
          ],
          [
           "US6153691059"
          ],
          [
           "US6153691059"
          ],
          [
           "US6153691059"
          ],
          [
           "US6153691059"
          ]
         ],
         "hovertemplate": "ISIN=%{customdata[0]}<br>Quarter=%{x}<br>Value of % of NAV=%{y:.2}<extra></extra>",
         "legendgroup": "US6153691059",
         "marker": {
          "color": "#00cc96",
          "pattern": {
           "shape": ""
          }
         },
         "name": "US6153691059",
         "orientation": "v",
         "showlegend": true,
         "textposition": "auto",
         "type": "bar",
         "x": [
          "2018-Q1",
          "2018-Q2",
          "2018-Q3",
          "2018-Q4",
          "2019-Q1",
          "2019-Q2",
          "2019-Q3",
          "2019-Q3",
          "2019-Q4",
          "2019-Q4",
          "2020-Q1",
          "2020-Q1",
          "2020-Q2",
          "2020-Q2",
          "2020-Q3",
          "2020-Q3",
          "2020-Q4",
          "2020-Q4",
          "2021-Q1",
          "2021-Q1",
          "2021-Q2",
          "2021-Q3",
          "2021-Q3",
          "2021-Q4",
          "2021-Q4",
          "2022-Q1",
          "2022-Q2",
          "2022-Q2",
          "2022-Q3",
          "2022-Q3",
          "2022-Q3",
          "2022-Q4",
          "2022-Q4",
          "2022-Q4",
          "2023-Q1",
          "2023-Q1",
          "2023-Q1",
          "2023-Q2",
          "2023-Q2",
          "2023-Q2",
          "2023-Q3",
          "2023-Q3",
          "2023-Q3",
          "2023-Q4",
          "2024-Q1",
          "2024-Q2",
          "2024-Q2",
          "2024-Q2",
          "2024-Q3",
          "2024-Q4",
          "2025-Q1"
         ],
         "xaxis": "x",
         "y": {
          "bdata": "SAACrRMHjT+oRiIM7FqLP6M6c69Nso8/ZEDREEqcpT/uy/IsNzenP2S+ycvuJac/YESK+GI6fD+q61/LVuCjP+TcPzo3J6M/v56y/5WvhT+AnoGTVCiZPxeIZUr5TqQ/IlDhNQy3mD9zIRyrhvOjP8ne5JFOTqM/NYeKF2Hqlz8bm+/lDXmUP0Ltd+DahqA/wrUU1cExlD/O7V0mD1egP/ZyG3Jlfqw/mqraxoVIlT9J2AOZnjihP2WDzlUvsHA/wOP7lQ/0qj8L9K/IfMeqP2I3m2W6vG8/NWgqT9Blqz859LSn7aNiP/PB4CqhCG8/g0BNTxigqT9pXXaDeyhjP/aQwY1Q5W8/U9NWxrnirT/F1vQnktduP1lyn81GgIU/lzPr6WHZrD+2Kl6Bvh1wP9EJnSFmeIY//oAWCV62rj+TsHqFZsxuP6U3q0B9eIU/77ODlbjZrD9wsEIXcHO2P4YlnCl+WLQ/iIRuBKdxcD8pKZ/AY+2GP+ssZwo13bQ/aRiAQTiTuT/jzHlaqCm6P52WmAEhS7g/",
          "dtype": "f8"
         },
         "yaxis": "y"
        },
        {
         "customdata": [
          [
           "US6558441084"
          ],
          [
           "US6558441084"
          ],
          [
           "US6558441084"
          ]
         ],
         "hovertemplate": "ISIN=%{customdata[0]}<br>Quarter=%{x}<br>Value of % of NAV=%{y:.2}<extra></extra>",
         "legendgroup": "US6558441084",
         "marker": {
          "color": "#ab63fa",
          "pattern": {
           "shape": ""
          }
         },
         "name": "US6558441084",
         "orientation": "v",
         "showlegend": true,
         "textposition": "auto",
         "type": "bar",
         "x": [
          "2018-Q1",
          "2018-Q2",
          "2018-Q3"
         ],
         "xaxis": "x",
         "y": {
          "bdata": "cTjq6oGrcj/IeSA0L7CTPytpT+j7/J8/",
          "dtype": "f8"
         },
         "yaxis": "y"
        },
        {
         "customdata": [
          [
           "US6819191064"
          ],
          [
           "US6819191064"
          ],
          [
           "US6819191064"
          ],
          [
           "US6819191064"
          ],
          [
           "US6819191064"
          ],
          [
           "US6819191064"
          ],
          [
           "US6819191064"
          ],
          [
           "US6819191064"
          ],
          [
           "US6819191064"
          ],
          [
           "US6819191064"
          ],
          [
           "US6819191064"
          ],
          [
           "US6819191064"
          ],
          [
           "US6819191064"
          ]
         ],
         "hovertemplate": "ISIN=%{customdata[0]}<br>Quarter=%{x}<br>Value of % of NAV=%{y:.2}<extra></extra>",
         "legendgroup": "US6819191064",
         "marker": {
          "color": "#FFA15A",
          "pattern": {
           "shape": ""
          }
         },
         "name": "US6819191064",
         "orientation": "v",
         "showlegend": true,
         "textposition": "auto",
         "type": "bar",
         "x": [
          "2018-Q1",
          "2018-Q2",
          "2018-Q3",
          "2018-Q4",
          "2019-Q1",
          "2019-Q2",
          "2019-Q3",
          "2019-Q4",
          "2020-Q1",
          "2020-Q2",
          "2020-Q3",
          "2020-Q4",
          "2021-Q1"
         ],
         "xaxis": "x",
         "y": {
          "bdata": "XICjAZ/2Xb8TLQHh3QZcvzRay5QyRVi/3DLeWhmsXL/avQyAGlJ6v4YCQQd9Jom/7J4q1dcqh794MDKDV7eFvwsfRQuRp4O/0ldZszaRfb/Am9lH1ZV4v7CCikeKe3q/vXr/cCeddL8=",
          "dtype": "f8"
         },
         "yaxis": "y"
        },
        {
         "customdata": [
          [
           "FR0000131906"
          ]
         ],
         "hovertemplate": "ISIN=%{customdata[0]}<br>Quarter=%{x}<br>Value of % of NAV=%{y:.2}<extra></extra>",
         "legendgroup": "FR0000131906",
         "marker": {
          "color": "#19d3f3",
          "pattern": {
           "shape": ""
          }
         },
         "name": "FR0000131906",
         "orientation": "v",
         "showlegend": true,
         "textposition": "auto",
         "type": "bar",
         "x": [
          "2018-Q1"
         ],
         "xaxis": "x",
         "y": {
          "bdata": "P28v+wgsYT8=",
          "dtype": "f8"
         },
         "yaxis": "y"
        },
        {
         "customdata": [
          [
           "US78409V1044"
          ],
          [
           "US78409V1044"
          ],
          [
           "US78409V1044"
          ],
          [
           "US78409V1044"
          ],
          [
           "US78409V1044"
          ],
          [
           "US78409V1044"
          ],
          [
           "US78409V1044"
          ],
          [
           "US78409V1044"
          ],
          [
           "US78409V1044"
          ],
          [
           "US78409V1044"
          ],
          [
           "US78409V1044"
          ],
          [
           "US78409V1044"
          ],
          [
           "US78409V1044"
          ],
          [
           "US78409V1044"
          ],
          [
           "US78409V1044"
          ],
          [
           "US78409V1044"
          ],
          [
           "US78409V1044"
          ],
          [
           "US78409V1044"
          ],
          [
           "US78409V1044"
          ],
          [
           "US78409V1044"
          ],
          [
           "US78409V1044"
          ],
          [
           "US78409V1044"
          ],
          [
           "US78409V1044"
          ],
          [
           "US78409V1044"
          ],
          [
           "US78409V1044"
          ],
          [
           "US78409V1044"
          ],
          [
           "US78409V1044"
          ],
          [
           "US78409V1044"
          ],
          [
           "US78409V1044"
          ],
          [
           "US78409V1044"
          ],
          [
           "US78409V1044"
          ],
          [
           "US78409V1044"
          ],
          [
           "US78409V1044"
          ],
          [
           "US78409V1044"
          ],
          [
           "US78409V1044"
          ],
          [
           "US78409V1044"
          ],
          [
           "US78409V1044"
          ],
          [
           "US78409V1044"
          ],
          [
           "US78409V1044"
          ],
          [
           "US78409V1044"
          ],
          [
           "US78409V1044"
          ],
          [
           "US78409V1044"
          ],
          [
           "US78409V1044"
          ],
          [
           "US78409V1044"
          ],
          [
           "US78409V1044"
          ],
          [
           "US78409V1044"
          ],
          [
           "US78409V1044"
          ],
          [
           "US78409V1044"
          ],
          [
           "US78409V1044"
          ],
          [
           "US78409V1044"
          ],
          [
           "US78409V1044"
          ],
          [
           "US78409V1044"
          ],
          [
           "US78409V1044"
          ],
          [
           "US78409V1044"
          ],
          [
           "US78409V1044"
          ],
          [
           "US78409V1044"
          ]
         ],
         "hovertemplate": "ISIN=%{customdata[0]}<br>Quarter=%{x}<br>Value of % of NAV=%{y:.2}<extra></extra>",
         "legendgroup": "US78409V1044",
         "marker": {
          "color": "#FF6692",
          "pattern": {
           "shape": ""
          }
         },
         "name": "US78409V1044",
         "orientation": "v",
         "showlegend": true,
         "textposition": "auto",
         "type": "bar",
         "x": [
          "2018-Q1",
          "2018-Q2",
          "2018-Q3",
          "2018-Q4",
          "2019-Q1",
          "2019-Q2",
          "2019-Q3",
          "2019-Q3",
          "2019-Q4",
          "2019-Q4",
          "2020-Q1",
          "2020-Q1",
          "2020-Q2",
          "2020-Q2",
          "2020-Q3",
          "2020-Q3",
          "2020-Q4",
          "2020-Q4",
          "2020-Q4",
          "2021-Q1",
          "2021-Q1",
          "2021-Q1",
          "2021-Q2",
          "2021-Q3",
          "2021-Q3",
          "2021-Q3",
          "2021-Q4",
          "2021-Q4",
          "2021-Q4",
          "2022-Q1",
          "2022-Q2",
          "2022-Q2",
          "2022-Q2",
          "2022-Q3",
          "2022-Q3",
          "2022-Q3",
          "2022-Q4",
          "2022-Q4",
          "2022-Q4",
          "2023-Q1",
          "2023-Q1",
          "2023-Q1",
          "2023-Q2",
          "2023-Q2",
          "2023-Q2",
          "2023-Q3",
          "2023-Q3",
          "2023-Q3",
          "2023-Q4",
          "2024-Q1",
          "2024-Q2",
          "2024-Q2",
          "2024-Q2",
          "2024-Q3",
          "2024-Q4",
          "2025-Q1"
         ],
         "xaxis": "x",
         "y": {
          "bdata": "yguY8k2ucz+HTIIxw7dyP8CySG7SanE/uowOQ/Shkj+1IqlF7VWSP2HEqXvXVpI/m+wcSfETfT8U66lyt32HPy6Z7d0SXH0/bTYyL/23hz9EmjhfcieTPzWYj+rGmIE/cEDTbdbkgT/RXb0ZPXqTPzHwH8YzjZM/mz3qZUL2gT9Y7P69O/97P83wykCMiI0/+b4JLmMfPj+PEtfiMQA/PwTvAWIt0Hw//3x5UGLJpz+BbWATV4usP9ap6hNsikA//Hvzhz2/fj9zDlFGYrGkPzUAreuraEE/mhzRwC8ugD87q9J/shGgP7P6YtHBJq4/ywyRNe97Pj89zYrxP1V8P3CCwv03YbE/a+xPp/gTfD9/4ykoszU+PzWAzBwtObE/xrfDEJO3PT9nG6n4vp57P9qKy3Uc0bE/g4FgkyruOj9CF3TxrQd5P1Zr9jDMa7A/VIuLagnNPD8vfTgpwsR6P8OTq1/Lj7E/qjNlTVCWOz/YqOol9qN5P9eAzqFATbA/oFgsXPXVsj9le5DeySqwP/RaftzYAWs/5hjBs/gZeT9iJnNqGRuyPw5z7fm2xrU/EnbBPsSHtT+VpA11j7u0Pw==",
          "dtype": "f8"
         },
         "yaxis": "y"
        },
        {
         "customdata": [
          [
           "FR0000073272"
          ],
          [
           "FR0000073272"
          ],
          [
           "FR0000073272"
          ],
          [
           "FR0000073272"
          ],
          [
           "FR0000073272"
          ],
          [
           "FR0000073272"
          ],
          [
           "FR0000073272"
          ],
          [
           "FR0000073272"
          ],
          [
           "FR0000073272"
          ],
          [
           "FR0000073272"
          ],
          [
           "FR0000073272"
          ],
          [
           "FR0000073272"
          ],
          [
           "FR0000073272"
          ],
          [
           "FR0000073272"
          ],
          [
           "FR0000073272"
          ],
          [
           "FR0000073272"
          ],
          [
           "FR0000073272"
          ],
          [
           "FR0000073272"
          ],
          [
           "FR0000073272"
          ],
          [
           "FR0000073272"
          ],
          [
           "FR0000073272"
          ],
          [
           "FR0000073272"
          ],
          [
           "FR0000073272"
          ],
          [
           "FR0000073272"
          ],
          [
           "FR0000073272"
          ],
          [
           "FR0000073272"
          ],
          [
           "FR0000073272"
          ],
          [
           "FR0000073272"
          ],
          [
           "FR0000073272"
          ]
         ],
         "hovertemplate": "ISIN=%{customdata[0]}<br>Quarter=%{x}<br>Value of % of NAV=%{y:.2}<extra></extra>",
         "legendgroup": "FR0000073272",
         "marker": {
          "color": "#B6E880",
          "pattern": {
           "shape": ""
          }
         },
         "name": "FR0000073272",
         "orientation": "v",
         "showlegend": true,
         "textposition": "auto",
         "type": "bar",
         "x": [
          "2018-Q1",
          "2018-Q2",
          "2018-Q3",
          "2018-Q4",
          "2019-Q1",
          "2019-Q2",
          "2019-Q3",
          "2019-Q4",
          "2020-Q1",
          "2020-Q2",
          "2020-Q3",
          "2020-Q4",
          "2021-Q1",
          "2021-Q2",
          "2021-Q3",
          "2021-Q4",
          "2022-Q1",
          "2022-Q2",
          "2022-Q3",
          "2022-Q4",
          "2023-Q1",
          "2023-Q2",
          "2023-Q3",
          "2023-Q4",
          "2024-Q1",
          "2024-Q2",
          "2024-Q3",
          "2024-Q4",
          "2025-Q1"
         ],
         "xaxis": "x",
         "y": {
          "bdata": "4t9Wj6OpuD9ylXVPAZi3P1jv0ppYTbk/kiuDCX1Vuz8Ud50Tjyq5P1xtSPl02rg/KmMyFGfAuT+65NttxN22P4TzlDr0x7M/BYglrEHksz/NBBIdgASyP3XzRbYYjbM/o9Mzl8vlrz87rjfanJ2sP0AO/DhMm6g/5Co2Y/z9pD8GCe83gaGlPw6bJ0K1+6c/kUDn1daMqD9jZvUK9tmxP1jXcYxXlrA/9RUDC54hsD9i1+EGFnazPykKawaQo7U/Snj7ZQmWuT/wVTPHble6PzLw9uk4U7s/Uybw8tnVvD8AOSAod4XAPw==",
          "dtype": "f8"
         },
         "yaxis": "y"
        },
        {
         "customdata": [
          [
           "US8873173038"
          ]
         ],
         "hovertemplate": "ISIN=%{customdata[0]}<br>Quarter=%{x}<br>Value of % of NAV=%{y:.2}<extra></extra>",
         "legendgroup": "US8873173038",
         "marker": {
          "color": "#FF97FF",
          "pattern": {
           "shape": ""
          }
         },
         "name": "US8873173038",
         "orientation": "v",
         "showlegend": true,
         "textposition": "auto",
         "type": "bar",
         "x": [
          "2018-Q1"
         ],
         "xaxis": "x",
         "y": {
          "bdata": "9v8P47eIpD8=",
          "dtype": "f8"
         },
         "yaxis": "y"
        },
        {
         "customdata": [
          [
           "US9078181081"
          ],
          [
           "US9078181081"
          ],
          [
           "US9078181081"
          ],
          [
           "US9078181081"
          ],
          [
           "US9078181081"
          ],
          [
           "US9078181081"
          ],
          [
           "US9078181081"
          ],
          [
           "US9078181081"
          ],
          [
           "US9078181081"
          ],
          [
           "US9078181081"
          ],
          [
           "US9078181081"
          ],
          [
           "US9078181081"
          ],
          [
           "US9078181081"
          ],
          [
           "US9078181081"
          ],
          [
           "US9078181081"
          ],
          [
           "US9078181081"
          ],
          [
           "US9078181081"
          ],
          [
           "US9078181081"
          ],
          [
           "US9078181081"
          ],
          [
           "US9078181081"
          ],
          [
           "US9078181081"
          ],
          [
           "US9078181081"
          ],
          [
           "US9078181081"
          ],
          [
           "US9078181081"
          ],
          [
           "US9078181081"
          ],
          [
           "US9078181081"
          ],
          [
           "US9078181081"
          ]
         ],
         "hovertemplate": "ISIN=%{customdata[0]}<br>Quarter=%{x}<br>Value of % of NAV=%{y:.2}<extra></extra>",
         "legendgroup": "US9078181081",
         "marker": {
          "color": "#FECB52",
          "pattern": {
           "shape": ""
          }
         },
         "name": "US9078181081",
         "orientation": "v",
         "showlegend": true,
         "textposition": "auto",
         "type": "bar",
         "x": [
          "2018-Q1",
          "2018-Q2",
          "2018-Q3",
          "2018-Q4",
          "2019-Q1",
          "2019-Q2",
          "2019-Q3",
          "2019-Q4",
          "2020-Q1",
          "2020-Q2",
          "2020-Q3",
          "2020-Q4",
          "2020-Q4",
          "2021-Q1",
          "2021-Q1",
          "2021-Q2",
          "2021-Q3",
          "2021-Q3",
          "2021-Q4",
          "2021-Q4",
          "2022-Q1",
          "2022-Q2",
          "2022-Q2",
          "2022-Q3",
          "2022-Q3",
          "2022-Q3",
          "2022-Q4"
         ],
         "xaxis": "x",
         "y": {
          "bdata": "ANw4inXwQT9ljxDAOYCJPyDBRKwTh6Q/AALheGNqrD/3u1v+6D+sPyP8mNM8jKA/ljZ9ZmKQnz/S8mAdwWGgP+Wp891sZKQ/joem7BqToj9kkHPAYNajP0w1XxNzFEM/VigacXmjoT+ayFYbHV1DPwF6zkKm5qE/WlOqqEGunj9Nr+c0r4U+P8xMiG/ezpo/QQEM2zOWQj/g5a1ZXGmhPxCXLSqu6KA/nfEv1g9KQz90BBTAXeWeP3M34ypFRkM/u7xLKU7/Yz/pYBkRX+idP9v7WuGhhP4+",
          "dtype": "f8"
         },
         "yaxis": "y"
        },
        {
         "customdata": [
          [
           "US92343V1044"
          ],
          [
           "US92343V1044"
          ]
         ],
         "hovertemplate": "ISIN=%{customdata[0]}<br>Quarter=%{x}<br>Value of % of NAV=%{y:.2}<extra></extra>",
         "legendgroup": "US92343V1044",
         "marker": {
          "color": "#636efa",
          "pattern": {
           "shape": ""
          }
         },
         "name": "US92343V1044",
         "orientation": "v",
         "showlegend": true,
         "textposition": "auto",
         "type": "bar",
         "x": [
          "2018-Q1",
          "2018-Q2"
         ],
         "xaxis": "x",
         "y": {
          "bdata": "uI6OepTYXL/hsQSt+Atbvw==",
          "dtype": "f8"
         },
         "yaxis": "y"
        },
        {
         "customdata": [
          [
           "DE0007664039"
          ],
          [
           "DE0007664039"
          ]
         ],
         "hovertemplate": "ISIN=%{customdata[0]}<br>Quarter=%{x}<br>Value of % of NAV=%{y:.2}<extra></extra>",
         "legendgroup": "DE0007664039",
         "marker": {
          "color": "#EF553B",
          "pattern": {
           "shape": ""
          }
         },
         "name": "DE0007664039",
         "orientation": "v",
         "showlegend": true,
         "textposition": "auto",
         "type": "bar",
         "x": [
          "2018-Q1",
          "2018-Q3"
         ],
         "xaxis": "x",
         "y": {
          "bdata": "7ZQu1wqxET/PuxW2Q6KQvw==",
          "dtype": "f8"
         },
         "yaxis": "y"
        },
        {
         "customdata": [
          [
           "US2546871060"
          ],
          [
           "US2546871060"
          ],
          [
           "US2546871060"
          ],
          [
           "US2546871060"
          ]
         ],
         "hovertemplate": "ISIN=%{customdata[0]}<br>Quarter=%{x}<br>Value of % of NAV=%{y:.2}<extra></extra>",
         "legendgroup": "US2546871060",
         "marker": {
          "color": "#00cc96",
          "pattern": {
           "shape": ""
          }
         },
         "name": "US2546871060",
         "orientation": "v",
         "showlegend": true,
         "textposition": "auto",
         "type": "bar",
         "x": [
          "2018-Q1",
          "2018-Q2",
          "2018-Q3",
          "2018-Q4"
         ],
         "xaxis": "x",
         "y": {
          "bdata": "sM/FK0qEvb/awFQw16XBv+3afH+C0b2/PRZf3yqtvr8=",
          "dtype": "f8"
         },
         "yaxis": "y"
        },
        {
         "customdata": [
          [
           "IT0003506190"
          ],
          [
           "IT0003506190"
          ],
          [
           "IT0003506190"
          ],
          [
           "IT0003506190"
          ],
          [
           "IT0003506190"
          ],
          [
           "IT0003506190"
          ],
          [
           "IT0003506190"
          ],
          [
           "IT0003506190"
          ],
          [
           "IT0003506190"
          ],
          [
           "IT0003506190"
          ],
          [
           "IT0003506190"
          ],
          [
           "IT0003506190"
          ],
          [
           "IT0003506190"
          ],
          [
           "IT0003506190"
          ],
          [
           "IT0003506190"
          ],
          [
           "IT0003506190"
          ],
          [
           "IT0003506190"
          ],
          [
           "IT0003506190"
          ],
          [
           "IT0003506190"
          ],
          [
           "IT0003506190"
          ],
          [
           "IT0003506190"
          ],
          [
           "IT0003506190"
          ],
          [
           "IT0003506190"
          ],
          [
           "IT0003506190"
          ],
          [
           "IT0003506190"
          ],
          [
           "IT0003506190"
          ],
          [
           "IT0003506190"
          ],
          [
           "IT0003506190"
          ],
          [
           "IT0003506190"
          ],
          [
           "IT0003506190"
          ],
          [
           "IT0003506190"
          ],
          [
           "IT0003506190"
          ],
          [
           "IT0003506190"
          ]
         ],
         "hovertemplate": "ISIN=%{customdata[0]}<br>Quarter=%{x}<br>Value of % of NAV=%{y:.2}<extra></extra>",
         "legendgroup": "IT0003506190",
         "marker": {
          "color": "#ab63fa",
          "pattern": {
           "shape": ""
          }
         },
         "name": "IT0003506190",
         "orientation": "v",
         "showlegend": true,
         "textposition": "auto",
         "type": "bar",
         "x": [
          "2018-Q1",
          "2018-Q2",
          "2018-Q3",
          "2018-Q4",
          "2019-Q1",
          "2019-Q2",
          "2019-Q3",
          "2019-Q3",
          "2019-Q4",
          "2019-Q4",
          "2020-Q1",
          "2020-Q1",
          "2020-Q2",
          "2020-Q2",
          "2020-Q3",
          "2020-Q3",
          "2020-Q3",
          "2020-Q4",
          "2020-Q4",
          "2020-Q4",
          "2021-Q1",
          "2021-Q1",
          "2021-Q1",
          "2021-Q2",
          "2021-Q2",
          "2021-Q3",
          "2021-Q3",
          "2021-Q3",
          "2021-Q4",
          "2021-Q4",
          "2021-Q4",
          "2022-Q1",
          "2022-Q1"
         ],
         "xaxis": "x",
         "y": {
          "bdata": "cGl41mlHsj+x6nUXnCmwP74WgIH2z7E/hY0BW6Oksz+ylZ6H9IazP9sAFjUroLI/hzEW8T3nWj9W77is1ECwP83jI6bIfFc/XA1GBRRhrD8Rb02bRflQP9KrATNFgqQ/EPrmwsDdTz9hhHxFOcGjPynPiyM3Hyw/8hxNx9HmYD8On8l0nMGhP1ngA/XaVaE/DZ5z3e03YD8hYSp6bK1VP6dw6Uc4TKE/Z3Y1HeouYD+5ZVH2X6FVP611DelPl1I/A0bYMBx5nz9lNUuNZSSgP8Wa4vSBEV0/4fK0GQABLj9PZKE3lwOgPxKsvnZu1lw/us3/4QXELT+R+rySdZ9hPwXEwSpmN5s/",
          "dtype": "f8"
         },
         "yaxis": "y"
        },
        {
         "customdata": [
          [
           "AU000000AZJ1"
          ],
          [
           "AU000000AZJ1"
          ],
          [
           "AU000000AZJ1"
          ]
         ],
         "hovertemplate": "ISIN=%{customdata[0]}<br>Quarter=%{x}<br>Value of % of NAV=%{y:.2}<extra></extra>",
         "legendgroup": "AU000000AZJ1",
         "marker": {
          "color": "#FFA15A",
          "pattern": {
           "shape": ""
          }
         },
         "name": "AU000000AZJ1",
         "orientation": "v",
         "showlegend": true,
         "textposition": "auto",
         "type": "bar",
         "x": [
          "2018-Q1",
          "2018-Q2",
          "2018-Q3"
         ],
         "xaxis": "x",
         "y": {
          "bdata": "ZRD0IHajtz9cUHfqAFWyPzcmaY8CwJo/",
          "dtype": "f8"
         },
         "yaxis": "y"
        },
        {
         "customdata": [
          [
           "BRCESPACNPB4"
          ],
          [
           "BRCESPACNPB4"
          ],
          [
           "BRCESPACNPB4"
          ],
          [
           "BRCESPACNPB4"
          ],
          [
           "BRCESPACNPB4"
          ],
          [
           "BRCESPACNPB4"
          ],
          [
           "BRCESPACNPB4"
          ],
          [
           "BRCESPACNPB4"
          ],
          [
           "BRCESPACNPB4"
          ],
          [
           "BRCESPACNPB4"
          ],
          [
           "BRCESPACNPB4"
          ],
          [
           "BRCESPACNPB4"
          ],
          [
           "BRCESPACNPB4"
          ],
          [
           "BRCESPACNPB4"
          ],
          [
           "BRCESPACNPB4"
          ]
         ],
         "hovertemplate": "ISIN=%{customdata[0]}<br>Quarter=%{x}<br>Value of % of NAV=%{y:.2}<extra></extra>",
         "legendgroup": "BRCESPACNPB4",
         "marker": {
          "color": "#19d3f3",
          "pattern": {
           "shape": ""
          }
         },
         "name": "BRCESPACNPB4",
         "orientation": "v",
         "showlegend": true,
         "textposition": "auto",
         "type": "bar",
         "x": [
          "2018-Q1",
          "2018-Q2",
          "2018-Q3",
          "2018-Q4",
          "2019-Q1",
          "2019-Q2",
          "2019-Q3",
          "2019-Q3",
          "2019-Q3",
          "2019-Q4",
          "2019-Q4",
          "2019-Q4",
          "2020-Q1",
          "2020-Q1",
          "2020-Q1"
         ],
         "xaxis": "x",
         "y": {
          "bdata": "yHnXpqPAiz/miwwBvaeFPyn04SfnRYI/hCZDUAhFiz8sF03M3IGDP7nAXEP2d4E/FtS37LbnRj/781CgYd9oPwJ6PYFIaGk/VabkWnqaYz8/Umj52bw4P1QWayZgq2o/U8kEHh0mZz9b3YLTRzsvP7Pz64RT4DM/",
          "dtype": "f8"
         },
         "yaxis": "y"
        },
        {
         "customdata": [
          [
           "SE0000106270"
          ],
          [
           "SE0000106270"
          ],
          [
           "SE0000106270"
          ],
          [
           "SE0000106270"
          ]
         ],
         "hovertemplate": "ISIN=%{customdata[0]}<br>Quarter=%{x}<br>Value of % of NAV=%{y:.2}<extra></extra>",
         "legendgroup": "SE0000106270",
         "marker": {
          "color": "#FF6692",
          "pattern": {
           "shape": ""
          }
         },
         "name": "SE0000106270",
         "orientation": "v",
         "showlegend": true,
         "textposition": "auto",
         "type": "bar",
         "x": [
          "2018-Q1",
          "2018-Q2",
          "2018-Q3",
          "2018-Q4"
         ],
         "xaxis": "x",
         "y": {
          "bdata": "f8HtAZFuer+N84p992t3v2/ExRDE+na/jk4115jCcL8=",
          "dtype": "f8"
         },
         "yaxis": "y"
        },
        {
         "customdata": [
          [
           "SE0000652216"
          ],
          [
           "SE0000652216"
          ]
         ],
         "hovertemplate": "ISIN=%{customdata[0]}<br>Quarter=%{x}<br>Value of % of NAV=%{y:.2}<extra></extra>",
         "legendgroup": "SE0000652216",
         "marker": {
          "color": "#B6E880",
          "pattern": {
           "shape": ""
          }
         },
         "name": "SE0000652216",
         "orientation": "v",
         "showlegend": true,
         "textposition": "auto",
         "type": "bar",
         "x": [
          "2018-Q1",
          "2018-Q2"
         ],
         "xaxis": "x",
         "y": {
          "bdata": "qM3tSctRXr9ELTR6SW1Xvw==",
          "dtype": "f8"
         },
         "yaxis": "y"
        },
        {
         "customdata": [
          [
           "JP3672400003"
          ]
         ],
         "hovertemplate": "ISIN=%{customdata[0]}<br>Quarter=%{x}<br>Value of % of NAV=%{y:.2}<extra></extra>",
         "legendgroup": "JP3672400003",
         "marker": {
          "color": "#FF97FF",
          "pattern": {
           "shape": ""
          }
         },
         "name": "JP3672400003",
         "orientation": "v",
         "showlegend": true,
         "textposition": "auto",
         "type": "bar",
         "x": [
          "2018-Q1"
         ],
         "xaxis": "x",
         "y": {
          "bdata": "4FUV3BWxU78=",
          "dtype": "f8"
         },
         "yaxis": "y"
        },
        {
         "customdata": [
          [
           "DE000PAH0038"
          ],
          [
           "DE000PAH0038"
          ],
          [
           "DE000PAH0038"
          ]
         ],
         "hovertemplate": "ISIN=%{customdata[0]}<br>Quarter=%{x}<br>Value of % of NAV=%{y:.2}<extra></extra>",
         "legendgroup": "DE000PAH0038",
         "marker": {
          "color": "#FECB52",
          "pattern": {
           "shape": ""
          }
         },
         "name": "DE000PAH0038",
         "orientation": "v",
         "showlegend": true,
         "textposition": "auto",
         "type": "bar",
         "x": [
          "2018-Q1",
          "2018-Q2",
          "2018-Q3"
         ],
         "xaxis": "x",
         "y": {
          "bdata": "4cWvigVUuD/i7NAEzc+mP6G3YgB8rZA/",
          "dtype": "f8"
         },
         "yaxis": "y"
        },
        {
         "customdata": [
          [
           "DE000PSM7770"
          ],
          [
           "DE000PSM7770"
          ]
         ],
         "hovertemplate": "ISIN=%{customdata[0]}<br>Quarter=%{x}<br>Value of % of NAV=%{y:.2}<extra></extra>",
         "legendgroup": "DE000PSM7770",
         "marker": {
          "color": "#636efa",
          "pattern": {
           "shape": ""
          }
         },
         "name": "DE000PSM7770",
         "orientation": "v",
         "showlegend": true,
         "textposition": "auto",
         "type": "bar",
         "x": [
          "2018-Q1",
          "2018-Q2"
         ],
         "xaxis": "x",
         "y": {
          "bdata": "KGXsrJMpQr8nC7nSDqw3vw==",
          "dtype": "f8"
         },
         "yaxis": "y"
        },
        {
         "customdata": [
          [
           "SE0000108227"
          ],
          [
           "SE0000108227"
          ],
          [
           "SE0000108227"
          ]
         ],
         "hovertemplate": "ISIN=%{customdata[0]}<br>Quarter=%{x}<br>Value of % of NAV=%{y:.2}<extra></extra>",
         "legendgroup": "SE0000108227",
         "marker": {
          "color": "#EF553B",
          "pattern": {
           "shape": ""
          }
         },
         "name": "SE0000108227",
         "orientation": "v",
         "showlegend": true,
         "textposition": "auto",
         "type": "bar",
         "x": [
          "2018-Q1",
          "2018-Q2",
          "2018-Q3"
         ],
         "xaxis": "x",
         "y": {
          "bdata": "BM1g2LLwUr98e5yo6MVOv7nN1ZH+A0u/",
          "dtype": "f8"
         },
         "yaxis": "y"
        },
        {
         "customdata": [
          [
           "AU000000WOW2"
          ],
          [
           "AU000000WOW2"
          ],
          [
           "AU000000WOW2"
          ],
          [
           "AU000000WOW2"
          ],
          [
           "AU000000WOW2"
          ],
          [
           "AU000000WOW2"
          ],
          [
           "AU000000WOW2"
          ],
          [
           "AU000000WOW2"
          ],
          [
           "AU000000WOW2"
          ],
          [
           "AU000000WOW2"
          ]
         ],
         "hovertemplate": "ISIN=%{customdata[0]}<br>Quarter=%{x}<br>Value of % of NAV=%{y:.2}<extra></extra>",
         "legendgroup": "AU000000WOW2",
         "marker": {
          "color": "#00cc96",
          "pattern": {
           "shape": ""
          }
         },
         "name": "AU000000WOW2",
         "orientation": "v",
         "showlegend": true,
         "textposition": "auto",
         "type": "bar",
         "x": [
          "2018-Q1",
          "2018-Q2",
          "2018-Q3",
          "2018-Q4",
          "2019-Q1",
          "2019-Q2",
          "2019-Q3",
          "2019-Q4",
          "2020-Q1",
          "2020-Q2"
         ],
         "xaxis": "x",
         "y": {
          "bdata": "2X5xMXNUor9lz2TIHEiiv7POO8SOl5y/6gLflvmTlL9hAd1vOw6Dv2y/d1ldY4G/QaZjVxAWgr/Jy15ddYaAv564N1sIvIK/+lzZZ/WXab8=",
          "dtype": "f8"
         },
         "yaxis": "y"
        },
        {
         "customdata": [
          [
           "JP3933800009"
          ],
          [
           "JP3933800009"
          ]
         ],
         "hovertemplate": "ISIN=%{customdata[0]}<br>Quarter=%{x}<br>Value of % of NAV=%{y:.2}<extra></extra>",
         "legendgroup": "JP3933800009",
         "marker": {
          "color": "#ab63fa",
          "pattern": {
           "shape": ""
          }
         },
         "name": "JP3933800009",
         "orientation": "v",
         "showlegend": true,
         "textposition": "auto",
         "type": "bar",
         "x": [
          "2018-Q1",
          "2018-Q2"
         ],
         "xaxis": "x",
         "y": {
          "bdata": "UlN0iKfnfL/omhF3JG1yvw==",
          "dtype": "f8"
         },
         "yaxis": "y"
        },
        {
         "customdata": [
          [
           "US00090Q1031"
          ],
          [
           "US00090Q1031"
          ],
          [
           "US00090Q1031"
          ]
         ],
         "hovertemplate": "ISIN=%{customdata[0]}<br>Quarter=%{x}<br>Value of % of NAV=%{y:.2}<extra></extra>",
         "legendgroup": "US00090Q1031",
         "marker": {
          "color": "#FFA15A",
          "pattern": {
           "shape": ""
          }
         },
         "name": "US00090Q1031",
         "orientation": "v",
         "showlegend": true,
         "textposition": "auto",
         "type": "bar",
         "x": [
          "2018-Q2",
          "2018-Q3",
          "2018-Q4"
         ],
         "xaxis": "x",
         "y": {
          "bdata": "tx9immMMAr+PzsZJMgYDv9ZaK1YRuPq+",
          "dtype": "f8"
         },
         "yaxis": "y"
        },
        {
         "customdata": [
          [
           "JE00B2QKY057"
          ],
          [
           "JE00B2QKY057"
          ],
          [
           "JE00B2QKY057"
          ]
         ],
         "hovertemplate": "ISIN=%{customdata[0]}<br>Quarter=%{x}<br>Value of % of NAV=%{y:.2}<extra></extra>",
         "legendgroup": "JE00B2QKY057",
         "marker": {
          "color": "#19d3f3",
          "pattern": {
           "shape": ""
          }
         },
         "name": "JE00B2QKY057",
         "orientation": "v",
         "showlegend": true,
         "textposition": "auto",
         "type": "bar",
         "x": [
          "2018-Q2",
          "2018-Q3",
          "2018-Q4"
         ],
         "xaxis": "x",
         "y": {
          "bdata": "6iT1QgrUWT/+Xspvl9BaP9nYnKKqeVw/",
          "dtype": "f8"
         },
         "yaxis": "y"
        },
        {
         "customdata": [
          [
           "JP3463000004"
          ],
          [
           "JP3463000004"
          ],
          [
           "JP3463000004"
          ]
         ],
         "hovertemplate": "ISIN=%{customdata[0]}<br>Quarter=%{x}<br>Value of % of NAV=%{y:.2}<extra></extra>",
         "legendgroup": "JP3463000004",
         "marker": {
          "color": "#FF6692",
          "pattern": {
           "shape": ""
          }
         },
         "name": "JP3463000004",
         "orientation": "v",
         "showlegend": true,
         "textposition": "auto",
         "type": "bar",
         "x": [
          "2018-Q2",
          "2018-Q3",
          "2018-Q4"
         ],
         "xaxis": "x",
         "y": {
          "bdata": "8oQAIzBBUL/4TO5Dde5Pv2BCLYTxtEu/",
          "dtype": "f8"
         },
         "yaxis": "y"
        },
        {
         "customdata": [
          [
           "CA1363751027"
          ],
          [
           "CA1363751027"
          ],
          [
           "CA1363751027"
          ],
          [
           "CA1363751027"
          ],
          [
           "CA1363751027"
          ],
          [
           "CA1363751027"
          ],
          [
           "CA1363751027"
          ],
          [
           "CA1363751027"
          ],
          [
           "CA1363751027"
          ],
          [
           "CA1363751027"
          ],
          [
           "CA1363751027"
          ],
          [
           "CA1363751027"
          ],
          [
           "CA1363751027"
          ],
          [
           "CA1363751027"
          ],
          [
           "CA1363751027"
          ],
          [
           "CA1363751027"
          ],
          [
           "CA1363751027"
          ],
          [
           "CA1363751027"
          ],
          [
           "CA1363751027"
          ],
          [
           "CA1363751027"
          ],
          [
           "CA1363751027"
          ],
          [
           "CA1363751027"
          ],
          [
           "CA1363751027"
          ],
          [
           "CA1363751027"
          ],
          [
           "CA1363751027"
          ],
          [
           "CA1363751027"
          ],
          [
           "CA1363751027"
          ],
          [
           "CA1363751027"
          ],
          [
           "CA1363751027"
          ],
          [
           "CA1363751027"
          ],
          [
           "CA1363751027"
          ],
          [
           "CA1363751027"
          ],
          [
           "CA1363751027"
          ],
          [
           "CA1363751027"
          ],
          [
           "CA1363751027"
          ],
          [
           "CA1363751027"
          ],
          [
           "CA1363751027"
          ],
          [
           "CA1363751027"
          ],
          [
           "CA1363751027"
          ],
          [
           "CA1363751027"
          ],
          [
           "CA1363751027"
          ],
          [
           "CA1363751027"
          ],
          [
           "CA1363751027"
          ],
          [
           "CA1363751027"
          ],
          [
           "CA1363751027"
          ],
          [
           "CA1363751027"
          ],
          [
           "CA1363751027"
          ],
          [
           "CA1363751027"
          ],
          [
           "CA1363751027"
          ],
          [
           "CA1363751027"
          ],
          [
           "CA1363751027"
          ],
          [
           "CA1363751027"
          ],
          [
           "CA1363751027"
          ],
          [
           "CA1363751027"
          ],
          [
           "CA1363751027"
          ],
          [
           "CA1363751027"
          ],
          [
           "CA1363751027"
          ],
          [
           "CA1363751027"
          ],
          [
           "CA1363751027"
          ],
          [
           "CA1363751027"
          ],
          [
           "CA1363751027"
          ],
          [
           "CA1363751027"
          ],
          [
           "CA1363751027"
          ],
          [
           "CA1363751027"
          ]
         ],
         "hovertemplate": "ISIN=%{customdata[0]}<br>Quarter=%{x}<br>Value of % of NAV=%{y:.2}<extra></extra>",
         "legendgroup": "CA1363751027",
         "marker": {
          "color": "#B6E880",
          "pattern": {
           "shape": ""
          }
         },
         "name": "CA1363751027",
         "orientation": "v",
         "showlegend": true,
         "textposition": "auto",
         "type": "bar",
         "x": [
          "2018-Q3",
          "2018-Q3",
          "2018-Q4",
          "2018-Q4",
          "2019-Q1",
          "2019-Q1",
          "2019-Q2",
          "2019-Q2",
          "2019-Q3",
          "2019-Q3",
          "2019-Q4",
          "2019-Q4",
          "2020-Q1",
          "2020-Q1",
          "2020-Q2",
          "2020-Q2",
          "2020-Q3",
          "2020-Q3",
          "2020-Q4",
          "2020-Q4",
          "2021-Q1",
          "2021-Q1",
          "2021-Q2",
          "2021-Q2",
          "2021-Q3",
          "2021-Q3",
          "2021-Q4",
          "2021-Q4",
          "2022-Q1",
          "2022-Q1",
          "2022-Q2",
          "2022-Q2",
          "2022-Q3",
          "2022-Q3",
          "2022-Q3",
          "2022-Q4",
          "2022-Q4",
          "2022-Q4",
          "2023-Q1",
          "2023-Q1",
          "2023-Q1",
          "2023-Q1",
          "2023-Q2",
          "2023-Q2",
          "2023-Q2",
          "2023-Q2",
          "2023-Q3",
          "2023-Q3",
          "2023-Q3",
          "2023-Q3",
          "2023-Q4",
          "2023-Q4",
          "2024-Q1",
          "2024-Q1",
          "2024-Q2",
          "2024-Q2",
          "2024-Q2",
          "2024-Q2",
          "2024-Q3",
          "2024-Q3",
          "2024-Q4",
          "2024-Q4",
          "2025-Q1",
          "2025-Q1"
         ],
         "xaxis": "x",
         "y": {
          "bdata": "yiCEvdyXXz/TRx3NYwF4P92GnackSJI/nWHXzjcXlz/y3VNFidqSP05hLPJELJ0/XQ/Fqg5gnD8brwtoVrWiP51ALqLVlJo/8+JFf9OzoT8upQOL6zyYP4HEgB29gaA/f1/7WBHJmz+tc9SZUMCjP6hKknCxRJg/mvzfihrloD/sUAj9EcGaPzeBXWO+paI/UYn1k4x2oD8DxfwYtZmXP3Pe7qq245c/D16XcDOroD9D5ZV+KWGbP9sz9wx0laM/ediynvWEoD/tMoIUcz2sP/TG53MZoaA/EQDpgGZvrD8lavb5aKeiP6C7Kx1Q2q8/X4kNGk+poj8pI3riVOGvP0j3cAlx1WQ/3G/uNnVMoj8/WgkyTrmwP3NBXzJLkWQ/08H5S06CsD9ZGvs3mhCiP78e/NVxCUc/hJvqhTaedD8U1io1deGsP6h64Lqw75s/6iHR6LK+RT8nS0ALMnZzP1jWAM2YxK8/QORLvG3OnD9/v1irQnJEP3hZwb+pTHI/yB/wkeDVrT/HKpa+CBabPx7OBuz1Bq4/jBVE1gM/oD/vg0p4MkaeP/ZrNmP44Ks/1QObMhniQT/KsnPpZQFwPxAa9JfMBao/Z/vIRMqwlz+GE0lfR6uZP9NSe6PXIaU/Ds6ML7M9nj9yhmmOYmuVP5p/JT0Bn5c/7eFe1tIJkz8=",
          "dtype": "f8"
         },
         "yaxis": "y"
        },
        {
         "customdata": [
          [
           "US5312298541"
          ],
          [
           "US5312298541"
          ]
         ],
         "hovertemplate": "ISIN=%{customdata[0]}<br>Quarter=%{x}<br>Value of % of NAV=%{y:.2}<extra></extra>",
         "legendgroup": "US5312298541",
         "marker": {
          "color": "#FF97FF",
          "pattern": {
           "shape": ""
          }
         },
         "name": "US5312298541",
         "orientation": "v",
         "showlegend": true,
         "textposition": "auto",
         "type": "bar",
         "x": [
          "2018-Q3",
          "2018-Q4"
         ],
         "xaxis": "x",
         "y": {
          "bdata": "gm1d8NScPz/FokOW4WNwPw==",
          "dtype": "f8"
         },
         "yaxis": "y"
        },
        {
         "customdata": [
          [
           "US5380341090"
          ],
          [
           "US5380341090"
          ]
         ],
         "hovertemplate": "ISIN=%{customdata[0]}<br>Quarter=%{x}<br>Value of % of NAV=%{y:.2}<extra></extra>",
         "legendgroup": "US5380341090",
         "marker": {
          "color": "#FECB52",
          "pattern": {
           "shape": ""
          }
         },
         "name": "US5380341090",
         "orientation": "v",
         "showlegend": true,
         "textposition": "auto",
         "type": "bar",
         "x": [
          "2018-Q3",
          "2018-Q4"
         ],
         "xaxis": "x",
         "y": {
          "bdata": "E9OCvPd8K7/h5nALh4Nfvw==",
          "dtype": "f8"
         },
         "yaxis": "y"
        },
        {
         "customdata": [
          [
           "US69331C1080"
          ]
         ],
         "hovertemplate": "ISIN=%{customdata[0]}<br>Quarter=%{x}<br>Value of % of NAV=%{y:.2}<extra></extra>",
         "legendgroup": "US69331C1080",
         "marker": {
          "color": "#636efa",
          "pattern": {
           "shape": ""
          }
         },
         "name": "US69331C1080",
         "orientation": "v",
         "showlegend": true,
         "textposition": "auto",
         "type": "bar",
         "x": [
          "2018-Q3"
         ],
         "xaxis": "x",
         "y": {
          "bdata": "ILsr0v7WaT8=",
          "dtype": "f8"
         },
         "yaxis": "y"
        },
        {
         "customdata": [
          [
           "US90130A3095"
          ]
         ],
         "hovertemplate": "ISIN=%{customdata[0]}<br>Quarter=%{x}<br>Value of % of NAV=%{y:.2}<extra></extra>",
         "legendgroup": "US90130A3095",
         "marker": {
          "color": "#EF553B",
          "pattern": {
           "shape": ""
          }
         },
         "name": "US90130A3095",
         "orientation": "v",
         "showlegend": true,
         "textposition": "auto",
         "type": "bar",
         "x": [
          "2018-Q4"
         ],
         "xaxis": "x",
         "y": {
          "bdata": "7OhDpwfm0D8=",
          "dtype": "f8"
         },
         "yaxis": "y"
        },
        {
         "customdata": [
          [
           "US90130A4085"
          ]
         ],
         "hovertemplate": "ISIN=%{customdata[0]}<br>Quarter=%{x}<br>Value of % of NAV=%{y:.2}<extra></extra>",
         "legendgroup": "US90130A4085",
         "marker": {
          "color": "#00cc96",
          "pattern": {
           "shape": ""
          }
         },
         "name": "US90130A4085",
         "orientation": "v",
         "showlegend": true,
         "textposition": "auto",
         "type": "bar",
         "x": [
          "2018-Q4"
         ],
         "xaxis": "x",
         "y": {
          "bdata": "/4U9WOqeqj8=",
          "dtype": "f8"
         },
         "yaxis": "y"
        },
        {
         "customdata": [
          [
           "US35137L1052"
          ]
         ],
         "hovertemplate": "ISIN=%{customdata[0]}<br>Quarter=%{x}<br>Value of % of NAV=%{y:.2}<extra></extra>",
         "legendgroup": "US35137L1052",
         "marker": {
          "color": "#ab63fa",
          "pattern": {
           "shape": ""
          }
         },
         "name": "US35137L1052",
         "orientation": "v",
         "showlegend": true,
         "textposition": "auto",
         "type": "bar",
         "x": [
          "2019-Q1"
         ],
         "xaxis": "x",
         "y": {
          "bdata": "gAOZUcUpkj8=",
          "dtype": "f8"
         },
         "yaxis": "y"
        },
        {
         "customdata": [
          [
           "US35137L2043"
          ]
         ],
         "hovertemplate": "ISIN=%{customdata[0]}<br>Quarter=%{x}<br>Value of % of NAV=%{y:.2}<extra></extra>",
         "legendgroup": "US35137L2043",
         "marker": {
          "color": "#FFA15A",
          "pattern": {
           "shape": ""
          }
         },
         "name": "US35137L2043",
         "orientation": "v",
         "showlegend": true,
         "textposition": "auto",
         "type": "bar",
         "x": [
          "2019-Q1"
         ],
         "xaxis": "x",
         "y": {
          "bdata": "yEXk4pqZdj8=",
          "dtype": "f8"
         },
         "yaxis": "y"
        },
        {
         "customdata": [
          [
           "DE000A1DAHH0"
          ],
          [
           "DE000A1DAHH0"
          ],
          [
           "DE000A1DAHH0"
          ],
          [
           "DE000A1DAHH0"
          ],
          [
           "DE000A1DAHH0"
          ]
         ],
         "hovertemplate": "ISIN=%{customdata[0]}<br>Quarter=%{x}<br>Value of % of NAV=%{y:.2}<extra></extra>",
         "legendgroup": "DE000A1DAHH0",
         "marker": {
          "color": "#19d3f3",
          "pattern": {
           "shape": ""
          }
         },
         "name": "DE000A1DAHH0",
         "orientation": "v",
         "showlegend": true,
         "textposition": "auto",
         "type": "bar",
         "x": [
          "2019-Q1",
          "2019-Q2",
          "2019-Q2",
          "2019-Q3",
          "2019-Q3"
         ],
         "xaxis": "x",
         "y": {
          "bdata": "fjzNFzRKZz9nDWZzE0lnP9OIlrGOKSw/W35O/SF0Zz9tmAyJE68qPw==",
          "dtype": "f8"
         },
         "yaxis": "y"
        },
        {
         "customdata": [
          [
           "US2944291051"
          ],
          [
           "US2944291051"
          ],
          [
           "US2944291051"
          ]
         ],
         "hovertemplate": "ISIN=%{customdata[0]}<br>Quarter=%{x}<br>Value of % of NAV=%{y:.2}<extra></extra>",
         "legendgroup": "US2944291051",
         "marker": {
          "color": "#FF6692",
          "pattern": {
           "shape": ""
          }
         },
         "name": "US2944291051",
         "orientation": "v",
         "showlegend": true,
         "textposition": "auto",
         "type": "bar",
         "x": [
          "2019-Q1",
          "2019-Q2",
          "2019-Q3"
         ],
         "xaxis": "x",
         "y": {
          "bdata": "88VTNSlXgT9hZYzfvUuCP44KFyach3E/",
          "dtype": "f8"
         },
         "yaxis": "y"
        },
        {
         "customdata": [
          [
           "US91336L1070"
          ],
          [
           "US91336L1070"
          ],
          [
           "US91336L1070"
          ],
          [
           "US91336L1070"
          ],
          [
           "US91336L1070"
          ],
          [
           "US91336L1070"
          ],
          [
           "US91336L1070"
          ]
         ],
         "hovertemplate": "ISIN=%{customdata[0]}<br>Quarter=%{x}<br>Value of % of NAV=%{y:.2}<extra></extra>",
         "legendgroup": "US91336L1070",
         "marker": {
          "color": "#B6E880",
          "pattern": {
           "shape": ""
          }
         },
         "name": "US91336L1070",
         "orientation": "v",
         "showlegend": true,
         "textposition": "auto",
         "type": "bar",
         "x": [
          "2019-Q1",
          "2019-Q2",
          "2019-Q3",
          "2019-Q4",
          "2020-Q1",
          "2020-Q2",
          "2020-Q2"
         ],
         "xaxis": "x",
         "y": {
          "bdata": "F66/fhXMaT8tT1XtCq2IP8QIYDSf7Ic/GocPp0xOiT+eyBqs6Xl8P3aITKobtEM/PEtw+5+mfD8=",
          "dtype": "f8"
         },
         "yaxis": "y"
        },
        {
         "customdata": [
          [
           "US92553P2011"
          ]
         ],
         "hovertemplate": "ISIN=%{customdata[0]}<br>Quarter=%{x}<br>Value of % of NAV=%{y:.2}<extra></extra>",
         "legendgroup": "US92553P2011",
         "marker": {
          "color": "#FF97FF",
          "pattern": {
           "shape": ""
          }
         },
         "name": "US92553P2011",
         "orientation": "v",
         "showlegend": true,
         "textposition": "auto",
         "type": "bar",
         "x": [
          "2019-Q1"
         ],
         "xaxis": "x",
         "y": {
          "bdata": "emie6YPwV78=",
          "dtype": "f8"
         },
         "yaxis": "y"
        },
        {
         "customdata": [
          [
           "FR0000125486"
          ],
          [
           "FR0000125486"
          ],
          [
           "FR0000125486"
          ],
          [
           "FR0000125486"
          ],
          [
           "FR0000125486"
          ],
          [
           "FR0000125486"
          ],
          [
           "FR0000125486"
          ],
          [
           "FR0000125486"
          ],
          [
           "FR0000125486"
          ],
          [
           "FR0000125486"
          ],
          [
           "FR0000125486"
          ],
          [
           "FR0000125486"
          ],
          [
           "FR0000125486"
          ],
          [
           "FR0000125486"
          ],
          [
           "FR0000125486"
          ],
          [
           "FR0000125486"
          ],
          [
           "FR0000125486"
          ],
          [
           "FR0000125486"
          ],
          [
           "FR0000125486"
          ],
          [
           "FR0000125486"
          ],
          [
           "FR0000125486"
          ],
          [
           "FR0000125486"
          ],
          [
           "FR0000125486"
          ],
          [
           "FR0000125486"
          ],
          [
           "FR0000125486"
          ],
          [
           "FR0000125486"
          ],
          [
           "FR0000125486"
          ],
          [
           "FR0000125486"
          ],
          [
           "FR0000125486"
          ],
          [
           "FR0000125486"
          ],
          [
           "FR0000125486"
          ],
          [
           "FR0000125486"
          ],
          [
           "FR0000125486"
          ],
          [
           "FR0000125486"
          ],
          [
           "FR0000125486"
          ],
          [
           "FR0000125486"
          ],
          [
           "FR0000125486"
          ],
          [
           "FR0000125486"
          ],
          [
           "FR0000125486"
          ],
          [
           "FR0000125486"
          ],
          [
           "FR0000125486"
          ],
          [
           "FR0000125486"
          ],
          [
           "FR0000125486"
          ],
          [
           "FR0000125486"
          ],
          [
           "FR0000125486"
          ],
          [
           "FR0000125486"
          ],
          [
           "FR0000125486"
          ],
          [
           "FR0000125486"
          ],
          [
           "FR0000125486"
          ],
          [
           "FR0000125486"
          ],
          [
           "FR0000125486"
          ],
          [
           "FR0000125486"
          ],
          [
           "FR0000125486"
          ],
          [
           "FR0000125486"
          ],
          [
           "FR0000125486"
          ],
          [
           "FR0000125486"
          ],
          [
           "FR0000125486"
          ],
          [
           "FR0000125486"
          ],
          [
           "FR0000125486"
          ],
          [
           "FR0000125486"
          ],
          [
           "FR0000125486"
          ],
          [
           "FR0000125486"
          ],
          [
           "FR0000125486"
          ],
          [
           "FR0000125486"
          ],
          [
           "FR0000125486"
          ],
          [
           "FR0000125486"
          ],
          [
           "FR0000125486"
          ],
          [
           "FR0000125486"
          ],
          [
           "FR0000125486"
          ],
          [
           "FR0000125486"
          ],
          [
           "FR0000125486"
          ],
          [
           "FR0000125486"
          ],
          [
           "FR0000125486"
          ],
          [
           "FR0000125486"
          ],
          [
           "FR0000125486"
          ],
          [
           "FR0000125486"
          ],
          [
           "FR0000125486"
          ],
          [
           "FR0000125486"
          ],
          [
           "FR0000125486"
          ],
          [
           "FR0000125486"
          ],
          [
           "FR0000125486"
          ],
          [
           "FR0000125486"
          ],
          [
           "FR0000125486"
          ],
          [
           "FR0000125486"
          ],
          [
           "FR0000125486"
          ],
          [
           "FR0000125486"
          ],
          [
           "FR0000125486"
          ],
          [
           "FR0000125486"
          ],
          [
           "FR0000125486"
          ],
          [
           "FR0000125486"
          ],
          [
           "FR0000125486"
          ],
          [
           "FR0000125486"
          ],
          [
           "FR0000125486"
          ],
          [
           "FR0000125486"
          ],
          [
           "FR0000125486"
          ],
          [
           "FR0000125486"
          ],
          [
           "FR0000125486"
          ],
          [
           "FR0000125486"
          ],
          [
           "FR0000125486"
          ],
          [
           "FR0000125486"
          ],
          [
           "FR0000125486"
          ],
          [
           "FR0000125486"
          ],
          [
           "FR0000125486"
          ],
          [
           "FR0000125486"
          ],
          [
           "FR0000125486"
          ],
          [
           "FR0000125486"
          ]
         ],
         "hovertemplate": "ISIN=%{customdata[0]}<br>Quarter=%{x}<br>Value of % of NAV=%{y:.2}<extra></extra>",
         "legendgroup": "FR0000125486",
         "marker": {
          "color": "#FECB52",
          "pattern": {
           "shape": ""
          }
         },
         "name": "FR0000125486",
         "orientation": "v",
         "showlegend": true,
         "textposition": "auto",
         "type": "bar",
         "x": [
          "2019-Q1",
          "2019-Q2",
          "2019-Q3",
          "2019-Q4",
          "2020-Q1",
          "2020-Q1",
          "2020-Q2",
          "2020-Q2",
          "2020-Q2",
          "2020-Q3",
          "2020-Q3",
          "2020-Q3",
          "2020-Q3",
          "2020-Q3",
          "2020-Q4",
          "2020-Q4",
          "2020-Q4",
          "2020-Q4",
          "2020-Q4",
          "2021-Q1",
          "2021-Q1",
          "2021-Q1",
          "2021-Q1",
          "2021-Q1",
          "2021-Q2",
          "2021-Q2",
          "2021-Q3",
          "2021-Q3",
          "2021-Q3",
          "2021-Q3",
          "2021-Q3",
          "2021-Q3",
          "2021-Q4",
          "2021-Q4",
          "2021-Q4",
          "2021-Q4",
          "2021-Q4",
          "2021-Q4",
          "2022-Q1",
          "2022-Q1",
          "2022-Q2",
          "2022-Q2",
          "2022-Q2",
          "2022-Q2",
          "2022-Q2",
          "2022-Q2",
          "2022-Q3",
          "2022-Q3",
          "2022-Q3",
          "2022-Q3",
          "2022-Q3",
          "2022-Q3",
          "2022-Q3",
          "2022-Q3",
          "2022-Q4",
          "2022-Q4",
          "2022-Q4",
          "2022-Q4",
          "2022-Q4",
          "2022-Q4",
          "2022-Q4",
          "2022-Q4",
          "2023-Q1",
          "2023-Q1",
          "2023-Q1",
          "2023-Q1",
          "2023-Q1",
          "2023-Q1",
          "2023-Q1",
          "2023-Q1",
          "2023-Q2",
          "2023-Q2",
          "2023-Q2",
          "2023-Q2",
          "2023-Q2",
          "2023-Q2",
          "2023-Q2",
          "2023-Q3",
          "2023-Q3",
          "2023-Q3",
          "2023-Q3",
          "2023-Q3",
          "2023-Q3",
          "2023-Q3",
          "2023-Q4",
          "2023-Q4",
          "2023-Q4",
          "2023-Q4",
          "2024-Q1",
          "2024-Q1",
          "2024-Q1",
          "2024-Q1",
          "2024-Q2",
          "2024-Q2",
          "2024-Q2",
          "2024-Q2",
          "2024-Q2",
          "2024-Q2",
          "2024-Q2",
          "2024-Q2",
          "2024-Q3",
          "2024-Q3",
          "2024-Q4",
          "2024-Q4",
          "2025-Q1",
          "2025-Q1"
         ],
         "xaxis": "x",
         "y": {
          "bdata": "AkbZdLIbhj+0jt4X8X6gPzrRbYte2Kc/DmzTRIxCpj/yx+020rimP8sODEy7cZ4/QS9gsXIGoz8KUYhjNgurPxkPgApmKnY/7ktwviUioD+BrTj882JaPwdSnRrl7qY/pYmNu7pAiD8SSs/oWQ1+P2yIhGpyWqA/Uq/XvXlwbT8kJTXhXJWIPz38uFXsPqc/hw4F1Th2fj+Wcmgre9OfPzIvP9cyHH4/oqRQSXkZbT+iEjwutkyIP4FruKQ5+qY/RBiIBjmTmz/PJUichtOvP0i8vnbR6po/gAaoxXRroz8mGeykFfthP7DoiFvbRGo/56LEUGouez89EWUVnu+FPxiZlJN70Zk/TEBGy3ugoj9alarpURJ6P+6m59UmP2E/dSpUE0wyaT9F0U1rWAqFP1HdCHzYPaU/TBRPFxj+pj+PwN4PvJutP9+6qIEPr48/cZgpcJTSYT/ZD07JdN9wP1XGhYKuCWo/cL3u+jO+hT8Xk9y4OsRkP3+lA1SkkKw/aUvf9FOJcz9AcxcFZLiPP74LCxibxIU/P0BBAtTXYT8J+7Pji/VkP7HumhemdX8//BJXdA/QZj/UIBQiMGGvP1PHYl4hdnU/PPhyjkNskT8F9NrdsumHP9HkknvqmWM/BalJojwGZz+VFkzRmkeBP6qWTHfK1nc/dk8fj74srj9rYxSnnZCRPy/NSbvdKog/cJYbUVXPYz9A7bL7nbB1P3BalJ77RGc/U+afCLJ2gT+sdmzpAzR2P9pOsnWrGqw/NLbGOZgzdD9CJYF3DlyQP2kVWD5SgoY/RfMwUMYPdD80L7Ev6kOAP2B0J99bUnY/y5fa7RNBrD/qUxblM090P8ngCjgVoYY/6FQ4AGpykD9AIJoHMSt0P89RPLokWoA/Qm172bturj8wAKYRiBigP1zqjm9txXM/tIjO9qIHgD/i0INcd5yrPzY+UKAw8HE/N9zzjGMWfT+w5d/PCzWdPyVVvyRw/nA/MbraHKqCpT9szCd5XCBbPwt6gXfO7HU/fSFHOl86gT8z2tNqprVuP3mJL0Rf1Iw/QbaasfbleD8J+bYySAGoP9DICPEqc6Q/lFCN+9rEpT8X1YArSf6jP1Etge3XBKk/yTHo62j6pj8=",
          "dtype": "f8"
         },
         "yaxis": "y"
        },
        {
         "customdata": [
          [
           "US0367521038"
          ],
          [
           "US0367521038"
          ],
          [
           "US0367521038"
          ],
          [
           "US0367521038"
          ]
         ],
         "hovertemplate": "ISIN=%{customdata[0]}<br>Quarter=%{x}<br>Value of % of NAV=%{y:.2}<extra></extra>",
         "legendgroup": "US0367521038",
         "marker": {
          "color": "#636efa",
          "pattern": {
           "shape": ""
          }
         },
         "name": "US0367521038",
         "orientation": "v",
         "showlegend": true,
         "textposition": "auto",
         "type": "bar",
         "x": [
          "2019-Q2",
          "2019-Q3",
          "2019-Q4",
          "2020-Q1"
         ],
         "xaxis": "x",
         "y": {
          "bdata": "QX5kZzT/nT8n3Xc6O72gP6NgMU9xQKI/zI+5xcAKfT8=",
          "dtype": "f8"
         },
         "yaxis": "y"
        },
        {
         "customdata": [
          [
           "US46284V1017"
          ],
          [
           "US46284V1017"
          ],
          [
           "US46284V1017"
          ],
          [
           "US46284V1017"
          ],
          [
           "US46284V1017"
          ],
          [
           "US46284V1017"
          ],
          [
           "US46284V1017"
          ]
         ],
         "hovertemplate": "ISIN=%{customdata[0]}<br>Quarter=%{x}<br>Value of % of NAV=%{y:.2}<extra></extra>",
         "legendgroup": "US46284V1017",
         "marker": {
          "color": "#EF553B",
          "pattern": {
           "shape": ""
          }
         },
         "name": "US46284V1017",
         "orientation": "v",
         "showlegend": true,
         "textposition": "auto",
         "type": "bar",
         "x": [
          "2019-Q2",
          "2019-Q3",
          "2019-Q4",
          "2020-Q1",
          "2020-Q2",
          "2020-Q3",
          "2020-Q4"
         ],
         "xaxis": "x",
         "y": {
          "bdata": "PV1TLFR+Sr+2xR4mZTpgv03QzEoH7ly/zeaK3TPbXL/1Jhd15u5Xv3w8btz+h1a/zlP+7i0yVb8=",
          "dtype": "f8"
         },
         "yaxis": "y"
        },
        {
         "customdata": [
          [
           "US92826C8394"
          ],
          [
           "US92826C8394"
          ],
          [
           "US92826C8394"
          ],
          [
           "US92826C8394"
          ],
          [
           "US92826C8394"
          ],
          [
           "US92826C8394"
          ],
          [
           "US92826C8394"
          ],
          [
           "US92826C8394"
          ],
          [
           "US92826C8394"
          ],
          [
           "US92826C8394"
          ],
          [
           "US92826C8394"
          ],
          [
           "US92826C8394"
          ],
          [
           "US92826C8394"
          ],
          [
           "US92826C8394"
          ],
          [
           "US92826C8394"
          ],
          [
           "US92826C8394"
          ],
          [
           "US92826C8394"
          ],
          [
           "US92826C8394"
          ],
          [
           "US92826C8394"
          ],
          [
           "US92826C8394"
          ],
          [
           "US92826C8394"
          ],
          [
           "US92826C8394"
          ],
          [
           "US92826C8394"
          ],
          [
           "US92826C8394"
          ],
          [
           "US92826C8394"
          ],
          [
           "US92826C8394"
          ],
          [
           "US92826C8394"
          ],
          [
           "US92826C8394"
          ],
          [
           "US92826C8394"
          ],
          [
           "US92826C8394"
          ],
          [
           "US92826C8394"
          ],
          [
           "US92826C8394"
          ],
          [
           "US92826C8394"
          ],
          [
           "US92826C8394"
          ],
          [
           "US92826C8394"
          ],
          [
           "US92826C8394"
          ],
          [
           "US92826C8394"
          ],
          [
           "US92826C8394"
          ],
          [
           "US92826C8394"
          ]
         ],
         "hovertemplate": "ISIN=%{customdata[0]}<br>Quarter=%{x}<br>Value of % of NAV=%{y:.2}<extra></extra>",
         "legendgroup": "US92826C8394",
         "marker": {
          "color": "#00cc96",
          "pattern": {
           "shape": ""
          }
         },
         "name": "US92826C8394",
         "orientation": "v",
         "showlegend": true,
         "textposition": "auto",
         "type": "bar",
         "x": [
          "2019-Q2",
          "2019-Q3",
          "2019-Q4",
          "2020-Q1",
          "2020-Q2",
          "2020-Q3",
          "2020-Q4",
          "2021-Q1",
          "2021-Q2",
          "2021-Q3",
          "2021-Q3",
          "2021-Q4",
          "2021-Q4",
          "2022-Q1",
          "2022-Q2",
          "2022-Q2",
          "2022-Q3",
          "2022-Q3",
          "2022-Q3",
          "2022-Q4",
          "2022-Q4",
          "2022-Q4",
          "2023-Q1",
          "2023-Q1",
          "2023-Q1",
          "2023-Q2",
          "2023-Q2",
          "2023-Q2",
          "2023-Q3",
          "2023-Q3",
          "2023-Q3",
          "2023-Q4",
          "2024-Q1",
          "2024-Q2",
          "2024-Q2",
          "2024-Q2",
          "2024-Q3",
          "2024-Q4",
          "2025-Q1"
         ],
         "xaxis": "x",
         "y": {
          "bdata": "sFvc0tgAeT8GWGmeyD+APzV3NAVtFIA/0IrD19AIqz/4WM5PJPGyP0sG+LOYvrY/TuC/fbVEtT8yOXRfC72zP0PHQRISXLM/mXEcASq4Rj9jAgjvjDm5P8zN7ELV8UQ/NZ0+oZoFuz+f9rM0ioa4P6YMQQ2/U0c/9QdZ6STMuT/TcXpYTzZkP3mTgsQ2Bkc/iHgq9KHYuD/6/8qcwyVIP0lIBE+9MmU/v5D75u8Ouj8JQYKNM3R2P3LjlMH+EUc/SyONRGRJtz+EARhqoFlGP6VPRDzCwHU/NRzmnFbBtD99py+/gb9GP11pAr3qI3Y/wSGCFULusz9gjlpTJRq1P8rB3r9oGrQ/ScUwPhvSRD+P00rxskN0P238tEv3PbI/VC6Nb0rhsj+fHxlu50G2Px3eBO3IS7c/",
          "dtype": "f8"
         },
         "yaxis": "y"
        },
        {
         "customdata": [
          [
           "ES0118900010"
          ],
          [
           "ES0118900010"
          ],
          [
           "ES0118900010"
          ],
          [
           "ES0118900010"
          ],
          [
           "ES0118900010"
          ],
          [
           "ES0118900010"
          ],
          [
           "ES0118900010"
          ],
          [
           "ES0118900010"
          ],
          [
           "ES0118900010"
          ],
          [
           "ES0118900010"
          ],
          [
           "ES0118900010"
          ],
          [
           "ES0118900010"
          ],
          [
           "ES0118900010"
          ],
          [
           "ES0118900010"
          ],
          [
           "ES0118900010"
          ],
          [
           "ES0118900010"
          ],
          [
           "ES0118900010"
          ],
          [
           "ES0118900010"
          ],
          [
           "ES0118900010"
          ],
          [
           "ES0118900010"
          ],
          [
           "ES0118900010"
          ],
          [
           "ES0118900010"
          ],
          [
           "ES0118900010"
          ],
          [
           "ES0118900010"
          ],
          [
           "ES0118900010"
          ],
          [
           "ES0118900010"
          ],
          [
           "ES0118900010"
          ],
          [
           "ES0118900010"
          ],
          [
           "ES0118900010"
          ],
          [
           "ES0118900010"
          ],
          [
           "ES0118900010"
          ],
          [
           "ES0118900010"
          ],
          [
           "ES0118900010"
          ],
          [
           "ES0118900010"
          ],
          [
           "ES0118900010"
          ],
          [
           "ES0118900010"
          ],
          [
           "ES0118900010"
          ],
          [
           "ES0118900010"
          ],
          [
           "ES0118900010"
          ],
          [
           "ES0118900010"
          ],
          [
           "ES0118900010"
          ],
          [
           "ES0118900010"
          ],
          [
           "ES0118900010"
          ],
          [
           "ES0118900010"
          ],
          [
           "ES0118900010"
          ],
          [
           "ES0118900010"
          ],
          [
           "ES0118900010"
          ],
          [
           "ES0118900010"
          ],
          [
           "ES0118900010"
          ],
          [
           "ES0118900010"
          ],
          [
           "ES0118900010"
          ],
          [
           "ES0118900010"
          ],
          [
           "ES0118900010"
          ],
          [
           "ES0118900010"
          ],
          [
           "ES0118900010"
          ],
          [
           "ES0118900010"
          ],
          [
           "ES0118900010"
          ],
          [
           "ES0118900010"
          ],
          [
           "ES0118900010"
          ],
          [
           "ES0118900010"
          ]
         ],
         "hovertemplate": "ISIN=%{customdata[0]}<br>Quarter=%{x}<br>Value of % of NAV=%{y:.2}<extra></extra>",
         "legendgroup": "ES0118900010",
         "marker": {
          "color": "#ab63fa",
          "pattern": {
           "shape": ""
          }
         },
         "name": "ES0118900010",
         "orientation": "v",
         "showlegend": true,
         "textposition": "auto",
         "type": "bar",
         "x": [
          "2019-Q2",
          "2019-Q3",
          "2019-Q3",
          "2019-Q3",
          "2019-Q4",
          "2019-Q4",
          "2019-Q4",
          "2020-Q1",
          "2020-Q1",
          "2020-Q1",
          "2020-Q2",
          "2020-Q2",
          "2020-Q2",
          "2020-Q3",
          "2020-Q3",
          "2020-Q3",
          "2020-Q3",
          "2020-Q4",
          "2020-Q4",
          "2020-Q4",
          "2020-Q4",
          "2021-Q1",
          "2021-Q1",
          "2021-Q1",
          "2021-Q1",
          "2021-Q2",
          "2021-Q2",
          "2021-Q3",
          "2021-Q3",
          "2021-Q3",
          "2021-Q4",
          "2021-Q4",
          "2021-Q4",
          "2022-Q1",
          "2022-Q1",
          "2022-Q2",
          "2022-Q2",
          "2022-Q2",
          "2022-Q2",
          "2022-Q3",
          "2022-Q3",
          "2022-Q3",
          "2022-Q3",
          "2022-Q4",
          "2022-Q4",
          "2022-Q4",
          "2022-Q4",
          "2023-Q1",
          "2023-Q1",
          "2023-Q1",
          "2023-Q1",
          "2023-Q1",
          "2023-Q1",
          "2023-Q2",
          "2023-Q2",
          "2023-Q2",
          "2023-Q2",
          "2023-Q2",
          "2023-Q2",
          "2023-Q2"
         ],
         "xaxis": "x",
         "y": {
          "bdata": "EIXSEGS0lz9ZmnPzRKuSPz1DGtAQu3M/eCZDuuZJej9RJi3vnvqRP8Wam34nUXk/s0K5014Acz/txLg+R/x6P54D4aRoepI/gmKaMWIzYz+2OJ4T1j5gP2ssp9r+1HY/ZQJAIOrnjj8GMrE35zVuPxvZ/CDX+nY/U2oOr7ghcz9Z+CvaqeWJP2gESWBGhnY/ElpT8UxiiT8/RHL1rMByPy/PHkzpwHs/b8ILwi/8hj97HL0QV2V0P7tunFz++nA/2EuzZXgheT/Fe81KnjiFP2UNmwzUuJA/Wa4vHUUUhT/gr2o4xwKHPzHXD1kwa3Q/scwP9w2thT9bQqRRkKmHPwXC7Ycv/3Q/libsPcj8jz+H06tVW/mCP1bl5CWVvYc/jOjt/+sdUz8cPFTq8hB1PyTYnI1kv4U/tOE+6/PUdD/TnotU+HmHP+1Llr50gYU/BjSQOHrnUj+9V83kpbl1P4K+d86ye4g/ovJznoxthj+0psLaArdTP6FM40wMc3U/3znfxSIsiD9fKEdnqiSGP89QFjOID2s/KLRlZv6udj/SRyd/6itmP4FDEDM9O3U/Jlv4CtZmfT+fxEMpDeuFP7n03Majp3o/X5qjhh/Jaj922/wFg5dyP/stRz75c3Y/",
          "dtype": "f8"
         },
         "yaxis": "y"
        },
        {
         "customdata": [
          [
           "JP3732000009"
          ],
          [
           "JP3732000009"
          ],
          [
           "JP3732000009"
          ],
          [
           "JP3732000009"
          ],
          [
           "JP3732000009"
          ],
          [
           "JP3732000009"
          ],
          [
           "JP3732000009"
          ],
          [
           "JP3732000009"
          ],
          [
           "JP3732000009"
          ],
          [
           "JP3732000009"
          ],
          [
           "JP3732000009"
          ],
          [
           "JP3732000009"
          ],
          [
           "JP3732000009"
          ],
          [
           "JP3732000009"
          ],
          [
           "JP3732000009"
          ],
          [
           "JP3732000009"
          ],
          [
           "JP3732000009"
          ],
          [
           "JP3732000009"
          ],
          [
           "JP3732000009"
          ],
          [
           "JP3732000009"
          ],
          [
           "JP3732000009"
          ],
          [
           "JP3732000009"
          ],
          [
           "JP3732000009"
          ],
          [
           "JP3732000009"
          ],
          [
           "JP3732000009"
          ],
          [
           "JP3732000009"
          ]
         ],
         "hovertemplate": "ISIN=%{customdata[0]}<br>Quarter=%{x}<br>Value of % of NAV=%{y:.2}<extra></extra>",
         "legendgroup": "JP3732000009",
         "marker": {
          "color": "#FFA15A",
          "pattern": {
           "shape": ""
          }
         },
         "name": "JP3732000009",
         "orientation": "v",
         "showlegend": true,
         "textposition": "auto",
         "type": "bar",
         "x": [
          "2019-Q2",
          "2019-Q3",
          "2019-Q3",
          "2019-Q3",
          "2019-Q4",
          "2019-Q4",
          "2019-Q4",
          "2020-Q1",
          "2020-Q1",
          "2020-Q1",
          "2020-Q2",
          "2020-Q2",
          "2020-Q2",
          "2020-Q2",
          "2020-Q3",
          "2020-Q3",
          "2020-Q3",
          "2020-Q3",
          "2020-Q4",
          "2020-Q4",
          "2020-Q4",
          "2020-Q4",
          "2021-Q1",
          "2021-Q1",
          "2021-Q1",
          "2021-Q1"
         ],
         "xaxis": "x",
         "y": {
          "bdata": "Pu3w3A15cr+h3TIiL9ZAv9/K4mwSE12/CMOpIVtzYr+n+T9VKyBavxTqcedLlGC/eAdpWg9CPr+b+JwBhDhDv1BVzX6DmGC/9r4kjTEQZb9CJrRJDQZZv3IKP59KEWO/zlyQ7YfCX79iv+eby4lSv0Cn8MuRh1m/Pqv8Z2EdVL9RMJicralov+w50IahzU2/477ya02TTL/e5ceGUHpYv3z5ifo7SVO/+IEqlZClZ78RqB8zgllYv0+HsjQBbUy/MwEj7mIvU79+2e1j34Vnvw==",
          "dtype": "f8"
         },
         "yaxis": "y"
        },
        {
         "customdata": [
          [
           "US0527691069"
          ],
          [
           "US0527691069"
          ],
          [
           "US0527691069"
          ],
          [
           "US0527691069"
          ]
         ],
         "hovertemplate": "ISIN=%{customdata[0]}<br>Quarter=%{x}<br>Value of % of NAV=%{y:.2}<extra></extra>",
         "legendgroup": "US0527691069",
         "marker": {
          "color": "#19d3f3",
          "pattern": {
           "shape": ""
          }
         },
         "name": "US0527691069",
         "orientation": "v",
         "showlegend": true,
         "textposition": "auto",
         "type": "bar",
         "x": [
          "2019-Q3",
          "2019-Q4",
          "2020-Q1",
          "2020-Q2"
         ],
         "xaxis": "x",
         "y": {
          "bdata": "n7MzAnpQRT98ur5GvPtHP/PQt+nySwM/3togHMtcBj8=",
          "dtype": "f8"
         },
         "yaxis": "y"
        },
        {
         "customdata": [
          [
           "US7551115071"
          ],
          [
           "US7551115071"
          ],
          [
           "US7551115071"
          ]
         ],
         "hovertemplate": "ISIN=%{customdata[0]}<br>Quarter=%{x}<br>Value of % of NAV=%{y:.2}<extra></extra>",
         "legendgroup": "US7551115071",
         "marker": {
          "color": "#FF6692",
          "pattern": {
           "shape": ""
          }
         },
         "name": "US7551115071",
         "orientation": "v",
         "showlegend": true,
         "textposition": "auto",
         "type": "bar",
         "x": [
          "2019-Q3",
          "2019-Q4",
          "2020-Q1"
         ],
         "xaxis": "x",
         "y": {
          "bdata": "/DbPorBRgj8DR0FWkhKrPy/TT5qbgrA/",
          "dtype": "f8"
         },
         "yaxis": "y"
        },
        {
         "customdata": [
          [
           "US00724F1012"
          ],
          [
           "US00724F1012"
          ],
          [
           "US00724F1012"
          ]
         ],
         "hovertemplate": "ISIN=%{customdata[0]}<br>Quarter=%{x}<br>Value of % of NAV=%{y:.2}<extra></extra>",
         "legendgroup": "US00724F1012",
         "marker": {
          "color": "#B6E880",
          "pattern": {
           "shape": ""
          }
         },
         "name": "US00724F1012",
         "orientation": "v",
         "showlegend": true,
         "textposition": "auto",
         "type": "bar",
         "x": [
          "2019-Q4",
          "2020-Q1",
          "2020-Q2"
         ],
         "xaxis": "x",
         "y": {
          "bdata": "WRBTvIfwBD+4swe/u/wKP0spiXdC6ws/",
          "dtype": "f8"
         },
         "yaxis": "y"
        },
        {
         "customdata": [
          [
           "US6668071029"
          ]
         ],
         "hovertemplate": "ISIN=%{customdata[0]}<br>Quarter=%{x}<br>Value of % of NAV=%{y:.2}<extra></extra>",
         "legendgroup": "US6668071029",
         "marker": {
          "color": "#FF97FF",
          "pattern": {
           "shape": ""
          }
         },
         "name": "US6668071029",
         "orientation": "v",
         "showlegend": true,
         "textposition": "auto",
         "type": "bar",
         "x": [
          "2019-Q4"
         ],
         "xaxis": "x",
         "y": {
          "bdata": "7BRvEr9HYT8=",
          "dtype": "f8"
         },
         "yaxis": "y"
        },
        {
         "customdata": [
          [
           "US8936411003"
          ]
         ],
         "hovertemplate": "ISIN=%{customdata[0]}<br>Quarter=%{x}<br>Value of % of NAV=%{y:.2}<extra></extra>",
         "legendgroup": "US8936411003",
         "marker": {
          "color": "#FECB52",
          "pattern": {
           "shape": ""
          }
         },
         "name": "US8936411003",
         "orientation": "v",
         "showlegend": true,
         "textposition": "auto",
         "type": "bar",
         "x": [
          "2019-Q4"
         ],
         "xaxis": "x",
         "y": {
          "bdata": "KIaCrGQDXD8=",
          "dtype": "f8"
         },
         "yaxis": "y"
        },
        {
         "customdata": [
          [
           "FR0000120073"
          ],
          [
           "FR0000120073"
          ],
          [
           "FR0000120073"
          ],
          [
           "FR0000120073"
          ],
          [
           "FR0000120073"
          ],
          [
           "FR0000120073"
          ]
         ],
         "hovertemplate": "ISIN=%{customdata[0]}<br>Quarter=%{x}<br>Value of % of NAV=%{y:.2}<extra></extra>",
         "legendgroup": "FR0000120073",
         "marker": {
          "color": "#636efa",
          "pattern": {
           "shape": ""
          }
         },
         "name": "FR0000120073",
         "orientation": "v",
         "showlegend": true,
         "textposition": "auto",
         "type": "bar",
         "x": [
          "2019-Q4",
          "2019-Q4",
          "2020-Q1",
          "2020-Q1",
          "2020-Q2",
          "2020-Q2"
         ],
         "xaxis": "x",
         "y": {
          "bdata": "PvU0+7qCij93O3yQ+qhiPzn+fCkDrGY/SX07xm7glj+nW+AgcyxiPx3Bc7e9pZM/",
          "dtype": "f8"
         },
         "yaxis": "y"
        },
        {
         "customdata": [
          [
           "GB0002634946"
          ]
         ],
         "hovertemplate": "ISIN=%{customdata[0]}<br>Quarter=%{x}<br>Value of % of NAV=%{y:.2}<extra></extra>",
         "legendgroup": "GB0002634946",
         "marker": {
          "color": "#EF553B",
          "pattern": {
           "shape": ""
          }
         },
         "name": "GB0002634946",
         "orientation": "v",
         "showlegend": true,
         "textposition": "auto",
         "type": "bar",
         "x": [
          "2019-Q4"
         ],
         "xaxis": "x",
         "y": {
          "bdata": "8FbA1oqmSD8=",
          "dtype": "f8"
         },
         "yaxis": "y"
        },
        {
         "customdata": [
          [
           "DE0007472060"
          ],
          [
           "DE0007472060"
          ],
          [
           "DE0007472060"
          ],
          [
           "DE0007472060"
          ],
          [
           "DE0007472060"
          ],
          [
           "DE0007472060"
          ],
          [
           "DE0007472060"
          ]
         ],
         "hovertemplate": "ISIN=%{customdata[0]}<br>Quarter=%{x}<br>Value of % of NAV=%{y:.2}<extra></extra>",
         "legendgroup": "DE0007472060",
         "marker": {
          "color": "#00cc96",
          "pattern": {
           "shape": ""
          }
         },
         "name": "DE0007472060",
         "orientation": "v",
         "showlegend": true,
         "textposition": "auto",
         "type": "bar",
         "x": [
          "2019-Q4",
          "2019-Q4",
          "2019-Q4",
          "2019-Q4",
          "2020-Q1",
          "2020-Q1",
          "2020-Q1"
         ],
         "xaxis": "x",
         "y": {
          "bdata": "/ezftZ3KZr8/qHhBFaVbvw//a8tNnFC/A6IX4zrjK7/BVx5HU0FVv/Pi5Oo381K/7+AKqRQqbb8=",
          "dtype": "f8"
         },
         "yaxis": "y"
        },
        {
         "customdata": [
          [
           "US0231351067"
          ],
          [
           "US0231351067"
          ],
          [
           "US0231351067"
          ],
          [
           "US0231351067"
          ]
         ],
         "hovertemplate": "ISIN=%{customdata[0]}<br>Quarter=%{x}<br>Value of % of NAV=%{y:.2}<extra></extra>",
         "legendgroup": "US0231351067",
         "marker": {
          "color": "#ab63fa",
          "pattern": {
           "shape": ""
          }
         },
         "name": "US0231351067",
         "orientation": "v",
         "showlegend": true,
         "textposition": "auto",
         "type": "bar",
         "x": [
          "2020-Q1",
          "2020-Q2",
          "2020-Q3",
          "2020-Q4"
         ],
         "xaxis": "x",
         "y": {
          "bdata": "0FAOMTEsQT89oVQPoGBCPwbGPoZn5jI/OhYdNHu2MD8=",
          "dtype": "f8"
         },
         "yaxis": "y"
        },
        {
         "customdata": [
          [
           "IE00BZ12WP82"
          ],
          [
           "IE00BZ12WP82"
          ]
         ],
         "hovertemplate": "ISIN=%{customdata[0]}<br>Quarter=%{x}<br>Value of % of NAV=%{y:.2}<extra></extra>",
         "legendgroup": "IE00BZ12WP82",
         "marker": {
          "color": "#FFA15A",
          "pattern": {
           "shape": ""
          }
         },
         "name": "IE00BZ12WP82",
         "orientation": "v",
         "showlegend": true,
         "textposition": "auto",
         "type": "bar",
         "x": [
          "2020-Q1",
          "2020-Q1"
         ],
         "xaxis": "x",
         "y": {
          "bdata": "ijhuirxWVj97sSxH19tQPw==",
          "dtype": "f8"
         },
         "yaxis": "y"
        },
        {
         "customdata": [
          [
           "US57636Q1040"
          ],
          [
           "US57636Q1040"
          ]
         ],
         "hovertemplate": "ISIN=%{customdata[0]}<br>Quarter=%{x}<br>Value of % of NAV=%{y:.2}<extra></extra>",
         "legendgroup": "US57636Q1040",
         "marker": {
          "color": "#19d3f3",
          "pattern": {
           "shape": ""
          }
         },
         "name": "US57636Q1040",
         "orientation": "v",
         "showlegend": true,
         "textposition": "auto",
         "type": "bar",
         "x": [
          "2020-Q1",
          "2020-Q2"
         ],
         "xaxis": "x",
         "y": {
          "bdata": "tegxDu4vUj+5LevuhdZQPw==",
          "dtype": "f8"
         },
         "yaxis": "y"
        },
        {
         "customdata": [
          [
           "US1011211018"
          ],
          [
           "US1011211018"
          ],
          [
           "US1011211018"
          ],
          [
           "US1011211018"
          ],
          [
           "US1011211018"
          ],
          [
           "US1011211018"
          ],
          [
           "US1011211018"
          ],
          [
           "US1011211018"
          ],
          [
           "US1011211018"
          ],
          [
           "US1011211018"
          ],
          [
           "US1011211018"
          ],
          [
           "US1011211018"
          ],
          [
           "US1011211018"
          ],
          [
           "US1011211018"
          ]
         ],
         "hovertemplate": "ISIN=%{customdata[0]}<br>Quarter=%{x}<br>Value of % of NAV=%{y:.2}<extra></extra>",
         "legendgroup": "US1011211018",
         "marker": {
          "color": "#FF6692",
          "pattern": {
           "shape": ""
          }
         },
         "name": "US1011211018",
         "orientation": "v",
         "showlegend": true,
         "textposition": "auto",
         "type": "bar",
         "x": [
          "2020-Q2",
          "2020-Q3",
          "2020-Q4",
          "2021-Q1",
          "2021-Q2",
          "2021-Q3",
          "2021-Q3",
          "2021-Q4",
          "2021-Q4",
          "2022-Q1",
          "2022-Q2",
          "2022-Q2",
          "2022-Q3",
          "2022-Q3"
         ],
         "xaxis": "x",
         "y": {
          "bdata": "h5KduJLTcT92+8C5kCmJP+PlA6BDKZQ/tnZ+vfzFlT/TR+xNOdGcP3ba2irZTjk/LVMZTWJnnj8jK+wBN345P1JljpCkZ50/rdb0MSMGoD/e9WQHcyQ4P9lpKRNUe5c/6asLmF5ANj/pPV2h6J+FPw==",
          "dtype": "f8"
         },
         "yaxis": "y"
        },
        {
         "customdata": [
          [
           "US75513E1010"
          ]
         ],
         "hovertemplate": "ISIN=%{customdata[0]}<br>Quarter=%{x}<br>Value of % of NAV=%{y:.2}<extra></extra>",
         "legendgroup": "US75513E1010",
         "marker": {
          "color": "#B6E880",
          "pattern": {
           "shape": ""
          }
         },
         "name": "US75513E1010",
         "orientation": "v",
         "showlegend": true,
         "textposition": "auto",
         "type": "bar",
         "x": [
          "2020-Q2"
         ],
         "xaxis": "x",
         "y": {
          "bdata": "YMah+Bz/mT8=",
          "dtype": "f8"
         },
         "yaxis": "y"
        },
        {
         "customdata": [
          [
           "US9290421091"
          ],
          [
           "US9290421091"
          ],
          [
           "US9290421091"
          ]
         ],
         "hovertemplate": "ISIN=%{customdata[0]}<br>Quarter=%{x}<br>Value of % of NAV=%{y:.2}<extra></extra>",
         "legendgroup": "US9290421091",
         "marker": {
          "color": "#FF97FF",
          "pattern": {
           "shape": ""
          }
         },
         "name": "US9290421091",
         "orientation": "v",
         "showlegend": true,
         "textposition": "auto",
         "type": "bar",
         "x": [
          "2020-Q2",
          "2020-Q3",
          "2020-Q4"
         ],
         "xaxis": "x",
         "y": {
          "bdata": "jz6CDqmPdD8SK2lsFDyEP4wqn+077XM/",
          "dtype": "f8"
         },
         "yaxis": "y"
        },
        {
         "customdata": [
          [
           "US92556H2067"
          ],
          [
           "US92556H2067"
          ],
          [
           "US92556H2067"
          ]
         ],
         "hovertemplate": "ISIN=%{customdata[0]}<br>Quarter=%{x}<br>Value of % of NAV=%{y:.2}<extra></extra>",
         "legendgroup": "US92556H2067",
         "marker": {
          "color": "#FECB52",
          "pattern": {
           "shape": ""
          }
         },
         "name": "US92556H2067",
         "orientation": "v",
         "showlegend": true,
         "textposition": "auto",
         "type": "bar",
         "x": [
          "2020-Q3",
          "2020-Q4",
          "2021-Q1"
         ],
         "xaxis": "x",
         "y": {
          "bdata": "rBFbXBxpZL8bfRjTB/GCvwAAAAAAAAAA",
          "dtype": "f8"
         },
         "yaxis": "y"
        },
        {
         "customdata": [
          [
           "TW0002330008"
          ],
          [
           "TW0002330008"
          ],
          [
           "TW0002330008"
          ],
          [
           "TW0002330008"
          ],
          [
           "TW0002330008"
          ],
          [
           "TW0002330008"
          ],
          [
           "TW0002330008"
          ],
          [
           "TW0002330008"
          ],
          [
           "TW0002330008"
          ],
          [
           "TW0002330008"
          ],
          [
           "TW0002330008"
          ],
          [
           "TW0002330008"
          ],
          [
           "TW0002330008"
          ],
          [
           "TW0002330008"
          ],
          [
           "TW0002330008"
          ],
          [
           "TW0002330008"
          ],
          [
           "TW0002330008"
          ],
          [
           "TW0002330008"
          ],
          [
           "TW0002330008"
          ],
          [
           "TW0002330008"
          ],
          [
           "TW0002330008"
          ],
          [
           "TW0002330008"
          ],
          [
           "TW0002330008"
          ],
          [
           "TW0002330008"
          ],
          [
           "TW0002330008"
          ],
          [
           "TW0002330008"
          ],
          [
           "TW0002330008"
          ],
          [
           "TW0002330008"
          ],
          [
           "TW0002330008"
          ],
          [
           "TW0002330008"
          ],
          [
           "TW0002330008"
          ],
          [
           "TW0002330008"
          ]
         ],
         "hovertemplate": "ISIN=%{customdata[0]}<br>Quarter=%{x}<br>Value of % of NAV=%{y:.2}<extra></extra>",
         "legendgroup": "TW0002330008",
         "marker": {
          "color": "#636efa",
          "pattern": {
           "shape": ""
          }
         },
         "name": "TW0002330008",
         "orientation": "v",
         "showlegend": true,
         "textposition": "auto",
         "type": "bar",
         "x": [
          "2020-Q3",
          "2020-Q3",
          "2020-Q3",
          "2020-Q3",
          "2020-Q4",
          "2020-Q4",
          "2020-Q4",
          "2020-Q4",
          "2021-Q1",
          "2021-Q1",
          "2021-Q1",
          "2021-Q1",
          "2021-Q2",
          "2021-Q3",
          "2021-Q3",
          "2021-Q3",
          "2021-Q4",
          "2021-Q4",
          "2021-Q4",
          "2022-Q1",
          "2022-Q2",
          "2022-Q2",
          "2022-Q2",
          "2022-Q2",
          "2022-Q2",
          "2022-Q3",
          "2022-Q3",
          "2022-Q3",
          "2022-Q3",
          "2022-Q4",
          "2022-Q4",
          "2022-Q4"
         ],
         "xaxis": "x",
         "y": {
          "bdata": "+rfSaVhokD+8YUlMfxyTP+pe1NZQy2A/pOTKZYcPej/osEC71Bt8PxA4yCL9nJQ/eMwRSmlwhT+jsrsscbKRP2jlks9YgZI/ZLHdvnZkfT8vKX1Ra0BkP095NwQRa4Y/QJwgVajBoT9X0Yvh+1t6PwAi6EFoE2E/EcXAGnuYkD+QjV7DNZ96P5AiAPv0PmE/T3W9Uc7CkD9VOr3FAUiVPz3p1NW9i3c/TxWpraeBXj/AHI4o0ItTP0jWfitSboc/drlqnAfPcT8mpXQZtMBRP72lDjyvYnU/8yU8nfZHhT8HC19/ARp3P+nonRAqRFk/WWPnQGd6UT/RbcREhr52Pw==",
          "dtype": "f8"
         },
         "yaxis": "y"
        },
        {
         "customdata": [
          [
           "US4824801009"
          ],
          [
           "US4824801009"
          ]
         ],
         "hovertemplate": "ISIN=%{customdata[0]}<br>Quarter=%{x}<br>Value of % of NAV=%{y:.2}<extra></extra>",
         "legendgroup": "US4824801009",
         "marker": {
          "color": "#EF553B",
          "pattern": {
           "shape": ""
          }
         },
         "name": "US4824801009",
         "orientation": "v",
         "showlegend": true,
         "textposition": "auto",
         "type": "bar",
         "x": [
          "2021-Q1",
          "2022-Q2"
         ],
         "xaxis": "x",
         "y": {
          "bdata": "nxZDzKvDMT/9zBvPtm1WPw==",
          "dtype": "f8"
         },
         "yaxis": "y"
        },
        {
         "customdata": [
          [
           "US5128071082"
          ],
          [
           "US5128071082"
          ]
         ],
         "hovertemplate": "ISIN=%{customdata[0]}<br>Quarter=%{x}<br>Value of % of NAV=%{y:.2}<extra></extra>",
         "legendgroup": "US5128071082",
         "marker": {
          "color": "#00cc96",
          "pattern": {
           "shape": ""
          }
         },
         "name": "US5128071082",
         "orientation": "v",
         "showlegend": true,
         "textposition": "auto",
         "type": "bar",
         "x": [
          "2021-Q1",
          "2022-Q2"
         ],
         "xaxis": "x",
         "y": {
          "bdata": "X0QDePgXMj8ytRqRiUFRPw==",
          "dtype": "f8"
         },
         "yaxis": "y"
        },
        {
         "customdata": [
          [
           "US0152711091"
          ],
          [
           "US0152711091"
          ],
          [
           "US0152711091"
          ],
          [
           "US0152711091"
          ],
          [
           "US0152711091"
          ]
         ],
         "hovertemplate": "ISIN=%{customdata[0]}<br>Quarter=%{x}<br>Value of % of NAV=%{y:.2}<extra></extra>",
         "legendgroup": "US0152711091",
         "marker": {
          "color": "#ab63fa",
          "pattern": {
           "shape": ""
          }
         },
         "name": "US0152711091",
         "orientation": "v",
         "showlegend": true,
         "textposition": "auto",
         "type": "bar",
         "x": [
          "2021-Q2",
          "2021-Q3",
          "2021-Q3",
          "2021-Q4",
          "2021-Q4"
         ],
         "xaxis": "x",
         "y": {
          "bdata": "WFys7lEhRD9POzT5wcA9PzrzvBi0NW4/bvv2zAtzQD8euOqRs7NwPw==",
          "dtype": "f8"
         },
         "yaxis": "y"
        },
        {
         "customdata": [
          [
           "US49427F1084"
          ]
         ],
         "hovertemplate": "ISIN=%{customdata[0]}<br>Quarter=%{x}<br>Value of % of NAV=%{y:.2}<extra></extra>",
         "legendgroup": "US49427F1084",
         "marker": {
          "color": "#FFA15A",
          "pattern": {
           "shape": ""
          }
         },
         "name": "US49427F1084",
         "orientation": "v",
         "showlegend": true,
         "textposition": "auto",
         "type": "bar",
         "x": [
          "2021-Q2"
         ],
         "xaxis": "x",
         "y": {
          "bdata": "gJI75IHpEj8=",
          "dtype": "f8"
         },
         "yaxis": "y"
        },
        {
         "customdata": [
          [
           "ES0105066007"
          ],
          [
           "ES0105066007"
          ],
          [
           "ES0105066007"
          ],
          [
           "ES0105066007"
          ],
          [
           "ES0105066007"
          ],
          [
           "ES0105066007"
          ],
          [
           "ES0105066007"
          ],
          [
           "ES0105066007"
          ],
          [
           "ES0105066007"
          ],
          [
           "ES0105066007"
          ],
          [
           "ES0105066007"
          ],
          [
           "ES0105066007"
          ],
          [
           "ES0105066007"
          ],
          [
           "ES0105066007"
          ],
          [
           "ES0105066007"
          ],
          [
           "ES0105066007"
          ],
          [
           "ES0105066007"
          ],
          [
           "ES0105066007"
          ],
          [
           "ES0105066007"
          ],
          [
           "ES0105066007"
          ],
          [
           "ES0105066007"
          ],
          [
           "ES0105066007"
          ],
          [
           "ES0105066007"
          ],
          [
           "ES0105066007"
          ],
          [
           "ES0105066007"
          ],
          [
           "ES0105066007"
          ],
          [
           "ES0105066007"
          ],
          [
           "ES0105066007"
          ],
          [
           "ES0105066007"
          ],
          [
           "ES0105066007"
          ],
          [
           "ES0105066007"
          ],
          [
           "ES0105066007"
          ],
          [
           "ES0105066007"
          ],
          [
           "ES0105066007"
          ],
          [
           "ES0105066007"
          ],
          [
           "ES0105066007"
          ],
          [
           "ES0105066007"
          ],
          [
           "ES0105066007"
          ],
          [
           "ES0105066007"
          ],
          [
           "ES0105066007"
          ],
          [
           "ES0105066007"
          ],
          [
           "ES0105066007"
          ],
          [
           "ES0105066007"
          ],
          [
           "ES0105066007"
          ]
         ],
         "hovertemplate": "ISIN=%{customdata[0]}<br>Quarter=%{x}<br>Value of % of NAV=%{y:.2}<extra></extra>",
         "legendgroup": "ES0105066007",
         "marker": {
          "color": "#19d3f3",
          "pattern": {
           "shape": ""
          }
         },
         "name": "ES0105066007",
         "orientation": "v",
         "showlegend": true,
         "textposition": "auto",
         "type": "bar",
         "x": [
          "2021-Q2",
          "2021-Q3",
          "2021-Q3",
          "2021-Q3",
          "2021-Q3",
          "2021-Q3",
          "2021-Q4",
          "2021-Q4",
          "2021-Q4",
          "2021-Q4",
          "2021-Q4",
          "2021-Q4",
          "2022-Q1",
          "2022-Q2",
          "2022-Q2",
          "2022-Q2",
          "2022-Q2",
          "2022-Q2",
          "2022-Q2",
          "2022-Q3",
          "2022-Q3",
          "2022-Q3",
          "2022-Q3",
          "2022-Q3",
          "2022-Q3",
          "2022-Q4",
          "2022-Q4",
          "2022-Q4",
          "2022-Q4",
          "2022-Q4",
          "2022-Q4",
          "2023-Q1",
          "2023-Q1",
          "2023-Q1",
          "2023-Q1",
          "2023-Q1",
          "2023-Q2",
          "2023-Q3",
          "2023-Q4",
          "2024-Q1",
          "2024-Q2",
          "2024-Q3",
          "2024-Q4",
          "2025-Q1"
         ],
         "xaxis": "x",
         "y": {
          "bdata": "qzFTgQ/PoT8+W98r62iDPwEkOSSUfoI/WB09JNGNKj8K7hBzC9GAP2WerOXHwoM/26Nfte7WcD/JsFzwh1iBPw0+uUQch4A/mxL6WhBAYj9D0Rpg1qiBPyv+35Sor4o/Kf6kubt/pD9tEBRmSHJuP9l7CtxiCos/6YUpIOYBfT/XsRqGlF18P556PaTn4Hw/BTjdbzTYXT9/9quHNrtqP1K2bvOC53g/+F4WFD97iD/ekI3Qz1p5P5kCeaXHd3k/WrKVJTf3YD/jt8dHmXZpPwgFFkgVuXc/x6szCoJCeD87WS/86SZ4P22p9d4wKWA/xQc+I/RRhz9Ulox7BIqpPwAAAAAAAAAAAAAAAAAAAAAAAAAAAAAAAAAAAAAAAAAAEE6e26PHqT92aRrlY2anPw4txniQ6qY/yMskmOlKoj+zP2KqeYShP/BVfgWSAaQ/ibWWgeD5nz/pzGXu8fSgPw==",
          "dtype": "f8"
         },
         "yaxis": "y"
        },
        {
         "customdata": [
          [
           "BMG475671050"
          ],
          [
           "BMG475671050"
          ]
         ],
         "hovertemplate": "ISIN=%{customdata[0]}<br>Quarter=%{x}<br>Value of % of NAV=%{y:.2}<extra></extra>",
         "legendgroup": "BMG475671050",
         "marker": {
          "color": "#FF6692",
          "pattern": {
           "shape": ""
          }
         },
         "name": "BMG475671050",
         "orientation": "v",
         "showlegend": true,
         "textposition": "auto",
         "type": "bar",
         "x": [
          "2021-Q3",
          "2021-Q4"
         ],
         "xaxis": "x",
         "y": {
          "bdata": "YuWsaAEDgz844m1CnMuVPw==",
          "dtype": "f8"
         },
         "yaxis": "y"
        },
        {
         "customdata": [
          [
           "US0382221051"
          ]
         ],
         "hovertemplate": "ISIN=%{customdata[0]}<br>Quarter=%{x}<br>Value of % of NAV=%{y:.2}<extra></extra>",
         "legendgroup": "US0382221051",
         "marker": {
          "color": "#B6E880",
          "pattern": {
           "shape": ""
          }
         },
         "name": "US0382221051",
         "orientation": "v",
         "showlegend": true,
         "textposition": "auto",
         "type": "bar",
         "x": [
          "2022-Q2"
         ],
         "xaxis": "x",
         "y": {
          "bdata": "5ApkzTeEcz8=",
          "dtype": "f8"
         },
         "yaxis": "y"
        },
        {
         "customdata": [
          [
           "NL0010273215"
          ]
         ],
         "hovertemplate": "ISIN=%{customdata[0]}<br>Quarter=%{x}<br>Value of % of NAV=%{y:.2}<extra></extra>",
         "legendgroup": "NL0010273215",
         "marker": {
          "color": "#FF97FF",
          "pattern": {
           "shape": ""
          }
         },
         "name": "NL0010273215",
         "orientation": "v",
         "showlegend": true,
         "textposition": "auto",
         "type": "bar",
         "x": [
          "2022-Q2"
         ],
         "xaxis": "x",
         "y": {
          "bdata": "3rSSaoZEgT8=",
          "dtype": "f8"
         },
         "yaxis": "y"
        },
        {
         "customdata": [
          [
           "CA13646K1084"
          ],
          [
           "CA13646K1084"
          ],
          [
           "CA13646K1084"
          ],
          [
           "CA13646K1084"
          ],
          [
           "CA13646K1084"
          ],
          [
           "CA13646K1084"
          ],
          [
           "CA13646K1084"
          ],
          [
           "CA13646K1084"
          ],
          [
           "CA13646K1084"
          ],
          [
           "CA13646K1084"
          ],
          [
           "CA13646K1084"
          ],
          [
           "CA13646K1084"
          ],
          [
           "CA13646K1084"
          ],
          [
           "CA13646K1084"
          ],
          [
           "CA13646K1084"
          ],
          [
           "CA13646K1084"
          ],
          [
           "CA13646K1084"
          ],
          [
           "CA13646K1084"
          ],
          [
           "CA13646K1084"
          ],
          [
           "CA13646K1084"
          ],
          [
           "CA13646K1084"
          ],
          [
           "CA13646K1084"
          ],
          [
           "CA13646K1084"
          ],
          [
           "CA13646K1084"
          ],
          [
           "CA13646K1084"
          ]
         ],
         "hovertemplate": "ISIN=%{customdata[0]}<br>Quarter=%{x}<br>Value of % of NAV=%{y:.2}<extra></extra>",
         "legendgroup": "CA13646K1084",
         "marker": {
          "color": "#FECB52",
          "pattern": {
           "shape": ""
          }
         },
         "name": "CA13646K1084",
         "orientation": "v",
         "showlegend": true,
         "textposition": "auto",
         "type": "bar",
         "x": [
          "2022-Q4",
          "2022-Q4",
          "2022-Q4",
          "2023-Q1",
          "2023-Q1",
          "2023-Q1",
          "2023-Q2",
          "2023-Q2",
          "2023-Q2",
          "2023-Q3",
          "2023-Q3",
          "2023-Q3",
          "2023-Q4",
          "2023-Q4",
          "2024-Q1",
          "2024-Q1",
          "2024-Q2",
          "2024-Q2",
          "2024-Q2",
          "2024-Q3",
          "2024-Q3",
          "2024-Q4",
          "2024-Q4",
          "2025-Q1",
          "2025-Q1"
         ],
         "xaxis": "x",
         "y": {
          "bdata": "SIcC6dYasz+jwab/itpjP5Vc03qn2pk/d8hnNhlgsT/oHK8A6bt0P956hW2FjJQ/ZvgMYvUEdD+RNovZm8ewPztTwPQz15M/Y21i4Ik3sD8TSBKji2FzP3jdhrM/NZM/vj3Jha3vrT/4LPF+HCuWPya8tdzG+JU/gra8aduGrT+aTFpHmnJwPwZP+KsCTZA/OJqut+Zuqz8nmTSCtEmrP6Kzwqb2UZQ/AC96G6iypz+2swr9x6GRP6tTPi8/JZA/VS5+jLSupT8=",
          "dtype": "f8"
         },
         "yaxis": "y"
        },
        {
         "customdata": [
          [
           "US8835561023"
          ],
          [
           "US8835561023"
          ],
          [
           "US8835561023"
          ],
          [
           "US8835561023"
          ],
          [
           "US8835561023"
          ],
          [
           "US8835561023"
          ],
          [
           "US8835561023"
          ],
          [
           "US8835561023"
          ],
          [
           "US8835561023"
          ],
          [
           "US8835561023"
          ],
          [
           "US8835561023"
          ],
          [
           "US8835561023"
          ],
          [
           "US8835561023"
          ]
         ],
         "hovertemplate": "ISIN=%{customdata[0]}<br>Quarter=%{x}<br>Value of % of NAV=%{y:.2}<extra></extra>",
         "legendgroup": "US8835561023",
         "marker": {
          "color": "#636efa",
          "pattern": {
           "shape": ""
          }
         },
         "name": "US8835561023",
         "orientation": "v",
         "showlegend": true,
         "textposition": "auto",
         "type": "bar",
         "x": [
          "2022-Q4",
          "2022-Q4",
          "2023-Q1",
          "2023-Q1",
          "2023-Q1",
          "2023-Q2",
          "2023-Q2",
          "2023-Q2",
          "2023-Q3",
          "2023-Q3",
          "2023-Q3",
          "2023-Q4",
          "2024-Q1"
         ],
         "xaxis": "x",
         "y": {
          "bdata": "NyVPaUg6Nz9X33HRLotDPw3yez4lZyU/Kx4k7oZ7az/ffcksba98PzKAo3je0SE/CUgr4Qvidz+KMZcQ0+GcPx9V9LG9KiI/KJ/tNihZeD85nI2vSKidP0XNyixPUqA/HQNwgfQKkD8=",
          "dtype": "f8"
         },
         "yaxis": "y"
        },
        {
         "customdata": [
          [
           "US3696043013"
          ],
          [
           "US3696043013"
          ],
          [
           "US3696043013"
          ],
          [
           "US3696043013"
          ],
          [
           "US3696043013"
          ],
          [
           "US3696043013"
          ],
          [
           "US3696043013"
          ],
          [
           "US3696043013"
          ],
          [
           "US3696043013"
          ],
          [
           "US3696043013"
          ],
          [
           "US3696043013"
          ],
          [
           "US3696043013"
          ],
          [
           "US3696043013"
          ],
          [
           "US3696043013"
          ],
          [
           "US3696043013"
          ],
          [
           "US3696043013"
          ]
         ],
         "hovertemplate": "ISIN=%{customdata[0]}<br>Quarter=%{x}<br>Value of % of NAV=%{y:.2}<extra></extra>",
         "legendgroup": "US3696043013",
         "marker": {
          "color": "#EF553B",
          "pattern": {
           "shape": ""
          }
         },
         "name": "US3696043013",
         "orientation": "v",
         "showlegend": true,
         "textposition": "auto",
         "type": "bar",
         "x": [
          "2023-Q1",
          "2023-Q1",
          "2023-Q2",
          "2023-Q2",
          "2023-Q2",
          "2023-Q3",
          "2023-Q3",
          "2023-Q3",
          "2023-Q4",
          "2024-Q1",
          "2024-Q2",
          "2024-Q2",
          "2024-Q2",
          "2024-Q3",
          "2024-Q4",
          "2025-Q1"
         ],
         "xaxis": "x",
         "y": {
          "bdata": "MCba7O7Hlz+O05oKYEyePzndNpr5rEc/MsNGjV8OjT+lWR83rmSzP59WArrUCUk/k1eCVYK6jj8bTOWub4K0P0cTGPzulLg/6MWIjd8UwT9OJlfFAuFMP2Y/RcqPuJE/pfHcGwmRvD/e2MS94A3CP9sN43CSTL8/1hOPSptiwj8=",
          "dtype": "f8"
         },
         "yaxis": "y"
        },
        {
         "customdata": [
          [
           "JE00BJVNSS43"
          ],
          [
           "JE00BJVNSS43"
          ],
          [
           "JE00BJVNSS43"
          ],
          [
           "JE00BJVNSS43"
          ],
          [
           "JE00BJVNSS43"
          ],
          [
           "JE00BJVNSS43"
          ]
         ],
         "hovertemplate": "ISIN=%{customdata[0]}<br>Quarter=%{x}<br>Value of % of NAV=%{y:.2}<extra></extra>",
         "legendgroup": "JE00BJVNSS43",
         "marker": {
          "color": "#00cc96",
          "pattern": {
           "shape": ""
          }
         },
         "name": "JE00BJVNSS43",
         "orientation": "v",
         "showlegend": true,
         "textposition": "auto",
         "type": "bar",
         "x": [
          "2023-Q2",
          "2023-Q2",
          "2023-Q3",
          "2023-Q3",
          "2023-Q4",
          "2024-Q1"
         ],
         "xaxis": "x",
         "y": {
          "bdata": "8Dtgd6cLOj9J7jBzTSpSP/psguKxnTw/2Vo/cD/1Uz804JqWeptbPwAAAAAAAAAA",
          "dtype": "f8"
         },
         "yaxis": "y"
        },
        {
         "customdata": [
          [
           "NL0015001FS8"
          ],
          [
           "NL0015001FS8"
          ],
          [
           "NL0015001FS8"
          ],
          [
           "NL0015001FS8"
          ],
          [
           "NL0015001FS8"
          ],
          [
           "NL0015001FS8"
          ],
          [
           "NL0015001FS8"
          ],
          [
           "NL0015001FS8"
          ],
          [
           "NL0015001FS8"
          ],
          [
           "NL0015001FS8"
          ],
          [
           "NL0015001FS8"
          ],
          [
           "NL0015001FS8"
          ],
          [
           "NL0015001FS8"
          ],
          [
           "NL0015001FS8"
          ],
          [
           "NL0015001FS8"
          ],
          [
           "NL0015001FS8"
          ],
          [
           "NL0015001FS8"
          ],
          [
           "NL0015001FS8"
          ],
          [
           "NL0015001FS8"
          ],
          [
           "NL0015001FS8"
          ],
          [
           "NL0015001FS8"
          ],
          [
           "NL0015001FS8"
          ],
          [
           "NL0015001FS8"
          ],
          [
           "NL0015001FS8"
          ],
          [
           "NL0015001FS8"
          ],
          [
           "NL0015001FS8"
          ],
          [
           "NL0015001FS8"
          ],
          [
           "NL0015001FS8"
          ],
          [
           "NL0015001FS8"
          ],
          [
           "NL0015001FS8"
          ],
          [
           "NL0015001FS8"
          ],
          [
           "NL0015001FS8"
          ]
         ],
         "hovertemplate": "ISIN=%{customdata[0]}<br>Quarter=%{x}<br>Value of % of NAV=%{y:.2}<extra></extra>",
         "legendgroup": "NL0015001FS8",
         "marker": {
          "color": "#ab63fa",
          "pattern": {
           "shape": ""
          }
         },
         "name": "NL0015001FS8",
         "orientation": "v",
         "showlegend": true,
         "textposition": "auto",
         "type": "bar",
         "x": [
          "2023-Q2",
          "2023-Q3",
          "2023-Q3",
          "2023-Q3",
          "2023-Q3",
          "2023-Q3",
          "2023-Q3",
          "2023-Q3",
          "2023-Q3",
          "2023-Q4",
          "2023-Q4",
          "2023-Q4",
          "2024-Q1",
          "2024-Q1",
          "2024-Q1",
          "2024-Q2",
          "2024-Q2",
          "2024-Q2",
          "2024-Q2",
          "2024-Q2",
          "2024-Q2",
          "2024-Q2",
          "2024-Q2",
          "2024-Q2",
          "2024-Q3",
          "2024-Q3",
          "2024-Q3",
          "2024-Q4",
          "2024-Q4",
          "2024-Q4",
          "2025-Q1",
          "2025-Q1"
         ],
         "xaxis": "x",
         "y": {
          "bdata": "VjGxYzdtMT+dv9ABxRNlP4nibxSf1HU/1FSrPz47fj8ymRoqZYmGPzfwBe4zaHs/JS1vuKGKaz+lxrF3LhZ3P6j/SkjTHXM/4bimj8YTZj8oBCmw1yGlP3EUhGQEBnQ/jI6RonxNZT8QTxXOyVOFP2bWfE3TraQ/JfL2krTSRj8/ownKU4Z3P6eX+8ogYmI/3ABbqau5dj+L92LhEndiP6/VVLgrfYA/418pAg7vdj8v3F6SZ/eFP+nTo4H0CZE/G0+/wHu4ej98B103seukP4uswVuJQIY/CtbGNccqez857Crht5+GP3E4Lr4tRaU/lVJUNt4oez8LlA8NN+uqPw==",
          "dtype": "f8"
         },
         "yaxis": "y"
        },
        {
         "customdata": [
          [
           "DE0007236101"
          ],
          [
           "DE0007236101"
          ],
          [
           "DE0007236101"
          ],
          [
           "DE0007236101"
          ],
          [
           "DE0007236101"
          ],
          [
           "DE0007236101"
          ],
          [
           "DE0007236101"
          ],
          [
           "DE0007236101"
          ],
          [
           "DE0007236101"
          ]
         ],
         "hovertemplate": "ISIN=%{customdata[0]}<br>Quarter=%{x}<br>Value of % of NAV=%{y:.2}<extra></extra>",
         "legendgroup": "DE0007236101",
         "marker": {
          "color": "#FFA15A",
          "pattern": {
           "shape": ""
          }
         },
         "name": "DE0007236101",
         "orientation": "v",
         "showlegend": true,
         "textposition": "auto",
         "type": "bar",
         "x": [
          "2023-Q2",
          "2023-Q3",
          "2023-Q4",
          "2024-Q1",
          "2024-Q2",
          "2024-Q2",
          "2024-Q2",
          "2024-Q3",
          "2024-Q4"
         ],
         "xaxis": "x",
         "y": {
          "bdata": "YlPFsZRehD8YPK40fbeFP5BAKb8goYg/4BAOzcNHhj/M+P/ziYo2P8Fxz6UQqXY/P/m/VOEhdT8HCfFqOHaGP+C9uchxSYY/",
          "dtype": "f8"
         },
         "yaxis": "y"
        },
        {
         "customdata": [
          [
           "DE000SHL1006"
          ],
          [
           "DE000SHL1006"
          ],
          [
           "DE000SHL1006"
          ],
          [
           "DE000SHL1006"
          ],
          [
           "DE000SHL1006"
          ],
          [
           "DE000SHL1006"
          ],
          [
           "DE000SHL1006"
          ]
         ],
         "hovertemplate": "ISIN=%{customdata[0]}<br>Quarter=%{x}<br>Value of % of NAV=%{y:.2}<extra></extra>",
         "legendgroup": "DE000SHL1006",
         "marker": {
          "color": "#19d3f3",
          "pattern": {
           "shape": ""
          }
         },
         "name": "DE000SHL1006",
         "orientation": "v",
         "showlegend": true,
         "textposition": "auto",
         "type": "bar",
         "x": [
          "2023-Q2",
          "2023-Q3",
          "2023-Q4",
          "2024-Q1",
          "2024-Q2",
          "2024-Q3",
          "2024-Q4"
         ],
         "xaxis": "x",
         "y": {
          "bdata": "hlnXGI1/bb+KBcG4C1xwv4au+nx9O3C/QwMj0Klobr9P9DewzM1tvzFfr7xXaGy/32OLLLTEab8=",
          "dtype": "f8"
         },
         "yaxis": "y"
        },
        {
         "customdata": [
          [
           "US36828A1016"
          ]
         ],
         "hovertemplate": "ISIN=%{customdata[0]}<br>Quarter=%{x}<br>Value of % of NAV=%{y:.2}<extra></extra>",
         "legendgroup": "US36828A1016",
         "marker": {
          "color": "#FF6692",
          "pattern": {
           "shape": ""
          }
         },
         "name": "US36828A1016",
         "orientation": "v",
         "showlegend": true,
         "textposition": "auto",
         "type": "bar",
         "x": [
          "2024-Q1"
         ],
         "xaxis": "x",
         "y": {
          "bdata": "UdfTUh+Xbr8=",
          "dtype": "f8"
         },
         "yaxis": "y"
        },
        {
         "customdata": [
          [
           "ES0105046017"
          ],
          [
           "ES0105046017"
          ]
         ],
         "hovertemplate": "ISIN=%{customdata[0]}<br>Quarter=%{x}<br>Value of % of NAV=%{y:.2}<extra></extra>",
         "legendgroup": "ES0105046017",
         "marker": {
          "color": "#B6E880",
          "pattern": {
           "shape": ""
          }
         },
         "name": "ES0105046017",
         "orientation": "v",
         "showlegend": true,
         "textposition": "auto",
         "type": "bar",
         "x": [
          "2025-Q1",
          "2025-Q1"
         ],
         "xaxis": "x",
         "y": {
          "bdata": "678NonZviD+ttBZt+yaUPw==",
          "dtype": "f8"
         },
         "yaxis": "y"
        }
       ],
       "layout": {
        "barmode": "stack",
        "legend": {
         "title": {
          "text": "ISIN"
         },
         "tracegroupgap": 0
        },
        "template": {
         "data": {
          "bar": [
           {
            "error_x": {
             "color": "#2a3f5f"
            },
            "error_y": {
             "color": "#2a3f5f"
            },
            "marker": {
             "line": {
              "color": "#E5ECF6",
              "width": 0.5
             },
             "pattern": {
              "fillmode": "overlay",
              "size": 10,
              "solidity": 0.2
             }
            },
            "type": "bar"
           }
          ],
          "barpolar": [
           {
            "marker": {
             "line": {
              "color": "#E5ECF6",
              "width": 0.5
             },
             "pattern": {
              "fillmode": "overlay",
              "size": 10,
              "solidity": 0.2
             }
            },
            "type": "barpolar"
           }
          ],
          "carpet": [
           {
            "aaxis": {
             "endlinecolor": "#2a3f5f",
             "gridcolor": "white",
             "linecolor": "white",
             "minorgridcolor": "white",
             "startlinecolor": "#2a3f5f"
            },
            "baxis": {
             "endlinecolor": "#2a3f5f",
             "gridcolor": "white",
             "linecolor": "white",
             "minorgridcolor": "white",
             "startlinecolor": "#2a3f5f"
            },
            "type": "carpet"
           }
          ],
          "choropleth": [
           {
            "colorbar": {
             "outlinewidth": 0,
             "ticks": ""
            },
            "type": "choropleth"
           }
          ],
          "contour": [
           {
            "colorbar": {
             "outlinewidth": 0,
             "ticks": ""
            },
            "colorscale": [
             [
              0,
              "#0d0887"
             ],
             [
              0.1111111111111111,
              "#46039f"
             ],
             [
              0.2222222222222222,
              "#7201a8"
             ],
             [
              0.3333333333333333,
              "#9c179e"
             ],
             [
              0.4444444444444444,
              "#bd3786"
             ],
             [
              0.5555555555555556,
              "#d8576b"
             ],
             [
              0.6666666666666666,
              "#ed7953"
             ],
             [
              0.7777777777777778,
              "#fb9f3a"
             ],
             [
              0.8888888888888888,
              "#fdca26"
             ],
             [
              1,
              "#f0f921"
             ]
            ],
            "type": "contour"
           }
          ],
          "contourcarpet": [
           {
            "colorbar": {
             "outlinewidth": 0,
             "ticks": ""
            },
            "type": "contourcarpet"
           }
          ],
          "heatmap": [
           {
            "colorbar": {
             "outlinewidth": 0,
             "ticks": ""
            },
            "colorscale": [
             [
              0,
              "#0d0887"
             ],
             [
              0.1111111111111111,
              "#46039f"
             ],
             [
              0.2222222222222222,
              "#7201a8"
             ],
             [
              0.3333333333333333,
              "#9c179e"
             ],
             [
              0.4444444444444444,
              "#bd3786"
             ],
             [
              0.5555555555555556,
              "#d8576b"
             ],
             [
              0.6666666666666666,
              "#ed7953"
             ],
             [
              0.7777777777777778,
              "#fb9f3a"
             ],
             [
              0.8888888888888888,
              "#fdca26"
             ],
             [
              1,
              "#f0f921"
             ]
            ],
            "type": "heatmap"
           }
          ],
          "histogram": [
           {
            "marker": {
             "pattern": {
              "fillmode": "overlay",
              "size": 10,
              "solidity": 0.2
             }
            },
            "type": "histogram"
           }
          ],
          "histogram2d": [
           {
            "colorbar": {
             "outlinewidth": 0,
             "ticks": ""
            },
            "colorscale": [
             [
              0,
              "#0d0887"
             ],
             [
              0.1111111111111111,
              "#46039f"
             ],
             [
              0.2222222222222222,
              "#7201a8"
             ],
             [
              0.3333333333333333,
              "#9c179e"
             ],
             [
              0.4444444444444444,
              "#bd3786"
             ],
             [
              0.5555555555555556,
              "#d8576b"
             ],
             [
              0.6666666666666666,
              "#ed7953"
             ],
             [
              0.7777777777777778,
              "#fb9f3a"
             ],
             [
              0.8888888888888888,
              "#fdca26"
             ],
             [
              1,
              "#f0f921"
             ]
            ],
            "type": "histogram2d"
           }
          ],
          "histogram2dcontour": [
           {
            "colorbar": {
             "outlinewidth": 0,
             "ticks": ""
            },
            "colorscale": [
             [
              0,
              "#0d0887"
             ],
             [
              0.1111111111111111,
              "#46039f"
             ],
             [
              0.2222222222222222,
              "#7201a8"
             ],
             [
              0.3333333333333333,
              "#9c179e"
             ],
             [
              0.4444444444444444,
              "#bd3786"
             ],
             [
              0.5555555555555556,
              "#d8576b"
             ],
             [
              0.6666666666666666,
              "#ed7953"
             ],
             [
              0.7777777777777778,
              "#fb9f3a"
             ],
             [
              0.8888888888888888,
              "#fdca26"
             ],
             [
              1,
              "#f0f921"
             ]
            ],
            "type": "histogram2dcontour"
           }
          ],
          "mesh3d": [
           {
            "colorbar": {
             "outlinewidth": 0,
             "ticks": ""
            },
            "type": "mesh3d"
           }
          ],
          "parcoords": [
           {
            "line": {
             "colorbar": {
              "outlinewidth": 0,
              "ticks": ""
             }
            },
            "type": "parcoords"
           }
          ],
          "pie": [
           {
            "automargin": true,
            "type": "pie"
           }
          ],
          "scatter": [
           {
            "fillpattern": {
             "fillmode": "overlay",
             "size": 10,
             "solidity": 0.2
            },
            "type": "scatter"
           }
          ],
          "scatter3d": [
           {
            "line": {
             "colorbar": {
              "outlinewidth": 0,
              "ticks": ""
             }
            },
            "marker": {
             "colorbar": {
              "outlinewidth": 0,
              "ticks": ""
             }
            },
            "type": "scatter3d"
           }
          ],
          "scattercarpet": [
           {
            "marker": {
             "colorbar": {
              "outlinewidth": 0,
              "ticks": ""
             }
            },
            "type": "scattercarpet"
           }
          ],
          "scattergeo": [
           {
            "marker": {
             "colorbar": {
              "outlinewidth": 0,
              "ticks": ""
             }
            },
            "type": "scattergeo"
           }
          ],
          "scattergl": [
           {
            "marker": {
             "colorbar": {
              "outlinewidth": 0,
              "ticks": ""
             }
            },
            "type": "scattergl"
           }
          ],
          "scattermap": [
           {
            "marker": {
             "colorbar": {
              "outlinewidth": 0,
              "ticks": ""
             }
            },
            "type": "scattermap"
           }
          ],
          "scattermapbox": [
           {
            "marker": {
             "colorbar": {
              "outlinewidth": 0,
              "ticks": ""
             }
            },
            "type": "scattermapbox"
           }
          ],
          "scatterpolar": [
           {
            "marker": {
             "colorbar": {
              "outlinewidth": 0,
              "ticks": ""
             }
            },
            "type": "scatterpolar"
           }
          ],
          "scatterpolargl": [
           {
            "marker": {
             "colorbar": {
              "outlinewidth": 0,
              "ticks": ""
             }
            },
            "type": "scatterpolargl"
           }
          ],
          "scatterternary": [
           {
            "marker": {
             "colorbar": {
              "outlinewidth": 0,
              "ticks": ""
             }
            },
            "type": "scatterternary"
           }
          ],
          "surface": [
           {
            "colorbar": {
             "outlinewidth": 0,
             "ticks": ""
            },
            "colorscale": [
             [
              0,
              "#0d0887"
             ],
             [
              0.1111111111111111,
              "#46039f"
             ],
             [
              0.2222222222222222,
              "#7201a8"
             ],
             [
              0.3333333333333333,
              "#9c179e"
             ],
             [
              0.4444444444444444,
              "#bd3786"
             ],
             [
              0.5555555555555556,
              "#d8576b"
             ],
             [
              0.6666666666666666,
              "#ed7953"
             ],
             [
              0.7777777777777778,
              "#fb9f3a"
             ],
             [
              0.8888888888888888,
              "#fdca26"
             ],
             [
              1,
              "#f0f921"
             ]
            ],
            "type": "surface"
           }
          ],
          "table": [
           {
            "cells": {
             "fill": {
              "color": "#EBF0F8"
             },
             "line": {
              "color": "white"
             }
            },
            "header": {
             "fill": {
              "color": "#C8D4E3"
             },
             "line": {
              "color": "white"
             }
            },
            "type": "table"
           }
          ]
         },
         "layout": {
          "annotationdefaults": {
           "arrowcolor": "#2a3f5f",
           "arrowhead": 0,
           "arrowwidth": 1
          },
          "autotypenumbers": "strict",
          "coloraxis": {
           "colorbar": {
            "outlinewidth": 0,
            "ticks": ""
           }
          },
          "colorscale": {
           "diverging": [
            [
             0,
             "#8e0152"
            ],
            [
             0.1,
             "#c51b7d"
            ],
            [
             0.2,
             "#de77ae"
            ],
            [
             0.3,
             "#f1b6da"
            ],
            [
             0.4,
             "#fde0ef"
            ],
            [
             0.5,
             "#f7f7f7"
            ],
            [
             0.6,
             "#e6f5d0"
            ],
            [
             0.7,
             "#b8e186"
            ],
            [
             0.8,
             "#7fbc41"
            ],
            [
             0.9,
             "#4d9221"
            ],
            [
             1,
             "#276419"
            ]
           ],
           "sequential": [
            [
             0,
             "#0d0887"
            ],
            [
             0.1111111111111111,
             "#46039f"
            ],
            [
             0.2222222222222222,
             "#7201a8"
            ],
            [
             0.3333333333333333,
             "#9c179e"
            ],
            [
             0.4444444444444444,
             "#bd3786"
            ],
            [
             0.5555555555555556,
             "#d8576b"
            ],
            [
             0.6666666666666666,
             "#ed7953"
            ],
            [
             0.7777777777777778,
             "#fb9f3a"
            ],
            [
             0.8888888888888888,
             "#fdca26"
            ],
            [
             1,
             "#f0f921"
            ]
           ],
           "sequentialminus": [
            [
             0,
             "#0d0887"
            ],
            [
             0.1111111111111111,
             "#46039f"
            ],
            [
             0.2222222222222222,
             "#7201a8"
            ],
            [
             0.3333333333333333,
             "#9c179e"
            ],
            [
             0.4444444444444444,
             "#bd3786"
            ],
            [
             0.5555555555555556,
             "#d8576b"
            ],
            [
             0.6666666666666666,
             "#ed7953"
            ],
            [
             0.7777777777777778,
             "#fb9f3a"
            ],
            [
             0.8888888888888888,
             "#fdca26"
            ],
            [
             1,
             "#f0f921"
            ]
           ]
          },
          "colorway": [
           "#636efa",
           "#EF553B",
           "#00cc96",
           "#ab63fa",
           "#FFA15A",
           "#19d3f3",
           "#FF6692",
           "#B6E880",
           "#FF97FF",
           "#FECB52"
          ],
          "font": {
           "color": "#2a3f5f"
          },
          "geo": {
           "bgcolor": "white",
           "lakecolor": "white",
           "landcolor": "#E5ECF6",
           "showlakes": true,
           "showland": true,
           "subunitcolor": "white"
          },
          "hoverlabel": {
           "align": "left"
          },
          "hovermode": "closest",
          "mapbox": {
           "style": "light"
          },
          "paper_bgcolor": "white",
          "plot_bgcolor": "#E5ECF6",
          "polar": {
           "angularaxis": {
            "gridcolor": "white",
            "linecolor": "white",
            "ticks": ""
           },
           "bgcolor": "#E5ECF6",
           "radialaxis": {
            "gridcolor": "white",
            "linecolor": "white",
            "ticks": ""
           }
          },
          "scene": {
           "xaxis": {
            "backgroundcolor": "#E5ECF6",
            "gridcolor": "white",
            "gridwidth": 2,
            "linecolor": "white",
            "showbackground": true,
            "ticks": "",
            "zerolinecolor": "white"
           },
           "yaxis": {
            "backgroundcolor": "#E5ECF6",
            "gridcolor": "white",
            "gridwidth": 2,
            "linecolor": "white",
            "showbackground": true,
            "ticks": "",
            "zerolinecolor": "white"
           },
           "zaxis": {
            "backgroundcolor": "#E5ECF6",
            "gridcolor": "white",
            "gridwidth": 2,
            "linecolor": "white",
            "showbackground": true,
            "ticks": "",
            "zerolinecolor": "white"
           }
          },
          "shapedefaults": {
           "line": {
            "color": "#2a3f5f"
           }
          },
          "ternary": {
           "aaxis": {
            "gridcolor": "white",
            "linecolor": "white",
            "ticks": ""
           },
           "baxis": {
            "gridcolor": "white",
            "linecolor": "white",
            "ticks": ""
           },
           "bgcolor": "#E5ECF6",
           "caxis": {
            "gridcolor": "white",
            "linecolor": "white",
            "ticks": ""
           }
          },
          "title": {
           "x": 0.05
          },
          "xaxis": {
           "automargin": true,
           "gridcolor": "white",
           "linecolor": "white",
           "ticks": "",
           "title": {
            "standoff": 15
           },
           "zerolinecolor": "white",
           "zerolinewidth": 2
          },
          "yaxis": {
           "automargin": true,
           "gridcolor": "white",
           "linecolor": "white",
           "ticks": "",
           "title": {
            "standoff": 15
           },
           "zerolinecolor": "white",
           "zerolinewidth": 2
          }
         }
        },
        "title": {
         "text": "Holding Weight (% of NAV) of Each ISIN per Quarter"
        },
        "uniformtext": {
         "minsize": 8,
         "mode": "hide"
        },
        "xaxis": {
         "anchor": "y",
         "domain": [
          0,
          1
         ],
         "title": {
          "text": "Quarter"
         }
        },
        "yaxis": {
         "anchor": "x",
         "domain": [
          0,
          1
         ],
         "title": {
          "text": "Percentage of NAV (% of NAV)"
         }
        }
       }
      },
      "image/png": "[encoded data removed]"
     },
     "metadata": {},
     "output_type": "display_data"
    }
   ],
   "source": [
    "create_stacked_bar_chart(portfolio_df, '% of NAV')"
   ]
  },
  {
   "cell_type": "markdown",
   "id": "81871a51-7894-4356-bde7-d37e096f5fdc",
   "metadata": {},
   "source": [
    "# Return Measures"
   ]
  },
  {
   "cell_type": "markdown",
   "id": "466d4311-4d7d-4312-813b-1b40d93b44a6",
   "metadata": {},
   "source": [
    "### Simple Return"
   ]
  },
  {
   "cell_type": "code",
   "execution_count": null,
   "id": "b0e1ca74-9860-47b2-887d-313bd558bef5",
   "metadata": {},
   "outputs": [],
   "source": []
  },
  {
   "cell_type": "markdown",
   "id": "0f03ea77-fcd3-427e-837d-4501581c6706",
   "metadata": {},
   "source": [
    "### Log Return"
   ]
  },
  {
   "cell_type": "code",
   "execution_count": null,
   "id": "1948bd2b-51cd-41b5-a189-5b90ce7dcdd1",
   "metadata": {},
   "outputs": [],
   "source": []
  },
  {
   "cell_type": "markdown",
   "id": "7a5bf958-b3f0-451d-90e4-a5ecbdff94a9",
   "metadata": {},
   "source": [
    "# Risk Measures"
   ]
  },
  {
   "cell_type": "markdown",
   "id": "d75593f7-f4e3-4769-b273-df50780246ea",
   "metadata": {},
   "source": [
    "### Valatility"
   ]
  },
  {
   "cell_type": "code",
   "execution_count": null,
   "id": "e67305d7-7469-4a6f-9168-151fe7e26cba",
   "metadata": {},
   "outputs": [],
   "source": []
  },
  {
   "cell_type": "markdown",
   "id": "7f11d761-2b5c-40c3-a0fe-c6aa97999344",
   "metadata": {},
   "source": [
    "### Maximum Drawdown"
   ]
  },
  {
   "cell_type": "code",
   "execution_count": null,
   "id": "c4bcafb5-8123-4fba-b5cc-a103a5aec2ef",
   "metadata": {},
   "outputs": [],
   "source": []
  },
  {
   "cell_type": "markdown",
   "id": "b935d5a2-d0d1-4b7d-8220-0ca4dea2fd94",
   "metadata": {},
   "source": [
    "# Risk-adjusted Performance"
   ]
  },
  {
   "cell_type": "markdown",
   "id": "2623a092-6e66-4343-bccc-87d6aceebef2",
   "metadata": {},
   "source": [
    "### Sharp Ratio"
   ]
  },
  {
   "cell_type": "code",
   "execution_count": null,
   "id": "a15ebefd-e96b-4ccb-94e7-c1263d69f197",
   "metadata": {},
   "outputs": [],
   "source": []
  },
  {
   "cell_type": "markdown",
   "id": "57e91625-12c9-4061-a77e-781339ff9b2b",
   "metadata": {},
   "source": [
    "### Sortino Ratio"
   ]
  },
  {
   "cell_type": "code",
   "execution_count": null,
   "id": "21808bf4-45c4-4b5e-bb17-d4b2e335a314",
   "metadata": {},
   "outputs": [],
   "source": []
  },
  {
   "cell_type": "markdown",
   "id": "5d7df4c3-9a64-40ea-aeaa-9be749ea17b2",
   "metadata": {},
   "source": [
    "### Treynor Ratio"
   ]
  },
  {
   "cell_type": "code",
   "execution_count": null,
   "id": "ed6b363a-5afe-48dc-8911-b7d7989491d8",
   "metadata": {},
   "outputs": [],
   "source": []
  },
  {
   "cell_type": "markdown",
   "id": "e14216a3-1ff0-490d-9ac8-aefa2003cf5c",
   "metadata": {},
   "source": [
    "### Calmar Ratio"
   ]
  },
  {
   "cell_type": "code",
   "execution_count": null,
   "id": "a67b3638-17d5-4536-8c93-ba1c85d34838",
   "metadata": {},
   "outputs": [],
   "source": []
  },
  {
   "cell_type": "markdown",
   "id": "cb41f4cb-c758-431f-8152-b75ce940e130",
   "metadata": {},
   "source": [
    "# Market Sensitivity"
   ]
  },
  {
   "cell_type": "markdown",
   "id": "1cc05970-a364-42d6-a7f4-91fb5882d1d1",
   "metadata": {},
   "source": [
    "### Alpha"
   ]
  },
  {
   "cell_type": "code",
   "execution_count": null,
   "id": "cd29cc52-acba-46e9-b25c-37ee0b37ab14",
   "metadata": {},
   "outputs": [],
   "source": []
  },
  {
   "cell_type": "markdown",
   "id": "0d3df58c-d5b5-4e7f-a1cc-dc171b5dc668",
   "metadata": {},
   "source": [
    "### Beta"
   ]
  },
  {
   "cell_type": "code",
   "execution_count": null,
   "id": "b48e68d3-e0a2-4d8d-ad29-146c840b309e",
   "metadata": {},
   "outputs": [],
   "source": []
  },
  {
   "cell_type": "markdown",
   "id": "d7d3b143-7898-409e-9982-b1bc25e2acba",
   "metadata": {},
   "source": [
    "# Tail-Risk Metrics"
   ]
  },
  {
   "cell_type": "markdown",
   "id": "e8260cf2-61ac-41b9-bd41-99e69d0bb5ad",
   "metadata": {},
   "source": [
    "### Value at Risk (VaR) at 90%, 95%, and 99% Confidence Levels"
   ]
  },
  {
   "cell_type": "code",
   "execution_count": null,
   "id": "5b3a13b2-edc1-479f-ad36-1ee13d9574e4",
   "metadata": {},
   "outputs": [],
   "source": []
  }
 ],
 "metadata": {
  "kernelspec": {
   "display_name": "Finance Virtual Environment 3.10",
   "language": "python",
   "name": "finance_venv_3.10"
  },
  "language_info": {
   "codemirror_mode": {
    "name": "ipython",
    "version": 3
   },
   "file_extension": ".py",
   "mimetype": "text/x-python",
   "name": "python",
   "nbconvert_exporter": "python",
   "pygments_lexer": "ipython3",
   "version": "3.10.18"
  }
 },
 "nbformat": 4,
 "nbformat_minor": 5
}
